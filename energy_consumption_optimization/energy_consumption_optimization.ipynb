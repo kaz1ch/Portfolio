{
 "cells": [
  {
   "cell_type": "markdown",
   "id": "17a2fa20",
   "metadata": {},
   "source": [
    "# Описание проекта: промышленность\n",
    "Чтобы оптимизировать производственные расходы, металлургический комбинат «Стальная птица» решил уменьшить потребление электроэнергии на этапе обработки стали. Для этого комбинату нужно контролировать температуру сплава. Ваша задача — построить модель, которая будет её предсказывать.\n",
    "\n",
    "Заказчик хочет использовать разработанную модель для имитации технологического процесса. Ниже расскажем о деталях этого процесса. Их важно знать, прежде чем генерировать новые признаки.\n",
    "\n",
    "# Описание этапа обработки\n",
    "Сталь обрабатывают в металлическом ковше вместимостью около 100 тонн. Чтобы ковш выдерживал высокие температуры, изнутри его облицовывают огнеупорным кирпичом. Расплавленную сталь заливают в ковш и подогревают до нужной температуры графитовыми электродами. Они установлены в крышке ковша.\n",
    "\n",
    "Из сплава выводится сера (этот процесс — десульфурация), добавлением примесей корректируется химический состав и отбираются пробы. Сталь легируют — изменяют её состав — подавая куски сплава из бункера для сыпучих материалов или проволоку через специальный трайб-аппарат (от англ. tribe — «масса»).\n",
    "\n",
    "Перед тем как первый раз ввести легирующие добавки, измеряют температуру стали и производят её химический анализ. Потом температуру на несколько минут повышают, добавляют легирующие материалы и продувают сплав инертным газом. Затем его перемешивают и снова проводят измерения. Такой цикл повторяется до достижения целевого химического состава и оптимальной температуры плавки.\n",
    "\n",
    "Тогда расплавленная сталь отправляется на доводку металла или поступает в машину непрерывной разливки. Оттуда готовый продукт выходит в виде заготовок-слябов (от англ. slab — «плита»)."
   ]
  },
  {
   "cell_type": "code",
   "execution_count": 59,
   "id": "b198f41d",
   "metadata": {},
   "outputs": [
    {
     "name": "stdout",
     "output_type": "stream",
     "text": [
      "Requirement already satisfied: phik in /opt/conda/lib/python3.9/site-packages (0.12.4)\n",
      "Requirement already satisfied: matplotlib>=2.2.3 in /opt/conda/lib/python3.9/site-packages (from phik) (3.9.1)\n",
      "Requirement already satisfied: scipy>=1.5.2 in /opt/conda/lib/python3.9/site-packages (from phik) (1.9.1)\n",
      "Requirement already satisfied: numpy>=1.18.0 in /opt/conda/lib/python3.9/site-packages (from phik) (1.23.0)\n",
      "Requirement already satisfied: joblib>=0.14.1 in /opt/conda/lib/python3.9/site-packages (from phik) (1.4.2)\n",
      "Requirement already satisfied: pandas>=0.25.1 in /opt/conda/lib/python3.9/site-packages (from phik) (2.2.2)\n",
      "Requirement already satisfied: kiwisolver>=1.3.1 in /opt/conda/lib/python3.9/site-packages (from matplotlib>=2.2.3->phik) (1.4.4)\n",
      "Requirement already satisfied: pyparsing>=2.3.1 in /opt/conda/lib/python3.9/site-packages (from matplotlib>=2.2.3->phik) (2.4.7)\n",
      "Requirement already satisfied: packaging>=20.0 in /opt/conda/lib/python3.9/site-packages (from matplotlib>=2.2.3->phik) (21.3)\n",
      "Requirement already satisfied: pillow>=8 in /opt/conda/lib/python3.9/site-packages (from matplotlib>=2.2.3->phik) (8.4.0)\n",
      "Requirement already satisfied: importlib-resources>=3.2.0 in /opt/conda/lib/python3.9/site-packages (from matplotlib>=2.2.3->phik) (6.4.0)\n",
      "Requirement already satisfied: python-dateutil>=2.7 in /opt/conda/lib/python3.9/site-packages (from matplotlib>=2.2.3->phik) (2.9.0.post0)\n",
      "Requirement already satisfied: contourpy>=1.0.1 in /opt/conda/lib/python3.9/site-packages (from matplotlib>=2.2.3->phik) (1.2.1)\n",
      "Requirement already satisfied: fonttools>=4.22.0 in /opt/conda/lib/python3.9/site-packages (from matplotlib>=2.2.3->phik) (4.53.1)\n",
      "Requirement already satisfied: cycler>=0.10 in /opt/conda/lib/python3.9/site-packages (from matplotlib>=2.2.3->phik) (0.11.0)\n",
      "Requirement already satisfied: zipp>=3.1.0 in /opt/conda/lib/python3.9/site-packages (from importlib-resources>=3.2.0->matplotlib>=2.2.3->phik) (3.5.0)\n",
      "Requirement already satisfied: pytz>=2020.1 in /opt/conda/lib/python3.9/site-packages (from pandas>=0.25.1->phik) (2021.1)\n",
      "Requirement already satisfied: tzdata>=2022.7 in /opt/conda/lib/python3.9/site-packages (from pandas>=0.25.1->phik) (2024.1)\n",
      "Requirement already satisfied: six>=1.5 in /opt/conda/lib/python3.9/site-packages (from python-dateutil>=2.7->matplotlib>=2.2.3->phik) (1.16.0)\n",
      "Requirement already satisfied: scikit-learn in /opt/conda/lib/python3.9/site-packages (1.5.1)\n",
      "Requirement already satisfied: scipy>=1.6.0 in /opt/conda/lib/python3.9/site-packages (from scikit-learn) (1.9.1)\n",
      "Requirement already satisfied: numpy>=1.19.5 in /opt/conda/lib/python3.9/site-packages (from scikit-learn) (1.23.0)\n",
      "Requirement already satisfied: joblib>=1.2.0 in /opt/conda/lib/python3.9/site-packages (from scikit-learn) (1.4.2)\n",
      "Requirement already satisfied: threadpoolctl>=3.1.0 in /opt/conda/lib/python3.9/site-packages (from scikit-learn) (3.1.0)\n"
     ]
    }
   ],
   "source": [
    "!pip install phik\n",
    "!pip install scikit-learn"
   ]
  },
  {
   "cell_type": "code",
   "execution_count": 60,
   "id": "4955123e",
   "metadata": {},
   "outputs": [],
   "source": [
    "import pandas as pd\n",
    "import numpy as np\n",
    "\n",
    "import matplotlib.pyplot as plt\n",
    "import seaborn as sns\n",
    "\n",
    "from sklearn.model_selection import train_test_split, cross_val_score, RandomizedSearchCV, GridSearchCV\n",
    "from sklearn.pipeline import Pipeline\n",
    "from sklearn.impute import SimpleImputer\n",
    "from sklearn.preprocessing import OneHotEncoder, OrdinalEncoder, StandardScaler, MinMaxScaler, RobustScaler, LabelEncoder\n",
    "from sklearn.feature_selection import SelectKBest, f_classif\n",
    "from sklearn.compose import ColumnTransformer\n",
    "from sklearn.metrics import make_scorer, f1_score, mean_absolute_error\n",
    "from sklearn.linear_model import LinearRegression\n",
    "from sklearn.tree import DecisionTreeRegressor\n",
    "from sklearn.svm import SVR\n",
    "from sklearn.dummy import DummyRegressor\n",
    "from catboost import Pool, CatBoostRegressor, cv\n",
    "from lightgbm import LGBMRegressor\n",
    "from sklearn.dummy import DummyRegressor\n",
    "\n",
    "import phik\n",
    "\n",
    "import os"
   ]
  },
  {
   "cell_type": "code",
   "execution_count": 61,
   "id": "2a490d06",
   "metadata": {},
   "outputs": [],
   "source": [
    "def snake_casify(data):\n",
    "    data.columns = data.columns.str.lower()\n",
    "    data.columns = data.columns.str.replace(' ', '_')\n",
    "    return data"
   ]
  },
  {
   "cell_type": "code",
   "execution_count": 62,
   "id": "5a597aa8",
   "metadata": {},
   "outputs": [],
   "source": [
    "def plot_hist(data, bins, title):\n",
    "    analysis_chart = data.plot(\n",
    "        kind = 'hist',\n",
    "        bins = bins,\n",
    "        grid = True,\n",
    "        figsize = (8, 5),\n",
    "        title = title,\n",
    "    )\n",
    "    analysis_chart.set_ylabel(\"Частота значений\")\n",
    "    return analysis_chart"
   ]
  },
  {
   "cell_type": "markdown",
   "id": "e0316d2e",
   "metadata": {},
   "source": [
    "## Загрузка данных"
   ]
  },
  {
   "cell_type": "code",
   "execution_count": 63,
   "id": "f266b085",
   "metadata": {},
   "outputs": [],
   "source": [
    "data_path = '/datasets/data_arc_new.csv'\n",
    "\n",
    "if os.path.exists(data_path):\n",
    "    data_arc_new = pd.read_csv(data_path, parse_dates=['Начало нагрева дугой', 'Конец нагрева дугой'])\n",
    "else:\n",
    "    print('Файл не найден!')\n",
    "    \n",
    "data_path = '/datasets/data_bulk_new.csv'\n",
    "    \n",
    "if os.path.exists(data_path):\n",
    "    data_bulk_new = pd.read_csv(data_path)\n",
    "else:\n",
    "    print('Файл не найден!')\n",
    "    \n",
    "data_path = '/datasets/data_bulk_time_new.csv'\n",
    "    \n",
    "namelist = []\n",
    "for i in range(1, 16):\n",
    "    namelist.append(f'Bulk {i}')\n",
    "    \n",
    "if os.path.exists(data_path):\n",
    "    data_bulk_time_new = pd.read_csv(data_path, parse_dates=namelist)\n",
    "else:\n",
    "    print('Файл не найден!')\n",
    "    \n",
    "data_path = '/datasets/data_gas_new.csv'\n",
    "    \n",
    "if os.path.exists(data_path):\n",
    "    data_gas_new = pd.read_csv(data_path)\n",
    "else:\n",
    "    print('Файл не найден!')\n",
    "    \n",
    "data_path = '/datasets/data_temp_new.csv'\n",
    "    \n",
    "if os.path.exists(data_path):\n",
    "    data_temp_new = pd.read_csv(data_path, parse_dates=['Время замера'])\n",
    "else:\n",
    "    print('Файл не найден!')\n",
    "    \n",
    "data_path = '/datasets/data_wire_new.csv'\n",
    "    \n",
    "if os.path.exists(data_path):\n",
    "    data_wire_new = pd.read_csv(data_path)\n",
    "else:\n",
    "    print('Файл не найден!')\n",
    "    \n",
    "data_path = '/datasets/data_wire_time_new.csv'\n",
    "\n",
    "namelist = []\n",
    "for i in range(1, 10):\n",
    "    namelist.append(f'Wire {i}')\n",
    "\n",
    "if os.path.exists(data_path):\n",
    "    data_wire_time_new = pd.read_csv(data_path, parse_dates=namelist)\n",
    "else:\n",
    "    print('Файл не найден!')"
   ]
  },
  {
   "cell_type": "markdown",
   "id": "eff4a702",
   "metadata": {},
   "source": [
    "## Исследовательский анализ и предобработка данных"
   ]
  },
  {
   "cell_type": "code",
   "execution_count": 64,
   "id": "b52365c2",
   "metadata": {},
   "outputs": [
    {
     "name": "stdout",
     "output_type": "stream",
     "text": [
      "<class 'pandas.core.frame.DataFrame'>\n",
      "RangeIndex: 14876 entries, 0 to 14875\n",
      "Data columns (total 5 columns):\n",
      " #   Column                Non-Null Count  Dtype         \n",
      "---  ------                --------------  -----         \n",
      " 0   key                   14876 non-null  int64         \n",
      " 1   Начало нагрева дугой  14876 non-null  datetime64[ns]\n",
      " 2   Конец нагрева дугой   14876 non-null  datetime64[ns]\n",
      " 3   Активная мощность     14876 non-null  float64       \n",
      " 4   Реактивная мощность   14876 non-null  float64       \n",
      "dtypes: datetime64[ns](2), float64(2), int64(1)\n",
      "memory usage: 581.2 KB\n"
     ]
    },
    {
     "data": {
      "text/plain": [
       "None"
      ]
     },
     "metadata": {},
     "output_type": "display_data"
    },
    {
     "data": {
      "text/html": [
       "<div>\n",
       "<style scoped>\n",
       "    .dataframe tbody tr th:only-of-type {\n",
       "        vertical-align: middle;\n",
       "    }\n",
       "\n",
       "    .dataframe tbody tr th {\n",
       "        vertical-align: top;\n",
       "    }\n",
       "\n",
       "    .dataframe thead th {\n",
       "        text-align: right;\n",
       "    }\n",
       "</style>\n",
       "<table border=\"1\" class=\"dataframe\">\n",
       "  <thead>\n",
       "    <tr style=\"text-align: right;\">\n",
       "      <th></th>\n",
       "      <th>key</th>\n",
       "      <th>Начало нагрева дугой</th>\n",
       "      <th>Конец нагрева дугой</th>\n",
       "      <th>Активная мощность</th>\n",
       "      <th>Реактивная мощность</th>\n",
       "    </tr>\n",
       "  </thead>\n",
       "  <tbody>\n",
       "    <tr>\n",
       "      <th>count</th>\n",
       "      <td>14876.000000</td>\n",
       "      <td>14876</td>\n",
       "      <td>14876</td>\n",
       "      <td>14876.000000</td>\n",
       "      <td>14876.000000</td>\n",
       "    </tr>\n",
       "    <tr>\n",
       "      <th>mean</th>\n",
       "      <td>1615.220422</td>\n",
       "      <td>2019-07-05 12:25:51.921081088</td>\n",
       "      <td>2019-07-05 12:28:43.592027392</td>\n",
       "      <td>0.662752</td>\n",
       "      <td>0.438986</td>\n",
       "    </tr>\n",
       "    <tr>\n",
       "      <th>min</th>\n",
       "      <td>1.000000</td>\n",
       "      <td>2019-05-03 11:02:14</td>\n",
       "      <td>2019-05-03 11:06:02</td>\n",
       "      <td>0.223120</td>\n",
       "      <td>-715.479924</td>\n",
       "    </tr>\n",
       "    <tr>\n",
       "      <th>25%</th>\n",
       "      <td>806.000000</td>\n",
       "      <td>2019-06-03 23:18:23.249999872</td>\n",
       "      <td>2019-06-03 23:21:35</td>\n",
       "      <td>0.467115</td>\n",
       "      <td>0.337175</td>\n",
       "    </tr>\n",
       "    <tr>\n",
       "      <th>50%</th>\n",
       "      <td>1617.000000</td>\n",
       "      <td>2019-07-03 01:31:26.500000</td>\n",
       "      <td>2019-07-03 01:35:13</td>\n",
       "      <td>0.599587</td>\n",
       "      <td>0.441639</td>\n",
       "    </tr>\n",
       "    <tr>\n",
       "      <th>75%</th>\n",
       "      <td>2429.000000</td>\n",
       "      <td>2019-08-07 22:52:20.750000128</td>\n",
       "      <td>2019-08-07 22:56:47</td>\n",
       "      <td>0.830070</td>\n",
       "      <td>0.608201</td>\n",
       "    </tr>\n",
       "    <tr>\n",
       "      <th>max</th>\n",
       "      <td>3241.000000</td>\n",
       "      <td>2019-09-06 17:24:54</td>\n",
       "      <td>2019-09-06 17:26:15</td>\n",
       "      <td>1.463773</td>\n",
       "      <td>1.270284</td>\n",
       "    </tr>\n",
       "    <tr>\n",
       "      <th>std</th>\n",
       "      <td>934.571502</td>\n",
       "      <td>NaN</td>\n",
       "      <td>NaN</td>\n",
       "      <td>0.258885</td>\n",
       "      <td>5.873485</td>\n",
       "    </tr>\n",
       "  </tbody>\n",
       "</table>\n",
       "</div>"
      ],
      "text/plain": [
       "                key           Начало нагрева дугой  \\\n",
       "count  14876.000000                          14876   \n",
       "mean    1615.220422  2019-07-05 12:25:51.921081088   \n",
       "min        1.000000            2019-05-03 11:02:14   \n",
       "25%      806.000000  2019-06-03 23:18:23.249999872   \n",
       "50%     1617.000000     2019-07-03 01:31:26.500000   \n",
       "75%     2429.000000  2019-08-07 22:52:20.750000128   \n",
       "max     3241.000000            2019-09-06 17:24:54   \n",
       "std      934.571502                            NaN   \n",
       "\n",
       "                 Конец нагрева дугой  Активная мощность  Реактивная мощность  \n",
       "count                          14876       14876.000000         14876.000000  \n",
       "mean   2019-07-05 12:28:43.592027392           0.662752             0.438986  \n",
       "min              2019-05-03 11:06:02           0.223120          -715.479924  \n",
       "25%              2019-06-03 23:21:35           0.467115             0.337175  \n",
       "50%              2019-07-03 01:35:13           0.599587             0.441639  \n",
       "75%              2019-08-07 22:56:47           0.830070             0.608201  \n",
       "max              2019-09-06 17:26:15           1.463773             1.270284  \n",
       "std                              NaN           0.258885             5.873485  "
      ]
     },
     "metadata": {},
     "output_type": "display_data"
    },
    {
     "data": {
      "text/html": [
       "<div>\n",
       "<style scoped>\n",
       "    .dataframe tbody tr th:only-of-type {\n",
       "        vertical-align: middle;\n",
       "    }\n",
       "\n",
       "    .dataframe tbody tr th {\n",
       "        vertical-align: top;\n",
       "    }\n",
       "\n",
       "    .dataframe thead th {\n",
       "        text-align: right;\n",
       "    }\n",
       "</style>\n",
       "<table border=\"1\" class=\"dataframe\">\n",
       "  <thead>\n",
       "    <tr style=\"text-align: right;\">\n",
       "      <th></th>\n",
       "      <th>key</th>\n",
       "      <th>Начало нагрева дугой</th>\n",
       "      <th>Конец нагрева дугой</th>\n",
       "      <th>Активная мощность</th>\n",
       "      <th>Реактивная мощность</th>\n",
       "    </tr>\n",
       "  </thead>\n",
       "  <tbody>\n",
       "    <tr>\n",
       "      <th>0</th>\n",
       "      <td>1</td>\n",
       "      <td>2019-05-03 11:02:14</td>\n",
       "      <td>2019-05-03 11:06:02</td>\n",
       "      <td>0.305130</td>\n",
       "      <td>0.211253</td>\n",
       "    </tr>\n",
       "    <tr>\n",
       "      <th>1</th>\n",
       "      <td>1</td>\n",
       "      <td>2019-05-03 11:07:28</td>\n",
       "      <td>2019-05-03 11:10:33</td>\n",
       "      <td>0.765658</td>\n",
       "      <td>0.477438</td>\n",
       "    </tr>\n",
       "    <tr>\n",
       "      <th>2</th>\n",
       "      <td>1</td>\n",
       "      <td>2019-05-03 11:11:44</td>\n",
       "      <td>2019-05-03 11:14:36</td>\n",
       "      <td>0.580313</td>\n",
       "      <td>0.430460</td>\n",
       "    </tr>\n",
       "    <tr>\n",
       "      <th>3</th>\n",
       "      <td>1</td>\n",
       "      <td>2019-05-03 11:18:14</td>\n",
       "      <td>2019-05-03 11:24:19</td>\n",
       "      <td>0.518496</td>\n",
       "      <td>0.379979</td>\n",
       "    </tr>\n",
       "    <tr>\n",
       "      <th>4</th>\n",
       "      <td>1</td>\n",
       "      <td>2019-05-03 11:26:09</td>\n",
       "      <td>2019-05-03 11:28:37</td>\n",
       "      <td>0.867133</td>\n",
       "      <td>0.643691</td>\n",
       "    </tr>\n",
       "  </tbody>\n",
       "</table>\n",
       "</div>"
      ],
      "text/plain": [
       "   key Начало нагрева дугой Конец нагрева дугой  Активная мощность  \\\n",
       "0    1  2019-05-03 11:02:14 2019-05-03 11:06:02           0.305130   \n",
       "1    1  2019-05-03 11:07:28 2019-05-03 11:10:33           0.765658   \n",
       "2    1  2019-05-03 11:11:44 2019-05-03 11:14:36           0.580313   \n",
       "3    1  2019-05-03 11:18:14 2019-05-03 11:24:19           0.518496   \n",
       "4    1  2019-05-03 11:26:09 2019-05-03 11:28:37           0.867133   \n",
       "\n",
       "   Реактивная мощность  \n",
       "0             0.211253  \n",
       "1             0.477438  \n",
       "2             0.430460  \n",
       "3             0.379979  \n",
       "4             0.643691  "
      ]
     },
     "metadata": {},
     "output_type": "display_data"
    }
   ],
   "source": [
    "display(data_arc_new.info())\n",
    "display(data_arc_new.describe())\n",
    "display(data_arc_new.head())"
   ]
  },
  {
   "cell_type": "code",
   "execution_count": 65,
   "id": "983c242e",
   "metadata": {},
   "outputs": [
    {
     "name": "stdout",
     "output_type": "stream",
     "text": [
      "<class 'pandas.core.frame.DataFrame'>\n",
      "RangeIndex: 3129 entries, 0 to 3128\n",
      "Data columns (total 16 columns):\n",
      " #   Column   Non-Null Count  Dtype  \n",
      "---  ------   --------------  -----  \n",
      " 0   key      3129 non-null   int64  \n",
      " 1   Bulk 1   252 non-null    float64\n",
      " 2   Bulk 2   22 non-null     float64\n",
      " 3   Bulk 3   1298 non-null   float64\n",
      " 4   Bulk 4   1014 non-null   float64\n",
      " 5   Bulk 5   77 non-null     float64\n",
      " 6   Bulk 6   576 non-null    float64\n",
      " 7   Bulk 7   25 non-null     float64\n",
      " 8   Bulk 8   1 non-null      float64\n",
      " 9   Bulk 9   19 non-null     float64\n",
      " 10  Bulk 10  176 non-null    float64\n",
      " 11  Bulk 11  177 non-null    float64\n",
      " 12  Bulk 12  2450 non-null   float64\n",
      " 13  Bulk 13  18 non-null     float64\n",
      " 14  Bulk 14  2806 non-null   float64\n",
      " 15  Bulk 15  2248 non-null   float64\n",
      "dtypes: float64(15), int64(1)\n",
      "memory usage: 391.2 KB\n"
     ]
    },
    {
     "data": {
      "text/plain": [
       "None"
      ]
     },
     "metadata": {},
     "output_type": "display_data"
    },
    {
     "data": {
      "text/html": [
       "<div>\n",
       "<style scoped>\n",
       "    .dataframe tbody tr th:only-of-type {\n",
       "        vertical-align: middle;\n",
       "    }\n",
       "\n",
       "    .dataframe tbody tr th {\n",
       "        vertical-align: top;\n",
       "    }\n",
       "\n",
       "    .dataframe thead th {\n",
       "        text-align: right;\n",
       "    }\n",
       "</style>\n",
       "<table border=\"1\" class=\"dataframe\">\n",
       "  <thead>\n",
       "    <tr style=\"text-align: right;\">\n",
       "      <th></th>\n",
       "      <th>key</th>\n",
       "      <th>Bulk 1</th>\n",
       "      <th>Bulk 2</th>\n",
       "      <th>Bulk 3</th>\n",
       "      <th>Bulk 4</th>\n",
       "      <th>Bulk 5</th>\n",
       "      <th>Bulk 6</th>\n",
       "      <th>Bulk 7</th>\n",
       "      <th>Bulk 8</th>\n",
       "      <th>Bulk 9</th>\n",
       "      <th>Bulk 10</th>\n",
       "      <th>Bulk 11</th>\n",
       "      <th>Bulk 12</th>\n",
       "      <th>Bulk 13</th>\n",
       "      <th>Bulk 14</th>\n",
       "      <th>Bulk 15</th>\n",
       "    </tr>\n",
       "  </thead>\n",
       "  <tbody>\n",
       "    <tr>\n",
       "      <th>count</th>\n",
       "      <td>3129.000000</td>\n",
       "      <td>252.000000</td>\n",
       "      <td>22.000000</td>\n",
       "      <td>1298.000000</td>\n",
       "      <td>1014.000000</td>\n",
       "      <td>77.000000</td>\n",
       "      <td>576.000000</td>\n",
       "      <td>25.000000</td>\n",
       "      <td>1.0</td>\n",
       "      <td>19.000000</td>\n",
       "      <td>176.000000</td>\n",
       "      <td>177.000000</td>\n",
       "      <td>2450.000000</td>\n",
       "      <td>18.000000</td>\n",
       "      <td>2806.000000</td>\n",
       "      <td>2248.000000</td>\n",
       "    </tr>\n",
       "    <tr>\n",
       "      <th>mean</th>\n",
       "      <td>1624.383509</td>\n",
       "      <td>39.242063</td>\n",
       "      <td>253.045455</td>\n",
       "      <td>113.879045</td>\n",
       "      <td>104.394477</td>\n",
       "      <td>107.025974</td>\n",
       "      <td>118.925347</td>\n",
       "      <td>305.600000</td>\n",
       "      <td>49.0</td>\n",
       "      <td>76.315789</td>\n",
       "      <td>83.284091</td>\n",
       "      <td>76.819209</td>\n",
       "      <td>260.471020</td>\n",
       "      <td>181.111111</td>\n",
       "      <td>170.284747</td>\n",
       "      <td>160.513345</td>\n",
       "    </tr>\n",
       "    <tr>\n",
       "      <th>std</th>\n",
       "      <td>933.337642</td>\n",
       "      <td>18.277654</td>\n",
       "      <td>21.180578</td>\n",
       "      <td>75.483494</td>\n",
       "      <td>48.184126</td>\n",
       "      <td>81.790646</td>\n",
       "      <td>72.057776</td>\n",
       "      <td>191.022904</td>\n",
       "      <td>NaN</td>\n",
       "      <td>21.720581</td>\n",
       "      <td>26.060347</td>\n",
       "      <td>59.655365</td>\n",
       "      <td>120.649269</td>\n",
       "      <td>46.088009</td>\n",
       "      <td>65.868652</td>\n",
       "      <td>51.765319</td>\n",
       "    </tr>\n",
       "    <tr>\n",
       "      <th>min</th>\n",
       "      <td>1.000000</td>\n",
       "      <td>10.000000</td>\n",
       "      <td>228.000000</td>\n",
       "      <td>6.000000</td>\n",
       "      <td>12.000000</td>\n",
       "      <td>11.000000</td>\n",
       "      <td>17.000000</td>\n",
       "      <td>47.000000</td>\n",
       "      <td>49.0</td>\n",
       "      <td>63.000000</td>\n",
       "      <td>24.000000</td>\n",
       "      <td>8.000000</td>\n",
       "      <td>53.000000</td>\n",
       "      <td>151.000000</td>\n",
       "      <td>16.000000</td>\n",
       "      <td>1.000000</td>\n",
       "    </tr>\n",
       "    <tr>\n",
       "      <th>25%</th>\n",
       "      <td>816.000000</td>\n",
       "      <td>27.000000</td>\n",
       "      <td>242.000000</td>\n",
       "      <td>58.000000</td>\n",
       "      <td>72.000000</td>\n",
       "      <td>70.000000</td>\n",
       "      <td>69.750000</td>\n",
       "      <td>155.000000</td>\n",
       "      <td>49.0</td>\n",
       "      <td>66.000000</td>\n",
       "      <td>64.000000</td>\n",
       "      <td>25.000000</td>\n",
       "      <td>204.000000</td>\n",
       "      <td>153.250000</td>\n",
       "      <td>119.000000</td>\n",
       "      <td>105.000000</td>\n",
       "    </tr>\n",
       "    <tr>\n",
       "      <th>50%</th>\n",
       "      <td>1622.000000</td>\n",
       "      <td>31.000000</td>\n",
       "      <td>251.500000</td>\n",
       "      <td>97.500000</td>\n",
       "      <td>102.000000</td>\n",
       "      <td>86.000000</td>\n",
       "      <td>100.000000</td>\n",
       "      <td>298.000000</td>\n",
       "      <td>49.0</td>\n",
       "      <td>68.000000</td>\n",
       "      <td>86.500000</td>\n",
       "      <td>64.000000</td>\n",
       "      <td>208.000000</td>\n",
       "      <td>155.500000</td>\n",
       "      <td>151.000000</td>\n",
       "      <td>160.000000</td>\n",
       "    </tr>\n",
       "    <tr>\n",
       "      <th>75%</th>\n",
       "      <td>2431.000000</td>\n",
       "      <td>46.000000</td>\n",
       "      <td>257.750000</td>\n",
       "      <td>152.000000</td>\n",
       "      <td>133.000000</td>\n",
       "      <td>132.000000</td>\n",
       "      <td>157.000000</td>\n",
       "      <td>406.000000</td>\n",
       "      <td>49.0</td>\n",
       "      <td>70.500000</td>\n",
       "      <td>102.000000</td>\n",
       "      <td>106.000000</td>\n",
       "      <td>316.000000</td>\n",
       "      <td>203.500000</td>\n",
       "      <td>205.750000</td>\n",
       "      <td>205.000000</td>\n",
       "    </tr>\n",
       "    <tr>\n",
       "      <th>max</th>\n",
       "      <td>3241.000000</td>\n",
       "      <td>185.000000</td>\n",
       "      <td>325.000000</td>\n",
       "      <td>454.000000</td>\n",
       "      <td>281.000000</td>\n",
       "      <td>603.000000</td>\n",
       "      <td>503.000000</td>\n",
       "      <td>772.000000</td>\n",
       "      <td>49.0</td>\n",
       "      <td>147.000000</td>\n",
       "      <td>159.000000</td>\n",
       "      <td>313.000000</td>\n",
       "      <td>1849.000000</td>\n",
       "      <td>305.000000</td>\n",
       "      <td>636.000000</td>\n",
       "      <td>405.000000</td>\n",
       "    </tr>\n",
       "  </tbody>\n",
       "</table>\n",
       "</div>"
      ],
      "text/plain": [
       "               key      Bulk 1      Bulk 2       Bulk 3       Bulk 4  \\\n",
       "count  3129.000000  252.000000   22.000000  1298.000000  1014.000000   \n",
       "mean   1624.383509   39.242063  253.045455   113.879045   104.394477   \n",
       "std     933.337642   18.277654   21.180578    75.483494    48.184126   \n",
       "min       1.000000   10.000000  228.000000     6.000000    12.000000   \n",
       "25%     816.000000   27.000000  242.000000    58.000000    72.000000   \n",
       "50%    1622.000000   31.000000  251.500000    97.500000   102.000000   \n",
       "75%    2431.000000   46.000000  257.750000   152.000000   133.000000   \n",
       "max    3241.000000  185.000000  325.000000   454.000000   281.000000   \n",
       "\n",
       "           Bulk 5      Bulk 6      Bulk 7  Bulk 8      Bulk 9     Bulk 10  \\\n",
       "count   77.000000  576.000000   25.000000     1.0   19.000000  176.000000   \n",
       "mean   107.025974  118.925347  305.600000    49.0   76.315789   83.284091   \n",
       "std     81.790646   72.057776  191.022904     NaN   21.720581   26.060347   \n",
       "min     11.000000   17.000000   47.000000    49.0   63.000000   24.000000   \n",
       "25%     70.000000   69.750000  155.000000    49.0   66.000000   64.000000   \n",
       "50%     86.000000  100.000000  298.000000    49.0   68.000000   86.500000   \n",
       "75%    132.000000  157.000000  406.000000    49.0   70.500000  102.000000   \n",
       "max    603.000000  503.000000  772.000000    49.0  147.000000  159.000000   \n",
       "\n",
       "          Bulk 11      Bulk 12     Bulk 13      Bulk 14      Bulk 15  \n",
       "count  177.000000  2450.000000   18.000000  2806.000000  2248.000000  \n",
       "mean    76.819209   260.471020  181.111111   170.284747   160.513345  \n",
       "std     59.655365   120.649269   46.088009    65.868652    51.765319  \n",
       "min      8.000000    53.000000  151.000000    16.000000     1.000000  \n",
       "25%     25.000000   204.000000  153.250000   119.000000   105.000000  \n",
       "50%     64.000000   208.000000  155.500000   151.000000   160.000000  \n",
       "75%    106.000000   316.000000  203.500000   205.750000   205.000000  \n",
       "max    313.000000  1849.000000  305.000000   636.000000   405.000000  "
      ]
     },
     "metadata": {},
     "output_type": "display_data"
    },
    {
     "data": {
      "text/html": [
       "<div>\n",
       "<style scoped>\n",
       "    .dataframe tbody tr th:only-of-type {\n",
       "        vertical-align: middle;\n",
       "    }\n",
       "\n",
       "    .dataframe tbody tr th {\n",
       "        vertical-align: top;\n",
       "    }\n",
       "\n",
       "    .dataframe thead th {\n",
       "        text-align: right;\n",
       "    }\n",
       "</style>\n",
       "<table border=\"1\" class=\"dataframe\">\n",
       "  <thead>\n",
       "    <tr style=\"text-align: right;\">\n",
       "      <th></th>\n",
       "      <th>key</th>\n",
       "      <th>Bulk 1</th>\n",
       "      <th>Bulk 2</th>\n",
       "      <th>Bulk 3</th>\n",
       "      <th>Bulk 4</th>\n",
       "      <th>Bulk 5</th>\n",
       "      <th>Bulk 6</th>\n",
       "      <th>Bulk 7</th>\n",
       "      <th>Bulk 8</th>\n",
       "      <th>Bulk 9</th>\n",
       "      <th>Bulk 10</th>\n",
       "      <th>Bulk 11</th>\n",
       "      <th>Bulk 12</th>\n",
       "      <th>Bulk 13</th>\n",
       "      <th>Bulk 14</th>\n",
       "      <th>Bulk 15</th>\n",
       "    </tr>\n",
       "  </thead>\n",
       "  <tbody>\n",
       "    <tr>\n",
       "      <th>0</th>\n",
       "      <td>1</td>\n",
       "      <td>NaN</td>\n",
       "      <td>NaN</td>\n",
       "      <td>NaN</td>\n",
       "      <td>43.0</td>\n",
       "      <td>NaN</td>\n",
       "      <td>NaN</td>\n",
       "      <td>NaN</td>\n",
       "      <td>NaN</td>\n",
       "      <td>NaN</td>\n",
       "      <td>NaN</td>\n",
       "      <td>NaN</td>\n",
       "      <td>206.0</td>\n",
       "      <td>NaN</td>\n",
       "      <td>150.0</td>\n",
       "      <td>154.0</td>\n",
       "    </tr>\n",
       "    <tr>\n",
       "      <th>1</th>\n",
       "      <td>2</td>\n",
       "      <td>NaN</td>\n",
       "      <td>NaN</td>\n",
       "      <td>NaN</td>\n",
       "      <td>73.0</td>\n",
       "      <td>NaN</td>\n",
       "      <td>NaN</td>\n",
       "      <td>NaN</td>\n",
       "      <td>NaN</td>\n",
       "      <td>NaN</td>\n",
       "      <td>NaN</td>\n",
       "      <td>NaN</td>\n",
       "      <td>206.0</td>\n",
       "      <td>NaN</td>\n",
       "      <td>149.0</td>\n",
       "      <td>154.0</td>\n",
       "    </tr>\n",
       "    <tr>\n",
       "      <th>2</th>\n",
       "      <td>3</td>\n",
       "      <td>NaN</td>\n",
       "      <td>NaN</td>\n",
       "      <td>NaN</td>\n",
       "      <td>34.0</td>\n",
       "      <td>NaN</td>\n",
       "      <td>NaN</td>\n",
       "      <td>NaN</td>\n",
       "      <td>NaN</td>\n",
       "      <td>NaN</td>\n",
       "      <td>NaN</td>\n",
       "      <td>NaN</td>\n",
       "      <td>205.0</td>\n",
       "      <td>NaN</td>\n",
       "      <td>152.0</td>\n",
       "      <td>153.0</td>\n",
       "    </tr>\n",
       "    <tr>\n",
       "      <th>3</th>\n",
       "      <td>4</td>\n",
       "      <td>NaN</td>\n",
       "      <td>NaN</td>\n",
       "      <td>NaN</td>\n",
       "      <td>81.0</td>\n",
       "      <td>NaN</td>\n",
       "      <td>NaN</td>\n",
       "      <td>NaN</td>\n",
       "      <td>NaN</td>\n",
       "      <td>NaN</td>\n",
       "      <td>NaN</td>\n",
       "      <td>NaN</td>\n",
       "      <td>207.0</td>\n",
       "      <td>NaN</td>\n",
       "      <td>153.0</td>\n",
       "      <td>154.0</td>\n",
       "    </tr>\n",
       "    <tr>\n",
       "      <th>4</th>\n",
       "      <td>5</td>\n",
       "      <td>NaN</td>\n",
       "      <td>NaN</td>\n",
       "      <td>NaN</td>\n",
       "      <td>78.0</td>\n",
       "      <td>NaN</td>\n",
       "      <td>NaN</td>\n",
       "      <td>NaN</td>\n",
       "      <td>NaN</td>\n",
       "      <td>NaN</td>\n",
       "      <td>NaN</td>\n",
       "      <td>NaN</td>\n",
       "      <td>203.0</td>\n",
       "      <td>NaN</td>\n",
       "      <td>151.0</td>\n",
       "      <td>152.0</td>\n",
       "    </tr>\n",
       "  </tbody>\n",
       "</table>\n",
       "</div>"
      ],
      "text/plain": [
       "   key  Bulk 1  Bulk 2  Bulk 3  Bulk 4  Bulk 5  Bulk 6  Bulk 7  Bulk 8  \\\n",
       "0    1     NaN     NaN     NaN    43.0     NaN     NaN     NaN     NaN   \n",
       "1    2     NaN     NaN     NaN    73.0     NaN     NaN     NaN     NaN   \n",
       "2    3     NaN     NaN     NaN    34.0     NaN     NaN     NaN     NaN   \n",
       "3    4     NaN     NaN     NaN    81.0     NaN     NaN     NaN     NaN   \n",
       "4    5     NaN     NaN     NaN    78.0     NaN     NaN     NaN     NaN   \n",
       "\n",
       "   Bulk 9  Bulk 10  Bulk 11  Bulk 12  Bulk 13  Bulk 14  Bulk 15  \n",
       "0     NaN      NaN      NaN    206.0      NaN    150.0    154.0  \n",
       "1     NaN      NaN      NaN    206.0      NaN    149.0    154.0  \n",
       "2     NaN      NaN      NaN    205.0      NaN    152.0    153.0  \n",
       "3     NaN      NaN      NaN    207.0      NaN    153.0    154.0  \n",
       "4     NaN      NaN      NaN    203.0      NaN    151.0    152.0  "
      ]
     },
     "metadata": {},
     "output_type": "display_data"
    }
   ],
   "source": [
    "display(data_bulk_new.info())\n",
    "display(data_bulk_new.describe())\n",
    "display(data_bulk_new.head())"
   ]
  },
  {
   "cell_type": "code",
   "execution_count": 66,
   "id": "c64f8e4e",
   "metadata": {},
   "outputs": [
    {
     "name": "stdout",
     "output_type": "stream",
     "text": [
      "<class 'pandas.core.frame.DataFrame'>\n",
      "RangeIndex: 3129 entries, 0 to 3128\n",
      "Data columns (total 16 columns):\n",
      " #   Column   Non-Null Count  Dtype         \n",
      "---  ------   --------------  -----         \n",
      " 0   key      3129 non-null   int64         \n",
      " 1   Bulk 1   252 non-null    datetime64[ns]\n",
      " 2   Bulk 2   22 non-null     datetime64[ns]\n",
      " 3   Bulk 3   1298 non-null   datetime64[ns]\n",
      " 4   Bulk 4   1014 non-null   datetime64[ns]\n",
      " 5   Bulk 5   77 non-null     datetime64[ns]\n",
      " 6   Bulk 6   576 non-null    datetime64[ns]\n",
      " 7   Bulk 7   25 non-null     datetime64[ns]\n",
      " 8   Bulk 8   1 non-null      datetime64[ns]\n",
      " 9   Bulk 9   19 non-null     datetime64[ns]\n",
      " 10  Bulk 10  176 non-null    datetime64[ns]\n",
      " 11  Bulk 11  177 non-null    datetime64[ns]\n",
      " 12  Bulk 12  2450 non-null   datetime64[ns]\n",
      " 13  Bulk 13  18 non-null     datetime64[ns]\n",
      " 14  Bulk 14  2806 non-null   datetime64[ns]\n",
      " 15  Bulk 15  2248 non-null   datetime64[ns]\n",
      "dtypes: datetime64[ns](15), int64(1)\n",
      "memory usage: 391.2 KB\n"
     ]
    },
    {
     "data": {
      "text/plain": [
       "None"
      ]
     },
     "metadata": {},
     "output_type": "display_data"
    },
    {
     "data": {
      "text/html": [
       "<div>\n",
       "<style scoped>\n",
       "    .dataframe tbody tr th:only-of-type {\n",
       "        vertical-align: middle;\n",
       "    }\n",
       "\n",
       "    .dataframe tbody tr th {\n",
       "        vertical-align: top;\n",
       "    }\n",
       "\n",
       "    .dataframe thead th {\n",
       "        text-align: right;\n",
       "    }\n",
       "</style>\n",
       "<table border=\"1\" class=\"dataframe\">\n",
       "  <thead>\n",
       "    <tr style=\"text-align: right;\">\n",
       "      <th></th>\n",
       "      <th>key</th>\n",
       "      <th>Bulk 1</th>\n",
       "      <th>Bulk 2</th>\n",
       "      <th>Bulk 3</th>\n",
       "      <th>Bulk 4</th>\n",
       "      <th>Bulk 5</th>\n",
       "      <th>Bulk 6</th>\n",
       "      <th>Bulk 7</th>\n",
       "      <th>Bulk 8</th>\n",
       "      <th>Bulk 9</th>\n",
       "      <th>Bulk 10</th>\n",
       "      <th>Bulk 11</th>\n",
       "      <th>Bulk 12</th>\n",
       "      <th>Bulk 13</th>\n",
       "      <th>Bulk 14</th>\n",
       "      <th>Bulk 15</th>\n",
       "    </tr>\n",
       "  </thead>\n",
       "  <tbody>\n",
       "    <tr>\n",
       "      <th>count</th>\n",
       "      <td>3129.000000</td>\n",
       "      <td>252</td>\n",
       "      <td>22</td>\n",
       "      <td>1298</td>\n",
       "      <td>1014</td>\n",
       "      <td>77</td>\n",
       "      <td>576</td>\n",
       "      <td>25</td>\n",
       "      <td>1</td>\n",
       "      <td>19</td>\n",
       "      <td>176</td>\n",
       "      <td>177</td>\n",
       "      <td>2450</td>\n",
       "      <td>18</td>\n",
       "      <td>2806</td>\n",
       "      <td>2248</td>\n",
       "    </tr>\n",
       "    <tr>\n",
       "      <th>mean</th>\n",
       "      <td>1624.383509</td>\n",
       "      <td>2019-06-29 23:24:44.769841152</td>\n",
       "      <td>2019-07-12 07:57:13.045454592</td>\n",
       "      <td>2019-07-08 13:50:14.630970624</td>\n",
       "      <td>2019-07-03 11:17:28.834319616</td>\n",
       "      <td>2019-07-13 17:18:29.090908928</td>\n",
       "      <td>2019-07-06 13:50:06.345486080</td>\n",
       "      <td>2019-07-27 18:09:05.079999744</td>\n",
       "      <td>2019-07-08 17:14:53</td>\n",
       "      <td>2019-06-23 08:08:47.578947328</td>\n",
       "      <td>2019-07-06 23:55:10.954545408</td>\n",
       "      <td>2019-07-15 07:01:00.615819264</td>\n",
       "      <td>2019-07-05 22:55:11.468571392</td>\n",
       "      <td>2019-07-01 18:32:46.944444416</td>\n",
       "      <td>2019-07-06 07:17:48.372772608</td>\n",
       "      <td>2019-07-06 13:24:51.912366336</td>\n",
       "    </tr>\n",
       "    <tr>\n",
       "      <th>min</th>\n",
       "      <td>1.000000</td>\n",
       "      <td>2019-05-03 17:42:46</td>\n",
       "      <td>2019-05-07 15:39:35</td>\n",
       "      <td>2019-05-03 20:40:25</td>\n",
       "      <td>2019-05-03 11:28:48</td>\n",
       "      <td>2019-05-07 15:19:17</td>\n",
       "      <td>2019-05-03 19:09:15</td>\n",
       "      <td>2019-05-07 18:11:01</td>\n",
       "      <td>2019-07-08 17:14:53</td>\n",
       "      <td>2019-05-14 11:57:58</td>\n",
       "      <td>2019-05-06 07:54:02</td>\n",
       "      <td>2019-05-05 23:43:24</td>\n",
       "      <td>2019-05-03 11:24:31</td>\n",
       "      <td>2019-05-05 02:10:21</td>\n",
       "      <td>2019-05-03 11:14:50</td>\n",
       "      <td>2019-05-03 11:10:43</td>\n",
       "    </tr>\n",
       "    <tr>\n",
       "      <th>25%</th>\n",
       "      <td>816.000000</td>\n",
       "      <td>2019-05-29 14:48:48.500000</td>\n",
       "      <td>2019-05-28 02:29:31.500000</td>\n",
       "      <td>2019-06-08 03:50:23.500000</td>\n",
       "      <td>2019-05-30 21:36:11.249999872</td>\n",
       "      <td>2019-06-19 23:32:44</td>\n",
       "      <td>2019-06-06 22:46:10.500000</td>\n",
       "      <td>2019-07-20 23:48:47</td>\n",
       "      <td>2019-07-08 17:14:53</td>\n",
       "      <td>2019-05-14 14:31:08</td>\n",
       "      <td>2019-06-02 05:12:00.500000</td>\n",
       "      <td>2019-06-14 20:24:48</td>\n",
       "      <td>2019-06-03 12:48:47.249999872</td>\n",
       "      <td>2019-05-29 10:43:31.249999872</td>\n",
       "      <td>2019-06-04 04:50:42</td>\n",
       "      <td>2019-06-04 11:28:18</td>\n",
       "    </tr>\n",
       "    <tr>\n",
       "      <th>50%</th>\n",
       "      <td>1622.000000</td>\n",
       "      <td>2019-06-25 11:09:13</td>\n",
       "      <td>2019-07-27 17:18:38.500000</td>\n",
       "      <td>2019-07-04 09:31:42</td>\n",
       "      <td>2019-06-28 03:44:42.500000</td>\n",
       "      <td>2019-07-25 17:59:41</td>\n",
       "      <td>2019-07-09 03:34:57.500000</td>\n",
       "      <td>2019-07-27 18:07:02</td>\n",
       "      <td>2019-07-08 17:14:53</td>\n",
       "      <td>2019-05-14 16:55:09</td>\n",
       "      <td>2019-07-06 07:05:20</td>\n",
       "      <td>2019-07-24 11:17:22</td>\n",
       "      <td>2019-07-03 01:32:00</td>\n",
       "      <td>2019-07-01 12:59:36.500000</td>\n",
       "      <td>2019-07-03 21:54:13.500000</td>\n",
       "      <td>2019-07-03 16:43:28.500000</td>\n",
       "    </tr>\n",
       "    <tr>\n",
       "      <th>75%</th>\n",
       "      <td>2431.000000</td>\n",
       "      <td>2019-07-31 05:58:18.249999872</td>\n",
       "      <td>2019-08-13 02:20:08</td>\n",
       "      <td>2019-08-11 01:00:36.750000128</td>\n",
       "      <td>2019-08-04 04:15:46.500000</td>\n",
       "      <td>2019-08-13 04:23:23</td>\n",
       "      <td>2019-08-07 18:55:01.249999872</td>\n",
       "      <td>2019-08-13 04:19:43</td>\n",
       "      <td>2019-07-08 17:14:53</td>\n",
       "      <td>2019-08-16 05:43:31</td>\n",
       "      <td>2019-08-04 02:23:35.750000128</td>\n",
       "      <td>2019-08-11 05:21:01</td>\n",
       "      <td>2019-08-08 14:55:05.249999872</td>\n",
       "      <td>2019-08-04 23:32:00.249999872</td>\n",
       "      <td>2019-08-09 04:22:40.500000</td>\n",
       "      <td>2019-08-09 09:18:31.750000128</td>\n",
       "    </tr>\n",
       "    <tr>\n",
       "      <th>max</th>\n",
       "      <td>3241.000000</td>\n",
       "      <td>2019-09-05 09:11:32</td>\n",
       "      <td>2019-08-13 11:47:39</td>\n",
       "      <td>2019-09-06 12:26:52</td>\n",
       "      <td>2019-09-05 03:35:21</td>\n",
       "      <td>2019-09-02 18:16:52</td>\n",
       "      <td>2019-09-06 16:24:28</td>\n",
       "      <td>2019-09-05 19:07:49</td>\n",
       "      <td>2019-07-08 17:14:53</td>\n",
       "      <td>2019-08-16 09:11:56</td>\n",
       "      <td>2019-09-04 10:03:22</td>\n",
       "      <td>2019-09-06 05:03:14</td>\n",
       "      <td>2019-09-06 15:01:44</td>\n",
       "      <td>2019-09-01 01:53:02</td>\n",
       "      <td>2019-09-06 17:26:33</td>\n",
       "      <td>2019-09-06 17:23:15</td>\n",
       "    </tr>\n",
       "    <tr>\n",
       "      <th>std</th>\n",
       "      <td>933.337642</td>\n",
       "      <td>NaN</td>\n",
       "      <td>NaN</td>\n",
       "      <td>NaN</td>\n",
       "      <td>NaN</td>\n",
       "      <td>NaN</td>\n",
       "      <td>NaN</td>\n",
       "      <td>NaN</td>\n",
       "      <td>NaN</td>\n",
       "      <td>NaN</td>\n",
       "      <td>NaN</td>\n",
       "      <td>NaN</td>\n",
       "      <td>NaN</td>\n",
       "      <td>NaN</td>\n",
       "      <td>NaN</td>\n",
       "      <td>NaN</td>\n",
       "    </tr>\n",
       "  </tbody>\n",
       "</table>\n",
       "</div>"
      ],
      "text/plain": [
       "               key                         Bulk 1  \\\n",
       "count  3129.000000                            252   \n",
       "mean   1624.383509  2019-06-29 23:24:44.769841152   \n",
       "min       1.000000            2019-05-03 17:42:46   \n",
       "25%     816.000000     2019-05-29 14:48:48.500000   \n",
       "50%    1622.000000            2019-06-25 11:09:13   \n",
       "75%    2431.000000  2019-07-31 05:58:18.249999872   \n",
       "max    3241.000000            2019-09-05 09:11:32   \n",
       "std     933.337642                            NaN   \n",
       "\n",
       "                              Bulk 2                         Bulk 3  \\\n",
       "count                             22                           1298   \n",
       "mean   2019-07-12 07:57:13.045454592  2019-07-08 13:50:14.630970624   \n",
       "min              2019-05-07 15:39:35            2019-05-03 20:40:25   \n",
       "25%       2019-05-28 02:29:31.500000     2019-06-08 03:50:23.500000   \n",
       "50%       2019-07-27 17:18:38.500000            2019-07-04 09:31:42   \n",
       "75%              2019-08-13 02:20:08  2019-08-11 01:00:36.750000128   \n",
       "max              2019-08-13 11:47:39            2019-09-06 12:26:52   \n",
       "std                              NaN                            NaN   \n",
       "\n",
       "                              Bulk 4                         Bulk 5  \\\n",
       "count                           1014                             77   \n",
       "mean   2019-07-03 11:17:28.834319616  2019-07-13 17:18:29.090908928   \n",
       "min              2019-05-03 11:28:48            2019-05-07 15:19:17   \n",
       "25%    2019-05-30 21:36:11.249999872            2019-06-19 23:32:44   \n",
       "50%       2019-06-28 03:44:42.500000            2019-07-25 17:59:41   \n",
       "75%       2019-08-04 04:15:46.500000            2019-08-13 04:23:23   \n",
       "max              2019-09-05 03:35:21            2019-09-02 18:16:52   \n",
       "std                              NaN                            NaN   \n",
       "\n",
       "                              Bulk 6                         Bulk 7  \\\n",
       "count                            576                             25   \n",
       "mean   2019-07-06 13:50:06.345486080  2019-07-27 18:09:05.079999744   \n",
       "min              2019-05-03 19:09:15            2019-05-07 18:11:01   \n",
       "25%       2019-06-06 22:46:10.500000            2019-07-20 23:48:47   \n",
       "50%       2019-07-09 03:34:57.500000            2019-07-27 18:07:02   \n",
       "75%    2019-08-07 18:55:01.249999872            2019-08-13 04:19:43   \n",
       "max              2019-09-06 16:24:28            2019-09-05 19:07:49   \n",
       "std                              NaN                            NaN   \n",
       "\n",
       "                    Bulk 8                         Bulk 9  \\\n",
       "count                    1                             19   \n",
       "mean   2019-07-08 17:14:53  2019-06-23 08:08:47.578947328   \n",
       "min    2019-07-08 17:14:53            2019-05-14 11:57:58   \n",
       "25%    2019-07-08 17:14:53            2019-05-14 14:31:08   \n",
       "50%    2019-07-08 17:14:53            2019-05-14 16:55:09   \n",
       "75%    2019-07-08 17:14:53            2019-08-16 05:43:31   \n",
       "max    2019-07-08 17:14:53            2019-08-16 09:11:56   \n",
       "std                    NaN                            NaN   \n",
       "\n",
       "                             Bulk 10                        Bulk 11  \\\n",
       "count                            176                            177   \n",
       "mean   2019-07-06 23:55:10.954545408  2019-07-15 07:01:00.615819264   \n",
       "min              2019-05-06 07:54:02            2019-05-05 23:43:24   \n",
       "25%       2019-06-02 05:12:00.500000            2019-06-14 20:24:48   \n",
       "50%              2019-07-06 07:05:20            2019-07-24 11:17:22   \n",
       "75%    2019-08-04 02:23:35.750000128            2019-08-11 05:21:01   \n",
       "max              2019-09-04 10:03:22            2019-09-06 05:03:14   \n",
       "std                              NaN                            NaN   \n",
       "\n",
       "                             Bulk 12                        Bulk 13  \\\n",
       "count                           2450                             18   \n",
       "mean   2019-07-05 22:55:11.468571392  2019-07-01 18:32:46.944444416   \n",
       "min              2019-05-03 11:24:31            2019-05-05 02:10:21   \n",
       "25%    2019-06-03 12:48:47.249999872  2019-05-29 10:43:31.249999872   \n",
       "50%              2019-07-03 01:32:00     2019-07-01 12:59:36.500000   \n",
       "75%    2019-08-08 14:55:05.249999872  2019-08-04 23:32:00.249999872   \n",
       "max              2019-09-06 15:01:44            2019-09-01 01:53:02   \n",
       "std                              NaN                            NaN   \n",
       "\n",
       "                             Bulk 14                        Bulk 15  \n",
       "count                           2806                           2248  \n",
       "mean   2019-07-06 07:17:48.372772608  2019-07-06 13:24:51.912366336  \n",
       "min              2019-05-03 11:14:50            2019-05-03 11:10:43  \n",
       "25%              2019-06-04 04:50:42            2019-06-04 11:28:18  \n",
       "50%       2019-07-03 21:54:13.500000     2019-07-03 16:43:28.500000  \n",
       "75%       2019-08-09 04:22:40.500000  2019-08-09 09:18:31.750000128  \n",
       "max              2019-09-06 17:26:33            2019-09-06 17:23:15  \n",
       "std                              NaN                            NaN  "
      ]
     },
     "metadata": {},
     "output_type": "display_data"
    },
    {
     "data": {
      "text/html": [
       "<div>\n",
       "<style scoped>\n",
       "    .dataframe tbody tr th:only-of-type {\n",
       "        vertical-align: middle;\n",
       "    }\n",
       "\n",
       "    .dataframe tbody tr th {\n",
       "        vertical-align: top;\n",
       "    }\n",
       "\n",
       "    .dataframe thead th {\n",
       "        text-align: right;\n",
       "    }\n",
       "</style>\n",
       "<table border=\"1\" class=\"dataframe\">\n",
       "  <thead>\n",
       "    <tr style=\"text-align: right;\">\n",
       "      <th></th>\n",
       "      <th>key</th>\n",
       "      <th>Bulk 1</th>\n",
       "      <th>Bulk 2</th>\n",
       "      <th>Bulk 3</th>\n",
       "      <th>Bulk 4</th>\n",
       "      <th>Bulk 5</th>\n",
       "      <th>Bulk 6</th>\n",
       "      <th>Bulk 7</th>\n",
       "      <th>Bulk 8</th>\n",
       "      <th>Bulk 9</th>\n",
       "      <th>Bulk 10</th>\n",
       "      <th>Bulk 11</th>\n",
       "      <th>Bulk 12</th>\n",
       "      <th>Bulk 13</th>\n",
       "      <th>Bulk 14</th>\n",
       "      <th>Bulk 15</th>\n",
       "    </tr>\n",
       "  </thead>\n",
       "  <tbody>\n",
       "    <tr>\n",
       "      <th>0</th>\n",
       "      <td>1</td>\n",
       "      <td>NaT</td>\n",
       "      <td>NaT</td>\n",
       "      <td>NaT</td>\n",
       "      <td>2019-05-03 11:28:48</td>\n",
       "      <td>NaT</td>\n",
       "      <td>NaT</td>\n",
       "      <td>NaT</td>\n",
       "      <td>NaT</td>\n",
       "      <td>NaT</td>\n",
       "      <td>NaT</td>\n",
       "      <td>NaT</td>\n",
       "      <td>2019-05-03 11:24:31</td>\n",
       "      <td>NaT</td>\n",
       "      <td>2019-05-03 11:14:50</td>\n",
       "      <td>2019-05-03 11:10:43</td>\n",
       "    </tr>\n",
       "    <tr>\n",
       "      <th>1</th>\n",
       "      <td>2</td>\n",
       "      <td>NaT</td>\n",
       "      <td>NaT</td>\n",
       "      <td>NaT</td>\n",
       "      <td>2019-05-03 11:36:50</td>\n",
       "      <td>NaT</td>\n",
       "      <td>NaT</td>\n",
       "      <td>NaT</td>\n",
       "      <td>NaT</td>\n",
       "      <td>NaT</td>\n",
       "      <td>NaT</td>\n",
       "      <td>NaT</td>\n",
       "      <td>2019-05-03 11:53:30</td>\n",
       "      <td>NaT</td>\n",
       "      <td>2019-05-03 11:48:37</td>\n",
       "      <td>2019-05-03 11:44:39</td>\n",
       "    </tr>\n",
       "    <tr>\n",
       "      <th>2</th>\n",
       "      <td>3</td>\n",
       "      <td>NaT</td>\n",
       "      <td>NaT</td>\n",
       "      <td>NaT</td>\n",
       "      <td>2019-05-03 12:32:39</td>\n",
       "      <td>NaT</td>\n",
       "      <td>NaT</td>\n",
       "      <td>NaT</td>\n",
       "      <td>NaT</td>\n",
       "      <td>NaT</td>\n",
       "      <td>NaT</td>\n",
       "      <td>NaT</td>\n",
       "      <td>2019-05-03 12:27:13</td>\n",
       "      <td>NaT</td>\n",
       "      <td>2019-05-03 12:21:01</td>\n",
       "      <td>2019-05-03 12:16:16</td>\n",
       "    </tr>\n",
       "    <tr>\n",
       "      <th>3</th>\n",
       "      <td>4</td>\n",
       "      <td>NaT</td>\n",
       "      <td>NaT</td>\n",
       "      <td>NaT</td>\n",
       "      <td>2019-05-03 12:43:22</td>\n",
       "      <td>NaT</td>\n",
       "      <td>NaT</td>\n",
       "      <td>NaT</td>\n",
       "      <td>NaT</td>\n",
       "      <td>NaT</td>\n",
       "      <td>NaT</td>\n",
       "      <td>NaT</td>\n",
       "      <td>2019-05-03 12:58:00</td>\n",
       "      <td>NaT</td>\n",
       "      <td>2019-05-03 12:51:11</td>\n",
       "      <td>2019-05-03 12:46:36</td>\n",
       "    </tr>\n",
       "    <tr>\n",
       "      <th>4</th>\n",
       "      <td>5</td>\n",
       "      <td>NaT</td>\n",
       "      <td>NaT</td>\n",
       "      <td>NaT</td>\n",
       "      <td>2019-05-03 13:30:47</td>\n",
       "      <td>NaT</td>\n",
       "      <td>NaT</td>\n",
       "      <td>NaT</td>\n",
       "      <td>NaT</td>\n",
       "      <td>NaT</td>\n",
       "      <td>NaT</td>\n",
       "      <td>NaT</td>\n",
       "      <td>2019-05-03 13:30:47</td>\n",
       "      <td>NaT</td>\n",
       "      <td>2019-05-03 13:34:12</td>\n",
       "      <td>2019-05-03 13:30:47</td>\n",
       "    </tr>\n",
       "  </tbody>\n",
       "</table>\n",
       "</div>"
      ],
      "text/plain": [
       "   key Bulk 1 Bulk 2 Bulk 3              Bulk 4 Bulk 5 Bulk 6 Bulk 7 Bulk 8  \\\n",
       "0    1    NaT    NaT    NaT 2019-05-03 11:28:48    NaT    NaT    NaT    NaT   \n",
       "1    2    NaT    NaT    NaT 2019-05-03 11:36:50    NaT    NaT    NaT    NaT   \n",
       "2    3    NaT    NaT    NaT 2019-05-03 12:32:39    NaT    NaT    NaT    NaT   \n",
       "3    4    NaT    NaT    NaT 2019-05-03 12:43:22    NaT    NaT    NaT    NaT   \n",
       "4    5    NaT    NaT    NaT 2019-05-03 13:30:47    NaT    NaT    NaT    NaT   \n",
       "\n",
       "  Bulk 9 Bulk 10 Bulk 11             Bulk 12 Bulk 13             Bulk 14  \\\n",
       "0    NaT     NaT     NaT 2019-05-03 11:24:31     NaT 2019-05-03 11:14:50   \n",
       "1    NaT     NaT     NaT 2019-05-03 11:53:30     NaT 2019-05-03 11:48:37   \n",
       "2    NaT     NaT     NaT 2019-05-03 12:27:13     NaT 2019-05-03 12:21:01   \n",
       "3    NaT     NaT     NaT 2019-05-03 12:58:00     NaT 2019-05-03 12:51:11   \n",
       "4    NaT     NaT     NaT 2019-05-03 13:30:47     NaT 2019-05-03 13:34:12   \n",
       "\n",
       "              Bulk 15  \n",
       "0 2019-05-03 11:10:43  \n",
       "1 2019-05-03 11:44:39  \n",
       "2 2019-05-03 12:16:16  \n",
       "3 2019-05-03 12:46:36  \n",
       "4 2019-05-03 13:30:47  "
      ]
     },
     "metadata": {},
     "output_type": "display_data"
    }
   ],
   "source": [
    "display(data_bulk_time_new.info())\n",
    "display(data_bulk_time_new.describe())\n",
    "display(data_bulk_time_new.head())"
   ]
  },
  {
   "cell_type": "code",
   "execution_count": 67,
   "id": "fcb533f4",
   "metadata": {},
   "outputs": [
    {
     "name": "stdout",
     "output_type": "stream",
     "text": [
      "<class 'pandas.core.frame.DataFrame'>\n",
      "RangeIndex: 3239 entries, 0 to 3238\n",
      "Data columns (total 2 columns):\n",
      " #   Column  Non-Null Count  Dtype  \n",
      "---  ------  --------------  -----  \n",
      " 0   key     3239 non-null   int64  \n",
      " 1   Газ 1   3239 non-null   float64\n",
      "dtypes: float64(1), int64(1)\n",
      "memory usage: 50.7 KB\n"
     ]
    },
    {
     "data": {
      "text/plain": [
       "None"
      ]
     },
     "metadata": {},
     "output_type": "display_data"
    },
    {
     "data": {
      "text/html": [
       "<div>\n",
       "<style scoped>\n",
       "    .dataframe tbody tr th:only-of-type {\n",
       "        vertical-align: middle;\n",
       "    }\n",
       "\n",
       "    .dataframe tbody tr th {\n",
       "        vertical-align: top;\n",
       "    }\n",
       "\n",
       "    .dataframe thead th {\n",
       "        text-align: right;\n",
       "    }\n",
       "</style>\n",
       "<table border=\"1\" class=\"dataframe\">\n",
       "  <thead>\n",
       "    <tr style=\"text-align: right;\">\n",
       "      <th></th>\n",
       "      <th>key</th>\n",
       "      <th>Газ 1</th>\n",
       "    </tr>\n",
       "  </thead>\n",
       "  <tbody>\n",
       "    <tr>\n",
       "      <th>count</th>\n",
       "      <td>3239.000000</td>\n",
       "      <td>3239.000000</td>\n",
       "    </tr>\n",
       "    <tr>\n",
       "      <th>mean</th>\n",
       "      <td>1621.861377</td>\n",
       "      <td>11.002062</td>\n",
       "    </tr>\n",
       "    <tr>\n",
       "      <th>std</th>\n",
       "      <td>935.386334</td>\n",
       "      <td>6.220327</td>\n",
       "    </tr>\n",
       "    <tr>\n",
       "      <th>min</th>\n",
       "      <td>1.000000</td>\n",
       "      <td>0.008399</td>\n",
       "    </tr>\n",
       "    <tr>\n",
       "      <th>25%</th>\n",
       "      <td>812.500000</td>\n",
       "      <td>7.043089</td>\n",
       "    </tr>\n",
       "    <tr>\n",
       "      <th>50%</th>\n",
       "      <td>1622.000000</td>\n",
       "      <td>9.836267</td>\n",
       "    </tr>\n",
       "    <tr>\n",
       "      <th>75%</th>\n",
       "      <td>2431.500000</td>\n",
       "      <td>13.769915</td>\n",
       "    </tr>\n",
       "    <tr>\n",
       "      <th>max</th>\n",
       "      <td>3241.000000</td>\n",
       "      <td>77.995040</td>\n",
       "    </tr>\n",
       "  </tbody>\n",
       "</table>\n",
       "</div>"
      ],
      "text/plain": [
       "               key        Газ 1\n",
       "count  3239.000000  3239.000000\n",
       "mean   1621.861377    11.002062\n",
       "std     935.386334     6.220327\n",
       "min       1.000000     0.008399\n",
       "25%     812.500000     7.043089\n",
       "50%    1622.000000     9.836267\n",
       "75%    2431.500000    13.769915\n",
       "max    3241.000000    77.995040"
      ]
     },
     "metadata": {},
     "output_type": "display_data"
    },
    {
     "data": {
      "text/html": [
       "<div>\n",
       "<style scoped>\n",
       "    .dataframe tbody tr th:only-of-type {\n",
       "        vertical-align: middle;\n",
       "    }\n",
       "\n",
       "    .dataframe tbody tr th {\n",
       "        vertical-align: top;\n",
       "    }\n",
       "\n",
       "    .dataframe thead th {\n",
       "        text-align: right;\n",
       "    }\n",
       "</style>\n",
       "<table border=\"1\" class=\"dataframe\">\n",
       "  <thead>\n",
       "    <tr style=\"text-align: right;\">\n",
       "      <th></th>\n",
       "      <th>key</th>\n",
       "      <th>Газ 1</th>\n",
       "    </tr>\n",
       "  </thead>\n",
       "  <tbody>\n",
       "    <tr>\n",
       "      <th>0</th>\n",
       "      <td>1</td>\n",
       "      <td>29.749986</td>\n",
       "    </tr>\n",
       "    <tr>\n",
       "      <th>1</th>\n",
       "      <td>2</td>\n",
       "      <td>12.555561</td>\n",
       "    </tr>\n",
       "    <tr>\n",
       "      <th>2</th>\n",
       "      <td>3</td>\n",
       "      <td>28.554793</td>\n",
       "    </tr>\n",
       "    <tr>\n",
       "      <th>3</th>\n",
       "      <td>4</td>\n",
       "      <td>18.841219</td>\n",
       "    </tr>\n",
       "    <tr>\n",
       "      <th>4</th>\n",
       "      <td>5</td>\n",
       "      <td>5.413692</td>\n",
       "    </tr>\n",
       "  </tbody>\n",
       "</table>\n",
       "</div>"
      ],
      "text/plain": [
       "   key      Газ 1\n",
       "0    1  29.749986\n",
       "1    2  12.555561\n",
       "2    3  28.554793\n",
       "3    4  18.841219\n",
       "4    5   5.413692"
      ]
     },
     "metadata": {},
     "output_type": "display_data"
    }
   ],
   "source": [
    "display(data_gas_new.info())\n",
    "display(data_gas_new.describe())\n",
    "display(data_gas_new.head())"
   ]
  },
  {
   "cell_type": "code",
   "execution_count": 68,
   "id": "f5dc6bdc",
   "metadata": {},
   "outputs": [
    {
     "name": "stdout",
     "output_type": "stream",
     "text": [
      "<class 'pandas.core.frame.DataFrame'>\n",
      "RangeIndex: 18092 entries, 0 to 18091\n",
      "Data columns (total 3 columns):\n",
      " #   Column        Non-Null Count  Dtype         \n",
      "---  ------        --------------  -----         \n",
      " 0   key           18092 non-null  int64         \n",
      " 1   Время замера  18092 non-null  datetime64[ns]\n",
      " 2   Температура   14665 non-null  float64       \n",
      "dtypes: datetime64[ns](1), float64(1), int64(1)\n",
      "memory usage: 424.2 KB\n"
     ]
    },
    {
     "data": {
      "text/plain": [
       "None"
      ]
     },
     "metadata": {},
     "output_type": "display_data"
    },
    {
     "data": {
      "text/html": [
       "<div>\n",
       "<style scoped>\n",
       "    .dataframe tbody tr th:only-of-type {\n",
       "        vertical-align: middle;\n",
       "    }\n",
       "\n",
       "    .dataframe tbody tr th {\n",
       "        vertical-align: top;\n",
       "    }\n",
       "\n",
       "    .dataframe thead th {\n",
       "        text-align: right;\n",
       "    }\n",
       "</style>\n",
       "<table border=\"1\" class=\"dataframe\">\n",
       "  <thead>\n",
       "    <tr style=\"text-align: right;\">\n",
       "      <th></th>\n",
       "      <th>key</th>\n",
       "      <th>Время замера</th>\n",
       "      <th>Температура</th>\n",
       "    </tr>\n",
       "  </thead>\n",
       "  <tbody>\n",
       "    <tr>\n",
       "      <th>count</th>\n",
       "      <td>18092.000000</td>\n",
       "      <td>18092</td>\n",
       "      <td>14665.000000</td>\n",
       "    </tr>\n",
       "    <tr>\n",
       "      <th>mean</th>\n",
       "      <td>1616.460977</td>\n",
       "      <td>2019-07-05 13:36:58.791620608</td>\n",
       "      <td>1590.722741</td>\n",
       "    </tr>\n",
       "    <tr>\n",
       "      <th>min</th>\n",
       "      <td>1.000000</td>\n",
       "      <td>2019-05-03 11:02:04</td>\n",
       "      <td>1191.000000</td>\n",
       "    </tr>\n",
       "    <tr>\n",
       "      <th>25%</th>\n",
       "      <td>807.750000</td>\n",
       "      <td>2019-06-04 00:35:01.249999872</td>\n",
       "      <td>1580.000000</td>\n",
       "    </tr>\n",
       "    <tr>\n",
       "      <th>50%</th>\n",
       "      <td>1618.000000</td>\n",
       "      <td>2019-07-03 02:11:48</td>\n",
       "      <td>1590.000000</td>\n",
       "    </tr>\n",
       "    <tr>\n",
       "      <th>75%</th>\n",
       "      <td>2429.000000</td>\n",
       "      <td>2019-08-07 23:10:05.249999872</td>\n",
       "      <td>1599.000000</td>\n",
       "    </tr>\n",
       "    <tr>\n",
       "      <th>max</th>\n",
       "      <td>3241.000000</td>\n",
       "      <td>2019-09-06 17:30:05</td>\n",
       "      <td>1705.000000</td>\n",
       "    </tr>\n",
       "    <tr>\n",
       "      <th>std</th>\n",
       "      <td>934.641385</td>\n",
       "      <td>NaN</td>\n",
       "      <td>20.394381</td>\n",
       "    </tr>\n",
       "  </tbody>\n",
       "</table>\n",
       "</div>"
      ],
      "text/plain": [
       "                key                   Время замера   Температура\n",
       "count  18092.000000                          18092  14665.000000\n",
       "mean    1616.460977  2019-07-05 13:36:58.791620608   1590.722741\n",
       "min        1.000000            2019-05-03 11:02:04   1191.000000\n",
       "25%      807.750000  2019-06-04 00:35:01.249999872   1580.000000\n",
       "50%     1618.000000            2019-07-03 02:11:48   1590.000000\n",
       "75%     2429.000000  2019-08-07 23:10:05.249999872   1599.000000\n",
       "max     3241.000000            2019-09-06 17:30:05   1705.000000\n",
       "std      934.641385                            NaN     20.394381"
      ]
     },
     "metadata": {},
     "output_type": "display_data"
    },
    {
     "data": {
      "text/html": [
       "<div>\n",
       "<style scoped>\n",
       "    .dataframe tbody tr th:only-of-type {\n",
       "        vertical-align: middle;\n",
       "    }\n",
       "\n",
       "    .dataframe tbody tr th {\n",
       "        vertical-align: top;\n",
       "    }\n",
       "\n",
       "    .dataframe thead th {\n",
       "        text-align: right;\n",
       "    }\n",
       "</style>\n",
       "<table border=\"1\" class=\"dataframe\">\n",
       "  <thead>\n",
       "    <tr style=\"text-align: right;\">\n",
       "      <th></th>\n",
       "      <th>key</th>\n",
       "      <th>Время замера</th>\n",
       "      <th>Температура</th>\n",
       "    </tr>\n",
       "  </thead>\n",
       "  <tbody>\n",
       "    <tr>\n",
       "      <th>0</th>\n",
       "      <td>1</td>\n",
       "      <td>2019-05-03 11:02:04</td>\n",
       "      <td>1571.0</td>\n",
       "    </tr>\n",
       "    <tr>\n",
       "      <th>1</th>\n",
       "      <td>1</td>\n",
       "      <td>2019-05-03 11:07:18</td>\n",
       "      <td>1604.0</td>\n",
       "    </tr>\n",
       "    <tr>\n",
       "      <th>2</th>\n",
       "      <td>1</td>\n",
       "      <td>2019-05-03 11:11:34</td>\n",
       "      <td>1618.0</td>\n",
       "    </tr>\n",
       "    <tr>\n",
       "      <th>3</th>\n",
       "      <td>1</td>\n",
       "      <td>2019-05-03 11:18:04</td>\n",
       "      <td>1601.0</td>\n",
       "    </tr>\n",
       "    <tr>\n",
       "      <th>4</th>\n",
       "      <td>1</td>\n",
       "      <td>2019-05-03 11:25:59</td>\n",
       "      <td>1606.0</td>\n",
       "    </tr>\n",
       "  </tbody>\n",
       "</table>\n",
       "</div>"
      ],
      "text/plain": [
       "   key        Время замера  Температура\n",
       "0    1 2019-05-03 11:02:04       1571.0\n",
       "1    1 2019-05-03 11:07:18       1604.0\n",
       "2    1 2019-05-03 11:11:34       1618.0\n",
       "3    1 2019-05-03 11:18:04       1601.0\n",
       "4    1 2019-05-03 11:25:59       1606.0"
      ]
     },
     "metadata": {},
     "output_type": "display_data"
    }
   ],
   "source": [
    "display(data_temp_new.info())\n",
    "display(data_temp_new.describe())\n",
    "display(data_temp_new.head())"
   ]
  },
  {
   "cell_type": "code",
   "execution_count": 69,
   "id": "37e8b13a",
   "metadata": {},
   "outputs": [
    {
     "name": "stdout",
     "output_type": "stream",
     "text": [
      "<class 'pandas.core.frame.DataFrame'>\n",
      "RangeIndex: 3081 entries, 0 to 3080\n",
      "Data columns (total 10 columns):\n",
      " #   Column  Non-Null Count  Dtype  \n",
      "---  ------  --------------  -----  \n",
      " 0   key     3081 non-null   int64  \n",
      " 1   Wire 1  3055 non-null   float64\n",
      " 2   Wire 2  1079 non-null   float64\n",
      " 3   Wire 3  63 non-null     float64\n",
      " 4   Wire 4  14 non-null     float64\n",
      " 5   Wire 5  1 non-null      float64\n",
      " 6   Wire 6  73 non-null     float64\n",
      " 7   Wire 7  11 non-null     float64\n",
      " 8   Wire 8  19 non-null     float64\n",
      " 9   Wire 9  29 non-null     float64\n",
      "dtypes: float64(9), int64(1)\n",
      "memory usage: 240.8 KB\n"
     ]
    },
    {
     "data": {
      "text/plain": [
       "None"
      ]
     },
     "metadata": {},
     "output_type": "display_data"
    },
    {
     "data": {
      "text/html": [
       "<div>\n",
       "<style scoped>\n",
       "    .dataframe tbody tr th:only-of-type {\n",
       "        vertical-align: middle;\n",
       "    }\n",
       "\n",
       "    .dataframe tbody tr th {\n",
       "        vertical-align: top;\n",
       "    }\n",
       "\n",
       "    .dataframe thead th {\n",
       "        text-align: right;\n",
       "    }\n",
       "</style>\n",
       "<table border=\"1\" class=\"dataframe\">\n",
       "  <thead>\n",
       "    <tr style=\"text-align: right;\">\n",
       "      <th></th>\n",
       "      <th>key</th>\n",
       "      <th>Wire 1</th>\n",
       "      <th>Wire 2</th>\n",
       "      <th>Wire 3</th>\n",
       "      <th>Wire 4</th>\n",
       "      <th>Wire 5</th>\n",
       "      <th>Wire 6</th>\n",
       "      <th>Wire 7</th>\n",
       "      <th>Wire 8</th>\n",
       "      <th>Wire 9</th>\n",
       "    </tr>\n",
       "  </thead>\n",
       "  <tbody>\n",
       "    <tr>\n",
       "      <th>count</th>\n",
       "      <td>3081.000000</td>\n",
       "      <td>3055.000000</td>\n",
       "      <td>1079.000000</td>\n",
       "      <td>63.000000</td>\n",
       "      <td>14.000000</td>\n",
       "      <td>1.000</td>\n",
       "      <td>73.000000</td>\n",
       "      <td>11.000000</td>\n",
       "      <td>19.000000</td>\n",
       "      <td>29.000000</td>\n",
       "    </tr>\n",
       "    <tr>\n",
       "      <th>mean</th>\n",
       "      <td>1623.426485</td>\n",
       "      <td>100.895853</td>\n",
       "      <td>50.577323</td>\n",
       "      <td>189.482681</td>\n",
       "      <td>57.442841</td>\n",
       "      <td>15.132</td>\n",
       "      <td>48.016974</td>\n",
       "      <td>10.039007</td>\n",
       "      <td>53.625193</td>\n",
       "      <td>34.155752</td>\n",
       "    </tr>\n",
       "    <tr>\n",
       "      <th>std</th>\n",
       "      <td>932.996726</td>\n",
       "      <td>42.012518</td>\n",
       "      <td>39.320216</td>\n",
       "      <td>99.513444</td>\n",
       "      <td>28.824667</td>\n",
       "      <td>NaN</td>\n",
       "      <td>33.919845</td>\n",
       "      <td>8.610584</td>\n",
       "      <td>16.881728</td>\n",
       "      <td>19.931616</td>\n",
       "    </tr>\n",
       "    <tr>\n",
       "      <th>min</th>\n",
       "      <td>1.000000</td>\n",
       "      <td>1.918800</td>\n",
       "      <td>0.030160</td>\n",
       "      <td>0.144144</td>\n",
       "      <td>24.148801</td>\n",
       "      <td>15.132</td>\n",
       "      <td>0.034320</td>\n",
       "      <td>0.234208</td>\n",
       "      <td>45.076721</td>\n",
       "      <td>4.622800</td>\n",
       "    </tr>\n",
       "    <tr>\n",
       "      <th>25%</th>\n",
       "      <td>823.000000</td>\n",
       "      <td>72.115684</td>\n",
       "      <td>20.193680</td>\n",
       "      <td>95.135044</td>\n",
       "      <td>40.807002</td>\n",
       "      <td>15.132</td>\n",
       "      <td>25.053600</td>\n",
       "      <td>6.762756</td>\n",
       "      <td>46.094879</td>\n",
       "      <td>22.058401</td>\n",
       "    </tr>\n",
       "    <tr>\n",
       "      <th>50%</th>\n",
       "      <td>1619.000000</td>\n",
       "      <td>100.158234</td>\n",
       "      <td>40.142956</td>\n",
       "      <td>235.194977</td>\n",
       "      <td>45.234282</td>\n",
       "      <td>15.132</td>\n",
       "      <td>42.076324</td>\n",
       "      <td>9.017009</td>\n",
       "      <td>46.279999</td>\n",
       "      <td>30.066399</td>\n",
       "    </tr>\n",
       "    <tr>\n",
       "      <th>75%</th>\n",
       "      <td>2434.000000</td>\n",
       "      <td>126.060483</td>\n",
       "      <td>70.227558</td>\n",
       "      <td>276.252014</td>\n",
       "      <td>76.124619</td>\n",
       "      <td>15.132</td>\n",
       "      <td>64.212723</td>\n",
       "      <td>11.886057</td>\n",
       "      <td>48.089603</td>\n",
       "      <td>43.862003</td>\n",
       "    </tr>\n",
       "    <tr>\n",
       "      <th>max</th>\n",
       "      <td>3241.000000</td>\n",
       "      <td>330.314424</td>\n",
       "      <td>282.780152</td>\n",
       "      <td>385.008668</td>\n",
       "      <td>113.231044</td>\n",
       "      <td>15.132</td>\n",
       "      <td>180.454575</td>\n",
       "      <td>32.847674</td>\n",
       "      <td>102.762401</td>\n",
       "      <td>90.053604</td>\n",
       "    </tr>\n",
       "  </tbody>\n",
       "</table>\n",
       "</div>"
      ],
      "text/plain": [
       "               key       Wire 1       Wire 2      Wire 3      Wire 4  Wire 5  \\\n",
       "count  3081.000000  3055.000000  1079.000000   63.000000   14.000000   1.000   \n",
       "mean   1623.426485   100.895853    50.577323  189.482681   57.442841  15.132   \n",
       "std     932.996726    42.012518    39.320216   99.513444   28.824667     NaN   \n",
       "min       1.000000     1.918800     0.030160    0.144144   24.148801  15.132   \n",
       "25%     823.000000    72.115684    20.193680   95.135044   40.807002  15.132   \n",
       "50%    1619.000000   100.158234    40.142956  235.194977   45.234282  15.132   \n",
       "75%    2434.000000   126.060483    70.227558  276.252014   76.124619  15.132   \n",
       "max    3241.000000   330.314424   282.780152  385.008668  113.231044  15.132   \n",
       "\n",
       "           Wire 6     Wire 7      Wire 8     Wire 9  \n",
       "count   73.000000  11.000000   19.000000  29.000000  \n",
       "mean    48.016974  10.039007   53.625193  34.155752  \n",
       "std     33.919845   8.610584   16.881728  19.931616  \n",
       "min      0.034320   0.234208   45.076721   4.622800  \n",
       "25%     25.053600   6.762756   46.094879  22.058401  \n",
       "50%     42.076324   9.017009   46.279999  30.066399  \n",
       "75%     64.212723  11.886057   48.089603  43.862003  \n",
       "max    180.454575  32.847674  102.762401  90.053604  "
      ]
     },
     "metadata": {},
     "output_type": "display_data"
    },
    {
     "data": {
      "text/html": [
       "<div>\n",
       "<style scoped>\n",
       "    .dataframe tbody tr th:only-of-type {\n",
       "        vertical-align: middle;\n",
       "    }\n",
       "\n",
       "    .dataframe tbody tr th {\n",
       "        vertical-align: top;\n",
       "    }\n",
       "\n",
       "    .dataframe thead th {\n",
       "        text-align: right;\n",
       "    }\n",
       "</style>\n",
       "<table border=\"1\" class=\"dataframe\">\n",
       "  <thead>\n",
       "    <tr style=\"text-align: right;\">\n",
       "      <th></th>\n",
       "      <th>key</th>\n",
       "      <th>Wire 1</th>\n",
       "      <th>Wire 2</th>\n",
       "      <th>Wire 3</th>\n",
       "      <th>Wire 4</th>\n",
       "      <th>Wire 5</th>\n",
       "      <th>Wire 6</th>\n",
       "      <th>Wire 7</th>\n",
       "      <th>Wire 8</th>\n",
       "      <th>Wire 9</th>\n",
       "    </tr>\n",
       "  </thead>\n",
       "  <tbody>\n",
       "    <tr>\n",
       "      <th>0</th>\n",
       "      <td>1</td>\n",
       "      <td>60.059998</td>\n",
       "      <td>NaN</td>\n",
       "      <td>NaN</td>\n",
       "      <td>NaN</td>\n",
       "      <td>NaN</td>\n",
       "      <td>NaN</td>\n",
       "      <td>NaN</td>\n",
       "      <td>NaN</td>\n",
       "      <td>NaN</td>\n",
       "    </tr>\n",
       "    <tr>\n",
       "      <th>1</th>\n",
       "      <td>2</td>\n",
       "      <td>96.052315</td>\n",
       "      <td>NaN</td>\n",
       "      <td>NaN</td>\n",
       "      <td>NaN</td>\n",
       "      <td>NaN</td>\n",
       "      <td>NaN</td>\n",
       "      <td>NaN</td>\n",
       "      <td>NaN</td>\n",
       "      <td>NaN</td>\n",
       "    </tr>\n",
       "    <tr>\n",
       "      <th>2</th>\n",
       "      <td>3</td>\n",
       "      <td>91.160157</td>\n",
       "      <td>NaN</td>\n",
       "      <td>NaN</td>\n",
       "      <td>NaN</td>\n",
       "      <td>NaN</td>\n",
       "      <td>NaN</td>\n",
       "      <td>NaN</td>\n",
       "      <td>NaN</td>\n",
       "      <td>NaN</td>\n",
       "    </tr>\n",
       "    <tr>\n",
       "      <th>3</th>\n",
       "      <td>4</td>\n",
       "      <td>89.063515</td>\n",
       "      <td>NaN</td>\n",
       "      <td>NaN</td>\n",
       "      <td>NaN</td>\n",
       "      <td>NaN</td>\n",
       "      <td>NaN</td>\n",
       "      <td>NaN</td>\n",
       "      <td>NaN</td>\n",
       "      <td>NaN</td>\n",
       "    </tr>\n",
       "    <tr>\n",
       "      <th>4</th>\n",
       "      <td>5</td>\n",
       "      <td>89.238236</td>\n",
       "      <td>9.11456</td>\n",
       "      <td>NaN</td>\n",
       "      <td>NaN</td>\n",
       "      <td>NaN</td>\n",
       "      <td>NaN</td>\n",
       "      <td>NaN</td>\n",
       "      <td>NaN</td>\n",
       "      <td>NaN</td>\n",
       "    </tr>\n",
       "  </tbody>\n",
       "</table>\n",
       "</div>"
      ],
      "text/plain": [
       "   key     Wire 1   Wire 2  Wire 3  Wire 4  Wire 5  Wire 6  Wire 7  Wire 8  \\\n",
       "0    1  60.059998      NaN     NaN     NaN     NaN     NaN     NaN     NaN   \n",
       "1    2  96.052315      NaN     NaN     NaN     NaN     NaN     NaN     NaN   \n",
       "2    3  91.160157      NaN     NaN     NaN     NaN     NaN     NaN     NaN   \n",
       "3    4  89.063515      NaN     NaN     NaN     NaN     NaN     NaN     NaN   \n",
       "4    5  89.238236  9.11456     NaN     NaN     NaN     NaN     NaN     NaN   \n",
       "\n",
       "   Wire 9  \n",
       "0     NaN  \n",
       "1     NaN  \n",
       "2     NaN  \n",
       "3     NaN  \n",
       "4     NaN  "
      ]
     },
     "metadata": {},
     "output_type": "display_data"
    }
   ],
   "source": [
    "display(data_wire_new.info())\n",
    "display(data_wire_new.describe())\n",
    "display(data_wire_new.head())"
   ]
  },
  {
   "cell_type": "code",
   "execution_count": 70,
   "id": "f78aef6d",
   "metadata": {},
   "outputs": [
    {
     "name": "stdout",
     "output_type": "stream",
     "text": [
      "<class 'pandas.core.frame.DataFrame'>\n",
      "RangeIndex: 3081 entries, 0 to 3080\n",
      "Data columns (total 10 columns):\n",
      " #   Column  Non-Null Count  Dtype         \n",
      "---  ------  --------------  -----         \n",
      " 0   key     3081 non-null   int64         \n",
      " 1   Wire 1  3055 non-null   datetime64[ns]\n",
      " 2   Wire 2  1079 non-null   datetime64[ns]\n",
      " 3   Wire 3  63 non-null     datetime64[ns]\n",
      " 4   Wire 4  14 non-null     datetime64[ns]\n",
      " 5   Wire 5  1 non-null      datetime64[ns]\n",
      " 6   Wire 6  73 non-null     datetime64[ns]\n",
      " 7   Wire 7  11 non-null     datetime64[ns]\n",
      " 8   Wire 8  19 non-null     datetime64[ns]\n",
      " 9   Wire 9  29 non-null     datetime64[ns]\n",
      "dtypes: datetime64[ns](9), int64(1)\n",
      "memory usage: 240.8 KB\n"
     ]
    },
    {
     "data": {
      "text/plain": [
       "None"
      ]
     },
     "metadata": {},
     "output_type": "display_data"
    },
    {
     "data": {
      "text/html": [
       "<div>\n",
       "<style scoped>\n",
       "    .dataframe tbody tr th:only-of-type {\n",
       "        vertical-align: middle;\n",
       "    }\n",
       "\n",
       "    .dataframe tbody tr th {\n",
       "        vertical-align: top;\n",
       "    }\n",
       "\n",
       "    .dataframe thead th {\n",
       "        text-align: right;\n",
       "    }\n",
       "</style>\n",
       "<table border=\"1\" class=\"dataframe\">\n",
       "  <thead>\n",
       "    <tr style=\"text-align: right;\">\n",
       "      <th></th>\n",
       "      <th>key</th>\n",
       "      <th>Wire 1</th>\n",
       "      <th>Wire 2</th>\n",
       "      <th>Wire 3</th>\n",
       "      <th>Wire 4</th>\n",
       "      <th>Wire 5</th>\n",
       "      <th>Wire 6</th>\n",
       "      <th>Wire 7</th>\n",
       "      <th>Wire 8</th>\n",
       "      <th>Wire 9</th>\n",
       "    </tr>\n",
       "  </thead>\n",
       "  <tbody>\n",
       "    <tr>\n",
       "      <th>count</th>\n",
       "      <td>3081.000000</td>\n",
       "      <td>3055</td>\n",
       "      <td>1079</td>\n",
       "      <td>63</td>\n",
       "      <td>14</td>\n",
       "      <td>1</td>\n",
       "      <td>73</td>\n",
       "      <td>11</td>\n",
       "      <td>19</td>\n",
       "      <td>29</td>\n",
       "    </tr>\n",
       "    <tr>\n",
       "      <th>mean</th>\n",
       "      <td>1623.426485</td>\n",
       "      <td>2019-07-05 23:22:34.279541760</td>\n",
       "      <td>2019-07-07 01:07:08.735866624</td>\n",
       "      <td>2019-07-10 15:09:58.650793472</td>\n",
       "      <td>2019-07-11 13:44:37</td>\n",
       "      <td>2019-08-13 06:14:30</td>\n",
       "      <td>2019-07-07 11:51:15.095890432</td>\n",
       "      <td>2019-08-07 01:16:08.090909184</td>\n",
       "      <td>2019-06-23 07:47:49.052631552</td>\n",
       "      <td>2019-07-01 11:56:04.793103616</td>\n",
       "    </tr>\n",
       "    <tr>\n",
       "      <th>min</th>\n",
       "      <td>1.000000</td>\n",
       "      <td>2019-05-03 11:06:19</td>\n",
       "      <td>2019-05-03 13:15:34</td>\n",
       "      <td>2019-05-04 04:34:27</td>\n",
       "      <td>2019-05-07 15:19:17</td>\n",
       "      <td>2019-08-13 06:14:30</td>\n",
       "      <td>2019-05-07 14:46:05</td>\n",
       "      <td>2019-07-27 05:49:05</td>\n",
       "      <td>2019-05-14 11:29:24</td>\n",
       "      <td>2019-05-04 17:21:27</td>\n",
       "    </tr>\n",
       "    <tr>\n",
       "      <th>25%</th>\n",
       "      <td>823.000000</td>\n",
       "      <td>2019-06-04 19:30:11.500000</td>\n",
       "      <td>2019-06-05 14:50:26.500000</td>\n",
       "      <td>2019-06-11 14:17:38.500000</td>\n",
       "      <td>2019-07-20 17:58:53.750000128</td>\n",
       "      <td>2019-08-13 06:14:30</td>\n",
       "      <td>2019-05-08 21:47:30</td>\n",
       "      <td>2019-07-27 16:27:27</td>\n",
       "      <td>2019-05-14 14:20:07.500000</td>\n",
       "      <td>2019-06-09 19:36:17</td>\n",
       "    </tr>\n",
       "    <tr>\n",
       "      <th>50%</th>\n",
       "      <td>1619.000000</td>\n",
       "      <td>2019-07-03 06:36:23</td>\n",
       "      <td>2019-07-04 23:13:39</td>\n",
       "      <td>2019-07-21 10:04:47</td>\n",
       "      <td>2019-07-27 05:45:26.500000</td>\n",
       "      <td>2019-08-13 06:14:30</td>\n",
       "      <td>2019-07-28 05:00:32</td>\n",
       "      <td>2019-08-12 21:48:11</td>\n",
       "      <td>2019-05-14 16:55:09</td>\n",
       "      <td>2019-06-11 10:10:21</td>\n",
       "    </tr>\n",
       "    <tr>\n",
       "      <th>75%</th>\n",
       "      <td>2434.000000</td>\n",
       "      <td>2019-08-08 08:56:06.500000</td>\n",
       "      <td>2019-08-08 23:15:17</td>\n",
       "      <td>2019-08-12 22:54:46</td>\n",
       "      <td>2019-07-27 16:20:04.750000128</td>\n",
       "      <td>2019-08-13 06:14:30</td>\n",
       "      <td>2019-08-13 13:33:02</td>\n",
       "      <td>2019-08-13 02:02:55.500000</td>\n",
       "      <td>2019-08-16 05:06:53.500000</td>\n",
       "      <td>2019-08-09 06:49:04</td>\n",
       "    </tr>\n",
       "    <tr>\n",
       "      <th>max</th>\n",
       "      <td>3241.000000</td>\n",
       "      <td>2019-09-06 17:10:06</td>\n",
       "      <td>2019-09-06 07:35:40</td>\n",
       "      <td>2019-09-02 07:14:44</td>\n",
       "      <td>2019-08-13 03:16:45</td>\n",
       "      <td>2019-08-13 06:14:30</td>\n",
       "      <td>2019-08-18 19:10:56</td>\n",
       "      <td>2019-08-13 10:25:22</td>\n",
       "      <td>2019-08-16 08:56:23</td>\n",
       "      <td>2019-09-03 12:55:23</td>\n",
       "    </tr>\n",
       "    <tr>\n",
       "      <th>std</th>\n",
       "      <td>932.996726</td>\n",
       "      <td>NaN</td>\n",
       "      <td>NaN</td>\n",
       "      <td>NaN</td>\n",
       "      <td>NaN</td>\n",
       "      <td>NaN</td>\n",
       "      <td>NaN</td>\n",
       "      <td>NaN</td>\n",
       "      <td>NaN</td>\n",
       "      <td>NaN</td>\n",
       "    </tr>\n",
       "  </tbody>\n",
       "</table>\n",
       "</div>"
      ],
      "text/plain": [
       "               key                         Wire 1  \\\n",
       "count  3081.000000                           3055   \n",
       "mean   1623.426485  2019-07-05 23:22:34.279541760   \n",
       "min       1.000000            2019-05-03 11:06:19   \n",
       "25%     823.000000     2019-06-04 19:30:11.500000   \n",
       "50%    1619.000000            2019-07-03 06:36:23   \n",
       "75%    2434.000000     2019-08-08 08:56:06.500000   \n",
       "max    3241.000000            2019-09-06 17:10:06   \n",
       "std     932.996726                            NaN   \n",
       "\n",
       "                              Wire 2                         Wire 3  \\\n",
       "count                           1079                             63   \n",
       "mean   2019-07-07 01:07:08.735866624  2019-07-10 15:09:58.650793472   \n",
       "min              2019-05-03 13:15:34            2019-05-04 04:34:27   \n",
       "25%       2019-06-05 14:50:26.500000     2019-06-11 14:17:38.500000   \n",
       "50%              2019-07-04 23:13:39            2019-07-21 10:04:47   \n",
       "75%              2019-08-08 23:15:17            2019-08-12 22:54:46   \n",
       "max              2019-09-06 07:35:40            2019-09-02 07:14:44   \n",
       "std                              NaN                            NaN   \n",
       "\n",
       "                              Wire 4               Wire 5  \\\n",
       "count                             14                    1   \n",
       "mean             2019-07-11 13:44:37  2019-08-13 06:14:30   \n",
       "min              2019-05-07 15:19:17  2019-08-13 06:14:30   \n",
       "25%    2019-07-20 17:58:53.750000128  2019-08-13 06:14:30   \n",
       "50%       2019-07-27 05:45:26.500000  2019-08-13 06:14:30   \n",
       "75%    2019-07-27 16:20:04.750000128  2019-08-13 06:14:30   \n",
       "max              2019-08-13 03:16:45  2019-08-13 06:14:30   \n",
       "std                              NaN                  NaN   \n",
       "\n",
       "                              Wire 6                         Wire 7  \\\n",
       "count                             73                             11   \n",
       "mean   2019-07-07 11:51:15.095890432  2019-08-07 01:16:08.090909184   \n",
       "min              2019-05-07 14:46:05            2019-07-27 05:49:05   \n",
       "25%              2019-05-08 21:47:30            2019-07-27 16:27:27   \n",
       "50%              2019-07-28 05:00:32            2019-08-12 21:48:11   \n",
       "75%              2019-08-13 13:33:02     2019-08-13 02:02:55.500000   \n",
       "max              2019-08-18 19:10:56            2019-08-13 10:25:22   \n",
       "std                              NaN                            NaN   \n",
       "\n",
       "                              Wire 8                         Wire 9  \n",
       "count                             19                             29  \n",
       "mean   2019-06-23 07:47:49.052631552  2019-07-01 11:56:04.793103616  \n",
       "min              2019-05-14 11:29:24            2019-05-04 17:21:27  \n",
       "25%       2019-05-14 14:20:07.500000            2019-06-09 19:36:17  \n",
       "50%              2019-05-14 16:55:09            2019-06-11 10:10:21  \n",
       "75%       2019-08-16 05:06:53.500000            2019-08-09 06:49:04  \n",
       "max              2019-08-16 08:56:23            2019-09-03 12:55:23  \n",
       "std                              NaN                            NaN  "
      ]
     },
     "metadata": {},
     "output_type": "display_data"
    },
    {
     "data": {
      "text/html": [
       "<div>\n",
       "<style scoped>\n",
       "    .dataframe tbody tr th:only-of-type {\n",
       "        vertical-align: middle;\n",
       "    }\n",
       "\n",
       "    .dataframe tbody tr th {\n",
       "        vertical-align: top;\n",
       "    }\n",
       "\n",
       "    .dataframe thead th {\n",
       "        text-align: right;\n",
       "    }\n",
       "</style>\n",
       "<table border=\"1\" class=\"dataframe\">\n",
       "  <thead>\n",
       "    <tr style=\"text-align: right;\">\n",
       "      <th></th>\n",
       "      <th>key</th>\n",
       "      <th>Wire 1</th>\n",
       "      <th>Wire 2</th>\n",
       "      <th>Wire 3</th>\n",
       "      <th>Wire 4</th>\n",
       "      <th>Wire 5</th>\n",
       "      <th>Wire 6</th>\n",
       "      <th>Wire 7</th>\n",
       "      <th>Wire 8</th>\n",
       "      <th>Wire 9</th>\n",
       "    </tr>\n",
       "  </thead>\n",
       "  <tbody>\n",
       "    <tr>\n",
       "      <th>0</th>\n",
       "      <td>1</td>\n",
       "      <td>2019-05-03 11:06:19</td>\n",
       "      <td>NaT</td>\n",
       "      <td>NaT</td>\n",
       "      <td>NaT</td>\n",
       "      <td>NaT</td>\n",
       "      <td>NaT</td>\n",
       "      <td>NaT</td>\n",
       "      <td>NaT</td>\n",
       "      <td>NaT</td>\n",
       "    </tr>\n",
       "    <tr>\n",
       "      <th>1</th>\n",
       "      <td>2</td>\n",
       "      <td>2019-05-03 11:36:50</td>\n",
       "      <td>NaT</td>\n",
       "      <td>NaT</td>\n",
       "      <td>NaT</td>\n",
       "      <td>NaT</td>\n",
       "      <td>NaT</td>\n",
       "      <td>NaT</td>\n",
       "      <td>NaT</td>\n",
       "      <td>NaT</td>\n",
       "    </tr>\n",
       "    <tr>\n",
       "      <th>2</th>\n",
       "      <td>3</td>\n",
       "      <td>2019-05-03 12:11:46</td>\n",
       "      <td>NaT</td>\n",
       "      <td>NaT</td>\n",
       "      <td>NaT</td>\n",
       "      <td>NaT</td>\n",
       "      <td>NaT</td>\n",
       "      <td>NaT</td>\n",
       "      <td>NaT</td>\n",
       "      <td>NaT</td>\n",
       "    </tr>\n",
       "    <tr>\n",
       "      <th>3</th>\n",
       "      <td>4</td>\n",
       "      <td>2019-05-03 12:43:22</td>\n",
       "      <td>NaT</td>\n",
       "      <td>NaT</td>\n",
       "      <td>NaT</td>\n",
       "      <td>NaT</td>\n",
       "      <td>NaT</td>\n",
       "      <td>NaT</td>\n",
       "      <td>NaT</td>\n",
       "      <td>NaT</td>\n",
       "    </tr>\n",
       "    <tr>\n",
       "      <th>4</th>\n",
       "      <td>5</td>\n",
       "      <td>2019-05-03 13:20:44</td>\n",
       "      <td>2019-05-03 13:15:34</td>\n",
       "      <td>NaT</td>\n",
       "      <td>NaT</td>\n",
       "      <td>NaT</td>\n",
       "      <td>NaT</td>\n",
       "      <td>NaT</td>\n",
       "      <td>NaT</td>\n",
       "      <td>NaT</td>\n",
       "    </tr>\n",
       "  </tbody>\n",
       "</table>\n",
       "</div>"
      ],
      "text/plain": [
       "   key              Wire 1              Wire 2 Wire 3 Wire 4 Wire 5 Wire 6  \\\n",
       "0    1 2019-05-03 11:06:19                 NaT    NaT    NaT    NaT    NaT   \n",
       "1    2 2019-05-03 11:36:50                 NaT    NaT    NaT    NaT    NaT   \n",
       "2    3 2019-05-03 12:11:46                 NaT    NaT    NaT    NaT    NaT   \n",
       "3    4 2019-05-03 12:43:22                 NaT    NaT    NaT    NaT    NaT   \n",
       "4    5 2019-05-03 13:20:44 2019-05-03 13:15:34    NaT    NaT    NaT    NaT   \n",
       "\n",
       "  Wire 7 Wire 8 Wire 9  \n",
       "0    NaT    NaT    NaT  \n",
       "1    NaT    NaT    NaT  \n",
       "2    NaT    NaT    NaT  \n",
       "3    NaT    NaT    NaT  \n",
       "4    NaT    NaT    NaT  "
      ]
     },
     "metadata": {},
     "output_type": "display_data"
    }
   ],
   "source": [
    "display(data_wire_time_new.info())\n",
    "display(data_wire_time_new.describe())\n",
    "display(data_wire_time_new.head())"
   ]
  },
  {
   "cell_type": "markdown",
   "id": "efafdd56",
   "metadata": {},
   "source": [
    "Для начала приведём признаки к *snake_case* и переименуем их, чтобы легче определять их смысл."
   ]
  },
  {
   "cell_type": "code",
   "execution_count": 71,
   "id": "34fab098",
   "metadata": {},
   "outputs": [],
   "source": [
    "data_bulk_new = data_bulk_new.rename(\n",
    "    columns = {\n",
    "        'Bulk 1' : 'объём_подаваемого_материала 1',\n",
    "        'Bulk 2' : 'объём подаваемого материала 2',\n",
    "        'Bulk 3' : 'объём подаваемого материала 3',\n",
    "        'Bulk 4' : 'объём подаваемого материала 4',\n",
    "        'Bulk 5' : 'объём подаваемого материала 5',\n",
    "        'Bulk 6' : 'объём подаваемого материала 6',\n",
    "        'Bulk 7' : 'объём подаваемого материала 7',\n",
    "        'Bulk 8' : 'объём подаваемого материала 8',\n",
    "        'Bulk 9' : 'объём подаваемого материала 9',\n",
    "        'Bulk 10' : 'объём подаваемого материала 10',\n",
    "        'Bulk 11' : 'объём подаваемого материала 11',\n",
    "        'Bulk 12' : 'объём подаваемого материала 12',\n",
    "        'Bulk 13' : 'объём подаваемого материала 13',\n",
    "        'Bulk 14' : 'объём подаваемого материала 14',\n",
    "        'Bulk 15' : 'объём подаваемого материала 15'\n",
    "    }\n",
    ")"
   ]
  },
  {
   "cell_type": "code",
   "execution_count": 72,
   "id": "16227c50",
   "metadata": {},
   "outputs": [],
   "source": [
    "data_bulk_time_new = data_bulk_time_new.rename(\n",
    "    columns = {\n",
    "        'Bulk 1' : 'время_подачи_материала 1',\n",
    "        'Bulk 2' : 'время подачи материала 2',\n",
    "        'Bulk 3' : 'время подачи материала 3',\n",
    "        'Bulk 4' : 'время подачи материала 4',\n",
    "        'Bulk 5' : 'время подачи материала 5',\n",
    "        'Bulk 6' : 'время подачи материала 6',\n",
    "        'Bulk 7' : 'время подачи материала 7',\n",
    "        'Bulk 8' : 'время подачи материала 8',\n",
    "        'Bulk 9' : 'время подачи материала 9',\n",
    "        'Bulk 10' : 'время подачи материала 10',\n",
    "        'Bulk 11' : 'время подачи материала 11',\n",
    "        'Bulk 12' : 'время подачи материала 12',\n",
    "        'Bulk 13' : 'время подачи материала 13',\n",
    "        'Bulk 14' : 'время подачи материала 14',\n",
    "        'Bulk 15' : 'время подачи материала 15'\n",
    "    }\n",
    ")"
   ]
  },
  {
   "cell_type": "code",
   "execution_count": 73,
   "id": "2b8b336c",
   "metadata": {},
   "outputs": [],
   "source": [
    "data_gas_new = data_gas_new.rename(columns = {'Газ 1' : 'объём подаваемого газа 1'})"
   ]
  },
  {
   "cell_type": "code",
   "execution_count": 74,
   "id": "82eaa371",
   "metadata": {},
   "outputs": [],
   "source": [
    "data_wire_new = data_wire_new.rename(\n",
    "    columns = {\n",
    "        'Wire 1' : 'объём подаваемых проволочных материалов 1',\n",
    "        'Wire 2' : 'объём подаваемых проволочных материалов 2',\n",
    "        'Wire 3' : 'объём подаваемых проволочных материалов 3',\n",
    "        'Wire 4' : 'объём подаваемых проволочных материалов 4',\n",
    "        'Wire 5' : 'объём подаваемых проволочных материалов 5',\n",
    "        'Wire 6' : 'объём подаваемых проволочных материалов 6',\n",
    "        'Wire 7' : 'объём подаваемых проволочных материалов 7',\n",
    "        'Wire 8' : 'объём подаваемых проволочных материалов 8',\n",
    "        'Wire 9' : 'объём подаваемых проволочных материалов 9'\n",
    "    }\n",
    ")"
   ]
  },
  {
   "cell_type": "code",
   "execution_count": 75,
   "id": "513031b1",
   "metadata": {},
   "outputs": [],
   "source": [
    "data_wire_time_new = data_wire_time_new.rename(\n",
    "    columns = {\n",
    "        'Wire 1' : 'время подачи проволочных материалов 1',\n",
    "        'Wire 2' : 'время подачи проволочных материалов 2',\n",
    "        'Wire 3' : 'время подачи проволочных материалов 3',\n",
    "        'Wire 4' : 'время подачи проволочных материалов 4',\n",
    "        'Wire 5' : 'время подачи проволочных материалов 5',\n",
    "        'Wire 6' : 'время подачи проволочных материалов 6',\n",
    "        'Wire 7' : 'время подачи проволочных материалов 7',\n",
    "        'Wire 8' : 'время подачи проволочных материалов 8',\n",
    "        'Wire 9' : 'время подачи проволочных материалов 9'\n",
    "    }\n",
    ")"
   ]
  },
  {
   "cell_type": "code",
   "execution_count": 76,
   "id": "42c64fee",
   "metadata": {},
   "outputs": [],
   "source": [
    "data_arc_new = snake_casify(data_arc_new)\n",
    "data_bulk_new = snake_casify(data_bulk_new)\n",
    "data_bulk_time_new = snake_casify(data_bulk_time_new)\n",
    "data_gas_new = snake_casify(data_gas_new)\n",
    "data_temp_new = snake_casify(data_temp_new)\n",
    "data_wire_new = snake_casify(data_wire_new)\n",
    "data_wire_time_new = snake_casify(data_wire_time_new)"
   ]
  },
  {
   "cell_type": "markdown",
   "id": "b4e52900",
   "metadata": {},
   "source": [
    "В данных обнаружено много пропусков, избавимся от них.\n",
    "\n",
    "Пропуски во входных признаках будем заполнять нулями, а пропуски в целевом признаке удалим уже после объединения таблиц."
   ]
  },
  {
   "cell_type": "code",
   "execution_count": 77,
   "id": "e61716dd",
   "metadata": {},
   "outputs": [],
   "source": [
    "data_bulk_new = data_bulk_new.fillna(0)\n",
    "data_temp_new = data_temp_new.fillna(0)\n",
    "data_wire_new = data_wire_new.fillna(0)"
   ]
  },
  {
   "cell_type": "code",
   "execution_count": 78,
   "id": "e8270b3d",
   "metadata": {},
   "outputs": [
    {
     "name": "stdout",
     "output_type": "stream",
     "text": [
      "<class 'pandas.core.frame.DataFrame'>\n",
      "RangeIndex: 3129 entries, 0 to 3128\n",
      "Data columns (total 16 columns):\n",
      " #   Column                          Non-Null Count  Dtype  \n",
      "---  ------                          --------------  -----  \n",
      " 0   key                             3129 non-null   int64  \n",
      " 1   объём_подаваемого_материала_1   3129 non-null   float64\n",
      " 2   объём_подаваемого_материала_2   3129 non-null   float64\n",
      " 3   объём_подаваемого_материала_3   3129 non-null   float64\n",
      " 4   объём_подаваемого_материала_4   3129 non-null   float64\n",
      " 5   объём_подаваемого_материала_5   3129 non-null   float64\n",
      " 6   объём_подаваемого_материала_6   3129 non-null   float64\n",
      " 7   объём_подаваемого_материала_7   3129 non-null   float64\n",
      " 8   объём_подаваемого_материала_8   3129 non-null   float64\n",
      " 9   объём_подаваемого_материала_9   3129 non-null   float64\n",
      " 10  объём_подаваемого_материала_10  3129 non-null   float64\n",
      " 11  объём_подаваемого_материала_11  3129 non-null   float64\n",
      " 12  объём_подаваемого_материала_12  3129 non-null   float64\n",
      " 13  объём_подаваемого_материала_13  3129 non-null   float64\n",
      " 14  объём_подаваемого_материала_14  3129 non-null   float64\n",
      " 15  объём_подаваемого_материала_15  3129 non-null   float64\n",
      "dtypes: float64(15), int64(1)\n",
      "memory usage: 391.2 KB\n"
     ]
    },
    {
     "data": {
      "text/html": [
       "<div>\n",
       "<style scoped>\n",
       "    .dataframe tbody tr th:only-of-type {\n",
       "        vertical-align: middle;\n",
       "    }\n",
       "\n",
       "    .dataframe tbody tr th {\n",
       "        vertical-align: top;\n",
       "    }\n",
       "\n",
       "    .dataframe thead th {\n",
       "        text-align: right;\n",
       "    }\n",
       "</style>\n",
       "<table border=\"1\" class=\"dataframe\">\n",
       "  <thead>\n",
       "    <tr style=\"text-align: right;\">\n",
       "      <th></th>\n",
       "      <th>key</th>\n",
       "      <th>объём_подаваемого_материала_1</th>\n",
       "      <th>объём_подаваемого_материала_2</th>\n",
       "      <th>объём_подаваемого_материала_3</th>\n",
       "      <th>объём_подаваемого_материала_4</th>\n",
       "      <th>объём_подаваемого_материала_5</th>\n",
       "      <th>объём_подаваемого_материала_6</th>\n",
       "      <th>объём_подаваемого_материала_7</th>\n",
       "      <th>объём_подаваемого_материала_8</th>\n",
       "      <th>объём_подаваемого_материала_9</th>\n",
       "      <th>объём_подаваемого_материала_10</th>\n",
       "      <th>объём_подаваемого_материала_11</th>\n",
       "      <th>объём_подаваемого_материала_12</th>\n",
       "      <th>объём_подаваемого_материала_13</th>\n",
       "      <th>объём_подаваемого_материала_14</th>\n",
       "      <th>объём_подаваемого_материала_15</th>\n",
       "    </tr>\n",
       "  </thead>\n",
       "  <tbody>\n",
       "    <tr>\n",
       "      <th>0</th>\n",
       "      <td>1</td>\n",
       "      <td>0.0</td>\n",
       "      <td>0.0</td>\n",
       "      <td>0.0</td>\n",
       "      <td>43.0</td>\n",
       "      <td>0.0</td>\n",
       "      <td>0.0</td>\n",
       "      <td>0.0</td>\n",
       "      <td>0.0</td>\n",
       "      <td>0.0</td>\n",
       "      <td>0.0</td>\n",
       "      <td>0.0</td>\n",
       "      <td>206.0</td>\n",
       "      <td>0.0</td>\n",
       "      <td>150.0</td>\n",
       "      <td>154.0</td>\n",
       "    </tr>\n",
       "    <tr>\n",
       "      <th>1</th>\n",
       "      <td>2</td>\n",
       "      <td>0.0</td>\n",
       "      <td>0.0</td>\n",
       "      <td>0.0</td>\n",
       "      <td>73.0</td>\n",
       "      <td>0.0</td>\n",
       "      <td>0.0</td>\n",
       "      <td>0.0</td>\n",
       "      <td>0.0</td>\n",
       "      <td>0.0</td>\n",
       "      <td>0.0</td>\n",
       "      <td>0.0</td>\n",
       "      <td>206.0</td>\n",
       "      <td>0.0</td>\n",
       "      <td>149.0</td>\n",
       "      <td>154.0</td>\n",
       "    </tr>\n",
       "    <tr>\n",
       "      <th>2</th>\n",
       "      <td>3</td>\n",
       "      <td>0.0</td>\n",
       "      <td>0.0</td>\n",
       "      <td>0.0</td>\n",
       "      <td>34.0</td>\n",
       "      <td>0.0</td>\n",
       "      <td>0.0</td>\n",
       "      <td>0.0</td>\n",
       "      <td>0.0</td>\n",
       "      <td>0.0</td>\n",
       "      <td>0.0</td>\n",
       "      <td>0.0</td>\n",
       "      <td>205.0</td>\n",
       "      <td>0.0</td>\n",
       "      <td>152.0</td>\n",
       "      <td>153.0</td>\n",
       "    </tr>\n",
       "    <tr>\n",
       "      <th>3</th>\n",
       "      <td>4</td>\n",
       "      <td>0.0</td>\n",
       "      <td>0.0</td>\n",
       "      <td>0.0</td>\n",
       "      <td>81.0</td>\n",
       "      <td>0.0</td>\n",
       "      <td>0.0</td>\n",
       "      <td>0.0</td>\n",
       "      <td>0.0</td>\n",
       "      <td>0.0</td>\n",
       "      <td>0.0</td>\n",
       "      <td>0.0</td>\n",
       "      <td>207.0</td>\n",
       "      <td>0.0</td>\n",
       "      <td>153.0</td>\n",
       "      <td>154.0</td>\n",
       "    </tr>\n",
       "    <tr>\n",
       "      <th>4</th>\n",
       "      <td>5</td>\n",
       "      <td>0.0</td>\n",
       "      <td>0.0</td>\n",
       "      <td>0.0</td>\n",
       "      <td>78.0</td>\n",
       "      <td>0.0</td>\n",
       "      <td>0.0</td>\n",
       "      <td>0.0</td>\n",
       "      <td>0.0</td>\n",
       "      <td>0.0</td>\n",
       "      <td>0.0</td>\n",
       "      <td>0.0</td>\n",
       "      <td>203.0</td>\n",
       "      <td>0.0</td>\n",
       "      <td>151.0</td>\n",
       "      <td>152.0</td>\n",
       "    </tr>\n",
       "  </tbody>\n",
       "</table>\n",
       "</div>"
      ],
      "text/plain": [
       "   key  объём_подаваемого_материала_1  объём_подаваемого_материала_2  \\\n",
       "0    1                            0.0                            0.0   \n",
       "1    2                            0.0                            0.0   \n",
       "2    3                            0.0                            0.0   \n",
       "3    4                            0.0                            0.0   \n",
       "4    5                            0.0                            0.0   \n",
       "\n",
       "   объём_подаваемого_материала_3  объём_подаваемого_материала_4  \\\n",
       "0                            0.0                           43.0   \n",
       "1                            0.0                           73.0   \n",
       "2                            0.0                           34.0   \n",
       "3                            0.0                           81.0   \n",
       "4                            0.0                           78.0   \n",
       "\n",
       "   объём_подаваемого_материала_5  объём_подаваемого_материала_6  \\\n",
       "0                            0.0                            0.0   \n",
       "1                            0.0                            0.0   \n",
       "2                            0.0                            0.0   \n",
       "3                            0.0                            0.0   \n",
       "4                            0.0                            0.0   \n",
       "\n",
       "   объём_подаваемого_материала_7  объём_подаваемого_материала_8  \\\n",
       "0                            0.0                            0.0   \n",
       "1                            0.0                            0.0   \n",
       "2                            0.0                            0.0   \n",
       "3                            0.0                            0.0   \n",
       "4                            0.0                            0.0   \n",
       "\n",
       "   объём_подаваемого_материала_9  объём_подаваемого_материала_10  \\\n",
       "0                            0.0                             0.0   \n",
       "1                            0.0                             0.0   \n",
       "2                            0.0                             0.0   \n",
       "3                            0.0                             0.0   \n",
       "4                            0.0                             0.0   \n",
       "\n",
       "   объём_подаваемого_материала_11  объём_подаваемого_материала_12  \\\n",
       "0                             0.0                           206.0   \n",
       "1                             0.0                           206.0   \n",
       "2                             0.0                           205.0   \n",
       "3                             0.0                           207.0   \n",
       "4                             0.0                           203.0   \n",
       "\n",
       "   объём_подаваемого_материала_13  объём_подаваемого_материала_14  \\\n",
       "0                             0.0                           150.0   \n",
       "1                             0.0                           149.0   \n",
       "2                             0.0                           152.0   \n",
       "3                             0.0                           153.0   \n",
       "4                             0.0                           151.0   \n",
       "\n",
       "   объём_подаваемого_материала_15  \n",
       "0                           154.0  \n",
       "1                           154.0  \n",
       "2                           153.0  \n",
       "3                           154.0  \n",
       "4                           152.0  "
      ]
     },
     "execution_count": 78,
     "metadata": {},
     "output_type": "execute_result"
    }
   ],
   "source": [
    "data_bulk_new.info()\n",
    "data_bulk_new.head()"
   ]
  },
  {
   "cell_type": "code",
   "execution_count": 79,
   "id": "ee2e0be6",
   "metadata": {},
   "outputs": [
    {
     "name": "stdout",
     "output_type": "stream",
     "text": [
      "<class 'pandas.core.frame.DataFrame'>\n",
      "RangeIndex: 3129 entries, 0 to 3128\n",
      "Data columns (total 16 columns):\n",
      " #   Column                     Non-Null Count  Dtype         \n",
      "---  ------                     --------------  -----         \n",
      " 0   key                        3129 non-null   int64         \n",
      " 1   время_подачи_материала_1   252 non-null    datetime64[ns]\n",
      " 2   время_подачи_материала_2   22 non-null     datetime64[ns]\n",
      " 3   время_подачи_материала_3   1298 non-null   datetime64[ns]\n",
      " 4   время_подачи_материала_4   1014 non-null   datetime64[ns]\n",
      " 5   время_подачи_материала_5   77 non-null     datetime64[ns]\n",
      " 6   время_подачи_материала_6   576 non-null    datetime64[ns]\n",
      " 7   время_подачи_материала_7   25 non-null     datetime64[ns]\n",
      " 8   время_подачи_материала_8   1 non-null      datetime64[ns]\n",
      " 9   время_подачи_материала_9   19 non-null     datetime64[ns]\n",
      " 10  время_подачи_материала_10  176 non-null    datetime64[ns]\n",
      " 11  время_подачи_материала_11  177 non-null    datetime64[ns]\n",
      " 12  время_подачи_материала_12  2450 non-null   datetime64[ns]\n",
      " 13  время_подачи_материала_13  18 non-null     datetime64[ns]\n",
      " 14  время_подачи_материала_14  2806 non-null   datetime64[ns]\n",
      " 15  время_подачи_материала_15  2248 non-null   datetime64[ns]\n",
      "dtypes: datetime64[ns](15), int64(1)\n",
      "memory usage: 391.2 KB\n"
     ]
    },
    {
     "data": {
      "text/html": [
       "<div>\n",
       "<style scoped>\n",
       "    .dataframe tbody tr th:only-of-type {\n",
       "        vertical-align: middle;\n",
       "    }\n",
       "\n",
       "    .dataframe tbody tr th {\n",
       "        vertical-align: top;\n",
       "    }\n",
       "\n",
       "    .dataframe thead th {\n",
       "        text-align: right;\n",
       "    }\n",
       "</style>\n",
       "<table border=\"1\" class=\"dataframe\">\n",
       "  <thead>\n",
       "    <tr style=\"text-align: right;\">\n",
       "      <th></th>\n",
       "      <th>key</th>\n",
       "      <th>время_подачи_материала_1</th>\n",
       "      <th>время_подачи_материала_2</th>\n",
       "      <th>время_подачи_материала_3</th>\n",
       "      <th>время_подачи_материала_4</th>\n",
       "      <th>время_подачи_материала_5</th>\n",
       "      <th>время_подачи_материала_6</th>\n",
       "      <th>время_подачи_материала_7</th>\n",
       "      <th>время_подачи_материала_8</th>\n",
       "      <th>время_подачи_материала_9</th>\n",
       "      <th>время_подачи_материала_10</th>\n",
       "      <th>время_подачи_материала_11</th>\n",
       "      <th>время_подачи_материала_12</th>\n",
       "      <th>время_подачи_материала_13</th>\n",
       "      <th>время_подачи_материала_14</th>\n",
       "      <th>время_подачи_материала_15</th>\n",
       "    </tr>\n",
       "  </thead>\n",
       "  <tbody>\n",
       "    <tr>\n",
       "      <th>0</th>\n",
       "      <td>1</td>\n",
       "      <td>NaT</td>\n",
       "      <td>NaT</td>\n",
       "      <td>NaT</td>\n",
       "      <td>2019-05-03 11:28:48</td>\n",
       "      <td>NaT</td>\n",
       "      <td>NaT</td>\n",
       "      <td>NaT</td>\n",
       "      <td>NaT</td>\n",
       "      <td>NaT</td>\n",
       "      <td>NaT</td>\n",
       "      <td>NaT</td>\n",
       "      <td>2019-05-03 11:24:31</td>\n",
       "      <td>NaT</td>\n",
       "      <td>2019-05-03 11:14:50</td>\n",
       "      <td>2019-05-03 11:10:43</td>\n",
       "    </tr>\n",
       "    <tr>\n",
       "      <th>1</th>\n",
       "      <td>2</td>\n",
       "      <td>NaT</td>\n",
       "      <td>NaT</td>\n",
       "      <td>NaT</td>\n",
       "      <td>2019-05-03 11:36:50</td>\n",
       "      <td>NaT</td>\n",
       "      <td>NaT</td>\n",
       "      <td>NaT</td>\n",
       "      <td>NaT</td>\n",
       "      <td>NaT</td>\n",
       "      <td>NaT</td>\n",
       "      <td>NaT</td>\n",
       "      <td>2019-05-03 11:53:30</td>\n",
       "      <td>NaT</td>\n",
       "      <td>2019-05-03 11:48:37</td>\n",
       "      <td>2019-05-03 11:44:39</td>\n",
       "    </tr>\n",
       "    <tr>\n",
       "      <th>2</th>\n",
       "      <td>3</td>\n",
       "      <td>NaT</td>\n",
       "      <td>NaT</td>\n",
       "      <td>NaT</td>\n",
       "      <td>2019-05-03 12:32:39</td>\n",
       "      <td>NaT</td>\n",
       "      <td>NaT</td>\n",
       "      <td>NaT</td>\n",
       "      <td>NaT</td>\n",
       "      <td>NaT</td>\n",
       "      <td>NaT</td>\n",
       "      <td>NaT</td>\n",
       "      <td>2019-05-03 12:27:13</td>\n",
       "      <td>NaT</td>\n",
       "      <td>2019-05-03 12:21:01</td>\n",
       "      <td>2019-05-03 12:16:16</td>\n",
       "    </tr>\n",
       "    <tr>\n",
       "      <th>3</th>\n",
       "      <td>4</td>\n",
       "      <td>NaT</td>\n",
       "      <td>NaT</td>\n",
       "      <td>NaT</td>\n",
       "      <td>2019-05-03 12:43:22</td>\n",
       "      <td>NaT</td>\n",
       "      <td>NaT</td>\n",
       "      <td>NaT</td>\n",
       "      <td>NaT</td>\n",
       "      <td>NaT</td>\n",
       "      <td>NaT</td>\n",
       "      <td>NaT</td>\n",
       "      <td>2019-05-03 12:58:00</td>\n",
       "      <td>NaT</td>\n",
       "      <td>2019-05-03 12:51:11</td>\n",
       "      <td>2019-05-03 12:46:36</td>\n",
       "    </tr>\n",
       "    <tr>\n",
       "      <th>4</th>\n",
       "      <td>5</td>\n",
       "      <td>NaT</td>\n",
       "      <td>NaT</td>\n",
       "      <td>NaT</td>\n",
       "      <td>2019-05-03 13:30:47</td>\n",
       "      <td>NaT</td>\n",
       "      <td>NaT</td>\n",
       "      <td>NaT</td>\n",
       "      <td>NaT</td>\n",
       "      <td>NaT</td>\n",
       "      <td>NaT</td>\n",
       "      <td>NaT</td>\n",
       "      <td>2019-05-03 13:30:47</td>\n",
       "      <td>NaT</td>\n",
       "      <td>2019-05-03 13:34:12</td>\n",
       "      <td>2019-05-03 13:30:47</td>\n",
       "    </tr>\n",
       "  </tbody>\n",
       "</table>\n",
       "</div>"
      ],
      "text/plain": [
       "   key время_подачи_материала_1 время_подачи_материала_2  \\\n",
       "0    1                      NaT                      NaT   \n",
       "1    2                      NaT                      NaT   \n",
       "2    3                      NaT                      NaT   \n",
       "3    4                      NaT                      NaT   \n",
       "4    5                      NaT                      NaT   \n",
       "\n",
       "  время_подачи_материала_3 время_подачи_материала_4 время_подачи_материала_5  \\\n",
       "0                      NaT      2019-05-03 11:28:48                      NaT   \n",
       "1                      NaT      2019-05-03 11:36:50                      NaT   \n",
       "2                      NaT      2019-05-03 12:32:39                      NaT   \n",
       "3                      NaT      2019-05-03 12:43:22                      NaT   \n",
       "4                      NaT      2019-05-03 13:30:47                      NaT   \n",
       "\n",
       "  время_подачи_материала_6 время_подачи_материала_7 время_подачи_материала_8  \\\n",
       "0                      NaT                      NaT                      NaT   \n",
       "1                      NaT                      NaT                      NaT   \n",
       "2                      NaT                      NaT                      NaT   \n",
       "3                      NaT                      NaT                      NaT   \n",
       "4                      NaT                      NaT                      NaT   \n",
       "\n",
       "  время_подачи_материала_9 время_подачи_материала_10  \\\n",
       "0                      NaT                       NaT   \n",
       "1                      NaT                       NaT   \n",
       "2                      NaT                       NaT   \n",
       "3                      NaT                       NaT   \n",
       "4                      NaT                       NaT   \n",
       "\n",
       "  время_подачи_материала_11 время_подачи_материала_12  \\\n",
       "0                       NaT       2019-05-03 11:24:31   \n",
       "1                       NaT       2019-05-03 11:53:30   \n",
       "2                       NaT       2019-05-03 12:27:13   \n",
       "3                       NaT       2019-05-03 12:58:00   \n",
       "4                       NaT       2019-05-03 13:30:47   \n",
       "\n",
       "  время_подачи_материала_13 время_подачи_материала_14  \\\n",
       "0                       NaT       2019-05-03 11:14:50   \n",
       "1                       NaT       2019-05-03 11:48:37   \n",
       "2                       NaT       2019-05-03 12:21:01   \n",
       "3                       NaT       2019-05-03 12:51:11   \n",
       "4                       NaT       2019-05-03 13:34:12   \n",
       "\n",
       "  время_подачи_материала_15  \n",
       "0       2019-05-03 11:10:43  \n",
       "1       2019-05-03 11:44:39  \n",
       "2       2019-05-03 12:16:16  \n",
       "3       2019-05-03 12:46:36  \n",
       "4       2019-05-03 13:30:47  "
      ]
     },
     "execution_count": 79,
     "metadata": {},
     "output_type": "execute_result"
    }
   ],
   "source": [
    "data_bulk_time_new.info()\n",
    "data_bulk_time_new.head()"
   ]
  },
  {
   "cell_type": "code",
   "execution_count": 80,
   "id": "76d9454f",
   "metadata": {},
   "outputs": [
    {
     "name": "stdout",
     "output_type": "stream",
     "text": [
      "<class 'pandas.core.frame.DataFrame'>\n",
      "RangeIndex: 3081 entries, 0 to 3080\n",
      "Data columns (total 10 columns):\n",
      " #   Column                                     Non-Null Count  Dtype  \n",
      "---  ------                                     --------------  -----  \n",
      " 0   key                                        3081 non-null   int64  \n",
      " 1   объём_подаваемых_проволочных_материалов_1  3081 non-null   float64\n",
      " 2   объём_подаваемых_проволочных_материалов_2  3081 non-null   float64\n",
      " 3   объём_подаваемых_проволочных_материалов_3  3081 non-null   float64\n",
      " 4   объём_подаваемых_проволочных_материалов_4  3081 non-null   float64\n",
      " 5   объём_подаваемых_проволочных_материалов_5  3081 non-null   float64\n",
      " 6   объём_подаваемых_проволочных_материалов_6  3081 non-null   float64\n",
      " 7   объём_подаваемых_проволочных_материалов_7  3081 non-null   float64\n",
      " 8   объём_подаваемых_проволочных_материалов_8  3081 non-null   float64\n",
      " 9   объём_подаваемых_проволочных_материалов_9  3081 non-null   float64\n",
      "dtypes: float64(9), int64(1)\n",
      "memory usage: 240.8 KB\n"
     ]
    },
    {
     "data": {
      "text/html": [
       "<div>\n",
       "<style scoped>\n",
       "    .dataframe tbody tr th:only-of-type {\n",
       "        vertical-align: middle;\n",
       "    }\n",
       "\n",
       "    .dataframe tbody tr th {\n",
       "        vertical-align: top;\n",
       "    }\n",
       "\n",
       "    .dataframe thead th {\n",
       "        text-align: right;\n",
       "    }\n",
       "</style>\n",
       "<table border=\"1\" class=\"dataframe\">\n",
       "  <thead>\n",
       "    <tr style=\"text-align: right;\">\n",
       "      <th></th>\n",
       "      <th>key</th>\n",
       "      <th>объём_подаваемых_проволочных_материалов_1</th>\n",
       "      <th>объём_подаваемых_проволочных_материалов_2</th>\n",
       "      <th>объём_подаваемых_проволочных_материалов_3</th>\n",
       "      <th>объём_подаваемых_проволочных_материалов_4</th>\n",
       "      <th>объём_подаваемых_проволочных_материалов_5</th>\n",
       "      <th>объём_подаваемых_проволочных_материалов_6</th>\n",
       "      <th>объём_подаваемых_проволочных_материалов_7</th>\n",
       "      <th>объём_подаваемых_проволочных_материалов_8</th>\n",
       "      <th>объём_подаваемых_проволочных_материалов_9</th>\n",
       "    </tr>\n",
       "  </thead>\n",
       "  <tbody>\n",
       "    <tr>\n",
       "      <th>0</th>\n",
       "      <td>1</td>\n",
       "      <td>60.059998</td>\n",
       "      <td>0.00000</td>\n",
       "      <td>0.0</td>\n",
       "      <td>0.0</td>\n",
       "      <td>0.0</td>\n",
       "      <td>0.0</td>\n",
       "      <td>0.0</td>\n",
       "      <td>0.0</td>\n",
       "      <td>0.0</td>\n",
       "    </tr>\n",
       "    <tr>\n",
       "      <th>1</th>\n",
       "      <td>2</td>\n",
       "      <td>96.052315</td>\n",
       "      <td>0.00000</td>\n",
       "      <td>0.0</td>\n",
       "      <td>0.0</td>\n",
       "      <td>0.0</td>\n",
       "      <td>0.0</td>\n",
       "      <td>0.0</td>\n",
       "      <td>0.0</td>\n",
       "      <td>0.0</td>\n",
       "    </tr>\n",
       "    <tr>\n",
       "      <th>2</th>\n",
       "      <td>3</td>\n",
       "      <td>91.160157</td>\n",
       "      <td>0.00000</td>\n",
       "      <td>0.0</td>\n",
       "      <td>0.0</td>\n",
       "      <td>0.0</td>\n",
       "      <td>0.0</td>\n",
       "      <td>0.0</td>\n",
       "      <td>0.0</td>\n",
       "      <td>0.0</td>\n",
       "    </tr>\n",
       "    <tr>\n",
       "      <th>3</th>\n",
       "      <td>4</td>\n",
       "      <td>89.063515</td>\n",
       "      <td>0.00000</td>\n",
       "      <td>0.0</td>\n",
       "      <td>0.0</td>\n",
       "      <td>0.0</td>\n",
       "      <td>0.0</td>\n",
       "      <td>0.0</td>\n",
       "      <td>0.0</td>\n",
       "      <td>0.0</td>\n",
       "    </tr>\n",
       "    <tr>\n",
       "      <th>4</th>\n",
       "      <td>5</td>\n",
       "      <td>89.238236</td>\n",
       "      <td>9.11456</td>\n",
       "      <td>0.0</td>\n",
       "      <td>0.0</td>\n",
       "      <td>0.0</td>\n",
       "      <td>0.0</td>\n",
       "      <td>0.0</td>\n",
       "      <td>0.0</td>\n",
       "      <td>0.0</td>\n",
       "    </tr>\n",
       "  </tbody>\n",
       "</table>\n",
       "</div>"
      ],
      "text/plain": [
       "   key  объём_подаваемых_проволочных_материалов_1  \\\n",
       "0    1                                  60.059998   \n",
       "1    2                                  96.052315   \n",
       "2    3                                  91.160157   \n",
       "3    4                                  89.063515   \n",
       "4    5                                  89.238236   \n",
       "\n",
       "   объём_подаваемых_проволочных_материалов_2  \\\n",
       "0                                    0.00000   \n",
       "1                                    0.00000   \n",
       "2                                    0.00000   \n",
       "3                                    0.00000   \n",
       "4                                    9.11456   \n",
       "\n",
       "   объём_подаваемых_проволочных_материалов_3  \\\n",
       "0                                        0.0   \n",
       "1                                        0.0   \n",
       "2                                        0.0   \n",
       "3                                        0.0   \n",
       "4                                        0.0   \n",
       "\n",
       "   объём_подаваемых_проволочных_материалов_4  \\\n",
       "0                                        0.0   \n",
       "1                                        0.0   \n",
       "2                                        0.0   \n",
       "3                                        0.0   \n",
       "4                                        0.0   \n",
       "\n",
       "   объём_подаваемых_проволочных_материалов_5  \\\n",
       "0                                        0.0   \n",
       "1                                        0.0   \n",
       "2                                        0.0   \n",
       "3                                        0.0   \n",
       "4                                        0.0   \n",
       "\n",
       "   объём_подаваемых_проволочных_материалов_6  \\\n",
       "0                                        0.0   \n",
       "1                                        0.0   \n",
       "2                                        0.0   \n",
       "3                                        0.0   \n",
       "4                                        0.0   \n",
       "\n",
       "   объём_подаваемых_проволочных_материалов_7  \\\n",
       "0                                        0.0   \n",
       "1                                        0.0   \n",
       "2                                        0.0   \n",
       "3                                        0.0   \n",
       "4                                        0.0   \n",
       "\n",
       "   объём_подаваемых_проволочных_материалов_8  \\\n",
       "0                                        0.0   \n",
       "1                                        0.0   \n",
       "2                                        0.0   \n",
       "3                                        0.0   \n",
       "4                                        0.0   \n",
       "\n",
       "   объём_подаваемых_проволочных_материалов_9  \n",
       "0                                        0.0  \n",
       "1                                        0.0  \n",
       "2                                        0.0  \n",
       "3                                        0.0  \n",
       "4                                        0.0  "
      ]
     },
     "execution_count": 80,
     "metadata": {},
     "output_type": "execute_result"
    }
   ],
   "source": [
    "data_wire_new.info()\n",
    "data_wire_new.head()"
   ]
  },
  {
   "cell_type": "code",
   "execution_count": 81,
   "id": "3bf55d12",
   "metadata": {},
   "outputs": [
    {
     "name": "stdout",
     "output_type": "stream",
     "text": [
      "<class 'pandas.core.frame.DataFrame'>\n",
      "RangeIndex: 3081 entries, 0 to 3080\n",
      "Data columns (total 10 columns):\n",
      " #   Column                                 Non-Null Count  Dtype         \n",
      "---  ------                                 --------------  -----         \n",
      " 0   key                                    3081 non-null   int64         \n",
      " 1   время_подачи_проволочных_материалов_1  3055 non-null   datetime64[ns]\n",
      " 2   время_подачи_проволочных_материалов_2  1079 non-null   datetime64[ns]\n",
      " 3   время_подачи_проволочных_материалов_3  63 non-null     datetime64[ns]\n",
      " 4   время_подачи_проволочных_материалов_4  14 non-null     datetime64[ns]\n",
      " 5   время_подачи_проволочных_материалов_5  1 non-null      datetime64[ns]\n",
      " 6   время_подачи_проволочных_материалов_6  73 non-null     datetime64[ns]\n",
      " 7   время_подачи_проволочных_материалов_7  11 non-null     datetime64[ns]\n",
      " 8   время_подачи_проволочных_материалов_8  19 non-null     datetime64[ns]\n",
      " 9   время_подачи_проволочных_материалов_9  29 non-null     datetime64[ns]\n",
      "dtypes: datetime64[ns](9), int64(1)\n",
      "memory usage: 240.8 KB\n"
     ]
    },
    {
     "data": {
      "text/html": [
       "<div>\n",
       "<style scoped>\n",
       "    .dataframe tbody tr th:only-of-type {\n",
       "        vertical-align: middle;\n",
       "    }\n",
       "\n",
       "    .dataframe tbody tr th {\n",
       "        vertical-align: top;\n",
       "    }\n",
       "\n",
       "    .dataframe thead th {\n",
       "        text-align: right;\n",
       "    }\n",
       "</style>\n",
       "<table border=\"1\" class=\"dataframe\">\n",
       "  <thead>\n",
       "    <tr style=\"text-align: right;\">\n",
       "      <th></th>\n",
       "      <th>key</th>\n",
       "      <th>время_подачи_проволочных_материалов_1</th>\n",
       "      <th>время_подачи_проволочных_материалов_2</th>\n",
       "      <th>время_подачи_проволочных_материалов_3</th>\n",
       "      <th>время_подачи_проволочных_материалов_4</th>\n",
       "      <th>время_подачи_проволочных_материалов_5</th>\n",
       "      <th>время_подачи_проволочных_материалов_6</th>\n",
       "      <th>время_подачи_проволочных_материалов_7</th>\n",
       "      <th>время_подачи_проволочных_материалов_8</th>\n",
       "      <th>время_подачи_проволочных_материалов_9</th>\n",
       "    </tr>\n",
       "  </thead>\n",
       "  <tbody>\n",
       "    <tr>\n",
       "      <th>0</th>\n",
       "      <td>1</td>\n",
       "      <td>2019-05-03 11:06:19</td>\n",
       "      <td>NaT</td>\n",
       "      <td>NaT</td>\n",
       "      <td>NaT</td>\n",
       "      <td>NaT</td>\n",
       "      <td>NaT</td>\n",
       "      <td>NaT</td>\n",
       "      <td>NaT</td>\n",
       "      <td>NaT</td>\n",
       "    </tr>\n",
       "    <tr>\n",
       "      <th>1</th>\n",
       "      <td>2</td>\n",
       "      <td>2019-05-03 11:36:50</td>\n",
       "      <td>NaT</td>\n",
       "      <td>NaT</td>\n",
       "      <td>NaT</td>\n",
       "      <td>NaT</td>\n",
       "      <td>NaT</td>\n",
       "      <td>NaT</td>\n",
       "      <td>NaT</td>\n",
       "      <td>NaT</td>\n",
       "    </tr>\n",
       "    <tr>\n",
       "      <th>2</th>\n",
       "      <td>3</td>\n",
       "      <td>2019-05-03 12:11:46</td>\n",
       "      <td>NaT</td>\n",
       "      <td>NaT</td>\n",
       "      <td>NaT</td>\n",
       "      <td>NaT</td>\n",
       "      <td>NaT</td>\n",
       "      <td>NaT</td>\n",
       "      <td>NaT</td>\n",
       "      <td>NaT</td>\n",
       "    </tr>\n",
       "    <tr>\n",
       "      <th>3</th>\n",
       "      <td>4</td>\n",
       "      <td>2019-05-03 12:43:22</td>\n",
       "      <td>NaT</td>\n",
       "      <td>NaT</td>\n",
       "      <td>NaT</td>\n",
       "      <td>NaT</td>\n",
       "      <td>NaT</td>\n",
       "      <td>NaT</td>\n",
       "      <td>NaT</td>\n",
       "      <td>NaT</td>\n",
       "    </tr>\n",
       "    <tr>\n",
       "      <th>4</th>\n",
       "      <td>5</td>\n",
       "      <td>2019-05-03 13:20:44</td>\n",
       "      <td>2019-05-03 13:15:34</td>\n",
       "      <td>NaT</td>\n",
       "      <td>NaT</td>\n",
       "      <td>NaT</td>\n",
       "      <td>NaT</td>\n",
       "      <td>NaT</td>\n",
       "      <td>NaT</td>\n",
       "      <td>NaT</td>\n",
       "    </tr>\n",
       "  </tbody>\n",
       "</table>\n",
       "</div>"
      ],
      "text/plain": [
       "   key время_подачи_проволочных_материалов_1  \\\n",
       "0    1                   2019-05-03 11:06:19   \n",
       "1    2                   2019-05-03 11:36:50   \n",
       "2    3                   2019-05-03 12:11:46   \n",
       "3    4                   2019-05-03 12:43:22   \n",
       "4    5                   2019-05-03 13:20:44   \n",
       "\n",
       "  время_подачи_проволочных_материалов_2 время_подачи_проволочных_материалов_3  \\\n",
       "0                                   NaT                                   NaT   \n",
       "1                                   NaT                                   NaT   \n",
       "2                                   NaT                                   NaT   \n",
       "3                                   NaT                                   NaT   \n",
       "4                   2019-05-03 13:15:34                                   NaT   \n",
       "\n",
       "  время_подачи_проволочных_материалов_4 время_подачи_проволочных_материалов_5  \\\n",
       "0                                   NaT                                   NaT   \n",
       "1                                   NaT                                   NaT   \n",
       "2                                   NaT                                   NaT   \n",
       "3                                   NaT                                   NaT   \n",
       "4                                   NaT                                   NaT   \n",
       "\n",
       "  время_подачи_проволочных_материалов_6 время_подачи_проволочных_материалов_7  \\\n",
       "0                                   NaT                                   NaT   \n",
       "1                                   NaT                                   NaT   \n",
       "2                                   NaT                                   NaT   \n",
       "3                                   NaT                                   NaT   \n",
       "4                                   NaT                                   NaT   \n",
       "\n",
       "  время_подачи_проволочных_материалов_8 время_подачи_проволочных_материалов_9  \n",
       "0                                   NaT                                   NaT  \n",
       "1                                   NaT                                   NaT  \n",
       "2                                   NaT                                   NaT  \n",
       "3                                   NaT                                   NaT  \n",
       "4                                   NaT                                   NaT  "
      ]
     },
     "execution_count": 81,
     "metadata": {},
     "output_type": "execute_result"
    }
   ],
   "source": [
    "data_wire_time_new.info()\n",
    "data_wire_time_new.head()"
   ]
  },
  {
   "cell_type": "markdown",
   "id": "b92479c9",
   "metadata": {},
   "source": [
    "Изучим признаки."
   ]
  },
  {
   "cell_type": "code",
   "execution_count": 82,
   "id": "e831c050",
   "metadata": {},
   "outputs": [
    {
     "data": {
      "image/png": "[encoded data removed]",
      "text/plain": [
       "<Figure size 576x360 with 1 Axes>"
      ]
     },
     "metadata": {
      "needs_background": "light"
     },
     "output_type": "display_data"
    }
   ],
   "source": [
    "analysis_chart = plot_hist(data = data_arc_new['активная_мощность'],\n",
    "                           bins = 20,\n",
    "                           title = 'Распределение партий по значению активной мощности')\n",
    "\n",
    "analysis_chart.set_xlabel(\"Активная мощность\");"
   ]
  },
  {
   "cell_type": "code",
   "execution_count": 83,
   "id": "17dc88ab",
   "metadata": {},
   "outputs": [
    {
     "data": {
      "image/png": "[encoded data removed]",
      "text/plain": [
       "<Figure size 576x360 with 1 Axes>"
      ]
     },
     "metadata": {
      "needs_background": "light"
     },
     "output_type": "display_data"
    }
   ],
   "source": [
    "analysis_chart = plot_hist(data = data_arc_new['реактивная_мощность'],\n",
    "                           bins = 20,\n",
    "                           title = 'Распределение партий по значению реактивной мощности')\n",
    "\n",
    "analysis_chart.set_xlabel(\"Реактивная мощность\");"
   ]
  },
  {
   "cell_type": "markdown",
   "id": "093880fd",
   "metadata": {},
   "source": [
    "На графике сразу видна аномалия, избавимся от неё."
   ]
  },
  {
   "cell_type": "code",
   "execution_count": 84,
   "id": "375ae338",
   "metadata": {},
   "outputs": [
    {
     "data": {
      "text/html": [
       "<div>\n",
       "<style scoped>\n",
       "    .dataframe tbody tr th:only-of-type {\n",
       "        vertical-align: middle;\n",
       "    }\n",
       "\n",
       "    .dataframe tbody tr th {\n",
       "        vertical-align: top;\n",
       "    }\n",
       "\n",
       "    .dataframe thead th {\n",
       "        text-align: right;\n",
       "    }\n",
       "</style>\n",
       "<table border=\"1\" class=\"dataframe\">\n",
       "  <thead>\n",
       "    <tr style=\"text-align: right;\">\n",
       "      <th></th>\n",
       "      <th>key</th>\n",
       "      <th>начало_нагрева_дугой</th>\n",
       "      <th>конец_нагрева_дугой</th>\n",
       "      <th>активная_мощность</th>\n",
       "      <th>реактивная_мощность</th>\n",
       "    </tr>\n",
       "  </thead>\n",
       "  <tbody>\n",
       "    <tr>\n",
       "      <th>9780</th>\n",
       "      <td>2116</td>\n",
       "      <td>2019-07-28 02:22:08</td>\n",
       "      <td>2019-07-28 02:23:57</td>\n",
       "      <td>0.705344</td>\n",
       "      <td>-715.479924</td>\n",
       "    </tr>\n",
       "  </tbody>\n",
       "</table>\n",
       "</div>"
      ],
      "text/plain": [
       "       key начало_нагрева_дугой конец_нагрева_дугой  активная_мощность  \\\n",
       "9780  2116  2019-07-28 02:22:08 2019-07-28 02:23:57           0.705344   \n",
       "\n",
       "      реактивная_мощность  \n",
       "9780          -715.479924  "
      ]
     },
     "execution_count": 84,
     "metadata": {},
     "output_type": "execute_result"
    }
   ],
   "source": [
    "data_arc_new[data_arc_new['реактивная_мощность'] < 0]"
   ]
  },
  {
   "cell_type": "markdown",
   "id": "d756424c",
   "metadata": {},
   "source": [
    "Заменим отрицательное значение вторым минимумом столбца."
   ]
  },
  {
   "cell_type": "code",
   "execution_count": 85,
   "id": "2a7b4bb9",
   "metadata": {},
   "outputs": [
    {
     "data": {
      "text/plain": [
       "9780   -715.479924\n",
       "709       0.153777\n",
       "Name: реактивная_мощность, dtype: float64"
      ]
     },
     "execution_count": 85,
     "metadata": {},
     "output_type": "execute_result"
    }
   ],
   "source": [
    "data_arc_new['реактивная_мощность'].nsmallest(2)"
   ]
  },
  {
   "cell_type": "code",
   "execution_count": 86,
   "id": "4fc9abeb",
   "metadata": {},
   "outputs": [],
   "source": [
    "def remove_negative(data):\n",
    "    if data < 0:\n",
    "        return 0.153777\n",
    "    return data"
   ]
  },
  {
   "cell_type": "code",
   "execution_count": 87,
   "id": "2043af2e",
   "metadata": {},
   "outputs": [
    {
     "data": {
      "text/plain": [
       "count    14876.000000\n",
       "mean         0.487093\n",
       "std          0.197625\n",
       "min          0.153777\n",
       "25%          0.337175\n",
       "50%          0.441639\n",
       "75%          0.608201\n",
       "max          1.270284\n",
       "Name: реактивная_мощность, dtype: float64"
      ]
     },
     "execution_count": 87,
     "metadata": {},
     "output_type": "execute_result"
    }
   ],
   "source": [
    "data_arc_new['реактивная_мощность'] = data_arc_new['реактивная_мощность'].apply(remove_negative)\n",
    "data_arc_new['реактивная_мощность'].describe()"
   ]
  },
  {
   "cell_type": "code",
   "execution_count": 88,
   "id": "930ace69",
   "metadata": {},
   "outputs": [
    {
     "data": {
      "image/png": "[encoded data removed]",
      "text/plain": [
       "<Figure size 576x360 with 1 Axes>"
      ]
     },
     "metadata": {
      "needs_background": "light"
     },
     "output_type": "display_data"
    }
   ],
   "source": [
    "analysis_chart = plot_hist(data = data_arc_new['реактивная_мощность'],\n",
    "                           bins = 20,\n",
    "                           title = 'Распределение партий по значению реактивной мощности')\n",
    "\n",
    "analysis_chart.set_xlabel(\"Реактивная мощность\");"
   ]
  },
  {
   "cell_type": "markdown",
   "id": "3d81c2b7",
   "metadata": {},
   "source": [
    "Добавим в данные новый признак, который объединит активную и реактивную мощность в один значимый признак - общую затрачиваемую мощность по следующей формуле:\n",
    "\n",
    "$$S = \\sqrt{P^2 + Q^2},$$\n",
    "\n",
    "где S - общая мощность, P - активная мощность, а Q - реактивная мощность."
   ]
  },
  {
   "cell_type": "code",
   "execution_count": 89,
   "id": "76ad5ca8",
   "metadata": {},
   "outputs": [],
   "source": [
    "data_arc_new['полная_мощность'] = (data_arc_new['активная_мощность']**2 + data_arc_new['реактивная_мощность']**2)**(0.5)"
   ]
  },
  {
   "cell_type": "markdown",
   "id": "6c10e8df",
   "metadata": {},
   "source": [
    "Также добавим признак, с временем нагрева, которое получим, вычтя из времени окончания нагрева время начала нагрева."
   ]
  },
  {
   "cell_type": "code",
   "execution_count": 90,
   "id": "c8072b6d",
   "metadata": {},
   "outputs": [],
   "source": [
    "data_arc_new['время_нагрева'] = (data_arc_new['конец_нагрева_дугой'] - data_arc_new['начало_нагрева_дугой']).astype('timedelta64[s]').astype(int)"
   ]
  },
  {
   "cell_type": "markdown",
   "id": "2e84660c",
   "metadata": {},
   "source": [
    "Добавим и итоговые затраты электроэнергии, помножив полную мощность на время нагрева."
   ]
  },
  {
   "cell_type": "code",
   "execution_count": 91,
   "id": "1d99534e",
   "metadata": {},
   "outputs": [],
   "source": [
    "data_arc_new['затраты_электроэнергии'] = data_arc_new['полная_мощность'] * data_arc_new['время_нагрева']"
   ]
  },
  {
   "cell_type": "markdown",
   "id": "5eff5441",
   "metadata": {},
   "source": [
    "Теперь, будем для каждой партии считать среднее значение мощности. Также посчитаем суммарную электроэнергию."
   ]
  },
  {
   "cell_type": "code",
   "execution_count": 92,
   "id": "452ff986",
   "metadata": {},
   "outputs": [],
   "source": [
    "data_arc_new_columns = {\n",
    "    'key'                    : 'count', \n",
    "    'начало_нагрева_дугой'   : 'min',\n",
    "    'конец_нагрева_дугой'    : 'max',\n",
    "    'активная_мощность'      : 'mean',\n",
    "    'реактивная_мощность'    : 'mean',\n",
    "    'полная_мощность'        : 'mean',\n",
    "    'время_нагрева'          : 'sum',\n",
    "    'затраты_электроэнергии' : 'sum'\n",
    "}\n",
    "\n",
    "data_arc_new = data_arc_new.groupby('key').agg(data_arc_new_columns).rename(columns={'key':'количество_легирующих_циклов'})"
   ]
  },
  {
   "cell_type": "markdown",
   "id": "e2c7ce28",
   "metadata": {},
   "source": [
    "Создадим таблицу для хранения времени начала и конца нагрева дугой для партий."
   ]
  },
  {
   "cell_type": "code",
   "execution_count": 93,
   "id": "95c22d11",
   "metadata": {},
   "outputs": [
    {
     "data": {
      "text/html": [
       "<div>\n",
       "<style scoped>\n",
       "    .dataframe tbody tr th:only-of-type {\n",
       "        vertical-align: middle;\n",
       "    }\n",
       "\n",
       "    .dataframe tbody tr th {\n",
       "        vertical-align: top;\n",
       "    }\n",
       "\n",
       "    .dataframe thead th {\n",
       "        text-align: right;\n",
       "    }\n",
       "</style>\n",
       "<table border=\"1\" class=\"dataframe\">\n",
       "  <thead>\n",
       "    <tr style=\"text-align: right;\">\n",
       "      <th></th>\n",
       "      <th>начало_нагрева_дугой</th>\n",
       "      <th>конец_нагрева_дугой</th>\n",
       "    </tr>\n",
       "    <tr>\n",
       "      <th>key</th>\n",
       "      <th></th>\n",
       "      <th></th>\n",
       "    </tr>\n",
       "  </thead>\n",
       "  <tbody>\n",
       "    <tr>\n",
       "      <th>1</th>\n",
       "      <td>2019-05-03 11:02:14</td>\n",
       "      <td>2019-05-03 11:28:37</td>\n",
       "    </tr>\n",
       "    <tr>\n",
       "      <th>2</th>\n",
       "      <td>2019-05-03 11:34:14</td>\n",
       "      <td>2019-05-03 11:53:18</td>\n",
       "    </tr>\n",
       "    <tr>\n",
       "      <th>3</th>\n",
       "      <td>2019-05-03 12:06:54</td>\n",
       "      <td>2019-05-03 12:32:19</td>\n",
       "    </tr>\n",
       "    <tr>\n",
       "      <th>4</th>\n",
       "      <td>2019-05-03 12:39:37</td>\n",
       "      <td>2019-05-03 12:57:50</td>\n",
       "    </tr>\n",
       "    <tr>\n",
       "      <th>5</th>\n",
       "      <td>2019-05-03 13:11:13</td>\n",
       "      <td>2019-05-03 13:33:55</td>\n",
       "    </tr>\n",
       "  </tbody>\n",
       "</table>\n",
       "</div>"
      ],
      "text/plain": [
       "    начало_нагрева_дугой конец_нагрева_дугой\n",
       "key                                         \n",
       "1    2019-05-03 11:02:14 2019-05-03 11:28:37\n",
       "2    2019-05-03 11:34:14 2019-05-03 11:53:18\n",
       "3    2019-05-03 12:06:54 2019-05-03 12:32:19\n",
       "4    2019-05-03 12:39:37 2019-05-03 12:57:50\n",
       "5    2019-05-03 13:11:13 2019-05-03 13:33:55"
      ]
     },
     "metadata": {},
     "output_type": "display_data"
    }
   ],
   "source": [
    "data_arc_time_new = data_arc_new[['начало_нагрева_дугой', 'конец_нагрева_дугой']]\n",
    "display(data_arc_time_new.head())"
   ]
  },
  {
   "cell_type": "code",
   "execution_count": 94,
   "id": "27a43202",
   "metadata": {},
   "outputs": [
    {
     "data": {
      "text/html": [
       "<div>\n",
       "<style scoped>\n",
       "    .dataframe tbody tr th:only-of-type {\n",
       "        vertical-align: middle;\n",
       "    }\n",
       "\n",
       "    .dataframe tbody tr th {\n",
       "        vertical-align: top;\n",
       "    }\n",
       "\n",
       "    .dataframe thead th {\n",
       "        text-align: right;\n",
       "    }\n",
       "</style>\n",
       "<table border=\"1\" class=\"dataframe\">\n",
       "  <thead>\n",
       "    <tr style=\"text-align: right;\">\n",
       "      <th></th>\n",
       "      <th>количество_легирующих_циклов</th>\n",
       "      <th>активная_мощность</th>\n",
       "      <th>реактивная_мощность</th>\n",
       "      <th>полная_мощность</th>\n",
       "      <th>время_нагрева</th>\n",
       "      <th>затраты_электроэнергии</th>\n",
       "    </tr>\n",
       "    <tr>\n",
       "      <th>key</th>\n",
       "      <th></th>\n",
       "      <th></th>\n",
       "      <th></th>\n",
       "      <th></th>\n",
       "      <th></th>\n",
       "      <th></th>\n",
       "    </tr>\n",
       "  </thead>\n",
       "  <tbody>\n",
       "    <tr>\n",
       "      <th>1</th>\n",
       "      <td>5</td>\n",
       "      <td>0.607346</td>\n",
       "      <td>0.428564</td>\n",
       "      <td>0.743747</td>\n",
       "      <td>1098</td>\n",
       "      <td>770.282114</td>\n",
       "    </tr>\n",
       "    <tr>\n",
       "      <th>2</th>\n",
       "      <td>4</td>\n",
       "      <td>0.534852</td>\n",
       "      <td>0.363339</td>\n",
       "      <td>0.647087</td>\n",
       "      <td>811</td>\n",
       "      <td>481.760005</td>\n",
       "    </tr>\n",
       "    <tr>\n",
       "      <th>3</th>\n",
       "      <td>5</td>\n",
       "      <td>0.812728</td>\n",
       "      <td>0.587491</td>\n",
       "      <td>1.003845</td>\n",
       "      <td>655</td>\n",
       "      <td>722.837668</td>\n",
       "    </tr>\n",
       "    <tr>\n",
       "      <th>4</th>\n",
       "      <td>4</td>\n",
       "      <td>0.676622</td>\n",
       "      <td>0.514248</td>\n",
       "      <td>0.850010</td>\n",
       "      <td>741</td>\n",
       "      <td>683.455597</td>\n",
       "    </tr>\n",
       "    <tr>\n",
       "      <th>5</th>\n",
       "      <td>4</td>\n",
       "      <td>0.563238</td>\n",
       "      <td>0.421998</td>\n",
       "      <td>0.704245</td>\n",
       "      <td>869</td>\n",
       "      <td>512.169934</td>\n",
       "    </tr>\n",
       "  </tbody>\n",
       "</table>\n",
       "</div>"
      ],
      "text/plain": [
       "     количество_легирующих_циклов  активная_мощность  реактивная_мощность  \\\n",
       "key                                                                         \n",
       "1                               5           0.607346             0.428564   \n",
       "2                               4           0.534852             0.363339   \n",
       "3                               5           0.812728             0.587491   \n",
       "4                               4           0.676622             0.514248   \n",
       "5                               4           0.563238             0.421998   \n",
       "\n",
       "     полная_мощность  время_нагрева  затраты_электроэнергии  \n",
       "key                                                          \n",
       "1           0.743747           1098              770.282114  \n",
       "2           0.647087            811              481.760005  \n",
       "3           1.003845            655              722.837668  \n",
       "4           0.850010            741              683.455597  \n",
       "5           0.704245            869              512.169934  "
      ]
     },
     "metadata": {},
     "output_type": "display_data"
    }
   ],
   "source": [
    "data_arc_new.drop(['начало_нагрева_дугой', 'конец_нагрева_дугой'], axis=1, inplace=True) \n",
    "display(data_arc_new.head())"
   ]
  },
  {
   "cell_type": "code",
   "execution_count": 95,
   "id": "fbbb391e",
   "metadata": {},
   "outputs": [
    {
     "data": {
      "image/png": "[encoded data removed]",
      "text/plain": [
       "<Figure size 576x360 with 1 Axes>"
      ]
     },
     "metadata": {
      "needs_background": "light"
     },
     "output_type": "display_data"
    }
   ],
   "source": [
    "analysis_chart = plot_hist(data = data_arc_new['время_нагрева'],\n",
    "                           bins = 20,\n",
    "                           title = 'Распределение партий по значению времени нагрева')\n",
    "\n",
    "analysis_chart.set_xlabel(\"Время нагрева, с\");"
   ]
  },
  {
   "cell_type": "code",
   "execution_count": 96,
   "id": "0906984d",
   "metadata": {},
   "outputs": [
    {
     "data": {
      "text/plain": [
       "count    3214.000000\n",
       "mean      794.579029\n",
       "std       332.448622\n",
       "min        57.000000\n",
       "25%       571.000000\n",
       "50%       770.000000\n",
       "75%       983.000000\n",
       "max      4189.000000\n",
       "Name: время_нагрева, dtype: float64"
      ]
     },
     "metadata": {},
     "output_type": "display_data"
    }
   ],
   "source": [
    "display(data_arc_new['время_нагрева'].describe())"
   ]
  },
  {
   "cell_type": "markdown",
   "id": "bd95c4f3",
   "metadata": {},
   "source": [
    "Изучим партии с временем нагрева больше получаса (1800 с)."
   ]
  },
  {
   "cell_type": "code",
   "execution_count": 97,
   "id": "21c417fa",
   "metadata": {},
   "outputs": [
    {
     "data": {
      "text/html": [
       "<div>\n",
       "<style scoped>\n",
       "    .dataframe tbody tr th:only-of-type {\n",
       "        vertical-align: middle;\n",
       "    }\n",
       "\n",
       "    .dataframe tbody tr th {\n",
       "        vertical-align: top;\n",
       "    }\n",
       "\n",
       "    .dataframe thead th {\n",
       "        text-align: right;\n",
       "    }\n",
       "</style>\n",
       "<table border=\"1\" class=\"dataframe\">\n",
       "  <thead>\n",
       "    <tr style=\"text-align: right;\">\n",
       "      <th></th>\n",
       "      <th>количество_легирующих_циклов</th>\n",
       "      <th>активная_мощность</th>\n",
       "      <th>реактивная_мощность</th>\n",
       "      <th>полная_мощность</th>\n",
       "      <th>время_нагрева</th>\n",
       "      <th>затраты_электроэнергии</th>\n",
       "    </tr>\n",
       "    <tr>\n",
       "      <th>key</th>\n",
       "      <th></th>\n",
       "      <th></th>\n",
       "      <th></th>\n",
       "      <th></th>\n",
       "      <th></th>\n",
       "      <th></th>\n",
       "    </tr>\n",
       "  </thead>\n",
       "  <tbody>\n",
       "    <tr>\n",
       "      <th>2108</th>\n",
       "      <td>16</td>\n",
       "      <td>0.669175</td>\n",
       "      <td>0.474343</td>\n",
       "      <td>0.820929</td>\n",
       "      <td>2739</td>\n",
       "      <td>2151.752807</td>\n",
       "    </tr>\n",
       "    <tr>\n",
       "      <th>1513</th>\n",
       "      <td>15</td>\n",
       "      <td>0.775490</td>\n",
       "      <td>0.571533</td>\n",
       "      <td>0.964436</td>\n",
       "      <td>2526</td>\n",
       "      <td>2380.879281</td>\n",
       "    </tr>\n",
       "    <tr>\n",
       "      <th>1689</th>\n",
       "      <td>15</td>\n",
       "      <td>0.825042</td>\n",
       "      <td>0.596603</td>\n",
       "      <td>1.019218</td>\n",
       "      <td>4189</td>\n",
       "      <td>4546.405812</td>\n",
       "    </tr>\n",
       "    <tr>\n",
       "      <th>322</th>\n",
       "      <td>13</td>\n",
       "      <td>0.685754</td>\n",
       "      <td>0.504934</td>\n",
       "      <td>0.851966</td>\n",
       "      <td>2658</td>\n",
       "      <td>2026.007227</td>\n",
       "    </tr>\n",
       "    <tr>\n",
       "      <th>46</th>\n",
       "      <td>13</td>\n",
       "      <td>0.706174</td>\n",
       "      <td>0.542457</td>\n",
       "      <td>0.891672</td>\n",
       "      <td>2919</td>\n",
       "      <td>2306.073920</td>\n",
       "    </tr>\n",
       "    <tr>\n",
       "      <th>44</th>\n",
       "      <td>12</td>\n",
       "      <td>0.608250</td>\n",
       "      <td>0.435102</td>\n",
       "      <td>0.748429</td>\n",
       "      <td>2063</td>\n",
       "      <td>1393.802417</td>\n",
       "    </tr>\n",
       "    <tr>\n",
       "      <th>638</th>\n",
       "      <td>11</td>\n",
       "      <td>0.661000</td>\n",
       "      <td>0.452892</td>\n",
       "      <td>0.801596</td>\n",
       "      <td>2067</td>\n",
       "      <td>1654.779561</td>\n",
       "    </tr>\n",
       "    <tr>\n",
       "      <th>2917</th>\n",
       "      <td>11</td>\n",
       "      <td>0.586461</td>\n",
       "      <td>0.453019</td>\n",
       "      <td>0.741930</td>\n",
       "      <td>2006</td>\n",
       "      <td>1224.527008</td>\n",
       "    </tr>\n",
       "    <tr>\n",
       "      <th>1880</th>\n",
       "      <td>11</td>\n",
       "      <td>0.559006</td>\n",
       "      <td>0.387556</td>\n",
       "      <td>0.680447</td>\n",
       "      <td>2755</td>\n",
       "      <td>1851.427463</td>\n",
       "    </tr>\n",
       "    <tr>\n",
       "      <th>1958</th>\n",
       "      <td>11</td>\n",
       "      <td>0.628680</td>\n",
       "      <td>0.494629</td>\n",
       "      <td>0.801079</td>\n",
       "      <td>1834</td>\n",
       "      <td>1421.929905</td>\n",
       "    </tr>\n",
       "    <tr>\n",
       "      <th>2046</th>\n",
       "      <td>10</td>\n",
       "      <td>0.648083</td>\n",
       "      <td>0.477613</td>\n",
       "      <td>0.805662</td>\n",
       "      <td>1883</td>\n",
       "      <td>1468.298169</td>\n",
       "    </tr>\n",
       "    <tr>\n",
       "      <th>2901</th>\n",
       "      <td>10</td>\n",
       "      <td>0.696362</td>\n",
       "      <td>0.496735</td>\n",
       "      <td>0.855801</td>\n",
       "      <td>1960</td>\n",
       "      <td>1633.205184</td>\n",
       "    </tr>\n",
       "    <tr>\n",
       "      <th>45</th>\n",
       "      <td>10</td>\n",
       "      <td>0.627228</td>\n",
       "      <td>0.456435</td>\n",
       "      <td>0.776791</td>\n",
       "      <td>2136</td>\n",
       "      <td>1569.947614</td>\n",
       "    </tr>\n",
       "    <tr>\n",
       "      <th>274</th>\n",
       "      <td>10</td>\n",
       "      <td>0.675779</td>\n",
       "      <td>0.496618</td>\n",
       "      <td>0.839854</td>\n",
       "      <td>1910</td>\n",
       "      <td>1530.216898</td>\n",
       "    </tr>\n",
       "    <tr>\n",
       "      <th>1923</th>\n",
       "      <td>9</td>\n",
       "      <td>0.556221</td>\n",
       "      <td>0.398531</td>\n",
       "      <td>0.684907</td>\n",
       "      <td>1816</td>\n",
       "      <td>1247.210675</td>\n",
       "    </tr>\n",
       "    <tr>\n",
       "      <th>650</th>\n",
       "      <td>9</td>\n",
       "      <td>0.842134</td>\n",
       "      <td>0.604077</td>\n",
       "      <td>1.037302</td>\n",
       "      <td>1835</td>\n",
       "      <td>1885.358882</td>\n",
       "    </tr>\n",
       "    <tr>\n",
       "      <th>813</th>\n",
       "      <td>9</td>\n",
       "      <td>0.677701</td>\n",
       "      <td>0.496444</td>\n",
       "      <td>0.840545</td>\n",
       "      <td>2247</td>\n",
       "      <td>1992.990539</td>\n",
       "    </tr>\n",
       "    <tr>\n",
       "      <th>935</th>\n",
       "      <td>9</td>\n",
       "      <td>0.654949</td>\n",
       "      <td>0.488105</td>\n",
       "      <td>0.817954</td>\n",
       "      <td>1836</td>\n",
       "      <td>1433.153244</td>\n",
       "    </tr>\n",
       "    <tr>\n",
       "      <th>2366</th>\n",
       "      <td>9</td>\n",
       "      <td>0.680067</td>\n",
       "      <td>0.511107</td>\n",
       "      <td>0.852396</td>\n",
       "      <td>1901</td>\n",
       "      <td>1743.739733</td>\n",
       "    </tr>\n",
       "    <tr>\n",
       "      <th>280</th>\n",
       "      <td>9</td>\n",
       "      <td>0.472057</td>\n",
       "      <td>0.329758</td>\n",
       "      <td>0.576791</td>\n",
       "      <td>1807</td>\n",
       "      <td>1040.907729</td>\n",
       "    </tr>\n",
       "    <tr>\n",
       "      <th>460</th>\n",
       "      <td>9</td>\n",
       "      <td>0.808070</td>\n",
       "      <td>0.590152</td>\n",
       "      <td>1.000999</td>\n",
       "      <td>1925</td>\n",
       "      <td>2074.472552</td>\n",
       "    </tr>\n",
       "    <tr>\n",
       "      <th>2342</th>\n",
       "      <td>9</td>\n",
       "      <td>0.651454</td>\n",
       "      <td>0.482719</td>\n",
       "      <td>0.811599</td>\n",
       "      <td>1841</td>\n",
       "      <td>1470.476957</td>\n",
       "    </tr>\n",
       "    <tr>\n",
       "      <th>335</th>\n",
       "      <td>8</td>\n",
       "      <td>0.678896</td>\n",
       "      <td>0.521497</td>\n",
       "      <td>0.856446</td>\n",
       "      <td>1943</td>\n",
       "      <td>1556.605508</td>\n",
       "    </tr>\n",
       "    <tr>\n",
       "      <th>2019</th>\n",
       "      <td>8</td>\n",
       "      <td>0.531744</td>\n",
       "      <td>0.414162</td>\n",
       "      <td>0.674561</td>\n",
       "      <td>1846</td>\n",
       "      <td>1291.256056</td>\n",
       "    </tr>\n",
       "    <tr>\n",
       "      <th>2260</th>\n",
       "      <td>7</td>\n",
       "      <td>0.675959</td>\n",
       "      <td>0.513726</td>\n",
       "      <td>0.850439</td>\n",
       "      <td>1909</td>\n",
       "      <td>1712.716410</td>\n",
       "    </tr>\n",
       "    <tr>\n",
       "      <th>2001</th>\n",
       "      <td>7</td>\n",
       "      <td>0.705682</td>\n",
       "      <td>0.497404</td>\n",
       "      <td>0.863855</td>\n",
       "      <td>2065</td>\n",
       "      <td>1824.837444</td>\n",
       "    </tr>\n",
       "    <tr>\n",
       "      <th>1051</th>\n",
       "      <td>7</td>\n",
       "      <td>0.607412</td>\n",
       "      <td>0.437488</td>\n",
       "      <td>0.749214</td>\n",
       "      <td>1992</td>\n",
       "      <td>1428.128132</td>\n",
       "    </tr>\n",
       "    <tr>\n",
       "      <th>642</th>\n",
       "      <td>7</td>\n",
       "      <td>0.642910</td>\n",
       "      <td>0.485567</td>\n",
       "      <td>0.806265</td>\n",
       "      <td>1970</td>\n",
       "      <td>1768.172431</td>\n",
       "    </tr>\n",
       "    <tr>\n",
       "      <th>2964</th>\n",
       "      <td>7</td>\n",
       "      <td>0.596534</td>\n",
       "      <td>0.435801</td>\n",
       "      <td>0.739195</td>\n",
       "      <td>1835</td>\n",
       "      <td>1268.354888</td>\n",
       "    </tr>\n",
       "    <tr>\n",
       "      <th>640</th>\n",
       "      <td>6</td>\n",
       "      <td>0.639056</td>\n",
       "      <td>0.469428</td>\n",
       "      <td>0.793525</td>\n",
       "      <td>1917</td>\n",
       "      <td>1237.598782</td>\n",
       "    </tr>\n",
       "  </tbody>\n",
       "</table>\n",
       "</div>"
      ],
      "text/plain": [
       "      количество_легирующих_циклов  активная_мощность  реактивная_мощность  \\\n",
       "key                                                                          \n",
       "2108                            16           0.669175             0.474343   \n",
       "1513                            15           0.775490             0.571533   \n",
       "1689                            15           0.825042             0.596603   \n",
       "322                             13           0.685754             0.504934   \n",
       "46                              13           0.706174             0.542457   \n",
       "44                              12           0.608250             0.435102   \n",
       "638                             11           0.661000             0.452892   \n",
       "2917                            11           0.586461             0.453019   \n",
       "1880                            11           0.559006             0.387556   \n",
       "1958                            11           0.628680             0.494629   \n",
       "2046                            10           0.648083             0.477613   \n",
       "2901                            10           0.696362             0.496735   \n",
       "45                              10           0.627228             0.456435   \n",
       "274                             10           0.675779             0.496618   \n",
       "1923                             9           0.556221             0.398531   \n",
       "650                              9           0.842134             0.604077   \n",
       "813                              9           0.677701             0.496444   \n",
       "935                              9           0.654949             0.488105   \n",
       "2366                             9           0.680067             0.511107   \n",
       "280                              9           0.472057             0.329758   \n",
       "460                              9           0.808070             0.590152   \n",
       "2342                             9           0.651454             0.482719   \n",
       "335                              8           0.678896             0.521497   \n",
       "2019                             8           0.531744             0.414162   \n",
       "2260                             7           0.675959             0.513726   \n",
       "2001                             7           0.705682             0.497404   \n",
       "1051                             7           0.607412             0.437488   \n",
       "642                              7           0.642910             0.485567   \n",
       "2964                             7           0.596534             0.435801   \n",
       "640                              6           0.639056             0.469428   \n",
       "\n",
       "      полная_мощность  время_нагрева  затраты_электроэнергии  \n",
       "key                                                           \n",
       "2108         0.820929           2739             2151.752807  \n",
       "1513         0.964436           2526             2380.879281  \n",
       "1689         1.019218           4189             4546.405812  \n",
       "322          0.851966           2658             2026.007227  \n",
       "46           0.891672           2919             2306.073920  \n",
       "44           0.748429           2063             1393.802417  \n",
       "638          0.801596           2067             1654.779561  \n",
       "2917         0.741930           2006             1224.527008  \n",
       "1880         0.680447           2755             1851.427463  \n",
       "1958         0.801079           1834             1421.929905  \n",
       "2046         0.805662           1883             1468.298169  \n",
       "2901         0.855801           1960             1633.205184  \n",
       "45           0.776791           2136             1569.947614  \n",
       "274          0.839854           1910             1530.216898  \n",
       "1923         0.684907           1816             1247.210675  \n",
       "650          1.037302           1835             1885.358882  \n",
       "813          0.840545           2247             1992.990539  \n",
       "935          0.817954           1836             1433.153244  \n",
       "2366         0.852396           1901             1743.739733  \n",
       "280          0.576791           1807             1040.907729  \n",
       "460          1.000999           1925             2074.472552  \n",
       "2342         0.811599           1841             1470.476957  \n",
       "335          0.856446           1943             1556.605508  \n",
       "2019         0.674561           1846             1291.256056  \n",
       "2260         0.850439           1909             1712.716410  \n",
       "2001         0.863855           2065             1824.837444  \n",
       "1051         0.749214           1992             1428.128132  \n",
       "642          0.806265           1970             1768.172431  \n",
       "2964         0.739195           1835             1268.354888  \n",
       "640          0.793525           1917             1237.598782  "
      ]
     },
     "metadata": {},
     "output_type": "display_data"
    }
   ],
   "source": [
    "display(data_arc_new.loc[data_arc_new['время_нагрева'] > 1800]\n",
    "        .sort_values(by='количество_легирующих_циклов', ascending=False))"
   ]
  },
  {
   "cell_type": "code",
   "execution_count": 99,
   "id": "3365903a",
   "metadata": {},
   "outputs": [
    {
     "data": {
      "image/png": "[encoded data removed]",
      "text/plain": [
       "<Figure size 576x360 with 1 Axes>"
      ]
     },
     "metadata": {
      "needs_background": "light"
     },
     "output_type": "display_data"
    }
   ],
   "source": [
    "analysis_chart = plot_hist(data = data_arc_new['затраты_электроэнергии'],\n",
    "                           bins = 20,\n",
    "                           title = 'Распределение партий по затратам электроэнергии')\n",
    "\n",
    "analysis_chart.set_xlabel(\"Затраты электроэнергии\");"
   ]
  },
  {
   "cell_type": "markdown",
   "id": "50284ca4",
   "metadata": {},
   "source": [
    "Добавим новый признак - сумму объёмов подаваемого материала для каждой партии."
   ]
  },
  {
   "cell_type": "code",
   "execution_count": 100,
   "id": "afe79478",
   "metadata": {},
   "outputs": [
    {
     "data": {
      "text/plain": [
       "count    3129.000000\n",
       "mean     2219.886865\n",
       "std       959.185969\n",
       "min        93.000000\n",
       "25%      1419.000000\n",
       "50%      2220.000000\n",
       "75%      3051.000000\n",
       "max      4304.000000\n",
       "Name: общий_объём_материала, dtype: float64"
      ]
     },
     "metadata": {},
     "output_type": "display_data"
    }
   ],
   "source": [
    "data_bulk_new['общий_объём_материала'] = data_bulk_new.sum(axis=1)\n",
    "display(data_bulk_new['общий_объём_материала'].describe())"
   ]
  },
  {
   "cell_type": "markdown",
   "id": "20c4549e",
   "metadata": {},
   "source": [
    "Отметим время первого и последнего замера температуры."
   ]
  },
  {
   "cell_type": "code",
   "execution_count": 101,
   "id": "52daf3a6",
   "metadata": {},
   "outputs": [
    {
     "data": {
      "text/html": [
       "<div>\n",
       "<style scoped>\n",
       "    .dataframe tbody tr th:only-of-type {\n",
       "        vertical-align: middle;\n",
       "    }\n",
       "\n",
       "    .dataframe tbody tr th {\n",
       "        vertical-align: top;\n",
       "    }\n",
       "\n",
       "    .dataframe thead th {\n",
       "        text-align: right;\n",
       "    }\n",
       "</style>\n",
       "<table border=\"1\" class=\"dataframe\">\n",
       "  <thead>\n",
       "    <tr style=\"text-align: right;\">\n",
       "      <th></th>\n",
       "      <th>время_начального_замера</th>\n",
       "      <th>время_последнего_замера</th>\n",
       "    </tr>\n",
       "    <tr>\n",
       "      <th>key</th>\n",
       "      <th></th>\n",
       "      <th></th>\n",
       "    </tr>\n",
       "  </thead>\n",
       "  <tbody>\n",
       "    <tr>\n",
       "      <th>1</th>\n",
       "      <td>2019-05-03 11:02:04</td>\n",
       "      <td>2019-05-03 11:30:38</td>\n",
       "    </tr>\n",
       "    <tr>\n",
       "      <th>2</th>\n",
       "      <td>2019-05-03 11:34:04</td>\n",
       "      <td>2019-05-03 11:55:09</td>\n",
       "    </tr>\n",
       "    <tr>\n",
       "      <th>3</th>\n",
       "      <td>2019-05-03 12:06:44</td>\n",
       "      <td>2019-05-03 12:35:57</td>\n",
       "    </tr>\n",
       "    <tr>\n",
       "      <th>4</th>\n",
       "      <td>2019-05-03 12:39:27</td>\n",
       "      <td>2019-05-03 12:59:47</td>\n",
       "    </tr>\n",
       "    <tr>\n",
       "      <th>5</th>\n",
       "      <td>2019-05-03 13:11:03</td>\n",
       "      <td>2019-05-03 13:36:39</td>\n",
       "    </tr>\n",
       "  </tbody>\n",
       "</table>\n",
       "</div>"
      ],
      "text/plain": [
       "    время_начального_замера время_последнего_замера\n",
       "key                                                \n",
       "1       2019-05-03 11:02:04     2019-05-03 11:30:38\n",
       "2       2019-05-03 11:34:04     2019-05-03 11:55:09\n",
       "3       2019-05-03 12:06:44     2019-05-03 12:35:57\n",
       "4       2019-05-03 12:39:27     2019-05-03 12:59:47\n",
       "5       2019-05-03 13:11:03     2019-05-03 13:36:39"
      ]
     },
     "metadata": {},
     "output_type": "display_data"
    }
   ],
   "source": [
    "data_temp_time_new = data_temp_new\n",
    "data_temp_time_new['время_начального_замера'] = data_temp_time_new['время_замера']\n",
    "data_temp_time_new['время_последнего_замера'] = data_temp_time_new['время_замера']\n",
    "data_temp_time_new_columns = {\n",
    "    'время_начального_замера' : 'first',\n",
    "    'время_последнего_замера' : 'last'\n",
    "}\n",
    "\n",
    "data_temp_time_new = data_temp_time_new.groupby('key').agg(data_temp_time_new_columns)\n",
    "\n",
    "display(data_temp_time_new.head())"
   ]
  },
  {
   "cell_type": "markdown",
   "id": "5385ff6a",
   "metadata": {},
   "source": [
    "Добавим в таблицу с температурой новые колонки с начальной, конечной и минимальной температурой.\n",
    "\n",
    "Перед этим выделим конечную температуру в отдельный столбец, чтобы избежать утечки целевого признака."
   ]
  },
  {
   "cell_type": "code",
   "execution_count": 102,
   "id": "a2768beb",
   "metadata": {},
   "outputs": [
    {
     "data": {
      "text/plain": [
       "key\n",
       "1       1613\n",
       "2       1602\n",
       "3       1599\n",
       "4       1625\n",
       "5       1602\n",
       "        ... \n",
       "3237       0\n",
       "3238       0\n",
       "3239       0\n",
       "3240       0\n",
       "3241       0\n",
       "Length: 3216, dtype: int64"
      ]
     },
     "metadata": {},
     "output_type": "display_data"
    }
   ],
   "source": [
    "data_temp_fin = pd.DataFrame(data_temp_new, columns=['key', 'температура'])\n",
    "data_temp_fin['конечная_температура'] = data_temp_new['температура']\n",
    "\n",
    "data_temp_fin = data_temp_fin.groupby('key').agg({'конечная_температура': 'last'})\n",
    "\n",
    "data_temp_fin['конечная_температура'] = data_temp_fin['конечная_температура'].astype(int)\n",
    "data_temp_fin = data_temp_fin['конечная_температура']\n",
    "data_temp_fin.name = None\n",
    "\n",
    "display(data_temp_fin)"
   ]
  },
  {
   "cell_type": "markdown",
   "id": "e66739ac",
   "metadata": {},
   "source": [
    "Удаляем конечные значения температуры из оригинальной таблицы."
   ]
  },
  {
   "cell_type": "code",
   "execution_count": 103,
   "id": "9e922132",
   "metadata": {
    "scrolled": true
   },
   "outputs": [],
   "source": [
    "for key in data_temp_fin.index:\n",
    "    rows = (data_temp_new['key'] == key) & (data_temp_new['температура'] == data_temp_fin.loc[key])\n",
    "    data_temp_new.loc[rows, 'температура'] = None"
   ]
  },
  {
   "cell_type": "code",
   "execution_count": 104,
   "id": "ab5c5d18",
   "metadata": {},
   "outputs": [
    {
     "name": "stdout",
     "output_type": "stream",
     "text": [
      "<class 'pandas.core.frame.DataFrame'>\n",
      "RangeIndex: 18092 entries, 0 to 18091\n",
      "Data columns (total 5 columns):\n",
      " #   Column                   Non-Null Count  Dtype         \n",
      "---  ------                   --------------  -----         \n",
      " 0   key                      18092 non-null  int64         \n",
      " 1   время_замера             18092 non-null  datetime64[ns]\n",
      " 2   температура              11639 non-null  float64       \n",
      " 3   время_начального_замера  18092 non-null  datetime64[ns]\n",
      " 4   время_последнего_замера  18092 non-null  datetime64[ns]\n",
      "dtypes: datetime64[ns](3), float64(1), int64(1)\n",
      "memory usage: 706.8 KB\n"
     ]
    }
   ],
   "source": [
    "data_temp_new.info()"
   ]
  },
  {
   "cell_type": "code",
   "execution_count": 105,
   "id": "14d159c4",
   "metadata": {},
   "outputs": [
    {
     "data": {
      "text/html": [
       "<div>\n",
       "<style scoped>\n",
       "    .dataframe tbody tr th:only-of-type {\n",
       "        vertical-align: middle;\n",
       "    }\n",
       "\n",
       "    .dataframe tbody tr th {\n",
       "        vertical-align: top;\n",
       "    }\n",
       "\n",
       "    .dataframe thead th {\n",
       "        text-align: right;\n",
       "    }\n",
       "</style>\n",
       "<table border=\"1\" class=\"dataframe\">\n",
       "  <thead>\n",
       "    <tr style=\"text-align: right;\">\n",
       "      <th></th>\n",
       "      <th>начальная_температура</th>\n",
       "      <th>минимальная_температура</th>\n",
       "      <th>конечная_температура</th>\n",
       "    </tr>\n",
       "    <tr>\n",
       "      <th>key</th>\n",
       "      <th></th>\n",
       "      <th></th>\n",
       "      <th></th>\n",
       "    </tr>\n",
       "  </thead>\n",
       "  <tbody>\n",
       "    <tr>\n",
       "      <th>1</th>\n",
       "      <td>1571.0</td>\n",
       "      <td>1571.0</td>\n",
       "      <td>1613</td>\n",
       "    </tr>\n",
       "    <tr>\n",
       "      <th>2</th>\n",
       "      <td>1581.0</td>\n",
       "      <td>1577.0</td>\n",
       "      <td>1602</td>\n",
       "    </tr>\n",
       "    <tr>\n",
       "      <th>3</th>\n",
       "      <td>1596.0</td>\n",
       "      <td>1596.0</td>\n",
       "      <td>1599</td>\n",
       "    </tr>\n",
       "    <tr>\n",
       "      <th>4</th>\n",
       "      <td>1601.0</td>\n",
       "      <td>1601.0</td>\n",
       "      <td>1625</td>\n",
       "    </tr>\n",
       "    <tr>\n",
       "      <th>5</th>\n",
       "      <td>1576.0</td>\n",
       "      <td>1576.0</td>\n",
       "      <td>1602</td>\n",
       "    </tr>\n",
       "  </tbody>\n",
       "</table>\n",
       "</div>"
      ],
      "text/plain": [
       "     начальная_температура  минимальная_температура  конечная_температура\n",
       "key                                                                      \n",
       "1                   1571.0                   1571.0                  1613\n",
       "2                   1581.0                   1577.0                  1602\n",
       "3                   1596.0                   1596.0                  1599\n",
       "4                   1601.0                   1601.0                  1625\n",
       "5                   1576.0                   1576.0                  1602"
      ]
     },
     "metadata": {},
     "output_type": "display_data"
    }
   ],
   "source": [
    "data_temp_new['начальная_температура'] = data_temp_new['температура']\n",
    "data_temp_new['минимальная_температура'] = data_temp_new['температура']\n",
    "\n",
    "data_temp_new_columns = {\n",
    "    'начальная_температура'   : 'first',\n",
    "    'минимальная_температура' : 'min'\n",
    "}\n",
    "\n",
    "data_temp_new = data_temp_new.groupby('key').agg(data_temp_new_columns)\n",
    "\n",
    "data_temp_new['конечная_температура'] = data_temp_fin\n",
    "\n",
    "display(data_temp_new.head())"
   ]
  },
  {
   "cell_type": "code",
   "execution_count": 106,
   "id": "95e46d2e",
   "metadata": {},
   "outputs": [
    {
     "name": "stdout",
     "output_type": "stream",
     "text": [
      "<class 'pandas.core.frame.DataFrame'>\n",
      "Index: 3216 entries, 1 to 3241\n",
      "Data columns (total 3 columns):\n",
      " #   Column                   Non-Null Count  Dtype  \n",
      "---  ------                   --------------  -----  \n",
      " 0   начальная_температура    3213 non-null   float64\n",
      " 1   минимальная_температура  3213 non-null   float64\n",
      " 2   конечная_температура     3216 non-null   int64  \n",
      "dtypes: float64(2), int64(1)\n",
      "memory usage: 100.5 KB\n"
     ]
    }
   ],
   "source": [
    "data_temp_new.info()"
   ]
  },
  {
   "cell_type": "markdown",
   "id": "78a73168",
   "metadata": {},
   "source": [
    "Технология производства стали требует поддержания температуры выше 1400 градусов Цельсия, удалим значения ниже 1400, а также все заполненные нулями значения и значения NaN."
   ]
  },
  {
   "cell_type": "code",
   "execution_count": 107,
   "id": "ad9f7f05",
   "metadata": {},
   "outputs": [
    {
     "data": {
      "text/html": [
       "<div>\n",
       "<style scoped>\n",
       "    .dataframe tbody tr th:only-of-type {\n",
       "        vertical-align: middle;\n",
       "    }\n",
       "\n",
       "    .dataframe tbody tr th {\n",
       "        vertical-align: top;\n",
       "    }\n",
       "\n",
       "    .dataframe thead th {\n",
       "        text-align: right;\n",
       "    }\n",
       "</style>\n",
       "<table border=\"1\" class=\"dataframe\">\n",
       "  <thead>\n",
       "    <tr style=\"text-align: right;\">\n",
       "      <th></th>\n",
       "      <th>начальная_температура</th>\n",
       "      <th>минимальная_температура</th>\n",
       "      <th>конечная_температура</th>\n",
       "    </tr>\n",
       "    <tr>\n",
       "      <th>key</th>\n",
       "      <th></th>\n",
       "      <th></th>\n",
       "      <th></th>\n",
       "    </tr>\n",
       "  </thead>\n",
       "  <tbody>\n",
       "    <tr>\n",
       "      <th>1</th>\n",
       "      <td>1571</td>\n",
       "      <td>1571</td>\n",
       "      <td>1613</td>\n",
       "    </tr>\n",
       "    <tr>\n",
       "      <th>2</th>\n",
       "      <td>1581</td>\n",
       "      <td>1577</td>\n",
       "      <td>1602</td>\n",
       "    </tr>\n",
       "    <tr>\n",
       "      <th>3</th>\n",
       "      <td>1596</td>\n",
       "      <td>1596</td>\n",
       "      <td>1599</td>\n",
       "    </tr>\n",
       "    <tr>\n",
       "      <th>4</th>\n",
       "      <td>1601</td>\n",
       "      <td>1601</td>\n",
       "      <td>1625</td>\n",
       "    </tr>\n",
       "    <tr>\n",
       "      <th>5</th>\n",
       "      <td>1576</td>\n",
       "      <td>1576</td>\n",
       "      <td>1602</td>\n",
       "    </tr>\n",
       "  </tbody>\n",
       "</table>\n",
       "</div>"
      ],
      "text/plain": [
       "     начальная_температура  минимальная_температура  конечная_температура\n",
       "key                                                                      \n",
       "1                     1571                     1571                  1613\n",
       "2                     1581                     1577                  1602\n",
       "3                     1596                     1596                  1599\n",
       "4                     1601                     1601                  1625\n",
       "5                     1576                     1576                  1602"
      ]
     },
     "metadata": {},
     "output_type": "display_data"
    }
   ],
   "source": [
    "data_temp_new['начальная_температура'] = data_temp_new['начальная_температура'].fillna(0)\n",
    "data_temp_new['минимальная_температура'] = data_temp_new['минимальная_температура'].fillna(0)\n",
    "\n",
    "data_temp_new = data_temp_new.loc[data_temp_new['минимальная_температура'] > 1400]\n",
    "\n",
    "data_temp_new['начальная_температура'] = data_temp_new['начальная_температура'].astype(int)\n",
    "data_temp_new['минимальная_температура'] = data_temp_new['минимальная_температура'].astype(int)\n",
    "\n",
    "display(data_temp_new.head())"
   ]
  },
  {
   "cell_type": "code",
   "execution_count": 108,
   "id": "6b43ae17",
   "metadata": {},
   "outputs": [
    {
     "name": "stdout",
     "output_type": "stream",
     "text": [
      "Количество совпадений признака минимальная_температура с таргетом: 0\n"
     ]
    }
   ],
   "source": [
    "print(\"Количество совпадений признака минимальная_температура с таргетом:\" ,\n",
    "      (data_temp_new['минимальная_температура'] == data_temp_new['конечная_температура']).sum()\n",
    "     )"
   ]
  },
  {
   "cell_type": "markdown",
   "id": "4e953beb",
   "metadata": {},
   "source": [
    "Избавимся от данных без значения признака конечная_температура."
   ]
  },
  {
   "cell_type": "code",
   "execution_count": 110,
   "id": "fb58f24e",
   "metadata": {},
   "outputs": [],
   "source": [
    "data_temp_new = data_temp_new[data_temp_new['конечная_температура'] > 0]"
   ]
  },
  {
   "cell_type": "code",
   "execution_count": 111,
   "id": "5930beca",
   "metadata": {},
   "outputs": [
    {
     "data": {
      "text/html": [
       "<div>\n",
       "<style scoped>\n",
       "    .dataframe tbody tr th:only-of-type {\n",
       "        vertical-align: middle;\n",
       "    }\n",
       "\n",
       "    .dataframe tbody tr th {\n",
       "        vertical-align: top;\n",
       "    }\n",
       "\n",
       "    .dataframe thead th {\n",
       "        text-align: right;\n",
       "    }\n",
       "</style>\n",
       "<table border=\"1\" class=\"dataframe\">\n",
       "  <thead>\n",
       "    <tr style=\"text-align: right;\">\n",
       "      <th></th>\n",
       "      <th>начальная_температура</th>\n",
       "      <th>минимальная_температура</th>\n",
       "      <th>конечная_температура</th>\n",
       "    </tr>\n",
       "  </thead>\n",
       "  <tbody>\n",
       "    <tr>\n",
       "      <th>count</th>\n",
       "      <td>2470.000000</td>\n",
       "      <td>2470.000000</td>\n",
       "      <td>2470.000000</td>\n",
       "    </tr>\n",
       "    <tr>\n",
       "      <th>mean</th>\n",
       "      <td>1588.910931</td>\n",
       "      <td>1580.242105</td>\n",
       "      <td>1595.342510</td>\n",
       "    </tr>\n",
       "    <tr>\n",
       "      <th>std</th>\n",
       "      <td>25.006572</td>\n",
       "      <td>19.867251</td>\n",
       "      <td>16.037954</td>\n",
       "    </tr>\n",
       "    <tr>\n",
       "      <th>min</th>\n",
       "      <td>1519.000000</td>\n",
       "      <td>1519.000000</td>\n",
       "      <td>1541.000000</td>\n",
       "    </tr>\n",
       "    <tr>\n",
       "      <th>25%</th>\n",
       "      <td>1572.000000</td>\n",
       "      <td>1569.000000</td>\n",
       "      <td>1587.000000</td>\n",
       "    </tr>\n",
       "    <tr>\n",
       "      <th>50%</th>\n",
       "      <td>1587.000000</td>\n",
       "      <td>1580.000000</td>\n",
       "      <td>1593.000000</td>\n",
       "    </tr>\n",
       "    <tr>\n",
       "      <th>75%</th>\n",
       "      <td>1605.000000</td>\n",
       "      <td>1590.000000</td>\n",
       "      <td>1599.000000</td>\n",
       "    </tr>\n",
       "    <tr>\n",
       "      <th>max</th>\n",
       "      <td>1679.000000</td>\n",
       "      <td>1673.000000</td>\n",
       "      <td>1700.000000</td>\n",
       "    </tr>\n",
       "  </tbody>\n",
       "</table>\n",
       "</div>"
      ],
      "text/plain": [
       "       начальная_температура  минимальная_температура  конечная_температура\n",
       "count            2470.000000              2470.000000           2470.000000\n",
       "mean             1588.910931              1580.242105           1595.342510\n",
       "std                25.006572                19.867251             16.037954\n",
       "min              1519.000000              1519.000000           1541.000000\n",
       "25%              1572.000000              1569.000000           1587.000000\n",
       "50%              1587.000000              1580.000000           1593.000000\n",
       "75%              1605.000000              1590.000000           1599.000000\n",
       "max              1679.000000              1673.000000           1700.000000"
      ]
     },
     "metadata": {},
     "output_type": "display_data"
    }
   ],
   "source": [
    "display(data_temp_new.describe())"
   ]
  },
  {
   "cell_type": "code",
   "execution_count": 112,
   "id": "21da3777",
   "metadata": {},
   "outputs": [
    {
     "data": {
      "text/plain": [
       "начальная_температура      0\n",
       "минимальная_температура    0\n",
       "конечная_температура       0\n",
       "dtype: int64"
      ]
     },
     "execution_count": 112,
     "metadata": {},
     "output_type": "execute_result"
    }
   ],
   "source": [
    "data_temp_new.isna().sum()"
   ]
  },
  {
   "cell_type": "markdown",
   "id": "d28f98ff",
   "metadata": {},
   "source": [
    "Конечная температура - целевой признак, в ней пропусков нет."
   ]
  },
  {
   "cell_type": "markdown",
   "id": "fba39300",
   "metadata": {},
   "source": [
    "На этом будем считать анализ и предобработку отдельных таблиц завершённым. Продолжим предобработку после объединения данных."
   ]
  },
  {
   "cell_type": "markdown",
   "id": "4b9e99a5",
   "metadata": {},
   "source": [
    "## Объединение данных"
   ]
  },
  {
   "cell_type": "markdown",
   "id": "ec89cd58",
   "metadata": {},
   "source": [
    "Объединим таблицы со временем."
   ]
  },
  {
   "cell_type": "code",
   "execution_count": 113,
   "id": "29cb120f",
   "metadata": {},
   "outputs": [
    {
     "name": "stdout",
     "output_type": "stream",
     "text": [
      "<class 'pandas.core.frame.DataFrame'>\n",
      "Index: 3214 entries, 1 to 3241\n",
      "Data columns (total 2 columns):\n",
      " #   Column                Non-Null Count  Dtype         \n",
      "---  ------                --------------  -----         \n",
      " 0   начало_нагрева_дугой  3214 non-null   datetime64[ns]\n",
      " 1   конец_нагрева_дугой   3214 non-null   datetime64[ns]\n",
      "dtypes: datetime64[ns](2)\n",
      "memory usage: 75.3 KB\n",
      "<class 'pandas.core.frame.DataFrame'>\n",
      "RangeIndex: 3129 entries, 0 to 3128\n",
      "Data columns (total 16 columns):\n",
      " #   Column                     Non-Null Count  Dtype         \n",
      "---  ------                     --------------  -----         \n",
      " 0   key                        3129 non-null   int64         \n",
      " 1   время_подачи_материала_1   252 non-null    datetime64[ns]\n",
      " 2   время_подачи_материала_2   22 non-null     datetime64[ns]\n",
      " 3   время_подачи_материала_3   1298 non-null   datetime64[ns]\n",
      " 4   время_подачи_материала_4   1014 non-null   datetime64[ns]\n",
      " 5   время_подачи_материала_5   77 non-null     datetime64[ns]\n",
      " 6   время_подачи_материала_6   576 non-null    datetime64[ns]\n",
      " 7   время_подачи_материала_7   25 non-null     datetime64[ns]\n",
      " 8   время_подачи_материала_8   1 non-null      datetime64[ns]\n",
      " 9   время_подачи_материала_9   19 non-null     datetime64[ns]\n",
      " 10  время_подачи_материала_10  176 non-null    datetime64[ns]\n",
      " 11  время_подачи_материала_11  177 non-null    datetime64[ns]\n",
      " 12  время_подачи_материала_12  2450 non-null   datetime64[ns]\n",
      " 13  время_подачи_материала_13  18 non-null     datetime64[ns]\n",
      " 14  время_подачи_материала_14  2806 non-null   datetime64[ns]\n",
      " 15  время_подачи_материала_15  2248 non-null   datetime64[ns]\n",
      "dtypes: datetime64[ns](15), int64(1)\n",
      "memory usage: 391.2 KB\n",
      "<class 'pandas.core.frame.DataFrame'>\n",
      "RangeIndex: 3081 entries, 0 to 3080\n",
      "Data columns (total 10 columns):\n",
      " #   Column                                 Non-Null Count  Dtype         \n",
      "---  ------                                 --------------  -----         \n",
      " 0   key                                    3081 non-null   int64         \n",
      " 1   время_подачи_проволочных_материалов_1  3055 non-null   datetime64[ns]\n",
      " 2   время_подачи_проволочных_материалов_2  1079 non-null   datetime64[ns]\n",
      " 3   время_подачи_проволочных_материалов_3  63 non-null     datetime64[ns]\n",
      " 4   время_подачи_проволочных_материалов_4  14 non-null     datetime64[ns]\n",
      " 5   время_подачи_проволочных_материалов_5  1 non-null      datetime64[ns]\n",
      " 6   время_подачи_проволочных_материалов_6  73 non-null     datetime64[ns]\n",
      " 7   время_подачи_проволочных_материалов_7  11 non-null     datetime64[ns]\n",
      " 8   время_подачи_проволочных_материалов_8  19 non-null     datetime64[ns]\n",
      " 9   время_подачи_проволочных_материалов_9  29 non-null     datetime64[ns]\n",
      "dtypes: datetime64[ns](9), int64(1)\n",
      "memory usage: 240.8 KB\n"
     ]
    }
   ],
   "source": [
    "data_arc_time_new.info()\n",
    "data_bulk_time_new.info()\n",
    "data_wire_time_new.info()"
   ]
  },
  {
   "cell_type": "code",
   "execution_count": 114,
   "id": "aa2fd467",
   "metadata": {},
   "outputs": [],
   "source": [
    "time_names = [data_arc_time_new, data_bulk_time_new, data_wire_time_new]\n",
    "total_time = data_temp_time_new\n",
    "for name in time_names:\n",
    "    total_time = total_time.merge(name, on=['key'])"
   ]
  },
  {
   "cell_type": "code",
   "execution_count": 115,
   "id": "1eec2028",
   "metadata": {},
   "outputs": [],
   "source": [
    "total_time['время_начального_замера'] = pd.to_datetime(total_time['время_начального_замера'])\n",
    "total_time['время_последнего_замера'] = pd.to_datetime(total_time['время_последнего_замера'])\n",
    "total_time['начало_нагрева_дугой'] = pd.to_datetime(total_time['начало_нагрева_дугой'])\n",
    "total_time['конец_нагрева_дугой'] = pd.to_datetime(total_time['конец_нагрева_дугой'])\n",
    "\n",
    "for i in range(1,16):\n",
    "    total_time[f'время_подачи_материала_{i}'] = pd.to_datetime(total_time[f'время_подачи_материала_{i}'])\n",
    "for i in range(1,10):\n",
    "    total_time[f'время_подачи_проволочных_материалов_{i}'] = pd.to_datetime(total_time[f'время_подачи_проволочных_материалов_{i}'])"
   ]
  },
  {
   "cell_type": "code",
   "execution_count": 116,
   "id": "c4af35f0",
   "metadata": {
    "scrolled": false
   },
   "outputs": [
    {
     "data": {
      "text/html": [
       "<div>\n",
       "<style scoped>\n",
       "    .dataframe tbody tr th:only-of-type {\n",
       "        vertical-align: middle;\n",
       "    }\n",
       "\n",
       "    .dataframe tbody tr th {\n",
       "        vertical-align: top;\n",
       "    }\n",
       "\n",
       "    .dataframe thead th {\n",
       "        text-align: right;\n",
       "    }\n",
       "</style>\n",
       "<table border=\"1\" class=\"dataframe\">\n",
       "  <thead>\n",
       "    <tr style=\"text-align: right;\">\n",
       "      <th></th>\n",
       "      <th>key</th>\n",
       "      <th>время_начального_замера</th>\n",
       "      <th>время_последнего_замера</th>\n",
       "      <th>начало_нагрева_дугой</th>\n",
       "      <th>конец_нагрева_дугой</th>\n",
       "      <th>время_подачи_материала_1</th>\n",
       "      <th>время_подачи_материала_2</th>\n",
       "      <th>время_подачи_материала_3</th>\n",
       "      <th>время_подачи_материала_4</th>\n",
       "      <th>время_подачи_материала_5</th>\n",
       "      <th>...</th>\n",
       "      <th>время_подачи_материала_15</th>\n",
       "      <th>время_подачи_проволочных_материалов_1</th>\n",
       "      <th>время_подачи_проволочных_материалов_2</th>\n",
       "      <th>время_подачи_проволочных_материалов_3</th>\n",
       "      <th>время_подачи_проволочных_материалов_4</th>\n",
       "      <th>время_подачи_проволочных_материалов_5</th>\n",
       "      <th>время_подачи_проволочных_материалов_6</th>\n",
       "      <th>время_подачи_проволочных_материалов_7</th>\n",
       "      <th>время_подачи_проволочных_материалов_8</th>\n",
       "      <th>время_подачи_проволочных_материалов_9</th>\n",
       "    </tr>\n",
       "  </thead>\n",
       "  <tbody>\n",
       "    <tr>\n",
       "      <th>0</th>\n",
       "      <td>1</td>\n",
       "      <td>2019-05-03 11:02:04</td>\n",
       "      <td>2019-05-03 11:30:38</td>\n",
       "      <td>2019-05-03 11:02:14</td>\n",
       "      <td>2019-05-03 11:28:37</td>\n",
       "      <td>NaT</td>\n",
       "      <td>NaT</td>\n",
       "      <td>NaT</td>\n",
       "      <td>2019-05-03 11:28:48</td>\n",
       "      <td>NaT</td>\n",
       "      <td>...</td>\n",
       "      <td>2019-05-03 11:10:43</td>\n",
       "      <td>2019-05-03 11:06:19</td>\n",
       "      <td>NaT</td>\n",
       "      <td>NaT</td>\n",
       "      <td>NaT</td>\n",
       "      <td>NaT</td>\n",
       "      <td>NaT</td>\n",
       "      <td>NaT</td>\n",
       "      <td>NaT</td>\n",
       "      <td>NaT</td>\n",
       "    </tr>\n",
       "    <tr>\n",
       "      <th>1</th>\n",
       "      <td>2</td>\n",
       "      <td>2019-05-03 11:34:04</td>\n",
       "      <td>2019-05-03 11:55:09</td>\n",
       "      <td>2019-05-03 11:34:14</td>\n",
       "      <td>2019-05-03 11:53:18</td>\n",
       "      <td>NaT</td>\n",
       "      <td>NaT</td>\n",
       "      <td>NaT</td>\n",
       "      <td>2019-05-03 11:36:50</td>\n",
       "      <td>NaT</td>\n",
       "      <td>...</td>\n",
       "      <td>2019-05-03 11:44:39</td>\n",
       "      <td>2019-05-03 11:36:50</td>\n",
       "      <td>NaT</td>\n",
       "      <td>NaT</td>\n",
       "      <td>NaT</td>\n",
       "      <td>NaT</td>\n",
       "      <td>NaT</td>\n",
       "      <td>NaT</td>\n",
       "      <td>NaT</td>\n",
       "      <td>NaT</td>\n",
       "    </tr>\n",
       "    <tr>\n",
       "      <th>2</th>\n",
       "      <td>3</td>\n",
       "      <td>2019-05-03 12:06:44</td>\n",
       "      <td>2019-05-03 12:35:57</td>\n",
       "      <td>2019-05-03 12:06:54</td>\n",
       "      <td>2019-05-03 12:32:19</td>\n",
       "      <td>NaT</td>\n",
       "      <td>NaT</td>\n",
       "      <td>NaT</td>\n",
       "      <td>2019-05-03 12:32:39</td>\n",
       "      <td>NaT</td>\n",
       "      <td>...</td>\n",
       "      <td>2019-05-03 12:16:16</td>\n",
       "      <td>2019-05-03 12:11:46</td>\n",
       "      <td>NaT</td>\n",
       "      <td>NaT</td>\n",
       "      <td>NaT</td>\n",
       "      <td>NaT</td>\n",
       "      <td>NaT</td>\n",
       "      <td>NaT</td>\n",
       "      <td>NaT</td>\n",
       "      <td>NaT</td>\n",
       "    </tr>\n",
       "    <tr>\n",
       "      <th>3</th>\n",
       "      <td>4</td>\n",
       "      <td>2019-05-03 12:39:27</td>\n",
       "      <td>2019-05-03 12:59:47</td>\n",
       "      <td>2019-05-03 12:39:37</td>\n",
       "      <td>2019-05-03 12:57:50</td>\n",
       "      <td>NaT</td>\n",
       "      <td>NaT</td>\n",
       "      <td>NaT</td>\n",
       "      <td>2019-05-03 12:43:22</td>\n",
       "      <td>NaT</td>\n",
       "      <td>...</td>\n",
       "      <td>2019-05-03 12:46:36</td>\n",
       "      <td>2019-05-03 12:43:22</td>\n",
       "      <td>NaT</td>\n",
       "      <td>NaT</td>\n",
       "      <td>NaT</td>\n",
       "      <td>NaT</td>\n",
       "      <td>NaT</td>\n",
       "      <td>NaT</td>\n",
       "      <td>NaT</td>\n",
       "      <td>NaT</td>\n",
       "    </tr>\n",
       "    <tr>\n",
       "      <th>4</th>\n",
       "      <td>5</td>\n",
       "      <td>2019-05-03 13:11:03</td>\n",
       "      <td>2019-05-03 13:36:39</td>\n",
       "      <td>2019-05-03 13:11:13</td>\n",
       "      <td>2019-05-03 13:33:55</td>\n",
       "      <td>NaT</td>\n",
       "      <td>NaT</td>\n",
       "      <td>NaT</td>\n",
       "      <td>2019-05-03 13:30:47</td>\n",
       "      <td>NaT</td>\n",
       "      <td>...</td>\n",
       "      <td>2019-05-03 13:30:47</td>\n",
       "      <td>2019-05-03 13:20:44</td>\n",
       "      <td>2019-05-03 13:15:34</td>\n",
       "      <td>NaT</td>\n",
       "      <td>NaT</td>\n",
       "      <td>NaT</td>\n",
       "      <td>NaT</td>\n",
       "      <td>NaT</td>\n",
       "      <td>NaT</td>\n",
       "      <td>NaT</td>\n",
       "    </tr>\n",
       "    <tr>\n",
       "      <th>5</th>\n",
       "      <td>6</td>\n",
       "      <td>2019-05-03 13:46:41</td>\n",
       "      <td>2019-05-03 14:11:38</td>\n",
       "      <td>2019-05-03 13:46:51</td>\n",
       "      <td>2019-05-03 14:09:24</td>\n",
       "      <td>NaT</td>\n",
       "      <td>NaT</td>\n",
       "      <td>NaT</td>\n",
       "      <td>2019-05-03 13:57:27</td>\n",
       "      <td>NaT</td>\n",
       "      <td>...</td>\n",
       "      <td>2019-05-03 14:03:15</td>\n",
       "      <td>2019-05-03 13:57:27</td>\n",
       "      <td>2019-05-03 13:48:52</td>\n",
       "      <td>NaT</td>\n",
       "      <td>NaT</td>\n",
       "      <td>NaT</td>\n",
       "      <td>NaT</td>\n",
       "      <td>NaT</td>\n",
       "      <td>NaT</td>\n",
       "      <td>NaT</td>\n",
       "    </tr>\n",
       "    <tr>\n",
       "      <th>6</th>\n",
       "      <td>7</td>\n",
       "      <td>2019-05-03 14:16:36</td>\n",
       "      <td>2019-05-03 14:45:40</td>\n",
       "      <td>2019-05-03 14:16:46</td>\n",
       "      <td>2019-05-03 14:41:15</td>\n",
       "      <td>NaT</td>\n",
       "      <td>NaT</td>\n",
       "      <td>NaT</td>\n",
       "      <td>2019-05-03 14:18:58</td>\n",
       "      <td>NaT</td>\n",
       "      <td>...</td>\n",
       "      <td>2019-05-03 14:27:16</td>\n",
       "      <td>2019-05-03 14:18:58</td>\n",
       "      <td>NaT</td>\n",
       "      <td>NaT</td>\n",
       "      <td>NaT</td>\n",
       "      <td>NaT</td>\n",
       "      <td>NaT</td>\n",
       "      <td>NaT</td>\n",
       "      <td>NaT</td>\n",
       "      <td>NaT</td>\n",
       "    </tr>\n",
       "    <tr>\n",
       "      <th>7</th>\n",
       "      <td>8</td>\n",
       "      <td>2019-05-03 14:53:46</td>\n",
       "      <td>2019-05-03 15:20:41</td>\n",
       "      <td>2019-05-03 14:53:56</td>\n",
       "      <td>2019-05-03 15:17:48</td>\n",
       "      <td>NaT</td>\n",
       "      <td>NaT</td>\n",
       "      <td>NaT</td>\n",
       "      <td>2019-05-03 15:17:58</td>\n",
       "      <td>NaT</td>\n",
       "      <td>...</td>\n",
       "      <td>2019-05-03 15:05:33</td>\n",
       "      <td>2019-05-03 15:01:30</td>\n",
       "      <td>NaT</td>\n",
       "      <td>NaT</td>\n",
       "      <td>NaT</td>\n",
       "      <td>NaT</td>\n",
       "      <td>NaT</td>\n",
       "      <td>NaT</td>\n",
       "      <td>NaT</td>\n",
       "      <td>NaT</td>\n",
       "    </tr>\n",
       "    <tr>\n",
       "      <th>8</th>\n",
       "      <td>9</td>\n",
       "      <td>2019-05-03 15:36:33</td>\n",
       "      <td>2019-05-03 16:06:44</td>\n",
       "      <td>2019-05-03 15:36:43</td>\n",
       "      <td>2019-05-03 16:02:49</td>\n",
       "      <td>NaT</td>\n",
       "      <td>NaT</td>\n",
       "      <td>NaT</td>\n",
       "      <td>2019-05-03 16:03:08</td>\n",
       "      <td>NaT</td>\n",
       "      <td>...</td>\n",
       "      <td>2019-05-03 15:52:39</td>\n",
       "      <td>2019-05-03 15:45:44</td>\n",
       "      <td>2019-05-03 15:39:37</td>\n",
       "      <td>NaT</td>\n",
       "      <td>NaT</td>\n",
       "      <td>NaT</td>\n",
       "      <td>NaT</td>\n",
       "      <td>NaT</td>\n",
       "      <td>NaT</td>\n",
       "      <td>NaT</td>\n",
       "    </tr>\n",
       "    <tr>\n",
       "      <th>9</th>\n",
       "      <td>10</td>\n",
       "      <td>2019-05-03 16:13:59</td>\n",
       "      <td>2019-05-03 16:39:50</td>\n",
       "      <td>2019-05-03 16:14:09</td>\n",
       "      <td>2019-05-03 16:37:51</td>\n",
       "      <td>NaT</td>\n",
       "      <td>NaT</td>\n",
       "      <td>NaT</td>\n",
       "      <td>NaT</td>\n",
       "      <td>NaT</td>\n",
       "      <td>...</td>\n",
       "      <td>2019-05-03 16:29:56</td>\n",
       "      <td>2019-05-03 16:27:00</td>\n",
       "      <td>2019-05-03 16:22:36</td>\n",
       "      <td>NaT</td>\n",
       "      <td>NaT</td>\n",
       "      <td>NaT</td>\n",
       "      <td>NaT</td>\n",
       "      <td>NaT</td>\n",
       "      <td>NaT</td>\n",
       "      <td>NaT</td>\n",
       "    </tr>\n",
       "  </tbody>\n",
       "</table>\n",
       "<p>10 rows × 29 columns</p>\n",
       "</div>"
      ],
      "text/plain": [
       "   key время_начального_замера время_последнего_замера начало_нагрева_дугой  \\\n",
       "0    1     2019-05-03 11:02:04     2019-05-03 11:30:38  2019-05-03 11:02:14   \n",
       "1    2     2019-05-03 11:34:04     2019-05-03 11:55:09  2019-05-03 11:34:14   \n",
       "2    3     2019-05-03 12:06:44     2019-05-03 12:35:57  2019-05-03 12:06:54   \n",
       "3    4     2019-05-03 12:39:27     2019-05-03 12:59:47  2019-05-03 12:39:37   \n",
       "4    5     2019-05-03 13:11:03     2019-05-03 13:36:39  2019-05-03 13:11:13   \n",
       "5    6     2019-05-03 13:46:41     2019-05-03 14:11:38  2019-05-03 13:46:51   \n",
       "6    7     2019-05-03 14:16:36     2019-05-03 14:45:40  2019-05-03 14:16:46   \n",
       "7    8     2019-05-03 14:53:46     2019-05-03 15:20:41  2019-05-03 14:53:56   \n",
       "8    9     2019-05-03 15:36:33     2019-05-03 16:06:44  2019-05-03 15:36:43   \n",
       "9   10     2019-05-03 16:13:59     2019-05-03 16:39:50  2019-05-03 16:14:09   \n",
       "\n",
       "  конец_нагрева_дугой время_подачи_материала_1 время_подачи_материала_2  \\\n",
       "0 2019-05-03 11:28:37                      NaT                      NaT   \n",
       "1 2019-05-03 11:53:18                      NaT                      NaT   \n",
       "2 2019-05-03 12:32:19                      NaT                      NaT   \n",
       "3 2019-05-03 12:57:50                      NaT                      NaT   \n",
       "4 2019-05-03 13:33:55                      NaT                      NaT   \n",
       "5 2019-05-03 14:09:24                      NaT                      NaT   \n",
       "6 2019-05-03 14:41:15                      NaT                      NaT   \n",
       "7 2019-05-03 15:17:48                      NaT                      NaT   \n",
       "8 2019-05-03 16:02:49                      NaT                      NaT   \n",
       "9 2019-05-03 16:37:51                      NaT                      NaT   \n",
       "\n",
       "  время_подачи_материала_3 время_подачи_материала_4 время_подачи_материала_5  \\\n",
       "0                      NaT      2019-05-03 11:28:48                      NaT   \n",
       "1                      NaT      2019-05-03 11:36:50                      NaT   \n",
       "2                      NaT      2019-05-03 12:32:39                      NaT   \n",
       "3                      NaT      2019-05-03 12:43:22                      NaT   \n",
       "4                      NaT      2019-05-03 13:30:47                      NaT   \n",
       "5                      NaT      2019-05-03 13:57:27                      NaT   \n",
       "6                      NaT      2019-05-03 14:18:58                      NaT   \n",
       "7                      NaT      2019-05-03 15:17:58                      NaT   \n",
       "8                      NaT      2019-05-03 16:03:08                      NaT   \n",
       "9                      NaT                      NaT                      NaT   \n",
       "\n",
       "   ... время_подачи_материала_15 время_подачи_проволочных_материалов_1  \\\n",
       "0  ...       2019-05-03 11:10:43                   2019-05-03 11:06:19   \n",
       "1  ...       2019-05-03 11:44:39                   2019-05-03 11:36:50   \n",
       "2  ...       2019-05-03 12:16:16                   2019-05-03 12:11:46   \n",
       "3  ...       2019-05-03 12:46:36                   2019-05-03 12:43:22   \n",
       "4  ...       2019-05-03 13:30:47                   2019-05-03 13:20:44   \n",
       "5  ...       2019-05-03 14:03:15                   2019-05-03 13:57:27   \n",
       "6  ...       2019-05-03 14:27:16                   2019-05-03 14:18:58   \n",
       "7  ...       2019-05-03 15:05:33                   2019-05-03 15:01:30   \n",
       "8  ...       2019-05-03 15:52:39                   2019-05-03 15:45:44   \n",
       "9  ...       2019-05-03 16:29:56                   2019-05-03 16:27:00   \n",
       "\n",
       "  время_подачи_проволочных_материалов_2 время_подачи_проволочных_материалов_3  \\\n",
       "0                                   NaT                                   NaT   \n",
       "1                                   NaT                                   NaT   \n",
       "2                                   NaT                                   NaT   \n",
       "3                                   NaT                                   NaT   \n",
       "4                   2019-05-03 13:15:34                                   NaT   \n",
       "5                   2019-05-03 13:48:52                                   NaT   \n",
       "6                                   NaT                                   NaT   \n",
       "7                                   NaT                                   NaT   \n",
       "8                   2019-05-03 15:39:37                                   NaT   \n",
       "9                   2019-05-03 16:22:36                                   NaT   \n",
       "\n",
       "  время_подачи_проволочных_материалов_4 время_подачи_проволочных_материалов_5  \\\n",
       "0                                   NaT                                   NaT   \n",
       "1                                   NaT                                   NaT   \n",
       "2                                   NaT                                   NaT   \n",
       "3                                   NaT                                   NaT   \n",
       "4                                   NaT                                   NaT   \n",
       "5                                   NaT                                   NaT   \n",
       "6                                   NaT                                   NaT   \n",
       "7                                   NaT                                   NaT   \n",
       "8                                   NaT                                   NaT   \n",
       "9                                   NaT                                   NaT   \n",
       "\n",
       "  время_подачи_проволочных_материалов_6 время_подачи_проволочных_материалов_7  \\\n",
       "0                                   NaT                                   NaT   \n",
       "1                                   NaT                                   NaT   \n",
       "2                                   NaT                                   NaT   \n",
       "3                                   NaT                                   NaT   \n",
       "4                                   NaT                                   NaT   \n",
       "5                                   NaT                                   NaT   \n",
       "6                                   NaT                                   NaT   \n",
       "7                                   NaT                                   NaT   \n",
       "8                                   NaT                                   NaT   \n",
       "9                                   NaT                                   NaT   \n",
       "\n",
       "  время_подачи_проволочных_материалов_8 время_подачи_проволочных_материалов_9  \n",
       "0                                   NaT                                   NaT  \n",
       "1                                   NaT                                   NaT  \n",
       "2                                   NaT                                   NaT  \n",
       "3                                   NaT                                   NaT  \n",
       "4                                   NaT                                   NaT  \n",
       "5                                   NaT                                   NaT  \n",
       "6                                   NaT                                   NaT  \n",
       "7                                   NaT                                   NaT  \n",
       "8                                   NaT                                   NaT  \n",
       "9                                   NaT                                   NaT  \n",
       "\n",
       "[10 rows x 29 columns]"
      ]
     },
     "metadata": {},
     "output_type": "display_data"
    }
   ],
   "source": [
    "display(total_time.head(10))"
   ]
  },
  {
   "cell_type": "markdown",
   "id": "b46bd149",
   "metadata": {},
   "source": [
    "Согласно техническому заданию, каждый этап должен начинаться и заканчиваться замером температуры. Найдём и удалим нарушения."
   ]
  },
  {
   "cell_type": "code",
   "execution_count": 117,
   "id": "8f0a2dac",
   "metadata": {},
   "outputs": [
    {
     "name": "stdout",
     "output_type": "stream",
     "text": [
      "Количество партий с нарушением в конце каждого этапа - 0.\n",
      "Количество партий с нарушением в начале каждого этапа - 0.\n"
     ]
    }
   ],
   "source": [
    "total_time_columns = total_time.select_dtypes('datetime').columns\n",
    "\n",
    "total_time['max'] = total_time['время_последнего_замера'] >= total_time[total_time_columns].max(axis=1)\n",
    "max_time = len(total_time[total_time['max'] == False][total_time_columns])\n",
    "\n",
    "total_time['min'] = total_time['время_начального_замера'] <= total_time[total_time_columns].min(axis=1)\n",
    "min_time = len(total_time[total_time['min'] == False][total_time_columns])\n",
    "\n",
    "print(f'Количество партий с нарушением в конце каждого этапа - {max_time}.')\n",
    "print(f'Количество партий с нарушением в начале каждого этапа - {min_time}.')"
   ]
  },
  {
   "cell_type": "markdown",
   "id": "85309431",
   "metadata": {},
   "source": [
    "Нарушения не обнаружены. Создадим общую таблицу."
   ]
  },
  {
   "cell_type": "code",
   "execution_count": 118,
   "id": "e752d704",
   "metadata": {},
   "outputs": [
    {
     "data": {
      "text/html": [
       "<div>\n",
       "<style scoped>\n",
       "    .dataframe tbody tr th:only-of-type {\n",
       "        vertical-align: middle;\n",
       "    }\n",
       "\n",
       "    .dataframe tbody tr th {\n",
       "        vertical-align: top;\n",
       "    }\n",
       "\n",
       "    .dataframe thead th {\n",
       "        text-align: right;\n",
       "    }\n",
       "</style>\n",
       "<table border=\"1\" class=\"dataframe\">\n",
       "  <thead>\n",
       "    <tr style=\"text-align: right;\">\n",
       "      <th></th>\n",
       "      <th>key</th>\n",
       "      <th>количество_легирующих_циклов</th>\n",
       "      <th>активная_мощность</th>\n",
       "      <th>реактивная_мощность</th>\n",
       "      <th>полная_мощность</th>\n",
       "      <th>время_нагрева</th>\n",
       "      <th>затраты_электроэнергии</th>\n",
       "      <th>объём_подаваемого_материала_1</th>\n",
       "      <th>объём_подаваемого_материала_2</th>\n",
       "      <th>объём_подаваемого_материала_3</th>\n",
       "      <th>...</th>\n",
       "      <th>конечная_температура</th>\n",
       "      <th>объём_подаваемых_проволочных_материалов_1</th>\n",
       "      <th>объём_подаваемых_проволочных_материалов_2</th>\n",
       "      <th>объём_подаваемых_проволочных_материалов_3</th>\n",
       "      <th>объём_подаваемых_проволочных_материалов_4</th>\n",
       "      <th>объём_подаваемых_проволочных_материалов_5</th>\n",
       "      <th>объём_подаваемых_проволочных_материалов_6</th>\n",
       "      <th>объём_подаваемых_проволочных_материалов_7</th>\n",
       "      <th>объём_подаваемых_проволочных_материалов_8</th>\n",
       "      <th>объём_подаваемых_проволочных_материалов_9</th>\n",
       "    </tr>\n",
       "  </thead>\n",
       "  <tbody>\n",
       "    <tr>\n",
       "      <th>0</th>\n",
       "      <td>1</td>\n",
       "      <td>5</td>\n",
       "      <td>0.607346</td>\n",
       "      <td>0.428564</td>\n",
       "      <td>0.743747</td>\n",
       "      <td>1098</td>\n",
       "      <td>770.282114</td>\n",
       "      <td>0.0</td>\n",
       "      <td>0.0</td>\n",
       "      <td>0.0</td>\n",
       "      <td>...</td>\n",
       "      <td>1613</td>\n",
       "      <td>60.059998</td>\n",
       "      <td>0.00000</td>\n",
       "      <td>0.0</td>\n",
       "      <td>0.0</td>\n",
       "      <td>0.0</td>\n",
       "      <td>0.0</td>\n",
       "      <td>0.0</td>\n",
       "      <td>0.0</td>\n",
       "      <td>0.0</td>\n",
       "    </tr>\n",
       "    <tr>\n",
       "      <th>1</th>\n",
       "      <td>2</td>\n",
       "      <td>4</td>\n",
       "      <td>0.534852</td>\n",
       "      <td>0.363339</td>\n",
       "      <td>0.647087</td>\n",
       "      <td>811</td>\n",
       "      <td>481.760005</td>\n",
       "      <td>0.0</td>\n",
       "      <td>0.0</td>\n",
       "      <td>0.0</td>\n",
       "      <td>...</td>\n",
       "      <td>1602</td>\n",
       "      <td>96.052315</td>\n",
       "      <td>0.00000</td>\n",
       "      <td>0.0</td>\n",
       "      <td>0.0</td>\n",
       "      <td>0.0</td>\n",
       "      <td>0.0</td>\n",
       "      <td>0.0</td>\n",
       "      <td>0.0</td>\n",
       "      <td>0.0</td>\n",
       "    </tr>\n",
       "    <tr>\n",
       "      <th>2</th>\n",
       "      <td>3</td>\n",
       "      <td>5</td>\n",
       "      <td>0.812728</td>\n",
       "      <td>0.587491</td>\n",
       "      <td>1.003845</td>\n",
       "      <td>655</td>\n",
       "      <td>722.837668</td>\n",
       "      <td>0.0</td>\n",
       "      <td>0.0</td>\n",
       "      <td>0.0</td>\n",
       "      <td>...</td>\n",
       "      <td>1599</td>\n",
       "      <td>91.160157</td>\n",
       "      <td>0.00000</td>\n",
       "      <td>0.0</td>\n",
       "      <td>0.0</td>\n",
       "      <td>0.0</td>\n",
       "      <td>0.0</td>\n",
       "      <td>0.0</td>\n",
       "      <td>0.0</td>\n",
       "      <td>0.0</td>\n",
       "    </tr>\n",
       "    <tr>\n",
       "      <th>3</th>\n",
       "      <td>4</td>\n",
       "      <td>4</td>\n",
       "      <td>0.676622</td>\n",
       "      <td>0.514248</td>\n",
       "      <td>0.850010</td>\n",
       "      <td>741</td>\n",
       "      <td>683.455597</td>\n",
       "      <td>0.0</td>\n",
       "      <td>0.0</td>\n",
       "      <td>0.0</td>\n",
       "      <td>...</td>\n",
       "      <td>1625</td>\n",
       "      <td>89.063515</td>\n",
       "      <td>0.00000</td>\n",
       "      <td>0.0</td>\n",
       "      <td>0.0</td>\n",
       "      <td>0.0</td>\n",
       "      <td>0.0</td>\n",
       "      <td>0.0</td>\n",
       "      <td>0.0</td>\n",
       "      <td>0.0</td>\n",
       "    </tr>\n",
       "    <tr>\n",
       "      <th>4</th>\n",
       "      <td>5</td>\n",
       "      <td>4</td>\n",
       "      <td>0.563238</td>\n",
       "      <td>0.421998</td>\n",
       "      <td>0.704245</td>\n",
       "      <td>869</td>\n",
       "      <td>512.169934</td>\n",
       "      <td>0.0</td>\n",
       "      <td>0.0</td>\n",
       "      <td>0.0</td>\n",
       "      <td>...</td>\n",
       "      <td>1602</td>\n",
       "      <td>89.238236</td>\n",
       "      <td>9.11456</td>\n",
       "      <td>0.0</td>\n",
       "      <td>0.0</td>\n",
       "      <td>0.0</td>\n",
       "      <td>0.0</td>\n",
       "      <td>0.0</td>\n",
       "      <td>0.0</td>\n",
       "      <td>0.0</td>\n",
       "    </tr>\n",
       "  </tbody>\n",
       "</table>\n",
       "<p>5 rows × 36 columns</p>\n",
       "</div>"
      ],
      "text/plain": [
       "   key  количество_легирующих_циклов  активная_мощность  реактивная_мощность  \\\n",
       "0    1                             5           0.607346             0.428564   \n",
       "1    2                             4           0.534852             0.363339   \n",
       "2    3                             5           0.812728             0.587491   \n",
       "3    4                             4           0.676622             0.514248   \n",
       "4    5                             4           0.563238             0.421998   \n",
       "\n",
       "   полная_мощность  время_нагрева  затраты_электроэнергии  \\\n",
       "0         0.743747           1098              770.282114   \n",
       "1         0.647087            811              481.760005   \n",
       "2         1.003845            655              722.837668   \n",
       "3         0.850010            741              683.455597   \n",
       "4         0.704245            869              512.169934   \n",
       "\n",
       "   объём_подаваемого_материала_1  объём_подаваемого_материала_2  \\\n",
       "0                            0.0                            0.0   \n",
       "1                            0.0                            0.0   \n",
       "2                            0.0                            0.0   \n",
       "3                            0.0                            0.0   \n",
       "4                            0.0                            0.0   \n",
       "\n",
       "   объём_подаваемого_материала_3  ...  конечная_температура  \\\n",
       "0                            0.0  ...                  1613   \n",
       "1                            0.0  ...                  1602   \n",
       "2                            0.0  ...                  1599   \n",
       "3                            0.0  ...                  1625   \n",
       "4                            0.0  ...                  1602   \n",
       "\n",
       "   объём_подаваемых_проволочных_материалов_1  \\\n",
       "0                                  60.059998   \n",
       "1                                  96.052315   \n",
       "2                                  91.160157   \n",
       "3                                  89.063515   \n",
       "4                                  89.238236   \n",
       "\n",
       "   объём_подаваемых_проволочных_материалов_2  \\\n",
       "0                                    0.00000   \n",
       "1                                    0.00000   \n",
       "2                                    0.00000   \n",
       "3                                    0.00000   \n",
       "4                                    9.11456   \n",
       "\n",
       "   объём_подаваемых_проволочных_материалов_3  \\\n",
       "0                                        0.0   \n",
       "1                                        0.0   \n",
       "2                                        0.0   \n",
       "3                                        0.0   \n",
       "4                                        0.0   \n",
       "\n",
       "   объём_подаваемых_проволочных_материалов_4  \\\n",
       "0                                        0.0   \n",
       "1                                        0.0   \n",
       "2                                        0.0   \n",
       "3                                        0.0   \n",
       "4                                        0.0   \n",
       "\n",
       "   объём_подаваемых_проволочных_материалов_5  \\\n",
       "0                                        0.0   \n",
       "1                                        0.0   \n",
       "2                                        0.0   \n",
       "3                                        0.0   \n",
       "4                                        0.0   \n",
       "\n",
       "   объём_подаваемых_проволочных_материалов_6  \\\n",
       "0                                        0.0   \n",
       "1                                        0.0   \n",
       "2                                        0.0   \n",
       "3                                        0.0   \n",
       "4                                        0.0   \n",
       "\n",
       "   объём_подаваемых_проволочных_материалов_7  \\\n",
       "0                                        0.0   \n",
       "1                                        0.0   \n",
       "2                                        0.0   \n",
       "3                                        0.0   \n",
       "4                                        0.0   \n",
       "\n",
       "   объём_подаваемых_проволочных_материалов_8  \\\n",
       "0                                        0.0   \n",
       "1                                        0.0   \n",
       "2                                        0.0   \n",
       "3                                        0.0   \n",
       "4                                        0.0   \n",
       "\n",
       "   объём_подаваемых_проволочных_материалов_9  \n",
       "0                                        0.0  \n",
       "1                                        0.0  \n",
       "2                                        0.0  \n",
       "3                                        0.0  \n",
       "4                                        0.0  \n",
       "\n",
       "[5 rows x 36 columns]"
      ]
     },
     "metadata": {},
     "output_type": "display_data"
    }
   ],
   "source": [
    "data = data_arc_new\n",
    "\n",
    "data = data.merge(data_bulk_new, on=['key'])\n",
    "data = data.merge(data_gas_new,  on=['key'])\n",
    "data = data.merge(data_temp_new, on=['key'])\n",
    "data = data.merge(data_wire_new, on=['key'])\n",
    "    \n",
    "display(data.head())"
   ]
  },
  {
   "cell_type": "markdown",
   "id": "41fd8246",
   "metadata": {},
   "source": [
    "## Исследовательский анализ и предобработка данных объединённого датафрейма"
   ]
  },
  {
   "cell_type": "markdown",
   "id": "c3afb040",
   "metadata": {},
   "source": [
    "Изучим корреляцию входных и целевого признака."
   ]
  },
  {
   "cell_type": "code",
   "execution_count": 120,
   "id": "08141ea2",
   "metadata": {},
   "outputs": [],
   "source": [
    "data = data.drop('key', axis=1)"
   ]
  },
  {
   "cell_type": "code",
   "execution_count": 121,
   "id": "db588d0b",
   "metadata": {},
   "outputs": [
    {
     "data": {
      "text/html": [
       "<div>\n",
       "<style scoped>\n",
       "    .dataframe tbody tr th:only-of-type {\n",
       "        vertical-align: middle;\n",
       "    }\n",
       "\n",
       "    .dataframe tbody tr th {\n",
       "        vertical-align: top;\n",
       "    }\n",
       "\n",
       "    .dataframe thead th {\n",
       "        text-align: right;\n",
       "    }\n",
       "</style>\n",
       "<table border=\"1\" class=\"dataframe\">\n",
       "  <thead>\n",
       "    <tr style=\"text-align: right;\">\n",
       "      <th></th>\n",
       "      <th>количество_легирующих_циклов</th>\n",
       "      <th>активная_мощность</th>\n",
       "      <th>реактивная_мощность</th>\n",
       "      <th>полная_мощность</th>\n",
       "      <th>время_нагрева</th>\n",
       "      <th>затраты_электроэнергии</th>\n",
       "      <th>объём_подаваемого_материала_1</th>\n",
       "      <th>объём_подаваемого_материала_2</th>\n",
       "      <th>объём_подаваемого_материала_3</th>\n",
       "      <th>объём_подаваемого_материала_4</th>\n",
       "      <th>...</th>\n",
       "      <th>конечная_температура</th>\n",
       "      <th>объём_подаваемых_проволочных_материалов_1</th>\n",
       "      <th>объём_подаваемых_проволочных_материалов_2</th>\n",
       "      <th>объём_подаваемых_проволочных_материалов_3</th>\n",
       "      <th>объём_подаваемых_проволочных_материалов_4</th>\n",
       "      <th>объём_подаваемых_проволочных_материалов_5</th>\n",
       "      <th>объём_подаваемых_проволочных_материалов_6</th>\n",
       "      <th>объём_подаваемых_проволочных_материалов_7</th>\n",
       "      <th>объём_подаваемых_проволочных_материалов_8</th>\n",
       "      <th>объём_подаваемых_проволочных_материалов_9</th>\n",
       "    </tr>\n",
       "  </thead>\n",
       "  <tbody>\n",
       "    <tr>\n",
       "      <th>количество_легирующих_циклов</th>\n",
       "      <td>1.000000</td>\n",
       "      <td>0.031634</td>\n",
       "      <td>0.030357</td>\n",
       "      <td>0.031321</td>\n",
       "      <td>0.798594</td>\n",
       "      <td>0.711393</td>\n",
       "      <td>0.097596</td>\n",
       "      <td>0.093158</td>\n",
       "      <td>0.107031</td>\n",
       "      <td>-0.005299</td>\n",
       "      <td>...</td>\n",
       "      <td>0.180286</td>\n",
       "      <td>0.137477</td>\n",
       "      <td>0.078181</td>\n",
       "      <td>0.055224</td>\n",
       "      <td>0.113793</td>\n",
       "      <td>NaN</td>\n",
       "      <td>0.053350</td>\n",
       "      <td>0.073772</td>\n",
       "      <td>0.043897</td>\n",
       "      <td>-0.024735</td>\n",
       "    </tr>\n",
       "    <tr>\n",
       "      <th>активная_мощность</th>\n",
       "      <td>0.031634</td>\n",
       "      <td>1.000000</td>\n",
       "      <td>0.965294</td>\n",
       "      <td>0.995390</td>\n",
       "      <td>0.047920</td>\n",
       "      <td>0.396106</td>\n",
       "      <td>0.022453</td>\n",
       "      <td>0.002669</td>\n",
       "      <td>0.026487</td>\n",
       "      <td>0.021827</td>\n",
       "      <td>...</td>\n",
       "      <td>0.039634</td>\n",
       "      <td>0.035817</td>\n",
       "      <td>-0.014628</td>\n",
       "      <td>0.019258</td>\n",
       "      <td>-0.005447</td>\n",
       "      <td>NaN</td>\n",
       "      <td>0.010539</td>\n",
       "      <td>-0.003787</td>\n",
       "      <td>-0.005262</td>\n",
       "      <td>-0.006488</td>\n",
       "    </tr>\n",
       "    <tr>\n",
       "      <th>реактивная_мощность</th>\n",
       "      <td>0.030357</td>\n",
       "      <td>0.965294</td>\n",
       "      <td>1.000000</td>\n",
       "      <td>0.985871</td>\n",
       "      <td>0.042040</td>\n",
       "      <td>0.387426</td>\n",
       "      <td>0.018226</td>\n",
       "      <td>-0.000718</td>\n",
       "      <td>0.022567</td>\n",
       "      <td>0.022569</td>\n",
       "      <td>...</td>\n",
       "      <td>0.032808</td>\n",
       "      <td>0.043010</td>\n",
       "      <td>-0.014424</td>\n",
       "      <td>0.020605</td>\n",
       "      <td>-0.004978</td>\n",
       "      <td>NaN</td>\n",
       "      <td>0.006196</td>\n",
       "      <td>0.003450</td>\n",
       "      <td>-0.012990</td>\n",
       "      <td>0.002624</td>\n",
       "    </tr>\n",
       "    <tr>\n",
       "      <th>полная_мощность</th>\n",
       "      <td>0.031321</td>\n",
       "      <td>0.995390</td>\n",
       "      <td>0.985871</td>\n",
       "      <td>1.000000</td>\n",
       "      <td>0.046052</td>\n",
       "      <td>0.396045</td>\n",
       "      <td>0.021088</td>\n",
       "      <td>0.001486</td>\n",
       "      <td>0.025310</td>\n",
       "      <td>0.022214</td>\n",
       "      <td>...</td>\n",
       "      <td>0.037334</td>\n",
       "      <td>0.038778</td>\n",
       "      <td>-0.014697</td>\n",
       "      <td>0.019860</td>\n",
       "      <td>-0.005308</td>\n",
       "      <td>NaN</td>\n",
       "      <td>0.009070</td>\n",
       "      <td>-0.001139</td>\n",
       "      <td>-0.008135</td>\n",
       "      <td>-0.003045</td>\n",
       "    </tr>\n",
       "    <tr>\n",
       "      <th>время_нагрева</th>\n",
       "      <td>0.798594</td>\n",
       "      <td>0.047920</td>\n",
       "      <td>0.042040</td>\n",
       "      <td>0.046052</td>\n",
       "      <td>1.000000</td>\n",
       "      <td>0.900371</td>\n",
       "      <td>0.102693</td>\n",
       "      <td>0.038134</td>\n",
       "      <td>0.091553</td>\n",
       "      <td>-0.029150</td>\n",
       "      <td>...</td>\n",
       "      <td>0.278310</td>\n",
       "      <td>0.055260</td>\n",
       "      <td>0.054568</td>\n",
       "      <td>0.033244</td>\n",
       "      <td>0.054762</td>\n",
       "      <td>NaN</td>\n",
       "      <td>0.042149</td>\n",
       "      <td>0.027602</td>\n",
       "      <td>0.017777</td>\n",
       "      <td>-0.011757</td>\n",
       "    </tr>\n",
       "    <tr>\n",
       "      <th>затраты_электроэнергии</th>\n",
       "      <td>0.711393</td>\n",
       "      <td>0.396106</td>\n",
       "      <td>0.387426</td>\n",
       "      <td>0.396045</td>\n",
       "      <td>0.900371</td>\n",
       "      <td>1.000000</td>\n",
       "      <td>0.095316</td>\n",
       "      <td>0.037700</td>\n",
       "      <td>0.088693</td>\n",
       "      <td>-0.022108</td>\n",
       "      <td>...</td>\n",
       "      <td>0.256232</td>\n",
       "      <td>0.060330</td>\n",
       "      <td>0.047385</td>\n",
       "      <td>0.036211</td>\n",
       "      <td>0.047717</td>\n",
       "      <td>NaN</td>\n",
       "      <td>0.047060</td>\n",
       "      <td>0.021009</td>\n",
       "      <td>0.014921</td>\n",
       "      <td>-0.011280</td>\n",
       "    </tr>\n",
       "    <tr>\n",
       "      <th>объём_подаваемого_материала_1</th>\n",
       "      <td>0.097596</td>\n",
       "      <td>0.022453</td>\n",
       "      <td>0.018226</td>\n",
       "      <td>0.021088</td>\n",
       "      <td>0.102693</td>\n",
       "      <td>0.095316</td>\n",
       "      <td>1.000000</td>\n",
       "      <td>0.224677</td>\n",
       "      <td>-0.011538</td>\n",
       "      <td>0.041662</td>\n",
       "      <td>...</td>\n",
       "      <td>-0.075283</td>\n",
       "      <td>0.013796</td>\n",
       "      <td>-0.009229</td>\n",
       "      <td>0.020204</td>\n",
       "      <td>0.146276</td>\n",
       "      <td>NaN</td>\n",
       "      <td>0.148509</td>\n",
       "      <td>0.083432</td>\n",
       "      <td>-0.019579</td>\n",
       "      <td>0.011013</td>\n",
       "    </tr>\n",
       "    <tr>\n",
       "      <th>объём_подаваемого_материала_2</th>\n",
       "      <td>0.093158</td>\n",
       "      <td>0.002669</td>\n",
       "      <td>-0.000718</td>\n",
       "      <td>0.001486</td>\n",
       "      <td>0.038134</td>\n",
       "      <td>0.037700</td>\n",
       "      <td>0.224677</td>\n",
       "      <td>1.000000</td>\n",
       "      <td>-0.046953</td>\n",
       "      <td>0.040756</td>\n",
       "      <td>...</td>\n",
       "      <td>-0.082481</td>\n",
       "      <td>-0.169643</td>\n",
       "      <td>-0.039070</td>\n",
       "      <td>0.223188</td>\n",
       "      <td>0.699339</td>\n",
       "      <td>NaN</td>\n",
       "      <td>0.558882</td>\n",
       "      <td>0.431735</td>\n",
       "      <td>-0.005285</td>\n",
       "      <td>-0.006857</td>\n",
       "    </tr>\n",
       "    <tr>\n",
       "      <th>объём_подаваемого_материала_3</th>\n",
       "      <td>0.107031</td>\n",
       "      <td>0.026487</td>\n",
       "      <td>0.022567</td>\n",
       "      <td>0.025310</td>\n",
       "      <td>0.091553</td>\n",
       "      <td>0.088693</td>\n",
       "      <td>-0.011538</td>\n",
       "      <td>-0.046953</td>\n",
       "      <td>1.000000</td>\n",
       "      <td>-0.295526</td>\n",
       "      <td>...</td>\n",
       "      <td>-0.036877</td>\n",
       "      <td>0.037727</td>\n",
       "      <td>0.094966</td>\n",
       "      <td>0.005840</td>\n",
       "      <td>-0.040582</td>\n",
       "      <td>NaN</td>\n",
       "      <td>0.007174</td>\n",
       "      <td>-0.019475</td>\n",
       "      <td>0.004885</td>\n",
       "      <td>0.004668</td>\n",
       "    </tr>\n",
       "    <tr>\n",
       "      <th>объём_подаваемого_материала_4</th>\n",
       "      <td>-0.005299</td>\n",
       "      <td>0.021827</td>\n",
       "      <td>0.022569</td>\n",
       "      <td>0.022214</td>\n",
       "      <td>-0.029150</td>\n",
       "      <td>-0.022108</td>\n",
       "      <td>0.041662</td>\n",
       "      <td>0.040756</td>\n",
       "      <td>-0.295526</td>\n",
       "      <td>1.000000</td>\n",
       "      <td>...</td>\n",
       "      <td>0.188016</td>\n",
       "      <td>0.298103</td>\n",
       "      <td>-0.268029</td>\n",
       "      <td>-0.039326</td>\n",
       "      <td>0.034390</td>\n",
       "      <td>NaN</td>\n",
       "      <td>-0.011507</td>\n",
       "      <td>0.033822</td>\n",
       "      <td>0.007781</td>\n",
       "      <td>-0.058236</td>\n",
       "    </tr>\n",
       "    <tr>\n",
       "      <th>объём_подаваемого_материала_5</th>\n",
       "      <td>0.075010</td>\n",
       "      <td>0.004246</td>\n",
       "      <td>-0.000129</td>\n",
       "      <td>0.002701</td>\n",
       "      <td>0.013335</td>\n",
       "      <td>0.019308</td>\n",
       "      <td>0.060365</td>\n",
       "      <td>0.360291</td>\n",
       "      <td>-0.006766</td>\n",
       "      <td>0.028273</td>\n",
       "      <td>...</td>\n",
       "      <td>-0.028385</td>\n",
       "      <td>-0.013467</td>\n",
       "      <td>-0.013797</td>\n",
       "      <td>0.070889</td>\n",
       "      <td>0.262752</td>\n",
       "      <td>NaN</td>\n",
       "      <td>0.204796</td>\n",
       "      <td>0.172136</td>\n",
       "      <td>-0.008355</td>\n",
       "      <td>-0.010840</td>\n",
       "    </tr>\n",
       "    <tr>\n",
       "      <th>объём_подаваемого_материала_6</th>\n",
       "      <td>0.152448</td>\n",
       "      <td>-0.001013</td>\n",
       "      <td>-0.002673</td>\n",
       "      <td>-0.001679</td>\n",
       "      <td>0.161452</td>\n",
       "      <td>0.148114</td>\n",
       "      <td>-0.003870</td>\n",
       "      <td>-0.030053</td>\n",
       "      <td>0.065594</td>\n",
       "      <td>-0.252030</td>\n",
       "      <td>...</td>\n",
       "      <td>-0.181960</td>\n",
       "      <td>-0.235958</td>\n",
       "      <td>0.204738</td>\n",
       "      <td>-0.046626</td>\n",
       "      <td>-0.025976</td>\n",
       "      <td>NaN</td>\n",
       "      <td>-0.020324</td>\n",
       "      <td>-0.012466</td>\n",
       "      <td>-0.028506</td>\n",
       "      <td>-0.013417</td>\n",
       "    </tr>\n",
       "    <tr>\n",
       "      <th>объём_подаваемого_материала_7</th>\n",
       "      <td>0.152704</td>\n",
       "      <td>0.008879</td>\n",
       "      <td>0.008750</td>\n",
       "      <td>0.008901</td>\n",
       "      <td>0.084615</td>\n",
       "      <td>0.079351</td>\n",
       "      <td>0.237195</td>\n",
       "      <td>0.679352</td>\n",
       "      <td>-0.033521</td>\n",
       "      <td>0.045866</td>\n",
       "      <td>...</td>\n",
       "      <td>-0.107303</td>\n",
       "      <td>-0.143406</td>\n",
       "      <td>-0.000630</td>\n",
       "      <td>0.156613</td>\n",
       "      <td>0.740570</td>\n",
       "      <td>NaN</td>\n",
       "      <td>0.456093</td>\n",
       "      <td>0.372248</td>\n",
       "      <td>-0.004633</td>\n",
       "      <td>-0.006011</td>\n",
       "    </tr>\n",
       "    <tr>\n",
       "      <th>объём_подаваемого_материала_8</th>\n",
       "      <td>-0.009017</td>\n",
       "      <td>-0.041703</td>\n",
       "      <td>-0.040932</td>\n",
       "      <td>-0.041697</td>\n",
       "      <td>-0.011341</td>\n",
       "      <td>-0.023129</td>\n",
       "      <td>-0.005737</td>\n",
       "      <td>-0.001549</td>\n",
       "      <td>0.020875</td>\n",
       "      <td>-0.013209</td>\n",
       "      <td>...</td>\n",
       "      <td>-0.026595</td>\n",
       "      <td>0.034696</td>\n",
       "      <td>0.018919</td>\n",
       "      <td>-0.002405</td>\n",
       "      <td>-0.001339</td>\n",
       "      <td>NaN</td>\n",
       "      <td>-0.002339</td>\n",
       "      <td>-0.000642</td>\n",
       "      <td>0.321038</td>\n",
       "      <td>-0.001906</td>\n",
       "    </tr>\n",
       "    <tr>\n",
       "      <th>объём_подаваемого_материала_9</th>\n",
       "      <td>0.038213</td>\n",
       "      <td>-0.010945</td>\n",
       "      <td>-0.017760</td>\n",
       "      <td>-0.013529</td>\n",
       "      <td>0.012841</td>\n",
       "      <td>0.008419</td>\n",
       "      <td>-0.019800</td>\n",
       "      <td>-0.005344</td>\n",
       "      <td>0.011390</td>\n",
       "      <td>-0.002995</td>\n",
       "      <td>...</td>\n",
       "      <td>-0.016093</td>\n",
       "      <td>0.022646</td>\n",
       "      <td>0.066757</td>\n",
       "      <td>-0.008300</td>\n",
       "      <td>-0.004619</td>\n",
       "      <td>NaN</td>\n",
       "      <td>-0.008072</td>\n",
       "      <td>-0.002217</td>\n",
       "      <td>0.974968</td>\n",
       "      <td>-0.006577</td>\n",
       "    </tr>\n",
       "    <tr>\n",
       "      <th>объём_подаваемого_материала_10</th>\n",
       "      <td>0.012394</td>\n",
       "      <td>-0.007541</td>\n",
       "      <td>-0.010941</td>\n",
       "      <td>-0.008918</td>\n",
       "      <td>-0.005451</td>\n",
       "      <td>-0.007765</td>\n",
       "      <td>-0.023333</td>\n",
       "      <td>-0.018055</td>\n",
       "      <td>-0.085266</td>\n",
       "      <td>-0.084975</td>\n",
       "      <td>...</td>\n",
       "      <td>0.061307</td>\n",
       "      <td>0.062873</td>\n",
       "      <td>-0.103795</td>\n",
       "      <td>-0.028039</td>\n",
       "      <td>-0.015605</td>\n",
       "      <td>NaN</td>\n",
       "      <td>-0.017860</td>\n",
       "      <td>-0.007489</td>\n",
       "      <td>-0.017125</td>\n",
       "      <td>-0.022220</td>\n",
       "    </tr>\n",
       "    <tr>\n",
       "      <th>объём_подаваемого_материала_11</th>\n",
       "      <td>0.062460</td>\n",
       "      <td>0.017331</td>\n",
       "      <td>0.015655</td>\n",
       "      <td>0.016791</td>\n",
       "      <td>0.077950</td>\n",
       "      <td>0.068884</td>\n",
       "      <td>-0.038008</td>\n",
       "      <td>0.001449</td>\n",
       "      <td>-0.007383</td>\n",
       "      <td>-0.119733</td>\n",
       "      <td>...</td>\n",
       "      <td>-0.114814</td>\n",
       "      <td>-0.117826</td>\n",
       "      <td>0.062093</td>\n",
       "      <td>-0.021878</td>\n",
       "      <td>-0.012180</td>\n",
       "      <td>NaN</td>\n",
       "      <td>0.008655</td>\n",
       "      <td>-0.005845</td>\n",
       "      <td>-0.013367</td>\n",
       "      <td>-0.017343</td>\n",
       "    </tr>\n",
       "    <tr>\n",
       "      <th>объём_подаваемого_материала_12</th>\n",
       "      <td>0.305838</td>\n",
       "      <td>0.037171</td>\n",
       "      <td>0.041370</td>\n",
       "      <td>0.038907</td>\n",
       "      <td>0.465929</td>\n",
       "      <td>0.420363</td>\n",
       "      <td>0.325724</td>\n",
       "      <td>-0.099125</td>\n",
       "      <td>0.018059</td>\n",
       "      <td>0.105190</td>\n",
       "      <td>...</td>\n",
       "      <td>0.267266</td>\n",
       "      <td>0.170691</td>\n",
       "      <td>-0.098049</td>\n",
       "      <td>-0.120697</td>\n",
       "      <td>-0.085675</td>\n",
       "      <td>NaN</td>\n",
       "      <td>-0.042895</td>\n",
       "      <td>-0.041115</td>\n",
       "      <td>-0.055898</td>\n",
       "      <td>-0.042357</td>\n",
       "    </tr>\n",
       "    <tr>\n",
       "      <th>объём_подаваемого_материала_13</th>\n",
       "      <td>0.117857</td>\n",
       "      <td>-0.013901</td>\n",
       "      <td>-0.013214</td>\n",
       "      <td>-0.013769</td>\n",
       "      <td>0.129310</td>\n",
       "      <td>0.133381</td>\n",
       "      <td>-0.010325</td>\n",
       "      <td>-0.005604</td>\n",
       "      <td>-0.013385</td>\n",
       "      <td>0.003154</td>\n",
       "      <td>...</td>\n",
       "      <td>-0.010938</td>\n",
       "      <td>0.039510</td>\n",
       "      <td>-0.001390</td>\n",
       "      <td>-0.008703</td>\n",
       "      <td>-0.004844</td>\n",
       "      <td>NaN</td>\n",
       "      <td>-0.008465</td>\n",
       "      <td>-0.002325</td>\n",
       "      <td>-0.005316</td>\n",
       "      <td>-0.006897</td>\n",
       "    </tr>\n",
       "    <tr>\n",
       "      <th>объём_подаваемого_материала_14</th>\n",
       "      <td>0.333412</td>\n",
       "      <td>0.019674</td>\n",
       "      <td>0.015237</td>\n",
       "      <td>0.018214</td>\n",
       "      <td>0.460464</td>\n",
       "      <td>0.405554</td>\n",
       "      <td>0.207469</td>\n",
       "      <td>-0.141229</td>\n",
       "      <td>0.010880</td>\n",
       "      <td>-0.091440</td>\n",
       "      <td>...</td>\n",
       "      <td>0.114422</td>\n",
       "      <td>-0.053055</td>\n",
       "      <td>0.036822</td>\n",
       "      <td>-0.009071</td>\n",
       "      <td>-0.122067</td>\n",
       "      <td>NaN</td>\n",
       "      <td>-0.052638</td>\n",
       "      <td>-0.058579</td>\n",
       "      <td>0.043579</td>\n",
       "      <td>0.018436</td>\n",
       "    </tr>\n",
       "    <tr>\n",
       "      <th>объём_подаваемого_материала_15</th>\n",
       "      <td>0.173172</td>\n",
       "      <td>0.038609</td>\n",
       "      <td>0.037149</td>\n",
       "      <td>0.038227</td>\n",
       "      <td>0.294436</td>\n",
       "      <td>0.272136</td>\n",
       "      <td>-0.001211</td>\n",
       "      <td>-0.105898</td>\n",
       "      <td>-0.013181</td>\n",
       "      <td>0.100833</td>\n",
       "      <td>...</td>\n",
       "      <td>0.266273</td>\n",
       "      <td>0.118912</td>\n",
       "      <td>-0.096241</td>\n",
       "      <td>-0.118355</td>\n",
       "      <td>-0.091530</td>\n",
       "      <td>NaN</td>\n",
       "      <td>-0.032618</td>\n",
       "      <td>-0.043925</td>\n",
       "      <td>-0.090132</td>\n",
       "      <td>-0.037129</td>\n",
       "    </tr>\n",
       "    <tr>\n",
       "      <th>общий_объём_материала</th>\n",
       "      <td>0.125649</td>\n",
       "      <td>0.028059</td>\n",
       "      <td>0.030650</td>\n",
       "      <td>0.029298</td>\n",
       "      <td>0.180657</td>\n",
       "      <td>0.171470</td>\n",
       "      <td>0.048716</td>\n",
       "      <td>0.009325</td>\n",
       "      <td>0.072656</td>\n",
       "      <td>0.026177</td>\n",
       "      <td>...</td>\n",
       "      <td>-0.007087</td>\n",
       "      <td>0.028429</td>\n",
       "      <td>0.015468</td>\n",
       "      <td>-0.057569</td>\n",
       "      <td>0.058571</td>\n",
       "      <td>NaN</td>\n",
       "      <td>0.012932</td>\n",
       "      <td>0.046603</td>\n",
       "      <td>-0.044971</td>\n",
       "      <td>0.002314</td>\n",
       "    </tr>\n",
       "    <tr>\n",
       "      <th>объём_подаваемого_газа_1</th>\n",
       "      <td>0.403337</td>\n",
       "      <td>0.038344</td>\n",
       "      <td>0.039666</td>\n",
       "      <td>0.039138</td>\n",
       "      <td>0.395542</td>\n",
       "      <td>0.353441</td>\n",
       "      <td>0.234024</td>\n",
       "      <td>0.217512</td>\n",
       "      <td>0.059254</td>\n",
       "      <td>0.017092</td>\n",
       "      <td>...</td>\n",
       "      <td>0.058801</td>\n",
       "      <td>0.117663</td>\n",
       "      <td>0.104524</td>\n",
       "      <td>0.103331</td>\n",
       "      <td>0.145459</td>\n",
       "      <td>NaN</td>\n",
       "      <td>0.108046</td>\n",
       "      <td>0.078983</td>\n",
       "      <td>0.118083</td>\n",
       "      <td>0.013970</td>\n",
       "    </tr>\n",
       "    <tr>\n",
       "      <th>начальная_температура</th>\n",
       "      <td>-0.179313</td>\n",
       "      <td>-0.005569</td>\n",
       "      <td>-0.000663</td>\n",
       "      <td>-0.003805</td>\n",
       "      <td>-0.387161</td>\n",
       "      <td>-0.347707</td>\n",
       "      <td>0.079577</td>\n",
       "      <td>0.141816</td>\n",
       "      <td>-0.111165</td>\n",
       "      <td>0.163812</td>\n",
       "      <td>...</td>\n",
       "      <td>0.299397</td>\n",
       "      <td>0.261889</td>\n",
       "      <td>-0.099452</td>\n",
       "      <td>-0.002905</td>\n",
       "      <td>0.076375</td>\n",
       "      <td>NaN</td>\n",
       "      <td>0.021209</td>\n",
       "      <td>0.052926</td>\n",
       "      <td>-0.029515</td>\n",
       "      <td>0.003033</td>\n",
       "    </tr>\n",
       "    <tr>\n",
       "      <th>минимальная_температура</th>\n",
       "      <td>-0.326088</td>\n",
       "      <td>-0.021160</td>\n",
       "      <td>-0.015543</td>\n",
       "      <td>-0.019290</td>\n",
       "      <td>-0.488728</td>\n",
       "      <td>-0.437954</td>\n",
       "      <td>0.019524</td>\n",
       "      <td>0.019973</td>\n",
       "      <td>-0.116289</td>\n",
       "      <td>0.155049</td>\n",
       "      <td>...</td>\n",
       "      <td>0.407747</td>\n",
       "      <td>0.218169</td>\n",
       "      <td>-0.132392</td>\n",
       "      <td>-0.052783</td>\n",
       "      <td>-0.042903</td>\n",
       "      <td>NaN</td>\n",
       "      <td>-0.055407</td>\n",
       "      <td>-0.044307</td>\n",
       "      <td>-0.028640</td>\n",
       "      <td>0.011516</td>\n",
       "    </tr>\n",
       "    <tr>\n",
       "      <th>конечная_температура</th>\n",
       "      <td>0.180286</td>\n",
       "      <td>0.039634</td>\n",
       "      <td>0.032808</td>\n",
       "      <td>0.037334</td>\n",
       "      <td>0.278310</td>\n",
       "      <td>0.256232</td>\n",
       "      <td>-0.075283</td>\n",
       "      <td>-0.082481</td>\n",
       "      <td>-0.036877</td>\n",
       "      <td>0.188016</td>\n",
       "      <td>...</td>\n",
       "      <td>1.000000</td>\n",
       "      <td>0.317619</td>\n",
       "      <td>-0.206889</td>\n",
       "      <td>-0.047569</td>\n",
       "      <td>-0.159753</td>\n",
       "      <td>NaN</td>\n",
       "      <td>-0.084070</td>\n",
       "      <td>-0.137285</td>\n",
       "      <td>-0.010784</td>\n",
       "      <td>-0.027512</td>\n",
       "    </tr>\n",
       "    <tr>\n",
       "      <th>объём_подаваемых_проволочных_материалов_1</th>\n",
       "      <td>0.137477</td>\n",
       "      <td>0.035817</td>\n",
       "      <td>0.043010</td>\n",
       "      <td>0.038778</td>\n",
       "      <td>0.055260</td>\n",
       "      <td>0.060330</td>\n",
       "      <td>0.013796</td>\n",
       "      <td>-0.169643</td>\n",
       "      <td>0.037727</td>\n",
       "      <td>0.298103</td>\n",
       "      <td>...</td>\n",
       "      <td>0.317619</td>\n",
       "      <td>1.000000</td>\n",
       "      <td>-0.069394</td>\n",
       "      <td>0.038159</td>\n",
       "      <td>-0.142144</td>\n",
       "      <td>NaN</td>\n",
       "      <td>-0.128143</td>\n",
       "      <td>-0.067575</td>\n",
       "      <td>0.017278</td>\n",
       "      <td>0.021130</td>\n",
       "    </tr>\n",
       "    <tr>\n",
       "      <th>объём_подаваемых_проволочных_материалов_2</th>\n",
       "      <td>0.078181</td>\n",
       "      <td>-0.014628</td>\n",
       "      <td>-0.014424</td>\n",
       "      <td>-0.014697</td>\n",
       "      <td>0.054568</td>\n",
       "      <td>0.047385</td>\n",
       "      <td>-0.009229</td>\n",
       "      <td>-0.039070</td>\n",
       "      <td>0.094966</td>\n",
       "      <td>-0.268029</td>\n",
       "      <td>...</td>\n",
       "      <td>-0.206889</td>\n",
       "      <td>-0.069394</td>\n",
       "      <td>1.000000</td>\n",
       "      <td>0.094107</td>\n",
       "      <td>-0.033769</td>\n",
       "      <td>NaN</td>\n",
       "      <td>-0.058719</td>\n",
       "      <td>-0.016206</td>\n",
       "      <td>0.069297</td>\n",
       "      <td>0.213225</td>\n",
       "    </tr>\n",
       "    <tr>\n",
       "      <th>объём_подаваемых_проволочных_материалов_3</th>\n",
       "      <td>0.055224</td>\n",
       "      <td>0.019258</td>\n",
       "      <td>0.020605</td>\n",
       "      <td>0.019860</td>\n",
       "      <td>0.033244</td>\n",
       "      <td>0.036211</td>\n",
       "      <td>0.020204</td>\n",
       "      <td>0.223188</td>\n",
       "      <td>0.005840</td>\n",
       "      <td>-0.039326</td>\n",
       "      <td>...</td>\n",
       "      <td>-0.047569</td>\n",
       "      <td>0.038159</td>\n",
       "      <td>0.094107</td>\n",
       "      <td>1.000000</td>\n",
       "      <td>0.169797</td>\n",
       "      <td>NaN</td>\n",
       "      <td>0.183433</td>\n",
       "      <td>0.100386</td>\n",
       "      <td>-0.008207</td>\n",
       "      <td>-0.010649</td>\n",
       "    </tr>\n",
       "    <tr>\n",
       "      <th>объём_подаваемых_проволочных_материалов_4</th>\n",
       "      <td>0.113793</td>\n",
       "      <td>-0.005447</td>\n",
       "      <td>-0.004978</td>\n",
       "      <td>-0.005308</td>\n",
       "      <td>0.054762</td>\n",
       "      <td>0.047717</td>\n",
       "      <td>0.146276</td>\n",
       "      <td>0.699339</td>\n",
       "      <td>-0.040582</td>\n",
       "      <td>0.034390</td>\n",
       "      <td>...</td>\n",
       "      <td>-0.159753</td>\n",
       "      <td>-0.142144</td>\n",
       "      <td>-0.033769</td>\n",
       "      <td>0.169797</td>\n",
       "      <td>1.000000</td>\n",
       "      <td>NaN</td>\n",
       "      <td>0.445953</td>\n",
       "      <td>0.602963</td>\n",
       "      <td>-0.004568</td>\n",
       "      <td>-0.005926</td>\n",
       "    </tr>\n",
       "    <tr>\n",
       "      <th>объём_подаваемых_проволочных_материалов_5</th>\n",
       "      <td>NaN</td>\n",
       "      <td>NaN</td>\n",
       "      <td>NaN</td>\n",
       "      <td>NaN</td>\n",
       "      <td>NaN</td>\n",
       "      <td>NaN</td>\n",
       "      <td>NaN</td>\n",
       "      <td>NaN</td>\n",
       "      <td>NaN</td>\n",
       "      <td>NaN</td>\n",
       "      <td>...</td>\n",
       "      <td>NaN</td>\n",
       "      <td>NaN</td>\n",
       "      <td>NaN</td>\n",
       "      <td>NaN</td>\n",
       "      <td>NaN</td>\n",
       "      <td>NaN</td>\n",
       "      <td>NaN</td>\n",
       "      <td>NaN</td>\n",
       "      <td>NaN</td>\n",
       "      <td>NaN</td>\n",
       "    </tr>\n",
       "    <tr>\n",
       "      <th>объём_подаваемых_проволочных_материалов_6</th>\n",
       "      <td>0.053350</td>\n",
       "      <td>0.010539</td>\n",
       "      <td>0.006196</td>\n",
       "      <td>0.009070</td>\n",
       "      <td>0.042149</td>\n",
       "      <td>0.047060</td>\n",
       "      <td>0.148509</td>\n",
       "      <td>0.558882</td>\n",
       "      <td>0.007174</td>\n",
       "      <td>-0.011507</td>\n",
       "      <td>...</td>\n",
       "      <td>-0.084070</td>\n",
       "      <td>-0.128143</td>\n",
       "      <td>-0.058719</td>\n",
       "      <td>0.183433</td>\n",
       "      <td>0.445953</td>\n",
       "      <td>NaN</td>\n",
       "      <td>1.000000</td>\n",
       "      <td>0.302739</td>\n",
       "      <td>-0.007982</td>\n",
       "      <td>-0.010357</td>\n",
       "    </tr>\n",
       "    <tr>\n",
       "      <th>объём_подаваемых_проволочных_материалов_7</th>\n",
       "      <td>0.073772</td>\n",
       "      <td>-0.003787</td>\n",
       "      <td>0.003450</td>\n",
       "      <td>-0.001139</td>\n",
       "      <td>0.027602</td>\n",
       "      <td>0.021009</td>\n",
       "      <td>0.083432</td>\n",
       "      <td>0.431735</td>\n",
       "      <td>-0.019475</td>\n",
       "      <td>0.033822</td>\n",
       "      <td>...</td>\n",
       "      <td>-0.137285</td>\n",
       "      <td>-0.067575</td>\n",
       "      <td>-0.016206</td>\n",
       "      <td>0.100386</td>\n",
       "      <td>0.602963</td>\n",
       "      <td>NaN</td>\n",
       "      <td>0.302739</td>\n",
       "      <td>1.000000</td>\n",
       "      <td>-0.002192</td>\n",
       "      <td>-0.002844</td>\n",
       "    </tr>\n",
       "    <tr>\n",
       "      <th>объём_подаваемых_проволочных_материалов_8</th>\n",
       "      <td>0.043897</td>\n",
       "      <td>-0.005262</td>\n",
       "      <td>-0.012990</td>\n",
       "      <td>-0.008135</td>\n",
       "      <td>0.017777</td>\n",
       "      <td>0.014921</td>\n",
       "      <td>-0.019579</td>\n",
       "      <td>-0.005285</td>\n",
       "      <td>0.004885</td>\n",
       "      <td>0.007781</td>\n",
       "      <td>...</td>\n",
       "      <td>-0.010784</td>\n",
       "      <td>0.017278</td>\n",
       "      <td>0.069297</td>\n",
       "      <td>-0.008207</td>\n",
       "      <td>-0.004568</td>\n",
       "      <td>NaN</td>\n",
       "      <td>-0.007982</td>\n",
       "      <td>-0.002192</td>\n",
       "      <td>1.000000</td>\n",
       "      <td>-0.006504</td>\n",
       "    </tr>\n",
       "    <tr>\n",
       "      <th>объём_подаваемых_проволочных_материалов_9</th>\n",
       "      <td>-0.024735</td>\n",
       "      <td>-0.006488</td>\n",
       "      <td>0.002624</td>\n",
       "      <td>-0.003045</td>\n",
       "      <td>-0.011757</td>\n",
       "      <td>-0.011280</td>\n",
       "      <td>0.011013</td>\n",
       "      <td>-0.006857</td>\n",
       "      <td>0.004668</td>\n",
       "      <td>-0.058236</td>\n",
       "      <td>...</td>\n",
       "      <td>-0.027512</td>\n",
       "      <td>0.021130</td>\n",
       "      <td>0.213225</td>\n",
       "      <td>-0.010649</td>\n",
       "      <td>-0.005926</td>\n",
       "      <td>NaN</td>\n",
       "      <td>-0.010357</td>\n",
       "      <td>-0.002844</td>\n",
       "      <td>-0.006504</td>\n",
       "      <td>1.000000</td>\n",
       "    </tr>\n",
       "  </tbody>\n",
       "</table>\n",
       "<p>35 rows × 35 columns</p>\n",
       "</div>"
      ],
      "text/plain": [
       "                                           количество_легирующих_циклов  \\\n",
       "количество_легирующих_циклов                                   1.000000   \n",
       "активная_мощность                                              0.031634   \n",
       "реактивная_мощность                                            0.030357   \n",
       "полная_мощность                                                0.031321   \n",
       "время_нагрева                                                  0.798594   \n",
       "затраты_электроэнергии                                         0.711393   \n",
       "объём_подаваемого_материала_1                                  0.097596   \n",
       "объём_подаваемого_материала_2                                  0.093158   \n",
       "объём_подаваемого_материала_3                                  0.107031   \n",
       "объём_подаваемого_материала_4                                 -0.005299   \n",
       "объём_подаваемого_материала_5                                  0.075010   \n",
       "объём_подаваемого_материала_6                                  0.152448   \n",
       "объём_подаваемого_материала_7                                  0.152704   \n",
       "объём_подаваемого_материала_8                                 -0.009017   \n",
       "объём_подаваемого_материала_9                                  0.038213   \n",
       "объём_подаваемого_материала_10                                 0.012394   \n",
       "объём_подаваемого_материала_11                                 0.062460   \n",
       "объём_подаваемого_материала_12                                 0.305838   \n",
       "объём_подаваемого_материала_13                                 0.117857   \n",
       "объём_подаваемого_материала_14                                 0.333412   \n",
       "объём_подаваемого_материала_15                                 0.173172   \n",
       "общий_объём_материала                                          0.125649   \n",
       "объём_подаваемого_газа_1                                       0.403337   \n",
       "начальная_температура                                         -0.179313   \n",
       "минимальная_температура                                       -0.326088   \n",
       "конечная_температура                                           0.180286   \n",
       "объём_подаваемых_проволочных_материалов_1                      0.137477   \n",
       "объём_подаваемых_проволочных_материалов_2                      0.078181   \n",
       "объём_подаваемых_проволочных_материалов_3                      0.055224   \n",
       "объём_подаваемых_проволочных_материалов_4                      0.113793   \n",
       "объём_подаваемых_проволочных_материалов_5                           NaN   \n",
       "объём_подаваемых_проволочных_материалов_6                      0.053350   \n",
       "объём_подаваемых_проволочных_материалов_7                      0.073772   \n",
       "объём_подаваемых_проволочных_материалов_8                      0.043897   \n",
       "объём_подаваемых_проволочных_материалов_9                     -0.024735   \n",
       "\n",
       "                                           активная_мощность  \\\n",
       "количество_легирующих_циклов                        0.031634   \n",
       "активная_мощность                                   1.000000   \n",
       "реактивная_мощность                                 0.965294   \n",
       "полная_мощность                                     0.995390   \n",
       "время_нагрева                                       0.047920   \n",
       "затраты_электроэнергии                              0.396106   \n",
       "объём_подаваемого_материала_1                       0.022453   \n",
       "объём_подаваемого_материала_2                       0.002669   \n",
       "объём_подаваемого_материала_3                       0.026487   \n",
       "объём_подаваемого_материала_4                       0.021827   \n",
       "объём_подаваемого_материала_5                       0.004246   \n",
       "объём_подаваемого_материала_6                      -0.001013   \n",
       "объём_подаваемого_материала_7                       0.008879   \n",
       "объём_подаваемого_материала_8                      -0.041703   \n",
       "объём_подаваемого_материала_9                      -0.010945   \n",
       "объём_подаваемого_материала_10                     -0.007541   \n",
       "объём_подаваемого_материала_11                      0.017331   \n",
       "объём_подаваемого_материала_12                      0.037171   \n",
       "объём_подаваемого_материала_13                     -0.013901   \n",
       "объём_подаваемого_материала_14                      0.019674   \n",
       "объём_подаваемого_материала_15                      0.038609   \n",
       "общий_объём_материала                               0.028059   \n",
       "объём_подаваемого_газа_1                            0.038344   \n",
       "начальная_температура                              -0.005569   \n",
       "минимальная_температура                            -0.021160   \n",
       "конечная_температура                                0.039634   \n",
       "объём_подаваемых_проволочных_материалов_1           0.035817   \n",
       "объём_подаваемых_проволочных_материалов_2          -0.014628   \n",
       "объём_подаваемых_проволочных_материалов_3           0.019258   \n",
       "объём_подаваемых_проволочных_материалов_4          -0.005447   \n",
       "объём_подаваемых_проволочных_материалов_5                NaN   \n",
       "объём_подаваемых_проволочных_материалов_6           0.010539   \n",
       "объём_подаваемых_проволочных_материалов_7          -0.003787   \n",
       "объём_подаваемых_проволочных_материалов_8          -0.005262   \n",
       "объём_подаваемых_проволочных_материалов_9          -0.006488   \n",
       "\n",
       "                                           реактивная_мощность  \\\n",
       "количество_легирующих_циклов                          0.030357   \n",
       "активная_мощность                                     0.965294   \n",
       "реактивная_мощность                                   1.000000   \n",
       "полная_мощность                                       0.985871   \n",
       "время_нагрева                                         0.042040   \n",
       "затраты_электроэнергии                                0.387426   \n",
       "объём_подаваемого_материала_1                         0.018226   \n",
       "объём_подаваемого_материала_2                        -0.000718   \n",
       "объём_подаваемого_материала_3                         0.022567   \n",
       "объём_подаваемого_материала_4                         0.022569   \n",
       "объём_подаваемого_материала_5                        -0.000129   \n",
       "объём_подаваемого_материала_6                        -0.002673   \n",
       "объём_подаваемого_материала_7                         0.008750   \n",
       "объём_подаваемого_материала_8                        -0.040932   \n",
       "объём_подаваемого_материала_9                        -0.017760   \n",
       "объём_подаваемого_материала_10                       -0.010941   \n",
       "объём_подаваемого_материала_11                        0.015655   \n",
       "объём_подаваемого_материала_12                        0.041370   \n",
       "объём_подаваемого_материала_13                       -0.013214   \n",
       "объём_подаваемого_материала_14                        0.015237   \n",
       "объём_подаваемого_материала_15                        0.037149   \n",
       "общий_объём_материала                                 0.030650   \n",
       "объём_подаваемого_газа_1                              0.039666   \n",
       "начальная_температура                                -0.000663   \n",
       "минимальная_температура                              -0.015543   \n",
       "конечная_температура                                  0.032808   \n",
       "объём_подаваемых_проволочных_материалов_1             0.043010   \n",
       "объём_подаваемых_проволочных_материалов_2            -0.014424   \n",
       "объём_подаваемых_проволочных_материалов_3             0.020605   \n",
       "объём_подаваемых_проволочных_материалов_4            -0.004978   \n",
       "объём_подаваемых_проволочных_материалов_5                  NaN   \n",
       "объём_подаваемых_проволочных_материалов_6             0.006196   \n",
       "объём_подаваемых_проволочных_материалов_7             0.003450   \n",
       "объём_подаваемых_проволочных_материалов_8            -0.012990   \n",
       "объём_подаваемых_проволочных_материалов_9             0.002624   \n",
       "\n",
       "                                           полная_мощность  время_нагрева  \\\n",
       "количество_легирующих_циклов                      0.031321       0.798594   \n",
       "активная_мощность                                 0.995390       0.047920   \n",
       "реактивная_мощность                               0.985871       0.042040   \n",
       "полная_мощность                                   1.000000       0.046052   \n",
       "время_нагрева                                     0.046052       1.000000   \n",
       "затраты_электроэнергии                            0.396045       0.900371   \n",
       "объём_подаваемого_материала_1                     0.021088       0.102693   \n",
       "объём_подаваемого_материала_2                     0.001486       0.038134   \n",
       "объём_подаваемого_материала_3                     0.025310       0.091553   \n",
       "объём_подаваемого_материала_4                     0.022214      -0.029150   \n",
       "объём_подаваемого_материала_5                     0.002701       0.013335   \n",
       "объём_подаваемого_материала_6                    -0.001679       0.161452   \n",
       "объём_подаваемого_материала_7                     0.008901       0.084615   \n",
       "объём_подаваемого_материала_8                    -0.041697      -0.011341   \n",
       "объём_подаваемого_материала_9                    -0.013529       0.012841   \n",
       "объём_подаваемого_материала_10                   -0.008918      -0.005451   \n",
       "объём_подаваемого_материала_11                    0.016791       0.077950   \n",
       "объём_подаваемого_материала_12                    0.038907       0.465929   \n",
       "объём_подаваемого_материала_13                   -0.013769       0.129310   \n",
       "объём_подаваемого_материала_14                    0.018214       0.460464   \n",
       "объём_подаваемого_материала_15                    0.038227       0.294436   \n",
       "общий_объём_материала                             0.029298       0.180657   \n",
       "объём_подаваемого_газа_1                          0.039138       0.395542   \n",
       "начальная_температура                            -0.003805      -0.387161   \n",
       "минимальная_температура                          -0.019290      -0.488728   \n",
       "конечная_температура                              0.037334       0.278310   \n",
       "объём_подаваемых_проволочных_материалов_1         0.038778       0.055260   \n",
       "объём_подаваемых_проволочных_материалов_2        -0.014697       0.054568   \n",
       "объём_подаваемых_проволочных_материалов_3         0.019860       0.033244   \n",
       "объём_подаваемых_проволочных_материалов_4        -0.005308       0.054762   \n",
       "объём_подаваемых_проволочных_материалов_5              NaN            NaN   \n",
       "объём_подаваемых_проволочных_материалов_6         0.009070       0.042149   \n",
       "объём_подаваемых_проволочных_материалов_7        -0.001139       0.027602   \n",
       "объём_подаваемых_проволочных_материалов_8        -0.008135       0.017777   \n",
       "объём_подаваемых_проволочных_материалов_9        -0.003045      -0.011757   \n",
       "\n",
       "                                           затраты_электроэнергии  \\\n",
       "количество_легирующих_циклов                             0.711393   \n",
       "активная_мощность                                        0.396106   \n",
       "реактивная_мощность                                      0.387426   \n",
       "полная_мощность                                          0.396045   \n",
       "время_нагрева                                            0.900371   \n",
       "затраты_электроэнергии                                   1.000000   \n",
       "объём_подаваемого_материала_1                            0.095316   \n",
       "объём_подаваемого_материала_2                            0.037700   \n",
       "объём_подаваемого_материала_3                            0.088693   \n",
       "объём_подаваемого_материала_4                           -0.022108   \n",
       "объём_подаваемого_материала_5                            0.019308   \n",
       "объём_подаваемого_материала_6                            0.148114   \n",
       "объём_подаваемого_материала_7                            0.079351   \n",
       "объём_подаваемого_материала_8                           -0.023129   \n",
       "объём_подаваемого_материала_9                            0.008419   \n",
       "объём_подаваемого_материала_10                          -0.007765   \n",
       "объём_подаваемого_материала_11                           0.068884   \n",
       "объём_подаваемого_материала_12                           0.420363   \n",
       "объём_подаваемого_материала_13                           0.133381   \n",
       "объём_подаваемого_материала_14                           0.405554   \n",
       "объём_подаваемого_материала_15                           0.272136   \n",
       "общий_объём_материала                                    0.171470   \n",
       "объём_подаваемого_газа_1                                 0.353441   \n",
       "начальная_температура                                   -0.347707   \n",
       "минимальная_температура                                 -0.437954   \n",
       "конечная_температура                                     0.256232   \n",
       "объём_подаваемых_проволочных_материалов_1                0.060330   \n",
       "объём_подаваемых_проволочных_материалов_2                0.047385   \n",
       "объём_подаваемых_проволочных_материалов_3                0.036211   \n",
       "объём_подаваемых_проволочных_материалов_4                0.047717   \n",
       "объём_подаваемых_проволочных_материалов_5                     NaN   \n",
       "объём_подаваемых_проволочных_материалов_6                0.047060   \n",
       "объём_подаваемых_проволочных_материалов_7                0.021009   \n",
       "объём_подаваемых_проволочных_материалов_8                0.014921   \n",
       "объём_подаваемых_проволочных_материалов_9               -0.011280   \n",
       "\n",
       "                                           объём_подаваемого_материала_1  \\\n",
       "количество_легирующих_циклов                                    0.097596   \n",
       "активная_мощность                                               0.022453   \n",
       "реактивная_мощность                                             0.018226   \n",
       "полная_мощность                                                 0.021088   \n",
       "время_нагрева                                                   0.102693   \n",
       "затраты_электроэнергии                                          0.095316   \n",
       "объём_подаваемого_материала_1                                   1.000000   \n",
       "объём_подаваемого_материала_2                                   0.224677   \n",
       "объём_подаваемого_материала_3                                  -0.011538   \n",
       "объём_подаваемого_материала_4                                   0.041662   \n",
       "объём_подаваемого_материала_5                                   0.060365   \n",
       "объём_подаваемого_материала_6                                  -0.003870   \n",
       "объём_подаваемого_материала_7                                   0.237195   \n",
       "объём_подаваемого_материала_8                                  -0.005737   \n",
       "объём_подаваемого_материала_9                                  -0.019800   \n",
       "объём_подаваемого_материала_10                                 -0.023333   \n",
       "объём_подаваемого_материала_11                                 -0.038008   \n",
       "объём_подаваемого_материала_12                                  0.325724   \n",
       "объём_подаваемого_материала_13                                 -0.010325   \n",
       "объём_подаваемого_материала_14                                  0.207469   \n",
       "объём_подаваемого_материала_15                                 -0.001211   \n",
       "общий_объём_материала                                           0.048716   \n",
       "объём_подаваемого_газа_1                                        0.234024   \n",
       "начальная_температура                                           0.079577   \n",
       "минимальная_температура                                         0.019524   \n",
       "конечная_температура                                           -0.075283   \n",
       "объём_подаваемых_проволочных_материалов_1                       0.013796   \n",
       "объём_подаваемых_проволочных_материалов_2                      -0.009229   \n",
       "объём_подаваемых_проволочных_материалов_3                       0.020204   \n",
       "объём_подаваемых_проволочных_материалов_4                       0.146276   \n",
       "объём_подаваемых_проволочных_материалов_5                            NaN   \n",
       "объём_подаваемых_проволочных_материалов_6                       0.148509   \n",
       "объём_подаваемых_проволочных_материалов_7                       0.083432   \n",
       "объём_подаваемых_проволочных_материалов_8                      -0.019579   \n",
       "объём_подаваемых_проволочных_материалов_9                       0.011013   \n",
       "\n",
       "                                           объём_подаваемого_материала_2  \\\n",
       "количество_легирующих_циклов                                    0.093158   \n",
       "активная_мощность                                               0.002669   \n",
       "реактивная_мощность                                            -0.000718   \n",
       "полная_мощность                                                 0.001486   \n",
       "время_нагрева                                                   0.038134   \n",
       "затраты_электроэнергии                                          0.037700   \n",
       "объём_подаваемого_материала_1                                   0.224677   \n",
       "объём_подаваемого_материала_2                                   1.000000   \n",
       "объём_подаваемого_материала_3                                  -0.046953   \n",
       "объём_подаваемого_материала_4                                   0.040756   \n",
       "объём_подаваемого_материала_5                                   0.360291   \n",
       "объём_подаваемого_материала_6                                  -0.030053   \n",
       "объём_подаваемого_материала_7                                   0.679352   \n",
       "объём_подаваемого_материала_8                                  -0.001549   \n",
       "объём_подаваемого_материала_9                                  -0.005344   \n",
       "объём_подаваемого_материала_10                                 -0.018055   \n",
       "объём_подаваемого_материала_11                                  0.001449   \n",
       "объём_подаваемого_материала_12                                 -0.099125   \n",
       "объём_подаваемого_материала_13                                 -0.005604   \n",
       "объём_подаваемого_материала_14                                 -0.141229   \n",
       "объём_подаваемого_материала_15                                 -0.105898   \n",
       "общий_объём_материала                                           0.009325   \n",
       "объём_подаваемого_газа_1                                        0.217512   \n",
       "начальная_температура                                           0.141816   \n",
       "минимальная_температура                                         0.019973   \n",
       "конечная_температура                                           -0.082481   \n",
       "объём_подаваемых_проволочных_материалов_1                      -0.169643   \n",
       "объём_подаваемых_проволочных_материалов_2                      -0.039070   \n",
       "объём_подаваемых_проволочных_материалов_3                       0.223188   \n",
       "объём_подаваемых_проволочных_материалов_4                       0.699339   \n",
       "объём_подаваемых_проволочных_материалов_5                            NaN   \n",
       "объём_подаваемых_проволочных_материалов_6                       0.558882   \n",
       "объём_подаваемых_проволочных_материалов_7                       0.431735   \n",
       "объём_подаваемых_проволочных_материалов_8                      -0.005285   \n",
       "объём_подаваемых_проволочных_материалов_9                      -0.006857   \n",
       "\n",
       "                                           объём_подаваемого_материала_3  \\\n",
       "количество_легирующих_циклов                                    0.107031   \n",
       "активная_мощность                                               0.026487   \n",
       "реактивная_мощность                                             0.022567   \n",
       "полная_мощность                                                 0.025310   \n",
       "время_нагрева                                                   0.091553   \n",
       "затраты_электроэнергии                                          0.088693   \n",
       "объём_подаваемого_материала_1                                  -0.011538   \n",
       "объём_подаваемого_материала_2                                  -0.046953   \n",
       "объём_подаваемого_материала_3                                   1.000000   \n",
       "объём_подаваемого_материала_4                                  -0.295526   \n",
       "объём_подаваемого_материала_5                                  -0.006766   \n",
       "объём_подаваемого_материала_6                                   0.065594   \n",
       "объём_подаваемого_материала_7                                  -0.033521   \n",
       "объём_подаваемого_материала_8                                   0.020875   \n",
       "объём_подаваемого_материала_9                                   0.011390   \n",
       "объём_подаваемого_материала_10                                 -0.085266   \n",
       "объём_подаваемого_материала_11                                 -0.007383   \n",
       "объём_подаваемого_материала_12                                  0.018059   \n",
       "объём_подаваемого_материала_13                                 -0.013385   \n",
       "объём_подаваемого_материала_14                                  0.010880   \n",
       "объём_подаваемого_материала_15                                 -0.013181   \n",
       "общий_объём_материала                                           0.072656   \n",
       "объём_подаваемого_газа_1                                        0.059254   \n",
       "начальная_температура                                          -0.111165   \n",
       "минимальная_температура                                        -0.116289   \n",
       "конечная_температура                                           -0.036877   \n",
       "объём_подаваемых_проволочных_материалов_1                       0.037727   \n",
       "объём_подаваемых_проволочных_материалов_2                       0.094966   \n",
       "объём_подаваемых_проволочных_материалов_3                       0.005840   \n",
       "объём_подаваемых_проволочных_материалов_4                      -0.040582   \n",
       "объём_подаваемых_проволочных_материалов_5                            NaN   \n",
       "объём_подаваемых_проволочных_материалов_6                       0.007174   \n",
       "объём_подаваемых_проволочных_материалов_7                      -0.019475   \n",
       "объём_подаваемых_проволочных_материалов_8                       0.004885   \n",
       "объём_подаваемых_проволочных_материалов_9                       0.004668   \n",
       "\n",
       "                                           объём_подаваемого_материала_4  ...  \\\n",
       "количество_легирующих_циклов                                   -0.005299  ...   \n",
       "активная_мощность                                               0.021827  ...   \n",
       "реактивная_мощность                                             0.022569  ...   \n",
       "полная_мощность                                                 0.022214  ...   \n",
       "время_нагрева                                                  -0.029150  ...   \n",
       "затраты_электроэнергии                                         -0.022108  ...   \n",
       "объём_подаваемого_материала_1                                   0.041662  ...   \n",
       "объём_подаваемого_материала_2                                   0.040756  ...   \n",
       "объём_подаваемого_материала_3                                  -0.295526  ...   \n",
       "объём_подаваемого_материала_4                                   1.000000  ...   \n",
       "объём_подаваемого_материала_5                                   0.028273  ...   \n",
       "объём_подаваемого_материала_6                                  -0.252030  ...   \n",
       "объём_подаваемого_материала_7                                   0.045866  ...   \n",
       "объём_подаваемого_материала_8                                  -0.013209  ...   \n",
       "объём_подаваемого_материала_9                                  -0.002995  ...   \n",
       "объём_подаваемого_материала_10                                 -0.084975  ...   \n",
       "объём_подаваемого_материала_11                                 -0.119733  ...   \n",
       "объём_подаваемого_материала_12                                  0.105190  ...   \n",
       "объём_подаваемого_материала_13                                  0.003154  ...   \n",
       "объём_подаваемого_материала_14                                 -0.091440  ...   \n",
       "объём_подаваемого_материала_15                                  0.100833  ...   \n",
       "общий_объём_материала                                           0.026177  ...   \n",
       "объём_подаваемого_газа_1                                        0.017092  ...   \n",
       "начальная_температура                                           0.163812  ...   \n",
       "минимальная_температура                                         0.155049  ...   \n",
       "конечная_температура                                            0.188016  ...   \n",
       "объём_подаваемых_проволочных_материалов_1                       0.298103  ...   \n",
       "объём_подаваемых_проволочных_материалов_2                      -0.268029  ...   \n",
       "объём_подаваемых_проволочных_материалов_3                      -0.039326  ...   \n",
       "объём_подаваемых_проволочных_материалов_4                       0.034390  ...   \n",
       "объём_подаваемых_проволочных_материалов_5                            NaN  ...   \n",
       "объём_подаваемых_проволочных_материалов_6                      -0.011507  ...   \n",
       "объём_подаваемых_проволочных_материалов_7                       0.033822  ...   \n",
       "объём_подаваемых_проволочных_материалов_8                       0.007781  ...   \n",
       "объём_подаваемых_проволочных_материалов_9                      -0.058236  ...   \n",
       "\n",
       "                                           конечная_температура  \\\n",
       "количество_легирующих_циклов                           0.180286   \n",
       "активная_мощность                                      0.039634   \n",
       "реактивная_мощность                                    0.032808   \n",
       "полная_мощность                                        0.037334   \n",
       "время_нагрева                                          0.278310   \n",
       "затраты_электроэнергии                                 0.256232   \n",
       "объём_подаваемого_материала_1                         -0.075283   \n",
       "объём_подаваемого_материала_2                         -0.082481   \n",
       "объём_подаваемого_материала_3                         -0.036877   \n",
       "объём_подаваемого_материала_4                          0.188016   \n",
       "объём_подаваемого_материала_5                         -0.028385   \n",
       "объём_подаваемого_материала_6                         -0.181960   \n",
       "объём_подаваемого_материала_7                         -0.107303   \n",
       "объём_подаваемого_материала_8                         -0.026595   \n",
       "объём_подаваемого_материала_9                         -0.016093   \n",
       "объём_подаваемого_материала_10                         0.061307   \n",
       "объём_подаваемого_материала_11                        -0.114814   \n",
       "объём_подаваемого_материала_12                         0.267266   \n",
       "объём_подаваемого_материала_13                        -0.010938   \n",
       "объём_подаваемого_материала_14                         0.114422   \n",
       "объём_подаваемого_материала_15                         0.266273   \n",
       "общий_объём_материала                                 -0.007087   \n",
       "объём_подаваемого_газа_1                               0.058801   \n",
       "начальная_температура                                  0.299397   \n",
       "минимальная_температура                                0.407747   \n",
       "конечная_температура                                   1.000000   \n",
       "объём_подаваемых_проволочных_материалов_1              0.317619   \n",
       "объём_подаваемых_проволочных_материалов_2             -0.206889   \n",
       "объём_подаваемых_проволочных_материалов_3             -0.047569   \n",
       "объём_подаваемых_проволочных_материалов_4             -0.159753   \n",
       "объём_подаваемых_проволочных_материалов_5                   NaN   \n",
       "объём_подаваемых_проволочных_материалов_6             -0.084070   \n",
       "объём_подаваемых_проволочных_материалов_7             -0.137285   \n",
       "объём_подаваемых_проволочных_материалов_8             -0.010784   \n",
       "объём_подаваемых_проволочных_материалов_9             -0.027512   \n",
       "\n",
       "                                           объём_подаваемых_проволочных_материалов_1  \\\n",
       "количество_легирующих_циклов                                                0.137477   \n",
       "активная_мощность                                                           0.035817   \n",
       "реактивная_мощность                                                         0.043010   \n",
       "полная_мощность                                                             0.038778   \n",
       "время_нагрева                                                               0.055260   \n",
       "затраты_электроэнергии                                                      0.060330   \n",
       "объём_подаваемого_материала_1                                               0.013796   \n",
       "объём_подаваемого_материала_2                                              -0.169643   \n",
       "объём_подаваемого_материала_3                                               0.037727   \n",
       "объём_подаваемого_материала_4                                               0.298103   \n",
       "объём_подаваемого_материала_5                                              -0.013467   \n",
       "объём_подаваемого_материала_6                                              -0.235958   \n",
       "объём_подаваемого_материала_7                                              -0.143406   \n",
       "объём_подаваемого_материала_8                                               0.034696   \n",
       "объём_подаваемого_материала_9                                               0.022646   \n",
       "объём_подаваемого_материала_10                                              0.062873   \n",
       "объём_подаваемого_материала_11                                             -0.117826   \n",
       "объём_подаваемого_материала_12                                              0.170691   \n",
       "объём_подаваемого_материала_13                                              0.039510   \n",
       "объём_подаваемого_материала_14                                             -0.053055   \n",
       "объём_подаваемого_материала_15                                              0.118912   \n",
       "общий_объём_материала                                                       0.028429   \n",
       "объём_подаваемого_газа_1                                                    0.117663   \n",
       "начальная_температура                                                       0.261889   \n",
       "минимальная_температура                                                     0.218169   \n",
       "конечная_температура                                                        0.317619   \n",
       "объём_подаваемых_проволочных_материалов_1                                   1.000000   \n",
       "объём_подаваемых_проволочных_материалов_2                                  -0.069394   \n",
       "объём_подаваемых_проволочных_материалов_3                                   0.038159   \n",
       "объём_подаваемых_проволочных_материалов_4                                  -0.142144   \n",
       "объём_подаваемых_проволочных_материалов_5                                        NaN   \n",
       "объём_подаваемых_проволочных_материалов_6                                  -0.128143   \n",
       "объём_подаваемых_проволочных_материалов_7                                  -0.067575   \n",
       "объём_подаваемых_проволочных_материалов_8                                   0.017278   \n",
       "объём_подаваемых_проволочных_материалов_9                                   0.021130   \n",
       "\n",
       "                                           объём_подаваемых_проволочных_материалов_2  \\\n",
       "количество_легирующих_циклов                                                0.078181   \n",
       "активная_мощность                                                          -0.014628   \n",
       "реактивная_мощность                                                        -0.014424   \n",
       "полная_мощность                                                            -0.014697   \n",
       "время_нагрева                                                               0.054568   \n",
       "затраты_электроэнергии                                                      0.047385   \n",
       "объём_подаваемого_материала_1                                              -0.009229   \n",
       "объём_подаваемого_материала_2                                              -0.039070   \n",
       "объём_подаваемого_материала_3                                               0.094966   \n",
       "объём_подаваемого_материала_4                                              -0.268029   \n",
       "объём_подаваемого_материала_5                                              -0.013797   \n",
       "объём_подаваемого_материала_6                                               0.204738   \n",
       "объём_подаваемого_материала_7                                              -0.000630   \n",
       "объём_подаваемого_материала_8                                               0.018919   \n",
       "объём_подаваемого_материала_9                                               0.066757   \n",
       "объём_подаваемого_материала_10                                             -0.103795   \n",
       "объём_подаваемого_материала_11                                              0.062093   \n",
       "объём_подаваемого_материала_12                                             -0.098049   \n",
       "объём_подаваемого_материала_13                                             -0.001390   \n",
       "объём_подаваемого_материала_14                                              0.036822   \n",
       "объём_подаваемого_материала_15                                             -0.096241   \n",
       "общий_объём_материала                                                       0.015468   \n",
       "объём_подаваемого_газа_1                                                    0.104524   \n",
       "начальная_температура                                                      -0.099452   \n",
       "минимальная_температура                                                    -0.132392   \n",
       "конечная_температура                                                       -0.206889   \n",
       "объём_подаваемых_проволочных_материалов_1                                  -0.069394   \n",
       "объём_подаваемых_проволочных_материалов_2                                   1.000000   \n",
       "объём_подаваемых_проволочных_материалов_3                                   0.094107   \n",
       "объём_подаваемых_проволочных_материалов_4                                  -0.033769   \n",
       "объём_подаваемых_проволочных_материалов_5                                        NaN   \n",
       "объём_подаваемых_проволочных_материалов_6                                  -0.058719   \n",
       "объём_подаваемых_проволочных_материалов_7                                  -0.016206   \n",
       "объём_подаваемых_проволочных_материалов_8                                   0.069297   \n",
       "объём_подаваемых_проволочных_материалов_9                                   0.213225   \n",
       "\n",
       "                                           объём_подаваемых_проволочных_материалов_3  \\\n",
       "количество_легирующих_циклов                                                0.055224   \n",
       "активная_мощность                                                           0.019258   \n",
       "реактивная_мощность                                                         0.020605   \n",
       "полная_мощность                                                             0.019860   \n",
       "время_нагрева                                                               0.033244   \n",
       "затраты_электроэнергии                                                      0.036211   \n",
       "объём_подаваемого_материала_1                                               0.020204   \n",
       "объём_подаваемого_материала_2                                               0.223188   \n",
       "объём_подаваемого_материала_3                                               0.005840   \n",
       "объём_подаваемого_материала_4                                              -0.039326   \n",
       "объём_подаваемого_материала_5                                               0.070889   \n",
       "объём_подаваемого_материала_6                                              -0.046626   \n",
       "объём_подаваемого_материала_7                                               0.156613   \n",
       "объём_подаваемого_материала_8                                              -0.002405   \n",
       "объём_подаваемого_материала_9                                              -0.008300   \n",
       "объём_подаваемого_материала_10                                             -0.028039   \n",
       "объём_подаваемого_материала_11                                             -0.021878   \n",
       "объём_подаваемого_материала_12                                             -0.120697   \n",
       "объём_подаваемого_материала_13                                             -0.008703   \n",
       "объём_подаваемого_материала_14                                             -0.009071   \n",
       "объём_подаваемого_материала_15                                             -0.118355   \n",
       "общий_объём_материала                                                      -0.057569   \n",
       "объём_подаваемого_газа_1                                                    0.103331   \n",
       "начальная_температура                                                      -0.002905   \n",
       "минимальная_температура                                                    -0.052783   \n",
       "конечная_температура                                                       -0.047569   \n",
       "объём_подаваемых_проволочных_материалов_1                                   0.038159   \n",
       "объём_подаваемых_проволочных_материалов_2                                   0.094107   \n",
       "объём_подаваемых_проволочных_материалов_3                                   1.000000   \n",
       "объём_подаваемых_проволочных_материалов_4                                   0.169797   \n",
       "объём_подаваемых_проволочных_материалов_5                                        NaN   \n",
       "объём_подаваемых_проволочных_материалов_6                                   0.183433   \n",
       "объём_подаваемых_проволочных_материалов_7                                   0.100386   \n",
       "объём_подаваемых_проволочных_материалов_8                                  -0.008207   \n",
       "объём_подаваемых_проволочных_материалов_9                                  -0.010649   \n",
       "\n",
       "                                           объём_подаваемых_проволочных_материалов_4  \\\n",
       "количество_легирующих_циклов                                                0.113793   \n",
       "активная_мощность                                                          -0.005447   \n",
       "реактивная_мощность                                                        -0.004978   \n",
       "полная_мощность                                                            -0.005308   \n",
       "время_нагрева                                                               0.054762   \n",
       "затраты_электроэнергии                                                      0.047717   \n",
       "объём_подаваемого_материала_1                                               0.146276   \n",
       "объём_подаваемого_материала_2                                               0.699339   \n",
       "объём_подаваемого_материала_3                                              -0.040582   \n",
       "объём_подаваемого_материала_4                                               0.034390   \n",
       "объём_подаваемого_материала_5                                               0.262752   \n",
       "объём_подаваемого_материала_6                                              -0.025976   \n",
       "объём_подаваемого_материала_7                                               0.740570   \n",
       "объём_подаваемого_материала_8                                              -0.001339   \n",
       "объём_подаваемого_материала_9                                              -0.004619   \n",
       "объём_подаваемого_материала_10                                             -0.015605   \n",
       "объём_подаваемого_материала_11                                             -0.012180   \n",
       "объём_подаваемого_материала_12                                             -0.085675   \n",
       "объём_подаваемого_материала_13                                             -0.004844   \n",
       "объём_подаваемого_материала_14                                             -0.122067   \n",
       "объём_подаваемого_материала_15                                             -0.091530   \n",
       "общий_объём_материала                                                       0.058571   \n",
       "объём_подаваемого_газа_1                                                    0.145459   \n",
       "начальная_температура                                                       0.076375   \n",
       "минимальная_температура                                                    -0.042903   \n",
       "конечная_температура                                                       -0.159753   \n",
       "объём_подаваемых_проволочных_материалов_1                                  -0.142144   \n",
       "объём_подаваемых_проволочных_материалов_2                                  -0.033769   \n",
       "объём_подаваемых_проволочных_материалов_3                                   0.169797   \n",
       "объём_подаваемых_проволочных_материалов_4                                   1.000000   \n",
       "объём_подаваемых_проволочных_материалов_5                                        NaN   \n",
       "объём_подаваемых_проволочных_материалов_6                                   0.445953   \n",
       "объём_подаваемых_проволочных_материалов_7                                   0.602963   \n",
       "объём_подаваемых_проволочных_материалов_8                                  -0.004568   \n",
       "объём_подаваемых_проволочных_материалов_9                                  -0.005926   \n",
       "\n",
       "                                           объём_подаваемых_проволочных_материалов_5  \\\n",
       "количество_легирующих_циклов                                                     NaN   \n",
       "активная_мощность                                                                NaN   \n",
       "реактивная_мощность                                                              NaN   \n",
       "полная_мощность                                                                  NaN   \n",
       "время_нагрева                                                                    NaN   \n",
       "затраты_электроэнергии                                                           NaN   \n",
       "объём_подаваемого_материала_1                                                    NaN   \n",
       "объём_подаваемого_материала_2                                                    NaN   \n",
       "объём_подаваемого_материала_3                                                    NaN   \n",
       "объём_подаваемого_материала_4                                                    NaN   \n",
       "объём_подаваемого_материала_5                                                    NaN   \n",
       "объём_подаваемого_материала_6                                                    NaN   \n",
       "объём_подаваемого_материала_7                                                    NaN   \n",
       "объём_подаваемого_материала_8                                                    NaN   \n",
       "объём_подаваемого_материала_9                                                    NaN   \n",
       "объём_подаваемого_материала_10                                                   NaN   \n",
       "объём_подаваемого_материала_11                                                   NaN   \n",
       "объём_подаваемого_материала_12                                                   NaN   \n",
       "объём_подаваемого_материала_13                                                   NaN   \n",
       "объём_подаваемого_материала_14                                                   NaN   \n",
       "объём_подаваемого_материала_15                                                   NaN   \n",
       "общий_объём_материала                                                            NaN   \n",
       "объём_подаваемого_газа_1                                                         NaN   \n",
       "начальная_температура                                                            NaN   \n",
       "минимальная_температура                                                          NaN   \n",
       "конечная_температура                                                             NaN   \n",
       "объём_подаваемых_проволочных_материалов_1                                        NaN   \n",
       "объём_подаваемых_проволочных_материалов_2                                        NaN   \n",
       "объём_подаваемых_проволочных_материалов_3                                        NaN   \n",
       "объём_подаваемых_проволочных_материалов_4                                        NaN   \n",
       "объём_подаваемых_проволочных_материалов_5                                        NaN   \n",
       "объём_подаваемых_проволочных_материалов_6                                        NaN   \n",
       "объём_подаваемых_проволочных_материалов_7                                        NaN   \n",
       "объём_подаваемых_проволочных_материалов_8                                        NaN   \n",
       "объём_подаваемых_проволочных_материалов_9                                        NaN   \n",
       "\n",
       "                                           объём_подаваемых_проволочных_материалов_6  \\\n",
       "количество_легирующих_циклов                                                0.053350   \n",
       "активная_мощность                                                           0.010539   \n",
       "реактивная_мощность                                                         0.006196   \n",
       "полная_мощность                                                             0.009070   \n",
       "время_нагрева                                                               0.042149   \n",
       "затраты_электроэнергии                                                      0.047060   \n",
       "объём_подаваемого_материала_1                                               0.148509   \n",
       "объём_подаваемого_материала_2                                               0.558882   \n",
       "объём_подаваемого_материала_3                                               0.007174   \n",
       "объём_подаваемого_материала_4                                              -0.011507   \n",
       "объём_подаваемого_материала_5                                               0.204796   \n",
       "объём_подаваемого_материала_6                                              -0.020324   \n",
       "объём_подаваемого_материала_7                                               0.456093   \n",
       "объём_подаваемого_материала_8                                              -0.002339   \n",
       "объём_подаваемого_материала_9                                              -0.008072   \n",
       "объём_подаваемого_материала_10                                             -0.017860   \n",
       "объём_подаваемого_материала_11                                              0.008655   \n",
       "объём_подаваемого_материала_12                                             -0.042895   \n",
       "объём_подаваемого_материала_13                                             -0.008465   \n",
       "объём_подаваемого_материала_14                                             -0.052638   \n",
       "объём_подаваемого_материала_15                                             -0.032618   \n",
       "общий_объём_материала                                                       0.012932   \n",
       "объём_подаваемого_газа_1                                                    0.108046   \n",
       "начальная_температура                                                       0.021209   \n",
       "минимальная_температура                                                    -0.055407   \n",
       "конечная_температура                                                       -0.084070   \n",
       "объём_подаваемых_проволочных_материалов_1                                  -0.128143   \n",
       "объём_подаваемых_проволочных_материалов_2                                  -0.058719   \n",
       "объём_подаваемых_проволочных_материалов_3                                   0.183433   \n",
       "объём_подаваемых_проволочных_материалов_4                                   0.445953   \n",
       "объём_подаваемых_проволочных_материалов_5                                        NaN   \n",
       "объём_подаваемых_проволочных_материалов_6                                   1.000000   \n",
       "объём_подаваемых_проволочных_материалов_7                                   0.302739   \n",
       "объём_подаваемых_проволочных_материалов_8                                  -0.007982   \n",
       "объём_подаваемых_проволочных_материалов_9                                  -0.010357   \n",
       "\n",
       "                                           объём_подаваемых_проволочных_материалов_7  \\\n",
       "количество_легирующих_циклов                                                0.073772   \n",
       "активная_мощность                                                          -0.003787   \n",
       "реактивная_мощность                                                         0.003450   \n",
       "полная_мощность                                                            -0.001139   \n",
       "время_нагрева                                                               0.027602   \n",
       "затраты_электроэнергии                                                      0.021009   \n",
       "объём_подаваемого_материала_1                                               0.083432   \n",
       "объём_подаваемого_материала_2                                               0.431735   \n",
       "объём_подаваемого_материала_3                                              -0.019475   \n",
       "объём_подаваемого_материала_4                                               0.033822   \n",
       "объём_подаваемого_материала_5                                               0.172136   \n",
       "объём_подаваемого_материала_6                                              -0.012466   \n",
       "объём_подаваемого_материала_7                                               0.372248   \n",
       "объём_подаваемого_материала_8                                              -0.000642   \n",
       "объём_подаваемого_материала_9                                              -0.002217   \n",
       "объём_подаваемого_материала_10                                             -0.007489   \n",
       "объём_подаваемого_материала_11                                             -0.005845   \n",
       "объём_подаваемого_материала_12                                             -0.041115   \n",
       "объём_подаваемого_материала_13                                             -0.002325   \n",
       "объём_подаваемого_материала_14                                             -0.058579   \n",
       "объём_подаваемого_материала_15                                             -0.043925   \n",
       "общий_объём_материала                                                       0.046603   \n",
       "объём_подаваемого_газа_1                                                    0.078983   \n",
       "начальная_температура                                                       0.052926   \n",
       "минимальная_температура                                                    -0.044307   \n",
       "конечная_температура                                                       -0.137285   \n",
       "объём_подаваемых_проволочных_материалов_1                                  -0.067575   \n",
       "объём_подаваемых_проволочных_материалов_2                                  -0.016206   \n",
       "объём_подаваемых_проволочных_материалов_3                                   0.100386   \n",
       "объём_подаваемых_проволочных_материалов_4                                   0.602963   \n",
       "объём_подаваемых_проволочных_материалов_5                                        NaN   \n",
       "объём_подаваемых_проволочных_материалов_6                                   0.302739   \n",
       "объём_подаваемых_проволочных_материалов_7                                   1.000000   \n",
       "объём_подаваемых_проволочных_материалов_8                                  -0.002192   \n",
       "объём_подаваемых_проволочных_материалов_9                                  -0.002844   \n",
       "\n",
       "                                           объём_подаваемых_проволочных_материалов_8  \\\n",
       "количество_легирующих_циклов                                                0.043897   \n",
       "активная_мощность                                                          -0.005262   \n",
       "реактивная_мощность                                                        -0.012990   \n",
       "полная_мощность                                                            -0.008135   \n",
       "время_нагрева                                                               0.017777   \n",
       "затраты_электроэнергии                                                      0.014921   \n",
       "объём_подаваемого_материала_1                                              -0.019579   \n",
       "объём_подаваемого_материала_2                                              -0.005285   \n",
       "объём_подаваемого_материала_3                                               0.004885   \n",
       "объём_подаваемого_материала_4                                               0.007781   \n",
       "объём_подаваемого_материала_5                                              -0.008355   \n",
       "объём_подаваемого_материала_6                                              -0.028506   \n",
       "объём_подаваемого_материала_7                                              -0.004633   \n",
       "объём_подаваемого_материала_8                                               0.321038   \n",
       "объём_подаваемого_материала_9                                               0.974968   \n",
       "объём_подаваемого_материала_10                                             -0.017125   \n",
       "объём_подаваемого_материала_11                                             -0.013367   \n",
       "объём_подаваемого_материала_12                                             -0.055898   \n",
       "объём_подаваемого_материала_13                                             -0.005316   \n",
       "объём_подаваемого_материала_14                                              0.043579   \n",
       "объём_подаваемого_материала_15                                             -0.090132   \n",
       "общий_объём_материала                                                      -0.044971   \n",
       "объём_подаваемого_газа_1                                                    0.118083   \n",
       "начальная_температура                                                      -0.029515   \n",
       "минимальная_температура                                                    -0.028640   \n",
       "конечная_температура                                                       -0.010784   \n",
       "объём_подаваемых_проволочных_материалов_1                                   0.017278   \n",
       "объём_подаваемых_проволочных_материалов_2                                   0.069297   \n",
       "объём_подаваемых_проволочных_материалов_3                                  -0.008207   \n",
       "объём_подаваемых_проволочных_материалов_4                                  -0.004568   \n",
       "объём_подаваемых_проволочных_материалов_5                                        NaN   \n",
       "объём_подаваемых_проволочных_материалов_6                                  -0.007982   \n",
       "объём_подаваемых_проволочных_материалов_7                                  -0.002192   \n",
       "объём_подаваемых_проволочных_материалов_8                                   1.000000   \n",
       "объём_подаваемых_проволочных_материалов_9                                  -0.006504   \n",
       "\n",
       "                                           объём_подаваемых_проволочных_материалов_9  \n",
       "количество_легирующих_циклов                                               -0.024735  \n",
       "активная_мощность                                                          -0.006488  \n",
       "реактивная_мощность                                                         0.002624  \n",
       "полная_мощность                                                            -0.003045  \n",
       "время_нагрева                                                              -0.011757  \n",
       "затраты_электроэнергии                                                     -0.011280  \n",
       "объём_подаваемого_материала_1                                               0.011013  \n",
       "объём_подаваемого_материала_2                                              -0.006857  \n",
       "объём_подаваемого_материала_3                                               0.004668  \n",
       "объём_подаваемого_материала_4                                              -0.058236  \n",
       "объём_подаваемого_материала_5                                              -0.010840  \n",
       "объём_подаваемого_материала_6                                              -0.013417  \n",
       "объём_подаваемого_материала_7                                              -0.006011  \n",
       "объём_подаваемого_материала_8                                              -0.001906  \n",
       "объём_подаваемого_материала_9                                              -0.006577  \n",
       "объём_подаваемого_материала_10                                             -0.022220  \n",
       "объём_подаваемого_материала_11                                             -0.017343  \n",
       "объём_подаваемого_материала_12                                             -0.042357  \n",
       "объём_подаваемого_материала_13                                             -0.006897  \n",
       "объём_подаваемого_материала_14                                              0.018436  \n",
       "объём_подаваемого_материала_15                                             -0.037129  \n",
       "общий_объём_материала                                                       0.002314  \n",
       "объём_подаваемого_газа_1                                                    0.013970  \n",
       "начальная_температура                                                       0.003033  \n",
       "минимальная_температура                                                     0.011516  \n",
       "конечная_температура                                                       -0.027512  \n",
       "объём_подаваемых_проволочных_материалов_1                                   0.021130  \n",
       "объём_подаваемых_проволочных_материалов_2                                   0.213225  \n",
       "объём_подаваемых_проволочных_материалов_3                                  -0.010649  \n",
       "объём_подаваемых_проволочных_материалов_4                                  -0.005926  \n",
       "объём_подаваемых_проволочных_материалов_5                                        NaN  \n",
       "объём_подаваемых_проволочных_материалов_6                                  -0.010357  \n",
       "объём_подаваемых_проволочных_материалов_7                                  -0.002844  \n",
       "объём_подаваемых_проволочных_материалов_8                                  -0.006504  \n",
       "объём_подаваемых_проволочных_материалов_9                                   1.000000  \n",
       "\n",
       "[35 rows x 35 columns]"
      ]
     },
     "metadata": {},
     "output_type": "display_data"
    }
   ],
   "source": [
    "data_corr = data.corr()\n",
    "display(data_corr)"
   ]
  },
  {
   "cell_type": "markdown",
   "id": "f9cdfbdd",
   "metadata": {},
   "source": [
    "Удалим признаки с корреляцией больше 0.8."
   ]
  },
  {
   "cell_type": "code",
   "execution_count": 122,
   "id": "baa4daf1",
   "metadata": {},
   "outputs": [
    {
     "name": "stdout",
     "output_type": "stream",
     "text": [
      "активная_мощность X реактивная_мощность\n",
      "активная_мощность X полная_мощность\n",
      "реактивная_мощность X активная_мощность\n",
      "реактивная_мощность X полная_мощность\n",
      "полная_мощность X активная_мощность\n",
      "полная_мощность X реактивная_мощность\n",
      "время_нагрева X затраты_электроэнергии\n",
      "затраты_электроэнергии X время_нагрева\n",
      "объём_подаваемого_материала_9 X объём_подаваемых_проволочных_материалов_8\n",
      "начальная_температура X минимальная_температура\n",
      "минимальная_температура X начальная_температура\n",
      "объём_подаваемых_проволочных_материалов_8 X объём_подаваемого_материала_9\n"
     ]
    }
   ],
   "source": [
    "for feature_1 in data_corr.index:\n",
    "    for feature_2 in data_corr.columns:\n",
    "        if (feature_1 != feature_2) & (data_corr.loc[feature_1, feature_2] > 0.8):\n",
    "            print(f'{feature_1} X {feature_2}')"
   ]
  },
  {
   "cell_type": "code",
   "execution_count": 123,
   "id": "cfe37fa3",
   "metadata": {},
   "outputs": [],
   "source": [
    "del_col = ['активная_мощность', 'реактивная_мощность', 'время_нагрева',\n",
    "           'объём_подаваемого_материала_9', 'начальная_температура']\n",
    "data = data.drop(del_col, axis=1)"
   ]
  },
  {
   "cell_type": "code",
   "execution_count": 124,
   "id": "c7f48b8f",
   "metadata": {},
   "outputs": [
    {
     "name": "stdout",
     "output_type": "stream",
     "text": [
      "<class 'pandas.core.frame.DataFrame'>\n",
      "RangeIndex: 2324 entries, 0 to 2323\n",
      "Data columns (total 30 columns):\n",
      " #   Column                                     Non-Null Count  Dtype  \n",
      "---  ------                                     --------------  -----  \n",
      " 0   количество_легирующих_циклов               2324 non-null   int64  \n",
      " 1   полная_мощность                            2324 non-null   float64\n",
      " 2   затраты_электроэнергии                     2324 non-null   float64\n",
      " 3   объём_подаваемого_материала_1              2324 non-null   float64\n",
      " 4   объём_подаваемого_материала_2              2324 non-null   float64\n",
      " 5   объём_подаваемого_материала_3              2324 non-null   float64\n",
      " 6   объём_подаваемого_материала_4              2324 non-null   float64\n",
      " 7   объём_подаваемого_материала_5              2324 non-null   float64\n",
      " 8   объём_подаваемого_материала_6              2324 non-null   float64\n",
      " 9   объём_подаваемого_материала_7              2324 non-null   float64\n",
      " 10  объём_подаваемого_материала_8              2324 non-null   float64\n",
      " 11  объём_подаваемого_материала_10             2324 non-null   float64\n",
      " 12  объём_подаваемого_материала_11             2324 non-null   float64\n",
      " 13  объём_подаваемого_материала_12             2324 non-null   float64\n",
      " 14  объём_подаваемого_материала_13             2324 non-null   float64\n",
      " 15  объём_подаваемого_материала_14             2324 non-null   float64\n",
      " 16  объём_подаваемого_материала_15             2324 non-null   float64\n",
      " 17  общий_объём_материала                      2324 non-null   float64\n",
      " 18  объём_подаваемого_газа_1                   2324 non-null   float64\n",
      " 19  минимальная_температура                    2324 non-null   int64  \n",
      " 20  конечная_температура                       2324 non-null   int64  \n",
      " 21  объём_подаваемых_проволочных_материалов_1  2324 non-null   float64\n",
      " 22  объём_подаваемых_проволочных_материалов_2  2324 non-null   float64\n",
      " 23  объём_подаваемых_проволочных_материалов_3  2324 non-null   float64\n",
      " 24  объём_подаваемых_проволочных_материалов_4  2324 non-null   float64\n",
      " 25  объём_подаваемых_проволочных_материалов_5  2324 non-null   float64\n",
      " 26  объём_подаваемых_проволочных_материалов_6  2324 non-null   float64\n",
      " 27  объём_подаваемых_проволочных_материалов_7  2324 non-null   float64\n",
      " 28  объём_подаваемых_проволочных_материалов_8  2324 non-null   float64\n",
      " 29  объём_подаваемых_проволочных_материалов_9  2324 non-null   float64\n",
      "dtypes: float64(27), int64(3)\n",
      "memory usage: 544.8 KB\n"
     ]
    }
   ],
   "source": [
    "data.info()"
   ]
  },
  {
   "cell_type": "markdown",
   "id": "5c5b5ac2",
   "metadata": {},
   "source": [
    "Проверим данные на наличие явных дубликатов."
   ]
  },
  {
   "cell_type": "code",
   "execution_count": 125,
   "id": "1d691e88",
   "metadata": {},
   "outputs": [
    {
     "name": "stdout",
     "output_type": "stream",
     "text": [
      "0\n"
     ]
    }
   ],
   "source": [
    "print(data.duplicated().sum())"
   ]
  },
  {
   "cell_type": "markdown",
   "id": "22126a66",
   "metadata": {},
   "source": [
    "Явных дубликатов не обнаружено, неявные дубликаты невозможны из-за того, что все поля числовые."
   ]
  },
  {
   "cell_type": "markdown",
   "id": "33a9f6a9",
   "metadata": {},
   "source": [
    "## Подготовка данных"
   ]
  },
  {
   "cell_type": "markdown",
   "id": "cdc02858",
   "metadata": {},
   "source": [
    "Разобьём таблицу на тренировочную и тестовую выборки."
   ]
  },
  {
   "cell_type": "code",
   "execution_count": 126,
   "id": "e542f662",
   "metadata": {},
   "outputs": [],
   "source": [
    "RANDOM_STATE = 80724\n",
    "\n",
    "X_train, X_test, y_train, y_test = train_test_split(\n",
    "    data.drop('конечная_температура', axis=1),\n",
    "    data['конечная_температура'],\n",
    "    test_size=0.25,\n",
    "    random_state=RANDOM_STATE\n",
    ")"
   ]
  },
  {
   "cell_type": "markdown",
   "id": "be88a810",
   "metadata": {},
   "source": [
    "Масштабируем данные."
   ]
  },
  {
   "cell_type": "code",
   "execution_count": 127,
   "id": "11566af4",
   "metadata": {},
   "outputs": [],
   "source": [
    "scaler = MinMaxScaler()\n",
    "\n",
    "X_train = scaler.fit_transform(X_train)\n",
    "X_test = scaler.transform(X_test)"
   ]
  },
  {
   "cell_type": "markdown",
   "id": "cb7b67ad",
   "metadata": {},
   "source": [
    "Данные готовы. Приступим к обучении моделей."
   ]
  },
  {
   "cell_type": "markdown",
   "id": "b670b611",
   "metadata": {},
   "source": [
    "## Обучение моделей машинного обучения"
   ]
  },
  {
   "cell_type": "markdown",
   "id": "b7683f3c",
   "metadata": {},
   "source": [
    "Были выбраны четыре модели - LinearRegression, DecisionTreeRegressor, LGBMRegressor и CatBoostRegressor. Обучим каждую из них и проверим их результаты на кросс-валидации."
   ]
  },
  {
   "cell_type": "markdown",
   "id": "e31d95f9",
   "metadata": {},
   "source": [
    "### Обучение линейной регрессии"
   ]
  },
  {
   "cell_type": "code",
   "execution_count": 70,
   "id": "b98ae61b",
   "metadata": {},
   "outputs": [
    {
     "name": "stdout",
     "output_type": "stream",
     "text": [
      "Среднее значение метрики MAE для модели LinearRegression = 5.852095583673931\n",
      "CPU times: user 191 ms, sys: 293 ms, total: 484 ms\n",
      "Wall time: 407 ms\n"
     ]
    }
   ],
   "source": [
    "%%time\n",
    "\n",
    "regressor = LinearRegression()\n",
    "\n",
    "cv_mae_lr = abs((cross_val_score(regressor,\n",
    "                              X_train, \n",
    "                              y_train, \n",
    "                              cv=5, \n",
    "                              scoring='neg_mean_absolute_error')).mean())\n",
    "\n",
    "print('Среднее значение метрики MAE для модели LinearRegression =', cv_mae_lr)"
   ]
  },
  {
   "cell_type": "markdown",
   "id": "6e0d6be8",
   "metadata": {},
   "source": [
    "### Обучение DecisionTreeRegressor"
   ]
  },
  {
   "cell_type": "code",
   "execution_count": 71,
   "id": "cc90e06b",
   "metadata": {},
   "outputs": [
    {
     "name": "stdout",
     "output_type": "stream",
     "text": [
      "Подбираем значение максимальной глубины дерева с наилучшим показателем метрики.\n",
      "\n",
      "Значение максимальной глубины дерева с наилучшим показателем метрики: {'max_depth': 4} \n",
      "\n",
      "Среднее значение метрики MAE для модели DecisionTreeRegressor = 6.564812738766423\n",
      "CPU times: user 137 ms, sys: 20.1 ms, total: 157 ms\n",
      "Wall time: 212 ms\n"
     ]
    }
   ],
   "source": [
    "%%time\n",
    "\n",
    "regressor = DecisionTreeRegressor(random_state=RANDOM_STATE)\n",
    "params = [{'max_depth':range(2, 5)}]\n",
    "\n",
    "print('Подбираем значение максимальной глубины дерева с наилучшим показателем метрики.\\n')\n",
    "\n",
    "clf = GridSearchCV(regressor, params, scoring='neg_mean_absolute_error')\n",
    "clf.fit(X_train, y_train)\n",
    "\n",
    "print('Значение максимальной глубины дерева с наилучшим показателем метрики:', clf.best_params_, '\\n')\n",
    "\n",
    "cv_mae_dtr = abs(clf.best_score_)\n",
    "print('Среднее значение метрики MAE для модели DecisionTreeRegressor =', cv_mae_dtr)"
   ]
  },
  {
   "cell_type": "markdown",
   "id": "253092f6",
   "metadata": {},
   "source": [
    "### Обучение LGBMRegressor"
   ]
  },
  {
   "cell_type": "code",
   "execution_count": 72,
   "id": "610ec1d8",
   "metadata": {},
   "outputs": [
    {
     "name": "stdout",
     "output_type": "stream",
     "text": [
      "Подбираем значения гиперпараметров с наилучшим показателем метрики.\n",
      "\n",
      "Значение гиперпараметров с наилучшим показателем метрики: {'learning_rate': 0.1, 'num_leaves': 100} \n",
      "\n",
      "Среднее значение метрики MAE для модели LGBMRegressor = 5.568709535656614\n",
      "CPU times: user 2min 2s, sys: 1.03 s, total: 2min 3s\n",
      "Wall time: 2min 4s\n"
     ]
    }
   ],
   "source": [
    "%%time\n",
    "\n",
    "regressor = LGBMRegressor(random_state=RANDOM_STATE)\n",
    "params = [{'num_leaves':[50, 100, 200], \n",
    "           'learning_rate':[0.1, 0.2, 0.3]}]\n",
    "\n",
    "print('Подбираем значения гиперпараметров с наилучшим показателем метрики.\\n')\n",
    "\n",
    "clf = GridSearchCV(regressor, params, scoring='neg_mean_absolute_error')\n",
    "clf.fit(X_train, y_train)\n",
    "\n",
    "print('Значение гиперпараметров с наилучшим показателем метрики:', clf.best_params_, '\\n')\n",
    "\n",
    "cv_mae_lgbmr = abs(clf.best_score_)\n",
    "print('Среднее значение метрики MAE для модели LGBMRegressor =', cv_mae_lgbmr)"
   ]
  },
  {
   "cell_type": "markdown",
   "id": "9e0d028d",
   "metadata": {},
   "source": [
    "### Обучение CatBoostRegressor"
   ]
  },
  {
   "cell_type": "code",
   "execution_count": 73,
   "id": "2dc51297",
   "metadata": {},
   "outputs": [
    {
     "name": "stdout",
     "output_type": "stream",
     "text": [
      "Подбираем значения гиперпараметров с наилучшим показателем метрики.\n",
      "\n",
      "Значение гиперпараметров с наилучшим показателем метрики: {'learning_rate': 0.1} \n",
      "\n",
      "Среднее значение метрики MAE для модели CatBoostRegressor = 5.6124399037150425\n",
      "CPU times: user 1min 16s, sys: 1.82 s, total: 1min 18s\n",
      "Wall time: 1min 37s\n"
     ]
    }
   ],
   "source": [
    "%%time\n",
    "\n",
    "regressor = CatBoostRegressor(random_state=RANDOM_STATE, verbose=False)\n",
    "params = [{'learning_rate':[0.1, 0.2, 0.3, 0.4, 0.5]}]\n",
    "\n",
    "print('Подбираем значения гиперпараметров с наилучшим показателем метрики.\\n')\n",
    "\n",
    "clf = GridSearchCV(regressor, params, scoring='neg_mean_absolute_error')\n",
    "clf.fit(X_train, y_train)\n",
    "\n",
    "print('Значение гиперпараметров с наилучшим показателем метрики:', clf.best_params_, '\\n')\n",
    "\n",
    "cv_mae_cbr = abs(clf.best_score_)\n",
    "print('Среднее значение метрики MAE для модели CatBoostRegressor =', cv_mae_cbr)"
   ]
  },
  {
   "cell_type": "markdown",
   "id": "8a9af2df",
   "metadata": {},
   "source": [
    "Лучшие результаты показала модель LGBMRegressor, с метрикой MAE равной 5.568709535656614."
   ]
  },
  {
   "cell_type": "markdown",
   "id": "9d1684d7",
   "metadata": {},
   "source": [
    "## Выбор лучшей модели"
   ]
  },
  {
   "cell_type": "markdown",
   "id": "b36b07e0",
   "metadata": {},
   "source": [
    "Теперь найдём значение метрики МАЕ на тестовой выборке."
   ]
  },
  {
   "cell_type": "code",
   "execution_count": 128,
   "id": "df9e02fd",
   "metadata": {},
   "outputs": [
    {
     "name": "stdout",
     "output_type": "stream",
     "text": [
      "CPU times: user 4.09 s, sys: 6.29 ms, total: 4.1 s\n",
      "Wall time: 4.08 s\n"
     ]
    },
    {
     "data": {
      "text/html": [
       "<style>#sk-container-id-1 {\n",
       "  /* Definition of color scheme common for light and dark mode */\n",
       "  --sklearn-color-text: black;\n",
       "  --sklearn-color-line: gray;\n",
       "  /* Definition of color scheme for unfitted estimators */\n",
       "  --sklearn-color-unfitted-level-0: #fff5e6;\n",
       "  --sklearn-color-unfitted-level-1: #f6e4d2;\n",
       "  --sklearn-color-unfitted-level-2: #ffe0b3;\n",
       "  --sklearn-color-unfitted-level-3: chocolate;\n",
       "  /* Definition of color scheme for fitted estimators */\n",
       "  --sklearn-color-fitted-level-0: #f0f8ff;\n",
       "  --sklearn-color-fitted-level-1: #d4ebff;\n",
       "  --sklearn-color-fitted-level-2: #b3dbfd;\n",
       "  --sklearn-color-fitted-level-3: cornflowerblue;\n",
       "\n",
       "  /* Specific color for light theme */\n",
       "  --sklearn-color-text-on-default-background: var(--sg-text-color, var(--theme-code-foreground, var(--jp-content-font-color1, black)));\n",
       "  --sklearn-color-background: var(--sg-background-color, var(--theme-background, var(--jp-layout-color0, white)));\n",
       "  --sklearn-color-border-box: var(--sg-text-color, var(--theme-code-foreground, var(--jp-content-font-color1, black)));\n",
       "  --sklearn-color-icon: #696969;\n",
       "\n",
       "  @media (prefers-color-scheme: dark) {\n",
       "    /* Redefinition of color scheme for dark theme */\n",
       "    --sklearn-color-text-on-default-background: var(--sg-text-color, var(--theme-code-foreground, var(--jp-content-font-color1, white)));\n",
       "    --sklearn-color-background: var(--sg-background-color, var(--theme-background, var(--jp-layout-color0, #111)));\n",
       "    --sklearn-color-border-box: var(--sg-text-color, var(--theme-code-foreground, var(--jp-content-font-color1, white)));\n",
       "    --sklearn-color-icon: #878787;\n",
       "  }\n",
       "}\n",
       "\n",
       "#sk-container-id-1 {\n",
       "  color: var(--sklearn-color-text);\n",
       "}\n",
       "\n",
       "#sk-container-id-1 pre {\n",
       "  padding: 0;\n",
       "}\n",
       "\n",
       "#sk-container-id-1 input.sk-hidden--visually {\n",
       "  border: 0;\n",
       "  clip: rect(1px 1px 1px 1px);\n",
       "  clip: rect(1px, 1px, 1px, 1px);\n",
       "  height: 1px;\n",
       "  margin: -1px;\n",
       "  overflow: hidden;\n",
       "  padding: 0;\n",
       "  position: absolute;\n",
       "  width: 1px;\n",
       "}\n",
       "\n",
       "#sk-container-id-1 div.sk-dashed-wrapped {\n",
       "  border: 1px dashed var(--sklearn-color-line);\n",
       "  margin: 0 0.4em 0.5em 0.4em;\n",
       "  box-sizing: border-box;\n",
       "  padding-bottom: 0.4em;\n",
       "  background-color: var(--sklearn-color-background);\n",
       "}\n",
       "\n",
       "#sk-container-id-1 div.sk-container {\n",
       "  /* jupyter's `normalize.less` sets `[hidden] { display: none; }`\n",
       "     but bootstrap.min.css set `[hidden] { display: none !important; }`\n",
       "     so we also need the `!important` here to be able to override the\n",
       "     default hidden behavior on the sphinx rendered scikit-learn.org.\n",
       "     See: https://github.com/scikit-learn/scikit-learn/issues/21755 */\n",
       "  display: inline-block !important;\n",
       "  position: relative;\n",
       "}\n",
       "\n",
       "#sk-container-id-1 div.sk-text-repr-fallback {\n",
       "  display: none;\n",
       "}\n",
       "\n",
       "div.sk-parallel-item,\n",
       "div.sk-serial,\n",
       "div.sk-item {\n",
       "  /* draw centered vertical line to link estimators */\n",
       "  background-image: linear-gradient(var(--sklearn-color-text-on-default-background), var(--sklearn-color-text-on-default-background));\n",
       "  background-size: 2px 100%;\n",
       "  background-repeat: no-repeat;\n",
       "  background-position: center center;\n",
       "}\n",
       "\n",
       "/* Parallel-specific style estimator block */\n",
       "\n",
       "#sk-container-id-1 div.sk-parallel-item::after {\n",
       "  content: \"\";\n",
       "  width: 100%;\n",
       "  border-bottom: 2px solid var(--sklearn-color-text-on-default-background);\n",
       "  flex-grow: 1;\n",
       "}\n",
       "\n",
       "#sk-container-id-1 div.sk-parallel {\n",
       "  display: flex;\n",
       "  align-items: stretch;\n",
       "  justify-content: center;\n",
       "  background-color: var(--sklearn-color-background);\n",
       "  position: relative;\n",
       "}\n",
       "\n",
       "#sk-container-id-1 div.sk-parallel-item {\n",
       "  display: flex;\n",
       "  flex-direction: column;\n",
       "}\n",
       "\n",
       "#sk-container-id-1 div.sk-parallel-item:first-child::after {\n",
       "  align-self: flex-end;\n",
       "  width: 50%;\n",
       "}\n",
       "\n",
       "#sk-container-id-1 div.sk-parallel-item:last-child::after {\n",
       "  align-self: flex-start;\n",
       "  width: 50%;\n",
       "}\n",
       "\n",
       "#sk-container-id-1 div.sk-parallel-item:only-child::after {\n",
       "  width: 0;\n",
       "}\n",
       "\n",
       "/* Serial-specific style estimator block */\n",
       "\n",
       "#sk-container-id-1 div.sk-serial {\n",
       "  display: flex;\n",
       "  flex-direction: column;\n",
       "  align-items: center;\n",
       "  background-color: var(--sklearn-color-background);\n",
       "  padding-right: 1em;\n",
       "  padding-left: 1em;\n",
       "}\n",
       "\n",
       "\n",
       "/* Toggleable style: style used for estimator/Pipeline/ColumnTransformer box that is\n",
       "clickable and can be expanded/collapsed.\n",
       "- Pipeline and ColumnTransformer use this feature and define the default style\n",
       "- Estimators will overwrite some part of the style using the `sk-estimator` class\n",
       "*/\n",
       "\n",
       "/* Pipeline and ColumnTransformer style (default) */\n",
       "\n",
       "#sk-container-id-1 div.sk-toggleable {\n",
       "  /* Default theme specific background. It is overwritten whether we have a\n",
       "  specific estimator or a Pipeline/ColumnTransformer */\n",
       "  background-color: var(--sklearn-color-background);\n",
       "}\n",
       "\n",
       "/* Toggleable label */\n",
       "#sk-container-id-1 label.sk-toggleable__label {\n",
       "  cursor: pointer;\n",
       "  display: block;\n",
       "  width: 100%;\n",
       "  margin-bottom: 0;\n",
       "  padding: 0.5em;\n",
       "  box-sizing: border-box;\n",
       "  text-align: center;\n",
       "}\n",
       "\n",
       "#sk-container-id-1 label.sk-toggleable__label-arrow:before {\n",
       "  /* Arrow on the left of the label */\n",
       "  content: \"▸\";\n",
       "  float: left;\n",
       "  margin-right: 0.25em;\n",
       "  color: var(--sklearn-color-icon);\n",
       "}\n",
       "\n",
       "#sk-container-id-1 label.sk-toggleable__label-arrow:hover:before {\n",
       "  color: var(--sklearn-color-text);\n",
       "}\n",
       "\n",
       "/* Toggleable content - dropdown */\n",
       "\n",
       "#sk-container-id-1 div.sk-toggleable__content {\n",
       "  max-height: 0;\n",
       "  max-width: 0;\n",
       "  overflow: hidden;\n",
       "  text-align: left;\n",
       "  /* unfitted */\n",
       "  background-color: var(--sklearn-color-unfitted-level-0);\n",
       "}\n",
       "\n",
       "#sk-container-id-1 div.sk-toggleable__content.fitted {\n",
       "  /* fitted */\n",
       "  background-color: var(--sklearn-color-fitted-level-0);\n",
       "}\n",
       "\n",
       "#sk-container-id-1 div.sk-toggleable__content pre {\n",
       "  margin: 0.2em;\n",
       "  border-radius: 0.25em;\n",
       "  color: var(--sklearn-color-text);\n",
       "  /* unfitted */\n",
       "  background-color: var(--sklearn-color-unfitted-level-0);\n",
       "}\n",
       "\n",
       "#sk-container-id-1 div.sk-toggleable__content.fitted pre {\n",
       "  /* unfitted */\n",
       "  background-color: var(--sklearn-color-fitted-level-0);\n",
       "}\n",
       "\n",
       "#sk-container-id-1 input.sk-toggleable__control:checked~div.sk-toggleable__content {\n",
       "  /* Expand drop-down */\n",
       "  max-height: 200px;\n",
       "  max-width: 100%;\n",
       "  overflow: auto;\n",
       "}\n",
       "\n",
       "#sk-container-id-1 input.sk-toggleable__control:checked~label.sk-toggleable__label-arrow:before {\n",
       "  content: \"▾\";\n",
       "}\n",
       "\n",
       "/* Pipeline/ColumnTransformer-specific style */\n",
       "\n",
       "#sk-container-id-1 div.sk-label input.sk-toggleable__control:checked~label.sk-toggleable__label {\n",
       "  color: var(--sklearn-color-text);\n",
       "  background-color: var(--sklearn-color-unfitted-level-2);\n",
       "}\n",
       "\n",
       "#sk-container-id-1 div.sk-label.fitted input.sk-toggleable__control:checked~label.sk-toggleable__label {\n",
       "  background-color: var(--sklearn-color-fitted-level-2);\n",
       "}\n",
       "\n",
       "/* Estimator-specific style */\n",
       "\n",
       "/* Colorize estimator box */\n",
       "#sk-container-id-1 div.sk-estimator input.sk-toggleable__control:checked~label.sk-toggleable__label {\n",
       "  /* unfitted */\n",
       "  background-color: var(--sklearn-color-unfitted-level-2);\n",
       "}\n",
       "\n",
       "#sk-container-id-1 div.sk-estimator.fitted input.sk-toggleable__control:checked~label.sk-toggleable__label {\n",
       "  /* fitted */\n",
       "  background-color: var(--sklearn-color-fitted-level-2);\n",
       "}\n",
       "\n",
       "#sk-container-id-1 div.sk-label label.sk-toggleable__label,\n",
       "#sk-container-id-1 div.sk-label label {\n",
       "  /* The background is the default theme color */\n",
       "  color: var(--sklearn-color-text-on-default-background);\n",
       "}\n",
       "\n",
       "/* On hover, darken the color of the background */\n",
       "#sk-container-id-1 div.sk-label:hover label.sk-toggleable__label {\n",
       "  color: var(--sklearn-color-text);\n",
       "  background-color: var(--sklearn-color-unfitted-level-2);\n",
       "}\n",
       "\n",
       "/* Label box, darken color on hover, fitted */\n",
       "#sk-container-id-1 div.sk-label.fitted:hover label.sk-toggleable__label.fitted {\n",
       "  color: var(--sklearn-color-text);\n",
       "  background-color: var(--sklearn-color-fitted-level-2);\n",
       "}\n",
       "\n",
       "/* Estimator label */\n",
       "\n",
       "#sk-container-id-1 div.sk-label label {\n",
       "  font-family: monospace;\n",
       "  font-weight: bold;\n",
       "  display: inline-block;\n",
       "  line-height: 1.2em;\n",
       "}\n",
       "\n",
       "#sk-container-id-1 div.sk-label-container {\n",
       "  text-align: center;\n",
       "}\n",
       "\n",
       "/* Estimator-specific */\n",
       "#sk-container-id-1 div.sk-estimator {\n",
       "  font-family: monospace;\n",
       "  border: 1px dotted var(--sklearn-color-border-box);\n",
       "  border-radius: 0.25em;\n",
       "  box-sizing: border-box;\n",
       "  margin-bottom: 0.5em;\n",
       "  /* unfitted */\n",
       "  background-color: var(--sklearn-color-unfitted-level-0);\n",
       "}\n",
       "\n",
       "#sk-container-id-1 div.sk-estimator.fitted {\n",
       "  /* fitted */\n",
       "  background-color: var(--sklearn-color-fitted-level-0);\n",
       "}\n",
       "\n",
       "/* on hover */\n",
       "#sk-container-id-1 div.sk-estimator:hover {\n",
       "  /* unfitted */\n",
       "  background-color: var(--sklearn-color-unfitted-level-2);\n",
       "}\n",
       "\n",
       "#sk-container-id-1 div.sk-estimator.fitted:hover {\n",
       "  /* fitted */\n",
       "  background-color: var(--sklearn-color-fitted-level-2);\n",
       "}\n",
       "\n",
       "/* Specification for estimator info (e.g. \"i\" and \"?\") */\n",
       "\n",
       "/* Common style for \"i\" and \"?\" */\n",
       "\n",
       ".sk-estimator-doc-link,\n",
       "a:link.sk-estimator-doc-link,\n",
       "a:visited.sk-estimator-doc-link {\n",
       "  float: right;\n",
       "  font-size: smaller;\n",
       "  line-height: 1em;\n",
       "  font-family: monospace;\n",
       "  background-color: var(--sklearn-color-background);\n",
       "  border-radius: 1em;\n",
       "  height: 1em;\n",
       "  width: 1em;\n",
       "  text-decoration: none !important;\n",
       "  margin-left: 1ex;\n",
       "  /* unfitted */\n",
       "  border: var(--sklearn-color-unfitted-level-1) 1pt solid;\n",
       "  color: var(--sklearn-color-unfitted-level-1);\n",
       "}\n",
       "\n",
       ".sk-estimator-doc-link.fitted,\n",
       "a:link.sk-estimator-doc-link.fitted,\n",
       "a:visited.sk-estimator-doc-link.fitted {\n",
       "  /* fitted */\n",
       "  border: var(--sklearn-color-fitted-level-1) 1pt solid;\n",
       "  color: var(--sklearn-color-fitted-level-1);\n",
       "}\n",
       "\n",
       "/* On hover */\n",
       "div.sk-estimator:hover .sk-estimator-doc-link:hover,\n",
       ".sk-estimator-doc-link:hover,\n",
       "div.sk-label-container:hover .sk-estimator-doc-link:hover,\n",
       ".sk-estimator-doc-link:hover {\n",
       "  /* unfitted */\n",
       "  background-color: var(--sklearn-color-unfitted-level-3);\n",
       "  color: var(--sklearn-color-background);\n",
       "  text-decoration: none;\n",
       "}\n",
       "\n",
       "div.sk-estimator.fitted:hover .sk-estimator-doc-link.fitted:hover,\n",
       ".sk-estimator-doc-link.fitted:hover,\n",
       "div.sk-label-container:hover .sk-estimator-doc-link.fitted:hover,\n",
       ".sk-estimator-doc-link.fitted:hover {\n",
       "  /* fitted */\n",
       "  background-color: var(--sklearn-color-fitted-level-3);\n",
       "  color: var(--sklearn-color-background);\n",
       "  text-decoration: none;\n",
       "}\n",
       "\n",
       "/* Span, style for the box shown on hovering the info icon */\n",
       ".sk-estimator-doc-link span {\n",
       "  display: none;\n",
       "  z-index: 9999;\n",
       "  position: relative;\n",
       "  font-weight: normal;\n",
       "  right: .2ex;\n",
       "  padding: .5ex;\n",
       "  margin: .5ex;\n",
       "  width: min-content;\n",
       "  min-width: 20ex;\n",
       "  max-width: 50ex;\n",
       "  color: var(--sklearn-color-text);\n",
       "  box-shadow: 2pt 2pt 4pt #999;\n",
       "  /* unfitted */\n",
       "  background: var(--sklearn-color-unfitted-level-0);\n",
       "  border: .5pt solid var(--sklearn-color-unfitted-level-3);\n",
       "}\n",
       "\n",
       ".sk-estimator-doc-link.fitted span {\n",
       "  /* fitted */\n",
       "  background: var(--sklearn-color-fitted-level-0);\n",
       "  border: var(--sklearn-color-fitted-level-3);\n",
       "}\n",
       "\n",
       ".sk-estimator-doc-link:hover span {\n",
       "  display: block;\n",
       "}\n",
       "\n",
       "/* \"?\"-specific style due to the `<a>` HTML tag */\n",
       "\n",
       "#sk-container-id-1 a.estimator_doc_link {\n",
       "  float: right;\n",
       "  font-size: 1rem;\n",
       "  line-height: 1em;\n",
       "  font-family: monospace;\n",
       "  background-color: var(--sklearn-color-background);\n",
       "  border-radius: 1rem;\n",
       "  height: 1rem;\n",
       "  width: 1rem;\n",
       "  text-decoration: none;\n",
       "  /* unfitted */\n",
       "  color: var(--sklearn-color-unfitted-level-1);\n",
       "  border: var(--sklearn-color-unfitted-level-1) 1pt solid;\n",
       "}\n",
       "\n",
       "#sk-container-id-1 a.estimator_doc_link.fitted {\n",
       "  /* fitted */\n",
       "  border: var(--sklearn-color-fitted-level-1) 1pt solid;\n",
       "  color: var(--sklearn-color-fitted-level-1);\n",
       "}\n",
       "\n",
       "/* On hover */\n",
       "#sk-container-id-1 a.estimator_doc_link:hover {\n",
       "  /* unfitted */\n",
       "  background-color: var(--sklearn-color-unfitted-level-3);\n",
       "  color: var(--sklearn-color-background);\n",
       "  text-decoration: none;\n",
       "}\n",
       "\n",
       "#sk-container-id-1 a.estimator_doc_link.fitted:hover {\n",
       "  /* fitted */\n",
       "  background-color: var(--sklearn-color-fitted-level-3);\n",
       "}\n",
       "</style><div id=\"sk-container-id-1\" class=\"sk-top-container\"><div class=\"sk-text-repr-fallback\"><pre>LGBMRegressor(num_leaves=100, random_state=80724)</pre><b>In a Jupyter environment, please rerun this cell to show the HTML representation or trust the notebook. <br />On GitHub, the HTML representation is unable to render, please try loading this page with nbviewer.org.</b></div><div class=\"sk-container\" hidden><div class=\"sk-item\"><div class=\"sk-estimator fitted sk-toggleable\"><input class=\"sk-toggleable__control sk-hidden--visually\" id=\"sk-estimator-id-1\" type=\"checkbox\" checked><label for=\"sk-estimator-id-1\" class=\"sk-toggleable__label fitted sk-toggleable__label-arrow fitted\">&nbsp;LGBMRegressor<span class=\"sk-estimator-doc-link fitted\">i<span>Fitted</span></span></label><div class=\"sk-toggleable__content fitted\"><pre>LGBMRegressor(num_leaves=100, random_state=80724)</pre></div> </div></div></div></div>"
      ],
      "text/plain": [
       "LGBMRegressor(num_leaves=100, random_state=80724)"
      ]
     },
     "execution_count": 128,
     "metadata": {},
     "output_type": "execute_result"
    }
   ],
   "source": [
    "%%time\n",
    "\n",
    "regressor = LGBMRegressor(random_state=RANDOM_STATE, learning_rate=0.1, num_leaves=100)\n",
    "regressor.fit(X_train, y_train)"
   ]
  },
  {
   "cell_type": "code",
   "execution_count": 129,
   "id": "2fe7cdad",
   "metadata": {},
   "outputs": [
    {
     "name": "stdout",
     "output_type": "stream",
     "text": [
      "CPU times: user 25.7 ms, sys: 251 µs, total: 25.9 ms\n",
      "Wall time: 6.72 ms\n"
     ]
    }
   ],
   "source": [
    "%%time\n",
    "\n",
    "y_pred = regressor.predict(X_test)"
   ]
  },
  {
   "cell_type": "code",
   "execution_count": 130,
   "id": "b0660649",
   "metadata": {},
   "outputs": [
    {
     "name": "stdout",
     "output_type": "stream",
     "text": [
      "5.454581532023236\n"
     ]
    }
   ],
   "source": [
    "mae_result = mean_absolute_error(y_test, y_pred)\n",
    "print(mae_result)"
   ]
  },
  {
   "cell_type": "markdown",
   "id": "6cf65db1",
   "metadata": {},
   "source": [
    "Обучим модель-болванку и сравним её с результатом LGBMRegressor."
   ]
  },
  {
   "cell_type": "code",
   "execution_count": 131,
   "id": "4dc774a8",
   "metadata": {},
   "outputs": [
    {
     "name": "stdout",
     "output_type": "stream",
     "text": [
      "Значение метрики МАЕ на модели-болванке - 8.36358761823788.\n"
     ]
    }
   ],
   "source": [
    "dummy_reg = DummyRegressor()\n",
    "dummy_reg.fit(X_train, y_train)\n",
    "y_test_pred_dummy = dummy_reg.predict(X_test)\n",
    "\n",
    "dummy_test = mean_absolute_error(y_test, y_test_pred_dummy)\n",
    "\n",
    "print(f'Значение метрики МАЕ на модели-болванке - {dummy_test}.')"
   ]
  },
  {
   "cell_type": "code",
   "execution_count": 132,
   "id": "e493c62d",
   "metadata": {},
   "outputs": [
    {
     "name": "stdout",
     "output_type": "stream",
     "text": [
      "Значение метрики МАЕ на подобранной модели 5.454581532023236 показывает лучший результат.\n",
      "Значение метрики МАЕ 5.454581532023236 удовлетворяет критерию успеха.\n"
     ]
    }
   ],
   "source": [
    "if mae_result > dummy_test:\n",
    "    print(f'Значение метрики МАЕ на модели-болванке {dummy_test} показывает лучший результат.')\n",
    "else:\n",
    "    print(f'Значение метрики МАЕ на подобранной модели {mae_result} показывает лучший результат.')\n",
    "\n",
    "if mae_result > 6.8:\n",
    "    print(f'Значение метрики МАЕ {mae_result} не удовлетворяет критерию успеха.')\n",
    "else:\n",
    "    print(f'Значение метрики МАЕ {mae_result} удовлетворяет критерию успеха.')"
   ]
  },
  {
   "cell_type": "markdown",
   "id": "6a6bbde8",
   "metadata": {},
   "source": [
    "Успешно."
   ]
  },
  {
   "cell_type": "markdown",
   "id": "94fc4741",
   "metadata": {},
   "source": [
    "## Общий вывод и рекомендации заказчику"
   ]
  },
  {
   "cell_type": "markdown",
   "id": "c39c132d",
   "metadata": {},
   "source": [
    "Изучим вляиние входных признаков на результаты модели."
   ]
  },
  {
   "cell_type": "code",
   "execution_count": 79,
   "id": "aff31934",
   "metadata": {},
   "outputs": [
    {
     "data": {
      "image/png": "[encoded data removed]",
      "text/plain": [
       "<Figure size 864x648 with 1 Axes>"
      ]
     },
     "metadata": {
      "needs_background": "light"
     },
     "output_type": "display_data"
    }
   ],
   "source": [
    "plot_data = {\n",
    "    'features': data.drop('конечная_температура', axis=1).columns,\n",
    "    'feature_importances': regressor.feature_importances_,\n",
    "}\n",
    "\n",
    "plot_data = pd.DataFrame(plot_data)\n",
    "plot_data.sort_values(by='feature_importances', ascending=False, inplace=True)\n",
    "\n",
    "plt.figure(figsize=(12, 9))\n",
    "\n",
    "sns.barplot(x=plot_data['feature_importances'], y=plot_data['features'])\n",
    "\n",
    "plt.title('Важность признаков для CatBoostRegressor')\n",
    "plt.show()"
   ]
  },
  {
   "cell_type": "markdown",
   "id": "4e4369d8",
   "metadata": {},
   "source": [
    "Пять самых влиятельных признаков при определении конечной температуры:\n",
    "- Затраты электроэнергии;\n",
    "- Минимальная температура;\n",
    "- Объём подаваемых проволочных материалов 1;\n",
    "- Объём подаваемого газа;\n",
    "- Общий объём материала."
   ]
  },
  {
   "cell_type": "markdown",
   "id": "242194ae",
   "metadata": {},
   "source": [
    "# Вывод:\n",
    "\n",
    "Во время работы было выполнено три шага:\n",
    "1. Предобработка;\n",
    "2. Обучение моделей;\n",
    "3. Применение моделей и анализ результатов.\n",
    "\n",
    "В процессе предобработки были обработаны пропуски и аномальные значения, а также было проверено отсутствие явных и неявных дубликатов. Мы подтвердили корректность и наглядность в названиях столбцов, добавили признаки *количество_легирующих_циклов*, *время_нагрева*, *начальная_температура*, *конечная_температура* и *минимальная_температура*. К тому же были добавлены признаки *полная_мощность* и *затраты_электроэнергии*, высчитанные по формуле, добавили признак *общий_объём_материала* - сумма объемов добавленного сыпучего материала.\n",
    "\n",
    "После мы удалили партии с начальной температурой ниже технологического регламента в 1400°С и с пропусками в замерах температуры. Проверили на корректность времени определения температуры согласно регламенту. Провели корреляционные анализ с визуализацией корреляций. Выявели 3 признака сильно коррелирующие друг с другом. Удалили признаки реактивной и активной мощности, чтобы устранить мультиколлинеарность. Подготовили данные и разделили на 2 выборки train/test в соотношении 75/25 для дальнейшего обучения модели.\n",
    "\n",
    "В процессе обучения моделей числовые признаки были масшатбированы и разбиты на тренировочную и тестовую выборки. На основе тренировочной выборки для четырёх выбранных моделей, LinearRegression, DecisionTreeRegressor, LGBMRegressor и CatBoostRegressor, были рассчитаны наилучшие гиперпараметры и рассчитана метрика МАЕ на кросс-валидации. Для каждой модели было записано время работы.\n",
    "\n",
    "Лучшие результаты показала модель LGBMRegressor с результатом 5.568709535656614. Лучшие результаты на кросс-валидации показали модели градиентного бустинга, они смогли показать хорошее время и точность даже на плохих данных с большим числом пропусков. Второй по качеству можно считать модель линейной регрессии.\n",
    "\n",
    "После применения модели была повторно рассчитана метрика МАЕ, также было рассчитано время предсказания и обучения модели. Значение метрики улучшилось в сравнении с кросс-валидацией и теперь составляет 5.454581532023236, что может говорить о рациональности применения модели LGBMRegressor в дальнейшем при решении подобных задач.\n",
    "\n",
    "Если бы заказчик предоставил более полную информацию, с меньшим количеством пропуском, то результаты модели могли бы быть улучшены. К тому же, с решением задачи определения конечной температуры сплава может лучше справиться математическое моделирование, которое предлагает точные способы аналитического решения данной задачи."
   ]
  }
 ],
 "metadata": {
  "ExecuteTimeLog": [
   {
    "duration": 86,
    "start_time": "2024-07-10T12:07:09.443Z"
   },
   {
    "duration": 0,
    "start_time": "2024-07-10T12:07:09.531Z"
   },
   {
    "duration": 0,
    "start_time": "2024-07-10T12:07:09.532Z"
   },
   {
    "duration": 0,
    "start_time": "2024-07-10T12:07:09.533Z"
   },
   {
    "duration": 0,
    "start_time": "2024-07-10T12:07:09.534Z"
   },
   {
    "duration": 0,
    "start_time": "2024-07-10T12:07:09.535Z"
   },
   {
    "duration": 0,
    "start_time": "2024-07-10T12:07:09.536Z"
   },
   {
    "duration": 0,
    "start_time": "2024-07-10T12:07:09.536Z"
   },
   {
    "duration": 0,
    "start_time": "2024-07-10T12:07:09.538Z"
   },
   {
    "duration": 2205,
    "start_time": "2024-07-10T12:07:26.675Z"
   },
   {
    "duration": 0,
    "start_time": "2024-07-10T12:07:28.883Z"
   },
   {
    "duration": 0,
    "start_time": "2024-07-10T12:07:28.884Z"
   },
   {
    "duration": 0,
    "start_time": "2024-07-10T12:07:28.885Z"
   },
   {
    "duration": 0,
    "start_time": "2024-07-10T12:07:28.887Z"
   },
   {
    "duration": 0,
    "start_time": "2024-07-10T12:07:28.888Z"
   },
   {
    "duration": 0,
    "start_time": "2024-07-10T12:07:28.889Z"
   },
   {
    "duration": 0,
    "start_time": "2024-07-10T12:07:28.890Z"
   },
   {
    "duration": 0,
    "start_time": "2024-07-10T12:07:28.892Z"
   },
   {
    "duration": 15932,
    "start_time": "2024-07-10T12:33:38.247Z"
   },
   {
    "duration": 1663,
    "start_time": "2024-07-10T12:33:54.182Z"
   },
   {
    "duration": 618,
    "start_time": "2024-07-10T12:33:55.846Z"
   },
   {
    "duration": 22,
    "start_time": "2024-07-10T12:33:56.465Z"
   },
   {
    "duration": 25,
    "start_time": "2024-07-10T12:33:56.489Z"
   },
   {
    "duration": 25,
    "start_time": "2024-07-10T12:33:56.515Z"
   },
   {
    "duration": 15,
    "start_time": "2024-07-10T12:33:56.542Z"
   },
   {
    "duration": 15,
    "start_time": "2024-07-10T12:33:56.559Z"
   },
   {
    "duration": 24,
    "start_time": "2024-07-10T12:33:56.610Z"
   },
   {
    "duration": 31,
    "start_time": "2024-07-10T12:33:56.635Z"
   },
   {
    "duration": 16,
    "start_time": "2024-07-10T12:34:14.730Z"
   },
   {
    "duration": 19,
    "start_time": "2024-07-10T12:34:26.886Z"
   },
   {
    "duration": 27,
    "start_time": "2024-07-10T12:34:31.090Z"
   },
   {
    "duration": 18,
    "start_time": "2024-07-10T12:34:33.334Z"
   },
   {
    "duration": 26,
    "start_time": "2024-07-10T12:34:38.628Z"
   },
   {
    "duration": 32,
    "start_time": "2024-07-10T12:36:05.454Z"
   },
   {
    "duration": 8764,
    "start_time": "2024-07-10T12:36:56.484Z"
   },
   {
    "duration": 1670,
    "start_time": "2024-07-10T12:37:05.250Z"
   },
   {
    "duration": 177,
    "start_time": "2024-07-10T12:37:06.922Z"
   },
   {
    "duration": 34,
    "start_time": "2024-07-10T12:37:07.100Z"
   },
   {
    "duration": 87,
    "start_time": "2024-07-10T12:37:07.136Z"
   },
   {
    "duration": 34,
    "start_time": "2024-07-10T12:37:07.224Z"
   },
   {
    "duration": 25,
    "start_time": "2024-07-10T12:37:07.259Z"
   },
   {
    "duration": 36,
    "start_time": "2024-07-10T12:37:07.309Z"
   },
   {
    "duration": 45,
    "start_time": "2024-07-10T12:37:07.346Z"
   },
   {
    "duration": 33,
    "start_time": "2024-07-10T12:37:07.408Z"
   },
   {
    "duration": 13515,
    "start_time": "2024-07-10T16:24:20.780Z"
   },
   {
    "duration": 4,
    "start_time": "2024-07-10T16:24:36.157Z"
   },
   {
    "duration": 564,
    "start_time": "2024-07-10T16:24:36.163Z"
   },
   {
    "duration": 7873,
    "start_time": "2024-07-10T16:34:25.631Z"
   },
   {
    "duration": 1755,
    "start_time": "2024-07-10T16:34:33.506Z"
   },
   {
    "duration": 240,
    "start_time": "2024-07-10T16:34:35.263Z"
   },
   {
    "duration": 47,
    "start_time": "2024-07-10T16:34:35.505Z"
   },
   {
    "duration": 76,
    "start_time": "2024-07-10T16:34:35.555Z"
   },
   {
    "duration": 62,
    "start_time": "2024-07-10T16:34:35.633Z"
   },
   {
    "duration": 27,
    "start_time": "2024-07-10T16:34:35.696Z"
   },
   {
    "duration": 64,
    "start_time": "2024-07-10T16:34:35.724Z"
   },
   {
    "duration": 80,
    "start_time": "2024-07-10T16:34:35.790Z"
   },
   {
    "duration": 34,
    "start_time": "2024-07-10T16:34:35.872Z"
   },
   {
    "duration": 7615,
    "start_time": "2024-07-10T16:39:34.465Z"
   },
   {
    "duration": 1618,
    "start_time": "2024-07-10T16:39:42.083Z"
   },
   {
    "duration": 244,
    "start_time": "2024-07-10T16:39:43.703Z"
   },
   {
    "duration": 38,
    "start_time": "2024-07-10T16:39:43.949Z"
   },
   {
    "duration": 90,
    "start_time": "2024-07-10T16:39:43.989Z"
   },
   {
    "duration": 38,
    "start_time": "2024-07-10T16:39:44.081Z"
   },
   {
    "duration": 49,
    "start_time": "2024-07-10T16:39:44.121Z"
   },
   {
    "duration": 35,
    "start_time": "2024-07-10T16:39:44.172Z"
   },
   {
    "duration": 87,
    "start_time": "2024-07-10T16:39:44.208Z"
   },
   {
    "duration": 28,
    "start_time": "2024-07-10T16:39:44.296Z"
   },
   {
    "duration": 1391,
    "start_time": "2024-07-10T17:18:46.165Z"
   },
   {
    "duration": 11,
    "start_time": "2024-07-10T17:18:48.917Z"
   },
   {
    "duration": 15,
    "start_time": "2024-07-10T17:18:49.183Z"
   },
   {
    "duration": 11,
    "start_time": "2024-07-10T17:18:51.156Z"
   },
   {
    "duration": 12,
    "start_time": "2024-07-10T17:18:52.548Z"
   },
   {
    "duration": 25,
    "start_time": "2024-07-10T17:19:45.659Z"
   },
   {
    "duration": 34,
    "start_time": "2024-07-10T17:19:45.997Z"
   },
   {
    "duration": 21,
    "start_time": "2024-07-10T17:19:46.671Z"
   },
   {
    "duration": 20,
    "start_time": "2024-07-10T17:19:47.148Z"
   },
   {
    "duration": 3,
    "start_time": "2024-07-10T17:35:21.365Z"
   },
   {
    "duration": 137,
    "start_time": "2024-07-10T17:35:52.781Z"
   },
   {
    "duration": 4,
    "start_time": "2024-07-10T17:37:39.758Z"
   },
   {
    "duration": 11,
    "start_time": "2024-07-10T17:37:47.030Z"
   },
   {
    "duration": 7675,
    "start_time": "2024-07-10T17:56:04.767Z"
   },
   {
    "duration": 1743,
    "start_time": "2024-07-10T17:56:12.444Z"
   },
   {
    "duration": 3,
    "start_time": "2024-07-10T17:56:14.188Z"
   },
   {
    "duration": 223,
    "start_time": "2024-07-10T17:56:14.193Z"
   },
   {
    "duration": 33,
    "start_time": "2024-07-10T17:56:14.418Z"
   },
   {
    "duration": 69,
    "start_time": "2024-07-10T17:56:14.453Z"
   },
   {
    "duration": 46,
    "start_time": "2024-07-10T17:56:14.523Z"
   },
   {
    "duration": 26,
    "start_time": "2024-07-10T17:56:14.571Z"
   },
   {
    "duration": 27,
    "start_time": "2024-07-10T17:56:14.598Z"
   },
   {
    "duration": 84,
    "start_time": "2024-07-10T17:56:14.627Z"
   },
   {
    "duration": 49,
    "start_time": "2024-07-10T17:56:14.713Z"
   },
   {
    "duration": 4,
    "start_time": "2024-07-10T17:56:14.764Z"
   },
   {
    "duration": 4,
    "start_time": "2024-07-10T17:56:14.769Z"
   },
   {
    "duration": 13,
    "start_time": "2024-07-10T17:56:14.774Z"
   },
   {
    "duration": 3,
    "start_time": "2024-07-10T17:56:14.789Z"
   },
   {
    "duration": 5,
    "start_time": "2024-07-10T17:56:14.794Z"
   },
   {
    "duration": 10,
    "start_time": "2024-07-10T17:56:14.800Z"
   },
   {
    "duration": 1468,
    "start_time": "2024-07-10T17:56:14.811Z"
   },
   {
    "duration": 26,
    "start_time": "2024-07-10T17:56:16.281Z"
   },
   {
    "duration": 26,
    "start_time": "2024-07-10T17:56:16.308Z"
   },
   {
    "duration": 45,
    "start_time": "2024-07-10T17:56:16.335Z"
   },
   {
    "duration": 44,
    "start_time": "2024-07-10T17:56:16.382Z"
   },
   {
    "duration": 7691,
    "start_time": "2024-07-10T17:58:47.609Z"
   },
   {
    "duration": 1673,
    "start_time": "2024-07-10T17:58:55.303Z"
   },
   {
    "duration": 3,
    "start_time": "2024-07-10T17:58:56.978Z"
   },
   {
    "duration": 257,
    "start_time": "2024-07-10T17:58:56.982Z"
   },
   {
    "duration": 36,
    "start_time": "2024-07-10T17:58:57.240Z"
   },
   {
    "duration": 67,
    "start_time": "2024-07-10T17:58:57.277Z"
   },
   {
    "duration": 31,
    "start_time": "2024-07-10T17:58:57.360Z"
   },
   {
    "duration": 23,
    "start_time": "2024-07-10T17:58:57.393Z"
   },
   {
    "duration": 57,
    "start_time": "2024-07-10T17:58:57.418Z"
   },
   {
    "duration": 47,
    "start_time": "2024-07-10T17:58:57.478Z"
   },
   {
    "duration": 46,
    "start_time": "2024-07-10T17:58:57.527Z"
   },
   {
    "duration": 4,
    "start_time": "2024-07-10T17:58:57.574Z"
   },
   {
    "duration": 4,
    "start_time": "2024-07-10T17:58:57.580Z"
   },
   {
    "duration": 6,
    "start_time": "2024-07-10T17:58:57.585Z"
   },
   {
    "duration": 4,
    "start_time": "2024-07-10T17:58:57.593Z"
   },
   {
    "duration": 4,
    "start_time": "2024-07-10T17:58:57.599Z"
   },
   {
    "duration": 13,
    "start_time": "2024-07-10T17:58:57.604Z"
   },
   {
    "duration": 1465,
    "start_time": "2024-07-10T17:58:57.618Z"
   },
   {
    "duration": 25,
    "start_time": "2024-07-10T17:58:59.084Z"
   },
   {
    "duration": 24,
    "start_time": "2024-07-10T17:58:59.110Z"
   },
   {
    "duration": 42,
    "start_time": "2024-07-10T17:58:59.136Z"
   },
   {
    "duration": 22,
    "start_time": "2024-07-10T17:58:59.179Z"
   },
   {
    "duration": 7888,
    "start_time": "2024-07-10T18:02:51.890Z"
   },
   {
    "duration": 1858,
    "start_time": "2024-07-10T18:02:59.781Z"
   },
   {
    "duration": 3,
    "start_time": "2024-07-10T18:03:01.640Z"
   },
   {
    "duration": 265,
    "start_time": "2024-07-10T18:03:01.645Z"
   },
   {
    "duration": 41,
    "start_time": "2024-07-10T18:03:01.912Z"
   },
   {
    "duration": 83,
    "start_time": "2024-07-10T18:03:01.955Z"
   },
   {
    "duration": 197,
    "start_time": "2024-07-10T18:03:02.040Z"
   },
   {
    "duration": 133,
    "start_time": "2024-07-10T18:03:02.238Z"
   },
   {
    "duration": 84,
    "start_time": "2024-07-10T18:03:02.373Z"
   },
   {
    "duration": 58,
    "start_time": "2024-07-10T18:03:02.460Z"
   },
   {
    "duration": 58,
    "start_time": "2024-07-10T18:03:02.519Z"
   },
   {
    "duration": 6,
    "start_time": "2024-07-10T18:03:02.578Z"
   },
   {
    "duration": 26,
    "start_time": "2024-07-10T18:03:02.586Z"
   },
   {
    "duration": 9,
    "start_time": "2024-07-10T18:03:02.614Z"
   },
   {
    "duration": 6,
    "start_time": "2024-07-10T18:03:02.625Z"
   },
   {
    "duration": 24,
    "start_time": "2024-07-10T18:03:02.633Z"
   },
   {
    "duration": 25,
    "start_time": "2024-07-10T18:03:02.660Z"
   },
   {
    "duration": 1475,
    "start_time": "2024-07-10T18:03:02.687Z"
   },
   {
    "duration": 25,
    "start_time": "2024-07-10T18:03:04.163Z"
   },
   {
    "duration": 27,
    "start_time": "2024-07-10T18:03:04.189Z"
   },
   {
    "duration": 44,
    "start_time": "2024-07-10T18:03:04.217Z"
   },
   {
    "duration": 20,
    "start_time": "2024-07-10T18:03:04.262Z"
   },
   {
    "duration": 16890,
    "start_time": "2024-07-11T12:08:31.456Z"
   },
   {
    "duration": 1973,
    "start_time": "2024-07-11T12:08:48.348Z"
   },
   {
    "duration": 4,
    "start_time": "2024-07-11T12:08:50.323Z"
   },
   {
    "duration": 750,
    "start_time": "2024-07-11T12:08:50.328Z"
   },
   {
    "duration": 42,
    "start_time": "2024-07-11T12:08:51.080Z"
   },
   {
    "duration": 93,
    "start_time": "2024-07-11T12:08:51.123Z"
   },
   {
    "duration": 35,
    "start_time": "2024-07-11T12:08:51.218Z"
   },
   {
    "duration": 53,
    "start_time": "2024-07-11T12:08:51.255Z"
   },
   {
    "duration": 34,
    "start_time": "2024-07-11T12:08:51.310Z"
   },
   {
    "duration": 90,
    "start_time": "2024-07-11T12:08:51.345Z"
   },
   {
    "duration": 51,
    "start_time": "2024-07-11T12:08:51.437Z"
   },
   {
    "duration": 5,
    "start_time": "2024-07-11T12:08:51.489Z"
   },
   {
    "duration": 6,
    "start_time": "2024-07-11T12:08:51.495Z"
   },
   {
    "duration": 10,
    "start_time": "2024-07-11T12:08:51.503Z"
   },
   {
    "duration": 9,
    "start_time": "2024-07-11T12:08:51.515Z"
   },
   {
    "duration": 8,
    "start_time": "2024-07-11T12:08:51.525Z"
   },
   {
    "duration": 11,
    "start_time": "2024-07-11T12:08:51.535Z"
   },
   {
    "duration": 1550,
    "start_time": "2024-07-11T12:08:51.547Z"
   },
   {
    "duration": 29,
    "start_time": "2024-07-11T12:08:53.099Z"
   },
   {
    "duration": 30,
    "start_time": "2024-07-11T12:08:53.130Z"
   },
   {
    "duration": 23,
    "start_time": "2024-07-11T12:08:53.185Z"
   },
   {
    "duration": 38,
    "start_time": "2024-07-11T12:08:53.209Z"
   },
   {
    "duration": 98,
    "start_time": "2024-07-11T12:14:58.723Z"
   },
   {
    "duration": 3,
    "start_time": "2024-07-11T12:15:02.454Z"
   },
   {
    "duration": 3,
    "start_time": "2024-07-11T12:17:30.431Z"
   },
   {
    "duration": 177,
    "start_time": "2024-07-11T12:17:34.858Z"
   },
   {
    "duration": 177,
    "start_time": "2024-07-11T12:18:04.357Z"
   },
   {
    "duration": 189,
    "start_time": "2024-07-11T12:32:49.662Z"
   },
   {
    "duration": 9,
    "start_time": "2024-07-11T12:33:52.189Z"
   },
   {
    "duration": 3,
    "start_time": "2024-07-11T12:39:44.864Z"
   },
   {
    "duration": 12,
    "start_time": "2024-07-11T12:39:45.469Z"
   },
   {
    "duration": 7,
    "start_time": "2024-07-11T12:41:04.602Z"
   },
   {
    "duration": 8208,
    "start_time": "2024-07-11T12:41:17.495Z"
   },
   {
    "duration": 1767,
    "start_time": "2024-07-11T12:41:25.705Z"
   },
   {
    "duration": 3,
    "start_time": "2024-07-11T12:41:27.473Z"
   },
   {
    "duration": 16,
    "start_time": "2024-07-11T12:41:27.478Z"
   },
   {
    "duration": 247,
    "start_time": "2024-07-11T12:41:27.496Z"
   },
   {
    "duration": 36,
    "start_time": "2024-07-11T12:41:27.744Z"
   },
   {
    "duration": 72,
    "start_time": "2024-07-11T12:41:27.782Z"
   },
   {
    "duration": 48,
    "start_time": "2024-07-11T12:41:27.855Z"
   },
   {
    "duration": 36,
    "start_time": "2024-07-11T12:41:27.905Z"
   },
   {
    "duration": 27,
    "start_time": "2024-07-11T12:41:27.943Z"
   },
   {
    "duration": 50,
    "start_time": "2024-07-11T12:41:27.985Z"
   },
   {
    "duration": 49,
    "start_time": "2024-07-11T12:41:28.036Z"
   },
   {
    "duration": 4,
    "start_time": "2024-07-11T12:41:28.087Z"
   },
   {
    "duration": 12,
    "start_time": "2024-07-11T12:41:28.092Z"
   },
   {
    "duration": 6,
    "start_time": "2024-07-11T12:41:28.105Z"
   },
   {
    "duration": 15,
    "start_time": "2024-07-11T12:41:28.113Z"
   },
   {
    "duration": 8,
    "start_time": "2024-07-11T12:41:28.129Z"
   },
   {
    "duration": 10,
    "start_time": "2024-07-11T12:41:28.139Z"
   },
   {
    "duration": 1522,
    "start_time": "2024-07-11T12:41:28.150Z"
   },
   {
    "duration": 33,
    "start_time": "2024-07-11T12:41:29.673Z"
   },
   {
    "duration": 33,
    "start_time": "2024-07-11T12:41:29.707Z"
   },
   {
    "duration": 21,
    "start_time": "2024-07-11T12:41:29.742Z"
   },
   {
    "duration": 40,
    "start_time": "2024-07-11T12:41:29.764Z"
   },
   {
    "duration": 217,
    "start_time": "2024-07-11T12:41:29.806Z"
   },
   {
    "duration": 197,
    "start_time": "2024-07-11T12:41:30.025Z"
   },
   {
    "duration": 6,
    "start_time": "2024-07-11T12:41:30.224Z"
   },
   {
    "duration": 246,
    "start_time": "2024-07-11T12:41:30.232Z"
   },
   {
    "duration": 66,
    "start_time": "2024-07-11T12:43:32.871Z"
   },
   {
    "duration": 53,
    "start_time": "2024-07-11T12:43:36.070Z"
   },
   {
    "duration": 8752,
    "start_time": "2024-07-11T14:26:55.399Z"
   },
   {
    "duration": 1863,
    "start_time": "2024-07-11T14:27:04.154Z"
   },
   {
    "duration": 3,
    "start_time": "2024-07-11T14:27:06.018Z"
   },
   {
    "duration": 7,
    "start_time": "2024-07-11T14:27:06.023Z"
   },
   {
    "duration": 261,
    "start_time": "2024-07-11T14:27:06.031Z"
   },
   {
    "duration": 41,
    "start_time": "2024-07-11T14:27:06.294Z"
   },
   {
    "duration": 95,
    "start_time": "2024-07-11T14:27:06.337Z"
   },
   {
    "duration": 31,
    "start_time": "2024-07-11T14:27:06.433Z"
   },
   {
    "duration": 52,
    "start_time": "2024-07-11T14:27:06.465Z"
   },
   {
    "duration": 29,
    "start_time": "2024-07-11T14:27:06.520Z"
   },
   {
    "duration": 94,
    "start_time": "2024-07-11T14:27:06.550Z"
   },
   {
    "duration": 55,
    "start_time": "2024-07-11T14:27:06.645Z"
   },
   {
    "duration": 7,
    "start_time": "2024-07-11T14:27:06.702Z"
   },
   {
    "duration": 6,
    "start_time": "2024-07-11T14:27:06.711Z"
   },
   {
    "duration": 7,
    "start_time": "2024-07-11T14:27:06.718Z"
   },
   {
    "duration": 4,
    "start_time": "2024-07-11T14:27:06.726Z"
   },
   {
    "duration": 12,
    "start_time": "2024-07-11T14:27:06.732Z"
   },
   {
    "duration": 8,
    "start_time": "2024-07-11T14:27:06.745Z"
   },
   {
    "duration": 1795,
    "start_time": "2024-07-11T14:27:06.754Z"
   },
   {
    "duration": 35,
    "start_time": "2024-07-11T14:27:08.551Z"
   },
   {
    "duration": 37,
    "start_time": "2024-07-11T14:27:08.589Z"
   },
   {
    "duration": 20,
    "start_time": "2024-07-11T14:27:08.627Z"
   },
   {
    "duration": 48,
    "start_time": "2024-07-11T14:27:08.648Z"
   },
   {
    "duration": 211,
    "start_time": "2024-07-11T14:27:08.698Z"
   },
   {
    "duration": 210,
    "start_time": "2024-07-11T14:27:08.910Z"
   },
   {
    "duration": 2,
    "start_time": "2024-07-11T14:27:09.122Z"
   },
   {
    "duration": 13,
    "start_time": "2024-07-11T14:27:09.125Z"
   },
   {
    "duration": 187,
    "start_time": "2024-07-11T14:29:38.685Z"
   },
   {
    "duration": 2904,
    "start_time": "2024-07-11T14:30:34.845Z"
   },
   {
    "duration": 150,
    "start_time": "2024-07-11T14:31:01.828Z"
   },
   {
    "duration": 1901,
    "start_time": "2024-07-11T14:31:05.613Z"
   },
   {
    "duration": 1896,
    "start_time": "2024-07-11T14:31:16.833Z"
   },
   {
    "duration": 177,
    "start_time": "2024-07-11T14:38:50.108Z"
   },
   {
    "duration": 151,
    "start_time": "2024-07-11T14:40:41.740Z"
   },
   {
    "duration": 211,
    "start_time": "2024-07-11T14:40:48.468Z"
   },
   {
    "duration": 248,
    "start_time": "2024-07-11T14:40:57.911Z"
   },
   {
    "duration": 208,
    "start_time": "2024-07-11T14:41:01.412Z"
   },
   {
    "duration": 974,
    "start_time": "2024-07-11T15:42:15.395Z"
   },
   {
    "duration": 1547,
    "start_time": "2024-07-11T15:52:35.566Z"
   },
   {
    "duration": 17,
    "start_time": "2024-07-11T16:15:25.031Z"
   },
   {
    "duration": 23,
    "start_time": "2024-07-11T16:21:12.910Z"
   },
   {
    "duration": 64,
    "start_time": "2024-07-11T16:26:31.202Z"
   },
   {
    "duration": 15,
    "start_time": "2024-07-11T16:26:58.462Z"
   },
   {
    "duration": 160,
    "start_time": "2024-07-11T16:27:19.790Z"
   },
   {
    "duration": 165,
    "start_time": "2024-07-11T16:27:38.753Z"
   },
   {
    "duration": 5,
    "start_time": "2024-07-11T16:29:33.645Z"
   },
   {
    "duration": 3,
    "start_time": "2024-07-11T16:29:54.030Z"
   },
   {
    "duration": 6,
    "start_time": "2024-07-11T16:29:56.721Z"
   },
   {
    "duration": 6,
    "start_time": "2024-07-11T16:30:16.006Z"
   },
   {
    "duration": 13870,
    "start_time": "2024-07-12T15:32:09.315Z"
   },
   {
    "duration": 2048,
    "start_time": "2024-07-12T15:32:23.188Z"
   },
   {
    "duration": 3,
    "start_time": "2024-07-12T15:32:25.237Z"
   },
   {
    "duration": 29,
    "start_time": "2024-07-12T15:32:25.241Z"
   },
   {
    "duration": 619,
    "start_time": "2024-07-12T15:32:25.272Z"
   },
   {
    "duration": 37,
    "start_time": "2024-07-12T15:32:25.893Z"
   },
   {
    "duration": 101,
    "start_time": "2024-07-12T15:32:25.931Z"
   },
   {
    "duration": 42,
    "start_time": "2024-07-12T15:32:26.034Z"
   },
   {
    "duration": 54,
    "start_time": "2024-07-12T15:32:26.078Z"
   },
   {
    "duration": 27,
    "start_time": "2024-07-12T15:32:26.134Z"
   },
   {
    "duration": 81,
    "start_time": "2024-07-12T15:32:26.163Z"
   },
   {
    "duration": 28,
    "start_time": "2024-07-12T15:32:26.246Z"
   },
   {
    "duration": 4,
    "start_time": "2024-07-12T15:32:26.276Z"
   },
   {
    "duration": 29,
    "start_time": "2024-07-12T15:32:26.283Z"
   },
   {
    "duration": 23,
    "start_time": "2024-07-12T15:32:26.313Z"
   },
   {
    "duration": 21,
    "start_time": "2024-07-12T15:32:26.338Z"
   },
   {
    "duration": 30,
    "start_time": "2024-07-12T15:32:26.360Z"
   },
   {
    "duration": 34,
    "start_time": "2024-07-12T15:32:26.391Z"
   },
   {
    "duration": 1470,
    "start_time": "2024-07-12T15:32:26.426Z"
   },
   {
    "duration": 27,
    "start_time": "2024-07-12T15:32:27.898Z"
   },
   {
    "duration": 26,
    "start_time": "2024-07-12T15:32:27.927Z"
   },
   {
    "duration": 21,
    "start_time": "2024-07-12T15:32:27.955Z"
   },
   {
    "duration": 22,
    "start_time": "2024-07-12T15:32:28.005Z"
   },
   {
    "duration": 195,
    "start_time": "2024-07-12T15:32:28.029Z"
   },
   {
    "duration": 182,
    "start_time": "2024-07-12T15:32:28.225Z"
   },
   {
    "duration": 3,
    "start_time": "2024-07-12T15:32:28.409Z"
   },
   {
    "duration": 30,
    "start_time": "2024-07-12T15:32:28.413Z"
   },
   {
    "duration": 169,
    "start_time": "2024-07-12T15:32:28.444Z"
   },
   {
    "duration": 151,
    "start_time": "2024-07-12T15:32:28.614Z"
   },
   {
    "duration": 0,
    "start_time": "2024-07-12T15:32:28.767Z"
   },
   {
    "duration": 0,
    "start_time": "2024-07-12T15:32:28.768Z"
   },
   {
    "duration": 0,
    "start_time": "2024-07-12T15:32:28.769Z"
   },
   {
    "duration": 0,
    "start_time": "2024-07-12T15:32:28.770Z"
   },
   {
    "duration": 8409,
    "start_time": "2024-07-12T15:32:56.095Z"
   },
   {
    "duration": 1822,
    "start_time": "2024-07-12T15:33:04.506Z"
   },
   {
    "duration": 3,
    "start_time": "2024-07-12T15:33:06.330Z"
   },
   {
    "duration": 4,
    "start_time": "2024-07-12T15:33:06.334Z"
   },
   {
    "duration": 229,
    "start_time": "2024-07-12T15:33:06.340Z"
   },
   {
    "duration": 36,
    "start_time": "2024-07-12T15:33:06.571Z"
   },
   {
    "duration": 69,
    "start_time": "2024-07-12T15:33:06.609Z"
   },
   {
    "duration": 44,
    "start_time": "2024-07-12T15:33:06.680Z"
   },
   {
    "duration": 24,
    "start_time": "2024-07-12T15:33:06.725Z"
   },
   {
    "duration": 27,
    "start_time": "2024-07-12T15:33:06.751Z"
   },
   {
    "duration": 53,
    "start_time": "2024-07-12T15:33:06.804Z"
   },
   {
    "duration": 53,
    "start_time": "2024-07-12T15:33:06.858Z"
   },
   {
    "duration": 4,
    "start_time": "2024-07-12T15:33:06.913Z"
   },
   {
    "duration": 4,
    "start_time": "2024-07-12T15:33:06.920Z"
   },
   {
    "duration": 11,
    "start_time": "2024-07-12T15:33:06.925Z"
   },
   {
    "duration": 4,
    "start_time": "2024-07-12T15:33:06.938Z"
   },
   {
    "duration": 5,
    "start_time": "2024-07-12T15:33:06.943Z"
   },
   {
    "duration": 7,
    "start_time": "2024-07-12T15:33:06.949Z"
   },
   {
    "duration": 1569,
    "start_time": "2024-07-12T15:33:06.957Z"
   },
   {
    "duration": 37,
    "start_time": "2024-07-12T15:33:08.528Z"
   },
   {
    "duration": 40,
    "start_time": "2024-07-12T15:33:08.566Z"
   },
   {
    "duration": 28,
    "start_time": "2024-07-12T15:33:08.609Z"
   },
   {
    "duration": 27,
    "start_time": "2024-07-12T15:33:08.640Z"
   },
   {
    "duration": 220,
    "start_time": "2024-07-12T15:33:08.668Z"
   },
   {
    "duration": 187,
    "start_time": "2024-07-12T15:33:08.890Z"
   },
   {
    "duration": 3,
    "start_time": "2024-07-12T15:33:09.079Z"
   },
   {
    "duration": 26,
    "start_time": "2024-07-12T15:33:09.083Z"
   },
   {
    "duration": 168,
    "start_time": "2024-07-12T15:33:09.111Z"
   },
   {
    "duration": 6,
    "start_time": "2024-07-12T15:33:09.281Z"
   },
   {
    "duration": 17,
    "start_time": "2024-07-12T15:33:09.288Z"
   },
   {
    "duration": 5,
    "start_time": "2024-07-12T15:33:09.307Z"
   },
   {
    "duration": 11,
    "start_time": "2024-07-12T15:33:09.314Z"
   },
   {
    "duration": 9,
    "start_time": "2024-07-12T15:33:09.326Z"
   },
   {
    "duration": 12,
    "start_time": "2024-07-12T16:01:01.580Z"
   },
   {
    "duration": 154,
    "start_time": "2024-07-12T16:02:14.259Z"
   },
   {
    "duration": 7,
    "start_time": "2024-07-12T16:02:58.170Z"
   },
   {
    "duration": 7943,
    "start_time": "2024-07-12T16:13:05.376Z"
   },
   {
    "duration": 1723,
    "start_time": "2024-07-12T16:13:13.322Z"
   },
   {
    "duration": 3,
    "start_time": "2024-07-12T16:13:15.046Z"
   },
   {
    "duration": 86,
    "start_time": "2024-07-12T16:13:15.051Z"
   },
   {
    "duration": 278,
    "start_time": "2024-07-12T16:13:15.139Z"
   },
   {
    "duration": 34,
    "start_time": "2024-07-12T16:13:15.419Z"
   },
   {
    "duration": 90,
    "start_time": "2024-07-12T16:13:15.455Z"
   },
   {
    "duration": 31,
    "start_time": "2024-07-12T16:13:15.546Z"
   },
   {
    "duration": 44,
    "start_time": "2024-07-12T16:13:15.578Z"
   },
   {
    "duration": 27,
    "start_time": "2024-07-12T16:13:15.625Z"
   },
   {
    "duration": 80,
    "start_time": "2024-07-12T16:13:15.653Z"
   },
   {
    "duration": 28,
    "start_time": "2024-07-12T16:13:15.734Z"
   },
   {
    "duration": 5,
    "start_time": "2024-07-12T16:13:15.764Z"
   },
   {
    "duration": 34,
    "start_time": "2024-07-12T16:13:15.771Z"
   },
   {
    "duration": 6,
    "start_time": "2024-07-12T16:13:15.807Z"
   },
   {
    "duration": 7,
    "start_time": "2024-07-12T16:13:15.815Z"
   },
   {
    "duration": 11,
    "start_time": "2024-07-12T16:13:15.823Z"
   },
   {
    "duration": 10,
    "start_time": "2024-07-12T16:13:15.836Z"
   },
   {
    "duration": 1572,
    "start_time": "2024-07-12T16:13:15.847Z"
   },
   {
    "duration": 38,
    "start_time": "2024-07-12T16:13:17.425Z"
   },
   {
    "duration": 41,
    "start_time": "2024-07-12T16:13:17.465Z"
   },
   {
    "duration": 52,
    "start_time": "2024-07-12T16:13:17.508Z"
   },
   {
    "duration": 20,
    "start_time": "2024-07-12T16:13:17.563Z"
   },
   {
    "duration": 186,
    "start_time": "2024-07-12T16:13:17.584Z"
   },
   {
    "duration": 177,
    "start_time": "2024-07-12T16:13:17.771Z"
   },
   {
    "duration": 3,
    "start_time": "2024-07-12T16:13:17.949Z"
   },
   {
    "duration": 83,
    "start_time": "2024-07-12T16:13:17.953Z"
   },
   {
    "duration": 160,
    "start_time": "2024-07-12T16:13:18.040Z"
   },
   {
    "duration": 6,
    "start_time": "2024-07-12T16:13:18.202Z"
   },
   {
    "duration": 13,
    "start_time": "2024-07-12T16:13:18.210Z"
   },
   {
    "duration": 5,
    "start_time": "2024-07-12T16:13:18.225Z"
   },
   {
    "duration": 10,
    "start_time": "2024-07-12T16:13:18.231Z"
   },
   {
    "duration": 8,
    "start_time": "2024-07-12T16:13:18.243Z"
   },
   {
    "duration": 11,
    "start_time": "2024-07-12T16:13:18.252Z"
   },
   {
    "duration": 167,
    "start_time": "2024-07-12T16:13:18.264Z"
   },
   {
    "duration": 7,
    "start_time": "2024-07-12T16:13:18.433Z"
   },
   {
    "duration": 8221,
    "start_time": "2024-07-12T16:28:51.531Z"
   },
   {
    "duration": 1792,
    "start_time": "2024-07-12T16:28:59.754Z"
   },
   {
    "duration": 3,
    "start_time": "2024-07-12T16:29:01.548Z"
   },
   {
    "duration": 66,
    "start_time": "2024-07-12T16:29:01.553Z"
   },
   {
    "duration": 318,
    "start_time": "2024-07-12T16:29:01.620Z"
   },
   {
    "duration": 38,
    "start_time": "2024-07-12T16:29:01.940Z"
   },
   {
    "duration": 96,
    "start_time": "2024-07-12T16:29:01.980Z"
   },
   {
    "duration": 56,
    "start_time": "2024-07-12T16:29:02.077Z"
   },
   {
    "duration": 24,
    "start_time": "2024-07-12T16:29:02.135Z"
   },
   {
    "duration": 126,
    "start_time": "2024-07-12T16:29:02.162Z"
   },
   {
    "duration": 125,
    "start_time": "2024-07-12T16:29:02.290Z"
   },
   {
    "duration": 26,
    "start_time": "2024-07-12T16:29:02.417Z"
   },
   {
    "duration": 3,
    "start_time": "2024-07-12T16:29:02.445Z"
   },
   {
    "duration": 6,
    "start_time": "2024-07-12T16:29:02.450Z"
   },
   {
    "duration": 22,
    "start_time": "2024-07-12T16:29:02.458Z"
   },
   {
    "duration": 33,
    "start_time": "2024-07-12T16:29:02.482Z"
   },
   {
    "duration": 7,
    "start_time": "2024-07-12T16:29:02.518Z"
   },
   {
    "duration": 14,
    "start_time": "2024-07-12T16:29:02.526Z"
   },
   {
    "duration": 1613,
    "start_time": "2024-07-12T16:29:02.542Z"
   },
   {
    "duration": 27,
    "start_time": "2024-07-12T16:29:04.157Z"
   },
   {
    "duration": 40,
    "start_time": "2024-07-12T16:29:04.185Z"
   },
   {
    "duration": 20,
    "start_time": "2024-07-12T16:29:04.227Z"
   },
   {
    "duration": 27,
    "start_time": "2024-07-12T16:29:04.249Z"
   },
   {
    "duration": 218,
    "start_time": "2024-07-12T16:29:04.277Z"
   },
   {
    "duration": 186,
    "start_time": "2024-07-12T16:29:04.497Z"
   },
   {
    "duration": 3,
    "start_time": "2024-07-12T16:29:04.685Z"
   },
   {
    "duration": 25,
    "start_time": "2024-07-12T16:29:04.689Z"
   },
   {
    "duration": 179,
    "start_time": "2024-07-12T16:29:04.718Z"
   },
   {
    "duration": 7,
    "start_time": "2024-07-12T16:29:04.904Z"
   },
   {
    "duration": 10,
    "start_time": "2024-07-12T16:29:04.913Z"
   },
   {
    "duration": 4,
    "start_time": "2024-07-12T16:29:04.925Z"
   },
   {
    "duration": 23,
    "start_time": "2024-07-12T16:29:04.931Z"
   },
   {
    "duration": 9,
    "start_time": "2024-07-12T16:29:04.955Z"
   },
   {
    "duration": 28,
    "start_time": "2024-07-12T16:29:04.966Z"
   },
   {
    "duration": 160,
    "start_time": "2024-07-12T16:29:04.996Z"
   },
   {
    "duration": 9,
    "start_time": "2024-07-12T16:29:05.157Z"
   },
   {
    "duration": 141,
    "start_time": "2024-07-12T16:55:50.018Z"
   },
   {
    "duration": 12,
    "start_time": "2024-07-12T16:56:24.174Z"
   },
   {
    "duration": 14,
    "start_time": "2024-07-12T16:56:32.158Z"
   },
   {
    "duration": 5,
    "start_time": "2024-07-12T17:06:24.950Z"
   },
   {
    "duration": 180,
    "start_time": "2024-07-12T17:10:01.574Z"
   },
   {
    "duration": 57,
    "start_time": "2024-07-12T18:06:35.844Z"
   },
   {
    "duration": 9,
    "start_time": "2024-07-12T18:10:05.405Z"
   },
   {
    "duration": 22,
    "start_time": "2024-07-12T18:27:03.486Z"
   },
   {
    "duration": 19,
    "start_time": "2024-07-12T18:44:53.914Z"
   },
   {
    "duration": 9,
    "start_time": "2024-07-12T18:45:34.017Z"
   },
   {
    "duration": 19,
    "start_time": "2024-07-12T18:48:33.357Z"
   },
   {
    "duration": 6,
    "start_time": "2024-07-12T18:49:10.460Z"
   },
   {
    "duration": 1108,
    "start_time": "2024-07-12T18:50:17.691Z"
   },
   {
    "duration": 27,
    "start_time": "2024-07-12T19:07:36.124Z"
   },
   {
    "duration": 1270,
    "start_time": "2024-07-12T19:07:37.213Z"
   },
   {
    "duration": 19,
    "start_time": "2024-07-12T19:08:57.399Z"
   },
   {
    "duration": 834,
    "start_time": "2024-07-12T19:08:57.901Z"
   },
   {
    "duration": 757,
    "start_time": "2024-07-12T19:09:17.365Z"
   },
   {
    "duration": 36,
    "start_time": "2024-07-12T19:10:22.916Z"
   },
   {
    "duration": 8102,
    "start_time": "2024-07-12T19:10:38.024Z"
   },
   {
    "duration": 1814,
    "start_time": "2024-07-12T19:10:46.129Z"
   },
   {
    "duration": 3,
    "start_time": "2024-07-12T19:10:47.945Z"
   },
   {
    "duration": 8,
    "start_time": "2024-07-12T19:10:47.949Z"
   },
   {
    "duration": 232,
    "start_time": "2024-07-12T19:10:47.959Z"
   },
   {
    "duration": 38,
    "start_time": "2024-07-12T19:10:48.193Z"
   },
   {
    "duration": 89,
    "start_time": "2024-07-12T19:10:48.233Z"
   },
   {
    "duration": 31,
    "start_time": "2024-07-12T19:10:48.324Z"
   },
   {
    "duration": 57,
    "start_time": "2024-07-12T19:10:48.357Z"
   },
   {
    "duration": 29,
    "start_time": "2024-07-12T19:10:48.416Z"
   },
   {
    "duration": 85,
    "start_time": "2024-07-12T19:10:48.447Z"
   },
   {
    "duration": 27,
    "start_time": "2024-07-12T19:10:48.534Z"
   },
   {
    "duration": 4,
    "start_time": "2024-07-12T19:10:48.563Z"
   },
   {
    "duration": 36,
    "start_time": "2024-07-12T19:10:48.569Z"
   },
   {
    "duration": 44,
    "start_time": "2024-07-12T19:10:48.607Z"
   },
   {
    "duration": 20,
    "start_time": "2024-07-12T19:10:48.653Z"
   },
   {
    "duration": 18,
    "start_time": "2024-07-12T19:10:48.675Z"
   },
   {
    "duration": 74,
    "start_time": "2024-07-12T19:10:48.695Z"
   },
   {
    "duration": 1514,
    "start_time": "2024-07-12T19:10:48.770Z"
   },
   {
    "duration": 33,
    "start_time": "2024-07-12T19:10:50.286Z"
   },
   {
    "duration": 34,
    "start_time": "2024-07-12T19:10:50.321Z"
   },
   {
    "duration": 22,
    "start_time": "2024-07-12T19:10:50.357Z"
   },
   {
    "duration": 34,
    "start_time": "2024-07-12T19:10:50.405Z"
   },
   {
    "duration": 227,
    "start_time": "2024-07-12T19:10:50.441Z"
   },
   {
    "duration": 195,
    "start_time": "2024-07-12T19:10:50.670Z"
   },
   {
    "duration": 4,
    "start_time": "2024-07-12T19:10:50.867Z"
   },
   {
    "duration": 18,
    "start_time": "2024-07-12T19:10:50.872Z"
   },
   {
    "duration": 200,
    "start_time": "2024-07-12T19:10:50.892Z"
   },
   {
    "duration": 11,
    "start_time": "2024-07-12T19:10:51.095Z"
   },
   {
    "duration": 6,
    "start_time": "2024-07-12T19:10:51.108Z"
   },
   {
    "duration": 4,
    "start_time": "2024-07-12T19:10:51.116Z"
   },
   {
    "duration": 11,
    "start_time": "2024-07-12T19:10:51.122Z"
   },
   {
    "duration": 12,
    "start_time": "2024-07-12T19:10:51.135Z"
   },
   {
    "duration": 35,
    "start_time": "2024-07-12T19:10:51.149Z"
   },
   {
    "duration": 158,
    "start_time": "2024-07-12T19:10:51.185Z"
   },
   {
    "duration": 9,
    "start_time": "2024-07-12T19:10:51.345Z"
   },
   {
    "duration": 14,
    "start_time": "2024-07-12T19:10:51.355Z"
   },
   {
    "duration": 18,
    "start_time": "2024-07-12T19:10:51.371Z"
   },
   {
    "duration": 171,
    "start_time": "2024-07-12T19:10:51.391Z"
   },
   {
    "duration": 8,
    "start_time": "2024-07-12T19:10:51.564Z"
   },
   {
    "duration": 31,
    "start_time": "2024-07-12T19:10:51.576Z"
   },
   {
    "duration": 16,
    "start_time": "2024-07-12T19:10:51.609Z"
   },
   {
    "duration": 19,
    "start_time": "2024-07-12T19:10:51.626Z"
   },
   {
    "duration": 17,
    "start_time": "2024-07-12T19:10:51.646Z"
   },
   {
    "duration": 6,
    "start_time": "2024-07-12T19:10:51.664Z"
   },
   {
    "duration": 49,
    "start_time": "2024-07-12T19:10:51.671Z"
   },
   {
    "duration": 126,
    "start_time": "2024-07-12T19:10:51.721Z"
   },
   {
    "duration": 906,
    "start_time": "2024-07-12T19:10:51.849Z"
   },
   {
    "duration": 0,
    "start_time": "2024-07-12T19:10:52.757Z"
   },
   {
    "duration": 1034,
    "start_time": "2024-07-12T19:17:34.478Z"
   },
   {
    "duration": 32,
    "start_time": "2024-07-12T19:46:07.253Z"
   },
   {
    "duration": 8025,
    "start_time": "2024-07-12T19:46:30.782Z"
   },
   {
    "duration": 1754,
    "start_time": "2024-07-12T19:46:38.810Z"
   },
   {
    "duration": 3,
    "start_time": "2024-07-12T19:46:40.565Z"
   },
   {
    "duration": 14,
    "start_time": "2024-07-12T19:46:40.570Z"
   },
   {
    "duration": 226,
    "start_time": "2024-07-12T19:46:40.586Z"
   },
   {
    "duration": 36,
    "start_time": "2024-07-12T19:46:40.814Z"
   },
   {
    "duration": 95,
    "start_time": "2024-07-12T19:46:40.851Z"
   },
   {
    "duration": 31,
    "start_time": "2024-07-12T19:46:40.947Z"
   },
   {
    "duration": 50,
    "start_time": "2024-07-12T19:46:40.979Z"
   },
   {
    "duration": 28,
    "start_time": "2024-07-12T19:46:41.032Z"
   },
   {
    "duration": 79,
    "start_time": "2024-07-12T19:46:41.062Z"
   },
   {
    "duration": 28,
    "start_time": "2024-07-12T19:46:41.143Z"
   },
   {
    "duration": 4,
    "start_time": "2024-07-12T19:46:41.173Z"
   },
   {
    "duration": 4,
    "start_time": "2024-07-12T19:46:41.206Z"
   },
   {
    "duration": 26,
    "start_time": "2024-07-12T19:46:41.211Z"
   },
   {
    "duration": 6,
    "start_time": "2024-07-12T19:46:41.239Z"
   },
   {
    "duration": 24,
    "start_time": "2024-07-12T19:46:41.246Z"
   },
   {
    "duration": 11,
    "start_time": "2024-07-12T19:46:41.272Z"
   },
   {
    "duration": 6,
    "start_time": "2024-07-12T19:46:41.285Z"
   },
   {
    "duration": 35,
    "start_time": "2024-07-12T19:46:41.292Z"
   },
   {
    "duration": 21,
    "start_time": "2024-07-12T19:46:41.329Z"
   },
   {
    "duration": 20,
    "start_time": "2024-07-12T19:46:41.352Z"
   },
   {
    "duration": 44,
    "start_time": "2024-07-12T19:46:41.373Z"
   },
   {
    "duration": 191,
    "start_time": "2024-07-12T19:46:41.418Z"
   },
   {
    "duration": 179,
    "start_time": "2024-07-12T19:46:41.611Z"
   },
   {
    "duration": 3,
    "start_time": "2024-07-12T19:46:41.791Z"
   },
   {
    "duration": 37,
    "start_time": "2024-07-12T19:46:41.795Z"
   },
   {
    "duration": 163,
    "start_time": "2024-07-12T19:46:41.836Z"
   },
   {
    "duration": 8,
    "start_time": "2024-07-12T19:46:42.000Z"
   },
   {
    "duration": 13,
    "start_time": "2024-07-12T19:46:42.009Z"
   },
   {
    "duration": 4,
    "start_time": "2024-07-12T19:46:42.024Z"
   },
   {
    "duration": 33,
    "start_time": "2024-07-12T19:46:42.029Z"
   },
   {
    "duration": 8,
    "start_time": "2024-07-12T19:46:42.063Z"
   },
   {
    "duration": 9,
    "start_time": "2024-07-12T19:46:42.073Z"
   },
   {
    "duration": 153,
    "start_time": "2024-07-12T19:46:42.083Z"
   },
   {
    "duration": 8,
    "start_time": "2024-07-12T19:46:42.237Z"
   },
   {
    "duration": 19,
    "start_time": "2024-07-12T19:46:42.246Z"
   },
   {
    "duration": 79,
    "start_time": "2024-07-12T19:46:42.267Z"
   },
   {
    "duration": 157,
    "start_time": "2024-07-12T19:46:42.348Z"
   },
   {
    "duration": 9,
    "start_time": "2024-07-12T19:46:42.507Z"
   },
   {
    "duration": 12,
    "start_time": "2024-07-12T19:46:42.517Z"
   },
   {
    "duration": 14,
    "start_time": "2024-07-12T19:46:42.530Z"
   },
   {
    "duration": 23,
    "start_time": "2024-07-12T19:46:42.546Z"
   },
   {
    "duration": 35,
    "start_time": "2024-07-12T19:46:42.571Z"
   },
   {
    "duration": 6,
    "start_time": "2024-07-12T19:46:42.608Z"
   },
   {
    "duration": 22,
    "start_time": "2024-07-12T19:46:42.615Z"
   },
   {
    "duration": 122,
    "start_time": "2024-07-12T19:46:42.639Z"
   },
   {
    "duration": 108,
    "start_time": "2024-07-12T19:46:42.763Z"
   },
   {
    "duration": 22,
    "start_time": "2024-07-12T19:46:42.873Z"
   },
   {
    "duration": 20,
    "start_time": "2024-07-12T21:18:55.889Z"
   },
   {
    "duration": 14,
    "start_time": "2024-07-12T21:19:06.383Z"
   },
   {
    "duration": 148,
    "start_time": "2024-07-12T21:21:26.530Z"
   },
   {
    "duration": 19,
    "start_time": "2024-07-12T21:21:34.727Z"
   },
   {
    "duration": 39,
    "start_time": "2024-07-12T21:21:38.075Z"
   },
   {
    "duration": 38,
    "start_time": "2024-07-12T21:22:50.374Z"
   },
   {
    "duration": 22,
    "start_time": "2024-07-12T22:30:28.703Z"
   },
   {
    "duration": 9627,
    "start_time": "2024-07-12T22:30:36.830Z"
   },
   {
    "duration": 9733,
    "start_time": "2024-07-12T22:37:11.799Z"
   },
   {
    "duration": 23,
    "start_time": "2024-07-12T23:02:53.391Z"
   },
   {
    "duration": 52,
    "start_time": "2024-07-12T23:23:28.182Z"
   },
   {
    "duration": 8003,
    "start_time": "2024-07-12T23:23:39.207Z"
   },
   {
    "duration": 1744,
    "start_time": "2024-07-12T23:23:47.212Z"
   },
   {
    "duration": 3,
    "start_time": "2024-07-12T23:23:48.957Z"
   },
   {
    "duration": 45,
    "start_time": "2024-07-12T23:23:48.962Z"
   },
   {
    "duration": 229,
    "start_time": "2024-07-12T23:23:49.009Z"
   },
   {
    "duration": 38,
    "start_time": "2024-07-12T23:23:49.239Z"
   },
   {
    "duration": 86,
    "start_time": "2024-07-12T23:23:49.279Z"
   },
   {
    "duration": 46,
    "start_time": "2024-07-12T23:23:49.366Z"
   },
   {
    "duration": 24,
    "start_time": "2024-07-12T23:23:49.413Z"
   },
   {
    "duration": 27,
    "start_time": "2024-07-12T23:23:49.438Z"
   },
   {
    "duration": 84,
    "start_time": "2024-07-12T23:23:49.467Z"
   },
   {
    "duration": 26,
    "start_time": "2024-07-12T23:23:49.553Z"
   },
   {
    "duration": 26,
    "start_time": "2024-07-12T23:23:49.581Z"
   },
   {
    "duration": 4,
    "start_time": "2024-07-12T23:23:49.610Z"
   },
   {
    "duration": 9,
    "start_time": "2024-07-12T23:23:49.615Z"
   },
   {
    "duration": 7,
    "start_time": "2024-07-12T23:23:49.625Z"
   },
   {
    "duration": 68,
    "start_time": "2024-07-12T23:23:49.633Z"
   },
   {
    "duration": 9,
    "start_time": "2024-07-12T23:23:49.703Z"
   },
   {
    "duration": 16,
    "start_time": "2024-07-12T23:23:49.713Z"
   },
   {
    "duration": 34,
    "start_time": "2024-07-12T23:23:49.731Z"
   },
   {
    "duration": 23,
    "start_time": "2024-07-12T23:23:49.767Z"
   },
   {
    "duration": 23,
    "start_time": "2024-07-12T23:23:49.792Z"
   },
   {
    "duration": 20,
    "start_time": "2024-07-12T23:23:49.816Z"
   },
   {
    "duration": 209,
    "start_time": "2024-07-12T23:23:49.837Z"
   },
   {
    "duration": 191,
    "start_time": "2024-07-12T23:23:50.048Z"
   },
   {
    "duration": 3,
    "start_time": "2024-07-12T23:23:50.241Z"
   },
   {
    "duration": 24,
    "start_time": "2024-07-12T23:23:50.245Z"
   },
   {
    "duration": 193,
    "start_time": "2024-07-12T23:23:50.271Z"
   },
   {
    "duration": 6,
    "start_time": "2024-07-12T23:23:50.465Z"
   },
   {
    "duration": 10,
    "start_time": "2024-07-12T23:23:50.473Z"
   },
   {
    "duration": 4,
    "start_time": "2024-07-12T23:23:50.484Z"
   },
   {
    "duration": 23,
    "start_time": "2024-07-12T23:23:50.490Z"
   },
   {
    "duration": 8,
    "start_time": "2024-07-12T23:23:50.515Z"
   },
   {
    "duration": 10,
    "start_time": "2024-07-12T23:23:50.524Z"
   },
   {
    "duration": 163,
    "start_time": "2024-07-12T23:23:50.536Z"
   },
   {
    "duration": 8,
    "start_time": "2024-07-12T23:23:50.704Z"
   },
   {
    "duration": 29,
    "start_time": "2024-07-12T23:23:50.713Z"
   },
   {
    "duration": 6,
    "start_time": "2024-07-12T23:23:50.743Z"
   },
   {
    "duration": 161,
    "start_time": "2024-07-12T23:23:50.751Z"
   },
   {
    "duration": 10,
    "start_time": "2024-07-12T23:23:50.913Z"
   },
   {
    "duration": 13,
    "start_time": "2024-07-12T23:23:50.926Z"
   },
   {
    "duration": 74,
    "start_time": "2024-07-12T23:23:50.940Z"
   },
   {
    "duration": 8,
    "start_time": "2024-07-12T23:23:51.015Z"
   },
   {
    "duration": 18,
    "start_time": "2024-07-12T23:23:51.024Z"
   },
   {
    "duration": 5,
    "start_time": "2024-07-12T23:23:51.044Z"
   },
   {
    "duration": 28,
    "start_time": "2024-07-12T23:23:51.050Z"
   },
   {
    "duration": 129,
    "start_time": "2024-07-12T23:23:51.080Z"
   },
   {
    "duration": 46,
    "start_time": "2024-07-12T23:23:51.210Z"
   },
   {
    "duration": 22,
    "start_time": "2024-07-12T23:23:51.258Z"
   },
   {
    "duration": 29,
    "start_time": "2024-07-12T23:23:51.282Z"
   },
   {
    "duration": 70,
    "start_time": "2024-07-12T23:23:51.313Z"
   },
   {
    "duration": 9880,
    "start_time": "2024-07-12T23:23:51.385Z"
   },
   {
    "duration": 9780,
    "start_time": "2024-07-12T23:29:00.639Z"
   },
   {
    "duration": 9783,
    "start_time": "2024-07-12T23:29:29.349Z"
   },
   {
    "duration": 9694,
    "start_time": "2024-07-12T23:29:50.631Z"
   },
   {
    "duration": 55,
    "start_time": "2024-07-13T14:30:33.537Z"
   },
   {
    "duration": 14064,
    "start_time": "2024-07-13T14:30:41.837Z"
   },
   {
    "duration": 2050,
    "start_time": "2024-07-13T14:30:55.903Z"
   },
   {
    "duration": 4,
    "start_time": "2024-07-13T14:30:57.955Z"
   },
   {
    "duration": 72,
    "start_time": "2024-07-13T14:30:57.962Z"
   },
   {
    "duration": 611,
    "start_time": "2024-07-13T14:30:58.036Z"
   },
   {
    "duration": 36,
    "start_time": "2024-07-13T14:30:58.649Z"
   },
   {
    "duration": 72,
    "start_time": "2024-07-13T14:30:58.687Z"
   },
   {
    "duration": 33,
    "start_time": "2024-07-13T14:30:58.781Z"
   },
   {
    "duration": 26,
    "start_time": "2024-07-13T14:30:58.815Z"
   },
   {
    "duration": 56,
    "start_time": "2024-07-13T14:30:58.844Z"
   },
   {
    "duration": 51,
    "start_time": "2024-07-13T14:30:58.902Z"
   },
   {
    "duration": 55,
    "start_time": "2024-07-13T14:30:58.955Z"
   },
   {
    "duration": 5,
    "start_time": "2024-07-13T14:30:59.011Z"
   },
   {
    "duration": 16,
    "start_time": "2024-07-13T14:30:59.018Z"
   },
   {
    "duration": 28,
    "start_time": "2024-07-13T14:30:59.036Z"
   },
   {
    "duration": 18,
    "start_time": "2024-07-13T14:30:59.065Z"
   },
   {
    "duration": 9,
    "start_time": "2024-07-13T14:30:59.085Z"
   },
   {
    "duration": 9,
    "start_time": "2024-07-13T14:30:59.096Z"
   },
   {
    "duration": 11,
    "start_time": "2024-07-13T14:30:59.107Z"
   },
   {
    "duration": 27,
    "start_time": "2024-07-13T14:30:59.120Z"
   },
   {
    "duration": 34,
    "start_time": "2024-07-13T14:30:59.149Z"
   },
   {
    "duration": 21,
    "start_time": "2024-07-13T14:30:59.185Z"
   },
   {
    "duration": 19,
    "start_time": "2024-07-13T14:30:59.207Z"
   },
   {
    "duration": 226,
    "start_time": "2024-07-13T14:30:59.228Z"
   },
   {
    "duration": 202,
    "start_time": "2024-07-13T14:30:59.455Z"
   },
   {
    "duration": 3,
    "start_time": "2024-07-13T14:30:59.658Z"
   },
   {
    "duration": 27,
    "start_time": "2024-07-13T14:30:59.663Z"
   },
   {
    "duration": 188,
    "start_time": "2024-07-13T14:30:59.694Z"
   },
   {
    "duration": 6,
    "start_time": "2024-07-13T14:30:59.883Z"
   },
   {
    "duration": 5,
    "start_time": "2024-07-13T14:30:59.891Z"
   },
   {
    "duration": 4,
    "start_time": "2024-07-13T14:30:59.897Z"
   },
   {
    "duration": 15,
    "start_time": "2024-07-13T14:30:59.902Z"
   },
   {
    "duration": 33,
    "start_time": "2024-07-13T14:30:59.918Z"
   },
   {
    "duration": 132,
    "start_time": "2024-07-13T14:30:59.953Z"
   },
   {
    "duration": 328,
    "start_time": "2024-07-13T14:31:00.087Z"
   },
   {
    "duration": 229,
    "start_time": "2024-07-13T14:31:00.417Z"
   },
   {
    "duration": 85,
    "start_time": "2024-07-13T14:31:00.648Z"
   },
   {
    "duration": 75,
    "start_time": "2024-07-13T14:31:00.734Z"
   },
   {
    "duration": 230,
    "start_time": "2024-07-13T14:31:00.811Z"
   },
   {
    "duration": 10,
    "start_time": "2024-07-13T14:31:01.043Z"
   },
   {
    "duration": 65,
    "start_time": "2024-07-13T14:31:01.055Z"
   },
   {
    "duration": 45,
    "start_time": "2024-07-13T14:31:01.122Z"
   },
   {
    "duration": 68,
    "start_time": "2024-07-13T14:31:01.169Z"
   },
   {
    "duration": 110,
    "start_time": "2024-07-13T14:31:01.239Z"
   },
   {
    "duration": 25,
    "start_time": "2024-07-13T14:31:01.351Z"
   },
   {
    "duration": 64,
    "start_time": "2024-07-13T14:31:01.377Z"
   },
   {
    "duration": 163,
    "start_time": "2024-07-13T14:31:01.443Z"
   },
   {
    "duration": 93,
    "start_time": "2024-07-13T14:31:01.608Z"
   },
   {
    "duration": 52,
    "start_time": "2024-07-13T14:31:01.703Z"
   },
   {
    "duration": 70,
    "start_time": "2024-07-13T14:31:01.757Z"
   },
   {
    "duration": 54,
    "start_time": "2024-07-13T14:31:01.829Z"
   },
   {
    "duration": 10622,
    "start_time": "2024-07-13T14:31:01.886Z"
   },
   {
    "duration": 13,
    "start_time": "2024-07-13T14:31:12.510Z"
   },
   {
    "duration": 105,
    "start_time": "2024-07-13T14:35:09.178Z"
   },
   {
    "duration": 13,
    "start_time": "2024-07-13T14:35:19.485Z"
   },
   {
    "duration": 65,
    "start_time": "2024-07-13T14:35:22.821Z"
   },
   {
    "duration": 13,
    "start_time": "2024-07-13T14:35:26.991Z"
   },
   {
    "duration": 11,
    "start_time": "2024-07-13T14:35:33.201Z"
   },
   {
    "duration": 11,
    "start_time": "2024-07-13T14:35:38.563Z"
   },
   {
    "duration": 15,
    "start_time": "2024-07-13T15:24:42.703Z"
   },
   {
    "duration": 8350,
    "start_time": "2024-07-13T16:46:32.131Z"
   },
   {
    "duration": 2031,
    "start_time": "2024-07-13T16:46:40.484Z"
   },
   {
    "duration": 3,
    "start_time": "2024-07-13T16:46:42.517Z"
   },
   {
    "duration": 4,
    "start_time": "2024-07-13T16:46:42.522Z"
   },
   {
    "duration": 245,
    "start_time": "2024-07-13T16:46:42.527Z"
   },
   {
    "duration": 40,
    "start_time": "2024-07-13T16:46:42.774Z"
   },
   {
    "duration": 105,
    "start_time": "2024-07-13T16:46:42.816Z"
   },
   {
    "duration": 33,
    "start_time": "2024-07-13T16:46:42.923Z"
   },
   {
    "duration": 57,
    "start_time": "2024-07-13T16:46:42.958Z"
   },
   {
    "duration": 30,
    "start_time": "2024-07-13T16:46:43.019Z"
   },
   {
    "duration": 84,
    "start_time": "2024-07-13T16:46:43.050Z"
   },
   {
    "duration": 51,
    "start_time": "2024-07-13T16:46:43.135Z"
   },
   {
    "duration": 4,
    "start_time": "2024-07-13T16:46:43.187Z"
   },
   {
    "duration": 4,
    "start_time": "2024-07-13T16:46:43.193Z"
   },
   {
    "duration": 11,
    "start_time": "2024-07-13T16:46:43.199Z"
   },
   {
    "duration": 4,
    "start_time": "2024-07-13T16:46:43.212Z"
   },
   {
    "duration": 6,
    "start_time": "2024-07-13T16:46:43.217Z"
   },
   {
    "duration": 6,
    "start_time": "2024-07-13T16:46:43.224Z"
   },
   {
    "duration": 56,
    "start_time": "2024-07-13T16:46:43.232Z"
   },
   {
    "duration": 27,
    "start_time": "2024-07-13T16:46:43.290Z"
   },
   {
    "duration": 23,
    "start_time": "2024-07-13T16:46:43.319Z"
   },
   {
    "duration": 44,
    "start_time": "2024-07-13T16:46:43.344Z"
   },
   {
    "duration": 21,
    "start_time": "2024-07-13T16:46:43.390Z"
   },
   {
    "duration": 221,
    "start_time": "2024-07-13T16:46:43.412Z"
   },
   {
    "duration": 192,
    "start_time": "2024-07-13T16:46:43.634Z"
   },
   {
    "duration": 3,
    "start_time": "2024-07-13T16:46:43.828Z"
   },
   {
    "duration": 15,
    "start_time": "2024-07-13T16:46:43.832Z"
   },
   {
    "duration": 211,
    "start_time": "2024-07-13T16:46:43.852Z"
   },
   {
    "duration": 5,
    "start_time": "2024-07-13T16:46:44.065Z"
   },
   {
    "duration": 38,
    "start_time": "2024-07-13T16:46:44.072Z"
   },
   {
    "duration": 6,
    "start_time": "2024-07-13T16:46:44.112Z"
   },
   {
    "duration": 13,
    "start_time": "2024-07-13T16:46:44.120Z"
   },
   {
    "duration": 9,
    "start_time": "2024-07-13T16:46:44.134Z"
   },
   {
    "duration": 10,
    "start_time": "2024-07-13T16:46:44.144Z"
   },
   {
    "duration": 159,
    "start_time": "2024-07-13T16:46:44.155Z"
   },
   {
    "duration": 8,
    "start_time": "2024-07-13T16:46:44.316Z"
   },
   {
    "duration": 14,
    "start_time": "2024-07-13T16:46:44.326Z"
   },
   {
    "duration": 4,
    "start_time": "2024-07-13T16:46:44.342Z"
   },
   {
    "duration": 280,
    "start_time": "2024-07-13T16:46:44.348Z"
   },
   {
    "duration": 10,
    "start_time": "2024-07-13T16:46:44.630Z"
   },
   {
    "duration": 14,
    "start_time": "2024-07-13T16:46:44.642Z"
   },
   {
    "duration": 40,
    "start_time": "2024-07-13T16:46:44.658Z"
   },
   {
    "duration": 11,
    "start_time": "2024-07-13T16:46:44.700Z"
   },
   {
    "duration": 25,
    "start_time": "2024-07-13T16:46:44.713Z"
   },
   {
    "duration": 14,
    "start_time": "2024-07-13T16:46:44.739Z"
   },
   {
    "duration": 41,
    "start_time": "2024-07-13T16:46:44.755Z"
   },
   {
    "duration": 48,
    "start_time": "2024-07-13T16:46:44.798Z"
   },
   {
    "duration": 48,
    "start_time": "2024-07-13T16:46:44.848Z"
   },
   {
    "duration": 23,
    "start_time": "2024-07-13T16:46:44.898Z"
   },
   {
    "duration": 12,
    "start_time": "2024-07-13T16:46:44.923Z"
   },
   {
    "duration": 47,
    "start_time": "2024-07-13T16:46:44.936Z"
   },
   {
    "duration": 10472,
    "start_time": "2024-07-13T16:46:44.984Z"
   },
   {
    "duration": 25,
    "start_time": "2024-07-13T16:46:55.458Z"
   },
   {
    "duration": 16,
    "start_time": "2024-07-13T16:46:55.485Z"
   },
   {
    "duration": 10,
    "start_time": "2024-07-13T16:46:55.503Z"
   },
   {
    "duration": 6,
    "start_time": "2024-07-13T16:46:55.514Z"
   },
   {
    "duration": 9,
    "start_time": "2024-07-13T16:46:55.522Z"
   },
   {
    "duration": 165,
    "start_time": "2024-07-13T16:46:55.533Z"
   },
   {
    "duration": 0,
    "start_time": "2024-07-13T16:46:55.700Z"
   },
   {
    "duration": 0,
    "start_time": "2024-07-13T16:46:55.701Z"
   },
   {
    "duration": 1,
    "start_time": "2024-07-13T16:46:55.702Z"
   },
   {
    "duration": 0,
    "start_time": "2024-07-13T16:46:55.704Z"
   },
   {
    "duration": 2,
    "start_time": "2024-07-13T16:47:27.756Z"
   },
   {
    "duration": 8314,
    "start_time": "2024-07-13T16:47:34.315Z"
   },
   {
    "duration": 1841,
    "start_time": "2024-07-13T16:47:42.631Z"
   },
   {
    "duration": 9,
    "start_time": "2024-07-13T16:47:44.474Z"
   },
   {
    "duration": 36,
    "start_time": "2024-07-13T16:47:44.485Z"
   },
   {
    "duration": 235,
    "start_time": "2024-07-13T16:47:44.523Z"
   },
   {
    "duration": 38,
    "start_time": "2024-07-13T16:47:44.760Z"
   },
   {
    "duration": 107,
    "start_time": "2024-07-13T16:47:44.800Z"
   },
   {
    "duration": 32,
    "start_time": "2024-07-13T16:47:44.909Z"
   },
   {
    "duration": 50,
    "start_time": "2024-07-13T16:47:44.943Z"
   },
   {
    "duration": 29,
    "start_time": "2024-07-13T16:47:44.994Z"
   },
   {
    "duration": 81,
    "start_time": "2024-07-13T16:47:45.024Z"
   },
   {
    "duration": 30,
    "start_time": "2024-07-13T16:47:45.106Z"
   },
   {
    "duration": 6,
    "start_time": "2024-07-13T16:47:45.138Z"
   },
   {
    "duration": 36,
    "start_time": "2024-07-13T16:47:45.147Z"
   },
   {
    "duration": 25,
    "start_time": "2024-07-13T16:47:45.185Z"
   },
   {
    "duration": 57,
    "start_time": "2024-07-13T16:47:45.212Z"
   },
   {
    "duration": 20,
    "start_time": "2024-07-13T16:47:45.270Z"
   },
   {
    "duration": 12,
    "start_time": "2024-07-13T16:47:45.293Z"
   },
   {
    "duration": 10,
    "start_time": "2024-07-13T16:47:45.307Z"
   },
   {
    "duration": 39,
    "start_time": "2024-07-13T16:47:45.319Z"
   },
   {
    "duration": 33,
    "start_time": "2024-07-13T16:47:45.360Z"
   },
   {
    "duration": 24,
    "start_time": "2024-07-13T16:47:45.394Z"
   },
   {
    "duration": 25,
    "start_time": "2024-07-13T16:47:45.419Z"
   },
   {
    "duration": 239,
    "start_time": "2024-07-13T16:47:45.445Z"
   },
   {
    "duration": 192,
    "start_time": "2024-07-13T16:47:45.685Z"
   },
   {
    "duration": 3,
    "start_time": "2024-07-13T16:47:45.882Z"
   },
   {
    "duration": 13,
    "start_time": "2024-07-13T16:47:45.887Z"
   },
   {
    "duration": 199,
    "start_time": "2024-07-13T16:47:45.901Z"
   },
   {
    "duration": 6,
    "start_time": "2024-07-13T16:47:46.101Z"
   },
   {
    "duration": 8,
    "start_time": "2024-07-13T16:47:46.108Z"
   },
   {
    "duration": 4,
    "start_time": "2024-07-13T16:47:46.118Z"
   },
   {
    "duration": 10,
    "start_time": "2024-07-13T16:47:46.123Z"
   },
   {
    "duration": 8,
    "start_time": "2024-07-13T16:47:46.134Z"
   },
   {
    "duration": 41,
    "start_time": "2024-07-13T16:47:46.144Z"
   },
   {
    "duration": 163,
    "start_time": "2024-07-13T16:47:46.187Z"
   },
   {
    "duration": 8,
    "start_time": "2024-07-13T16:47:46.351Z"
   },
   {
    "duration": 30,
    "start_time": "2024-07-13T16:47:46.360Z"
   },
   {
    "duration": 4,
    "start_time": "2024-07-13T16:47:46.392Z"
   },
   {
    "duration": 279,
    "start_time": "2024-07-13T16:47:46.397Z"
   },
   {
    "duration": 12,
    "start_time": "2024-07-13T16:47:46.681Z"
   },
   {
    "duration": 21,
    "start_time": "2024-07-13T16:47:46.698Z"
   },
   {
    "duration": 20,
    "start_time": "2024-07-13T16:47:46.721Z"
   },
   {
    "duration": 39,
    "start_time": "2024-07-13T16:47:46.743Z"
   },
   {
    "duration": 19,
    "start_time": "2024-07-13T16:47:46.784Z"
   },
   {
    "duration": 7,
    "start_time": "2024-07-13T16:47:46.805Z"
   },
   {
    "duration": 23,
    "start_time": "2024-07-13T16:47:46.814Z"
   },
   {
    "duration": 45,
    "start_time": "2024-07-13T16:47:46.839Z"
   },
   {
    "duration": 51,
    "start_time": "2024-07-13T16:47:46.886Z"
   },
   {
    "duration": 44,
    "start_time": "2024-07-13T16:47:46.938Z"
   },
   {
    "duration": 16,
    "start_time": "2024-07-13T16:47:46.984Z"
   },
   {
    "duration": 38,
    "start_time": "2024-07-13T16:47:47.002Z"
   },
   {
    "duration": 10200,
    "start_time": "2024-07-13T16:47:47.042Z"
   },
   {
    "duration": 16,
    "start_time": "2024-07-13T16:47:57.244Z"
   },
   {
    "duration": 12,
    "start_time": "2024-07-13T16:47:57.283Z"
   },
   {
    "duration": 22,
    "start_time": "2024-07-13T16:47:57.297Z"
   },
   {
    "duration": 11,
    "start_time": "2024-07-13T16:47:57.321Z"
   },
   {
    "duration": 14,
    "start_time": "2024-07-13T16:47:57.334Z"
   },
   {
    "duration": 22,
    "start_time": "2024-07-13T16:47:57.350Z"
   },
   {
    "duration": 165,
    "start_time": "2024-07-13T16:47:57.374Z"
   },
   {
    "duration": 0,
    "start_time": "2024-07-13T16:47:57.540Z"
   },
   {
    "duration": 0,
    "start_time": "2024-07-13T16:47:57.541Z"
   },
   {
    "duration": 0,
    "start_time": "2024-07-13T16:47:57.543Z"
   },
   {
    "duration": 9220,
    "start_time": "2024-07-13T16:49:09.127Z"
   },
   {
    "duration": 1813,
    "start_time": "2024-07-13T16:49:18.350Z"
   },
   {
    "duration": 3,
    "start_time": "2024-07-13T16:49:20.164Z"
   },
   {
    "duration": 5,
    "start_time": "2024-07-13T16:49:20.169Z"
   },
   {
    "duration": 251,
    "start_time": "2024-07-13T16:49:20.183Z"
   },
   {
    "duration": 38,
    "start_time": "2024-07-13T16:49:20.436Z"
   },
   {
    "duration": 90,
    "start_time": "2024-07-13T16:49:20.476Z"
   },
   {
    "duration": 33,
    "start_time": "2024-07-13T16:49:20.567Z"
   },
   {
    "duration": 26,
    "start_time": "2024-07-13T16:49:20.601Z"
   },
   {
    "duration": 54,
    "start_time": "2024-07-13T16:49:20.630Z"
   },
   {
    "duration": 51,
    "start_time": "2024-07-13T16:49:20.685Z"
   },
   {
    "duration": 52,
    "start_time": "2024-07-13T16:49:20.738Z"
   },
   {
    "duration": 4,
    "start_time": "2024-07-13T16:49:20.792Z"
   },
   {
    "duration": 65,
    "start_time": "2024-07-13T16:49:20.798Z"
   },
   {
    "duration": 12,
    "start_time": "2024-07-13T16:49:20.865Z"
   },
   {
    "duration": 10,
    "start_time": "2024-07-13T16:49:20.878Z"
   },
   {
    "duration": 11,
    "start_time": "2024-07-13T16:49:20.889Z"
   },
   {
    "duration": 9,
    "start_time": "2024-07-13T16:49:20.901Z"
   },
   {
    "duration": 21,
    "start_time": "2024-07-13T16:49:20.911Z"
   },
   {
    "duration": 40,
    "start_time": "2024-07-13T16:49:20.933Z"
   },
   {
    "duration": 33,
    "start_time": "2024-07-13T16:49:20.975Z"
   },
   {
    "duration": 31,
    "start_time": "2024-07-13T16:49:21.010Z"
   },
   {
    "duration": 40,
    "start_time": "2024-07-13T16:49:21.043Z"
   },
   {
    "duration": 210,
    "start_time": "2024-07-13T16:49:21.085Z"
   },
   {
    "duration": 190,
    "start_time": "2024-07-13T16:49:21.297Z"
   },
   {
    "duration": 3,
    "start_time": "2024-07-13T16:49:21.489Z"
   },
   {
    "duration": 15,
    "start_time": "2024-07-13T16:49:21.493Z"
   },
   {
    "duration": 184,
    "start_time": "2024-07-13T16:49:21.511Z"
   },
   {
    "duration": 6,
    "start_time": "2024-07-13T16:49:21.696Z"
   },
   {
    "duration": 6,
    "start_time": "2024-07-13T16:49:21.703Z"
   },
   {
    "duration": 4,
    "start_time": "2024-07-13T16:49:21.710Z"
   },
   {
    "duration": 14,
    "start_time": "2024-07-13T16:49:21.715Z"
   },
   {
    "duration": 9,
    "start_time": "2024-07-13T16:49:21.730Z"
   },
   {
    "duration": 42,
    "start_time": "2024-07-13T16:49:21.741Z"
   },
   {
    "duration": 166,
    "start_time": "2024-07-13T16:49:21.784Z"
   },
   {
    "duration": 8,
    "start_time": "2024-07-13T16:49:21.951Z"
   },
   {
    "duration": 32,
    "start_time": "2024-07-13T16:49:21.961Z"
   },
   {
    "duration": 5,
    "start_time": "2024-07-13T16:49:21.995Z"
   },
   {
    "duration": 263,
    "start_time": "2024-07-13T16:49:22.002Z"
   },
   {
    "duration": 16,
    "start_time": "2024-07-13T16:49:22.266Z"
   },
   {
    "duration": 13,
    "start_time": "2024-07-13T16:49:22.283Z"
   },
   {
    "duration": 15,
    "start_time": "2024-07-13T16:49:22.297Z"
   },
   {
    "duration": 9,
    "start_time": "2024-07-13T16:49:22.314Z"
   },
   {
    "duration": 16,
    "start_time": "2024-07-13T16:49:22.325Z"
   },
   {
    "duration": 5,
    "start_time": "2024-07-13T16:49:22.343Z"
   },
   {
    "duration": 54,
    "start_time": "2024-07-13T16:49:22.350Z"
   },
   {
    "duration": 19,
    "start_time": "2024-07-13T16:49:22.405Z"
   },
   {
    "duration": 58,
    "start_time": "2024-07-13T16:49:22.426Z"
   },
   {
    "duration": 60,
    "start_time": "2024-07-13T16:49:22.486Z"
   },
   {
    "duration": 15,
    "start_time": "2024-07-13T16:49:22.548Z"
   },
   {
    "duration": 38,
    "start_time": "2024-07-13T16:49:22.565Z"
   },
   {
    "duration": 10217,
    "start_time": "2024-07-13T16:49:22.604Z"
   },
   {
    "duration": 16,
    "start_time": "2024-07-13T16:49:32.823Z"
   },
   {
    "duration": 42,
    "start_time": "2024-07-13T16:49:32.841Z"
   },
   {
    "duration": 13,
    "start_time": "2024-07-13T16:49:32.885Z"
   },
   {
    "duration": 7,
    "start_time": "2024-07-13T16:49:32.899Z"
   },
   {
    "duration": 4,
    "start_time": "2024-07-13T16:49:32.908Z"
   },
   {
    "duration": 10,
    "start_time": "2024-07-13T16:49:32.913Z"
   },
   {
    "duration": 37,
    "start_time": "2024-07-13T16:49:32.924Z"
   },
   {
    "duration": 738899,
    "start_time": "2024-07-13T16:49:32.962Z"
   },
   {
    "duration": 163,
    "start_time": "2024-07-13T17:01:51.863Z"
   },
   {
    "duration": 0,
    "start_time": "2024-07-13T17:01:52.028Z"
   },
   {
    "duration": 0,
    "start_time": "2024-07-13T17:01:52.030Z"
   },
   {
    "duration": 17,
    "start_time": "2024-07-13T17:25:10.041Z"
   },
   {
    "duration": 28,
    "start_time": "2024-07-13T17:25:21.750Z"
   },
   {
    "duration": 4,
    "start_time": "2024-07-13T17:26:23.056Z"
   },
   {
    "duration": 41,
    "start_time": "2024-07-13T17:26:27.181Z"
   },
   {
    "duration": 29,
    "start_time": "2024-07-13T17:26:53.902Z"
   },
   {
    "duration": 21,
    "start_time": "2024-07-13T17:27:03.022Z"
   },
   {
    "duration": 23,
    "start_time": "2024-07-13T17:27:17.413Z"
   },
   {
    "duration": 46,
    "start_time": "2024-07-13T18:10:03.349Z"
   },
   {
    "duration": 8828,
    "start_time": "2024-07-13T18:41:57.138Z"
   },
   {
    "duration": 1986,
    "start_time": "2024-07-13T18:42:05.968Z"
   },
   {
    "duration": 3,
    "start_time": "2024-07-13T18:42:07.956Z"
   },
   {
    "duration": 37,
    "start_time": "2024-07-13T18:42:07.961Z"
   },
   {
    "duration": 259,
    "start_time": "2024-07-13T18:42:08.000Z"
   },
   {
    "duration": 56,
    "start_time": "2024-07-13T18:42:08.261Z"
   },
   {
    "duration": 98,
    "start_time": "2024-07-13T18:42:08.319Z"
   },
   {
    "duration": 34,
    "start_time": "2024-07-13T18:42:08.419Z"
   },
   {
    "duration": 57,
    "start_time": "2024-07-13T18:42:08.454Z"
   },
   {
    "duration": 30,
    "start_time": "2024-07-13T18:42:08.514Z"
   },
   {
    "duration": 82,
    "start_time": "2024-07-13T18:42:08.545Z"
   },
   {
    "duration": 30,
    "start_time": "2024-07-13T18:42:08.630Z"
   },
   {
    "duration": 6,
    "start_time": "2024-07-13T18:42:08.684Z"
   },
   {
    "duration": 8,
    "start_time": "2024-07-13T18:42:08.693Z"
   },
   {
    "duration": 6,
    "start_time": "2024-07-13T18:42:08.703Z"
   },
   {
    "duration": 5,
    "start_time": "2024-07-13T18:42:08.710Z"
   },
   {
    "duration": 5,
    "start_time": "2024-07-13T18:42:08.717Z"
   },
   {
    "duration": 7,
    "start_time": "2024-07-13T18:42:08.724Z"
   },
   {
    "duration": 7,
    "start_time": "2024-07-13T18:42:08.733Z"
   },
   {
    "duration": 62,
    "start_time": "2024-07-13T18:42:08.741Z"
   },
   {
    "duration": 24,
    "start_time": "2024-07-13T18:42:08.805Z"
   },
   {
    "duration": 22,
    "start_time": "2024-07-13T18:42:08.831Z"
   },
   {
    "duration": 106,
    "start_time": "2024-07-13T18:42:08.854Z"
   },
   {
    "duration": 211,
    "start_time": "2024-07-13T18:42:08.961Z"
   },
   {
    "duration": 195,
    "start_time": "2024-07-13T18:42:09.174Z"
   },
   {
    "duration": 3,
    "start_time": "2024-07-13T18:42:09.370Z"
   },
   {
    "duration": 23,
    "start_time": "2024-07-13T18:42:09.375Z"
   },
   {
    "duration": 201,
    "start_time": "2024-07-13T18:42:09.403Z"
   },
   {
    "duration": 7,
    "start_time": "2024-07-13T18:42:09.606Z"
   },
   {
    "duration": 11,
    "start_time": "2024-07-13T18:42:09.615Z"
   },
   {
    "duration": 11,
    "start_time": "2024-07-13T18:42:09.628Z"
   },
   {
    "duration": 11,
    "start_time": "2024-07-13T18:42:09.641Z"
   },
   {
    "duration": 12,
    "start_time": "2024-07-13T18:42:09.653Z"
   },
   {
    "duration": 34,
    "start_time": "2024-07-13T18:42:09.667Z"
   },
   {
    "duration": 164,
    "start_time": "2024-07-13T18:42:09.703Z"
   },
   {
    "duration": 16,
    "start_time": "2024-07-13T18:42:09.868Z"
   },
   {
    "duration": 22,
    "start_time": "2024-07-13T18:42:09.886Z"
   },
   {
    "duration": 4,
    "start_time": "2024-07-13T18:42:09.909Z"
   },
   {
    "duration": 293,
    "start_time": "2024-07-13T18:42:09.914Z"
   },
   {
    "duration": 10,
    "start_time": "2024-07-13T18:42:10.208Z"
   },
   {
    "duration": 13,
    "start_time": "2024-07-13T18:42:10.220Z"
   },
   {
    "duration": 16,
    "start_time": "2024-07-13T18:42:10.235Z"
   },
   {
    "duration": 11,
    "start_time": "2024-07-13T18:42:10.286Z"
   },
   {
    "duration": 30,
    "start_time": "2024-07-13T18:42:10.299Z"
   },
   {
    "duration": 5,
    "start_time": "2024-07-13T18:42:10.331Z"
   },
   {
    "duration": 32,
    "start_time": "2024-07-13T18:42:10.338Z"
   },
   {
    "duration": 29,
    "start_time": "2024-07-13T18:42:10.372Z"
   },
   {
    "duration": 49,
    "start_time": "2024-07-13T18:42:10.403Z"
   },
   {
    "duration": 57,
    "start_time": "2024-07-13T18:42:10.454Z"
   },
   {
    "duration": 20,
    "start_time": "2024-07-13T18:42:10.514Z"
   },
   {
    "duration": 58,
    "start_time": "2024-07-13T18:42:10.536Z"
   },
   {
    "duration": 10763,
    "start_time": "2024-07-13T18:42:10.597Z"
   },
   {
    "duration": 26,
    "start_time": "2024-07-13T18:42:21.361Z"
   },
   {
    "duration": 14,
    "start_time": "2024-07-13T18:42:21.395Z"
   },
   {
    "duration": 16,
    "start_time": "2024-07-13T18:42:21.410Z"
   },
   {
    "duration": 8,
    "start_time": "2024-07-13T18:42:21.428Z"
   },
   {
    "duration": 39,
    "start_time": "2024-07-13T18:42:21.438Z"
   },
   {
    "duration": 50,
    "start_time": "2024-07-13T18:42:21.479Z"
   },
   {
    "duration": 0,
    "start_time": "2024-07-13T18:42:21.531Z"
   },
   {
    "duration": 0,
    "start_time": "2024-07-13T18:42:21.532Z"
   },
   {
    "duration": 0,
    "start_time": "2024-07-13T18:42:21.533Z"
   },
   {
    "duration": 215,
    "start_time": "2024-07-13T18:43:13.625Z"
   },
   {
    "duration": 5,
    "start_time": "2024-07-13T18:43:42.074Z"
   },
   {
    "duration": 73,
    "start_time": "2024-07-13T18:43:46.095Z"
   },
   {
    "duration": 105,
    "start_time": "2024-07-13T18:59:05.871Z"
   },
   {
    "duration": 615,
    "start_time": "2024-07-13T19:19:41.173Z"
   },
   {
    "duration": 109,
    "start_time": "2024-07-13T19:20:06.451Z"
   },
   {
    "duration": 460,
    "start_time": "2024-07-13T19:20:22.026Z"
   },
   {
    "duration": 576,
    "start_time": "2024-07-13T19:20:52.610Z"
   },
   {
    "duration": 100,
    "start_time": "2024-07-13T19:21:10.795Z"
   },
   {
    "duration": 128,
    "start_time": "2024-07-13T19:23:42.564Z"
   },
   {
    "duration": 172112,
    "start_time": "2024-07-13T19:23:45.581Z"
   },
   {
    "duration": 120740,
    "start_time": "2024-07-13T19:26:37.695Z"
   },
   {
    "duration": 4793,
    "start_time": "2024-07-13T21:14:12.290Z"
   },
   {
    "duration": 5,
    "start_time": "2024-07-13T21:14:17.084Z"
   },
   {
    "duration": 19,
    "start_time": "2024-07-13T21:14:17.090Z"
   },
   {
    "duration": 5,
    "start_time": "2024-07-13T21:14:40.262Z"
   },
   {
    "duration": 8882,
    "start_time": "2024-07-13T21:47:22.416Z"
   },
   {
    "duration": 1959,
    "start_time": "2024-07-13T21:47:31.301Z"
   },
   {
    "duration": 3,
    "start_time": "2024-07-13T21:47:33.262Z"
   },
   {
    "duration": 31,
    "start_time": "2024-07-13T21:47:33.268Z"
   },
   {
    "duration": 246,
    "start_time": "2024-07-13T21:47:33.301Z"
   },
   {
    "duration": 47,
    "start_time": "2024-07-13T21:47:33.549Z"
   },
   {
    "duration": 73,
    "start_time": "2024-07-13T21:47:33.598Z"
   },
   {
    "duration": 33,
    "start_time": "2024-07-13T21:47:33.692Z"
   },
   {
    "duration": 81,
    "start_time": "2024-07-13T21:47:33.726Z"
   },
   {
    "duration": 28,
    "start_time": "2024-07-13T21:47:33.810Z"
   },
   {
    "duration": 104,
    "start_time": "2024-07-13T21:47:33.840Z"
   },
   {
    "duration": 58,
    "start_time": "2024-07-13T21:47:33.947Z"
   },
   {
    "duration": 5,
    "start_time": "2024-07-13T21:47:34.007Z"
   },
   {
    "duration": 6,
    "start_time": "2024-07-13T21:47:34.013Z"
   },
   {
    "duration": 15,
    "start_time": "2024-07-13T21:47:34.020Z"
   },
   {
    "duration": 4,
    "start_time": "2024-07-13T21:47:34.036Z"
   },
   {
    "duration": 11,
    "start_time": "2024-07-13T21:47:34.042Z"
   },
   {
    "duration": 47,
    "start_time": "2024-07-13T21:47:34.055Z"
   },
   {
    "duration": 7,
    "start_time": "2024-07-13T21:47:34.104Z"
   },
   {
    "duration": 29,
    "start_time": "2024-07-13T21:47:34.112Z"
   },
   {
    "duration": 23,
    "start_time": "2024-07-13T21:47:34.143Z"
   },
   {
    "duration": 29,
    "start_time": "2024-07-13T21:47:34.168Z"
   },
   {
    "duration": 22,
    "start_time": "2024-07-13T21:47:34.198Z"
   },
   {
    "duration": 225,
    "start_time": "2024-07-13T21:47:34.221Z"
   },
   {
    "duration": 200,
    "start_time": "2024-07-13T21:47:34.448Z"
   },
   {
    "duration": 3,
    "start_time": "2024-07-13T21:47:34.650Z"
   },
   {
    "duration": 41,
    "start_time": "2024-07-13T21:47:34.654Z"
   },
   {
    "duration": 175,
    "start_time": "2024-07-13T21:47:34.701Z"
   },
   {
    "duration": 13,
    "start_time": "2024-07-13T21:47:34.877Z"
   },
   {
    "duration": 6,
    "start_time": "2024-07-13T21:47:34.892Z"
   },
   {
    "duration": 9,
    "start_time": "2024-07-13T21:47:34.902Z"
   },
   {
    "duration": 10,
    "start_time": "2024-07-13T21:47:34.913Z"
   },
   {
    "duration": 8,
    "start_time": "2024-07-13T21:47:34.925Z"
   },
   {
    "duration": 68,
    "start_time": "2024-07-13T21:47:34.934Z"
   },
   {
    "duration": 212,
    "start_time": "2024-07-13T21:47:35.004Z"
   },
   {
    "duration": 7,
    "start_time": "2024-07-13T21:47:35.218Z"
   },
   {
    "duration": 16,
    "start_time": "2024-07-13T21:47:35.227Z"
   },
   {
    "duration": 22,
    "start_time": "2024-07-13T21:47:35.245Z"
   },
   {
    "duration": 306,
    "start_time": "2024-07-13T21:47:35.268Z"
   },
   {
    "duration": 21,
    "start_time": "2024-07-13T21:47:35.576Z"
   },
   {
    "duration": 17,
    "start_time": "2024-07-13T21:47:35.598Z"
   },
   {
    "duration": 33,
    "start_time": "2024-07-13T21:47:35.617Z"
   },
   {
    "duration": 144,
    "start_time": "2024-07-13T21:47:35.652Z"
   },
   {
    "duration": 42,
    "start_time": "2024-07-13T21:47:35.798Z"
   },
   {
    "duration": 12,
    "start_time": "2024-07-13T21:47:35.843Z"
   },
   {
    "duration": 27,
    "start_time": "2024-07-13T21:47:35.858Z"
   },
   {
    "duration": 19,
    "start_time": "2024-07-13T21:47:35.889Z"
   },
   {
    "duration": 54,
    "start_time": "2024-07-13T21:47:35.910Z"
   },
   {
    "duration": 42,
    "start_time": "2024-07-13T21:47:35.966Z"
   },
   {
    "duration": 14,
    "start_time": "2024-07-13T21:47:36.009Z"
   },
   {
    "duration": 36,
    "start_time": "2024-07-13T21:47:36.024Z"
   },
   {
    "duration": 10708,
    "start_time": "2024-07-13T21:47:36.062Z"
   },
   {
    "duration": 26,
    "start_time": "2024-07-13T21:47:46.772Z"
   },
   {
    "duration": 12,
    "start_time": "2024-07-13T21:47:46.800Z"
   },
   {
    "duration": 10,
    "start_time": "2024-07-13T21:47:46.814Z"
   },
   {
    "duration": 6,
    "start_time": "2024-07-13T21:47:46.826Z"
   },
   {
    "duration": 15,
    "start_time": "2024-07-13T21:47:46.834Z"
   },
   {
    "duration": 1137,
    "start_time": "2024-07-13T21:47:46.851Z"
   },
   {
    "duration": 183,
    "start_time": "2024-07-13T21:47:47.990Z"
   },
   {
    "duration": 0,
    "start_time": "2024-07-13T22:21:57.707Z"
   },
   {
    "duration": 0,
    "start_time": "2024-07-13T22:21:57.709Z"
   },
   {
    "duration": 0,
    "start_time": "2024-07-13T22:21:57.710Z"
   },
   {
    "duration": 0,
    "start_time": "2024-07-13T22:21:57.712Z"
   },
   {
    "duration": 0,
    "start_time": "2024-07-13T22:21:57.714Z"
   },
   {
    "duration": 0,
    "start_time": "2024-07-13T22:21:57.715Z"
   },
   {
    "duration": 0,
    "start_time": "2024-07-13T22:21:57.716Z"
   },
   {
    "duration": 0,
    "start_time": "2024-07-13T22:21:57.718Z"
   },
   {
    "duration": 0,
    "start_time": "2024-07-13T22:21:57.720Z"
   },
   {
    "duration": 0,
    "start_time": "2024-07-13T22:21:57.721Z"
   },
   {
    "duration": 0,
    "start_time": "2024-07-13T22:21:57.722Z"
   },
   {
    "duration": 0,
    "start_time": "2024-07-13T22:21:57.724Z"
   },
   {
    "duration": 0,
    "start_time": "2024-07-13T22:21:57.725Z"
   },
   {
    "duration": 0,
    "start_time": "2024-07-13T22:21:57.727Z"
   },
   {
    "duration": 0,
    "start_time": "2024-07-13T22:21:57.729Z"
   },
   {
    "duration": 0,
    "start_time": "2024-07-13T22:21:57.730Z"
   },
   {
    "duration": 0,
    "start_time": "2024-07-13T22:21:57.732Z"
   },
   {
    "duration": 0,
    "start_time": "2024-07-13T22:21:57.733Z"
   },
   {
    "duration": 0,
    "start_time": "2024-07-13T22:21:57.735Z"
   },
   {
    "duration": 0,
    "start_time": "2024-07-13T22:21:57.737Z"
   },
   {
    "duration": 0,
    "start_time": "2024-07-13T22:21:57.738Z"
   },
   {
    "duration": 0,
    "start_time": "2024-07-13T22:21:57.784Z"
   },
   {
    "duration": 0,
    "start_time": "2024-07-13T22:21:57.785Z"
   },
   {
    "duration": 0,
    "start_time": "2024-07-13T22:21:57.786Z"
   },
   {
    "duration": 0,
    "start_time": "2024-07-13T22:21:57.788Z"
   },
   {
    "duration": 0,
    "start_time": "2024-07-13T22:21:57.789Z"
   },
   {
    "duration": 0,
    "start_time": "2024-07-13T22:21:57.790Z"
   },
   {
    "duration": 0,
    "start_time": "2024-07-13T22:21:57.794Z"
   },
   {
    "duration": 0,
    "start_time": "2024-07-13T22:21:57.795Z"
   },
   {
    "duration": 0,
    "start_time": "2024-07-13T22:21:57.796Z"
   },
   {
    "duration": 0,
    "start_time": "2024-07-13T22:21:57.797Z"
   },
   {
    "duration": 0,
    "start_time": "2024-07-13T22:21:57.798Z"
   },
   {
    "duration": 0,
    "start_time": "2024-07-13T22:21:57.800Z"
   },
   {
    "duration": 0,
    "start_time": "2024-07-13T22:21:57.801Z"
   },
   {
    "duration": 0,
    "start_time": "2024-07-13T22:21:57.802Z"
   },
   {
    "duration": 0,
    "start_time": "2024-07-13T22:21:57.803Z"
   },
   {
    "duration": 0,
    "start_time": "2024-07-13T22:21:57.804Z"
   },
   {
    "duration": 0,
    "start_time": "2024-07-13T22:21:57.806Z"
   },
   {
    "duration": 0,
    "start_time": "2024-07-13T22:21:57.807Z"
   },
   {
    "duration": 0,
    "start_time": "2024-07-13T22:21:57.808Z"
   },
   {
    "duration": 0,
    "start_time": "2024-07-13T22:21:57.810Z"
   },
   {
    "duration": 0,
    "start_time": "2024-07-13T22:21:57.811Z"
   },
   {
    "duration": 0,
    "start_time": "2024-07-13T22:21:57.812Z"
   },
   {
    "duration": 0,
    "start_time": "2024-07-13T22:21:57.813Z"
   },
   {
    "duration": 0,
    "start_time": "2024-07-13T22:21:57.815Z"
   },
   {
    "duration": 0,
    "start_time": "2024-07-13T22:21:57.816Z"
   },
   {
    "duration": 0,
    "start_time": "2024-07-13T22:21:57.817Z"
   },
   {
    "duration": 0,
    "start_time": "2024-07-13T22:21:57.818Z"
   },
   {
    "duration": 0,
    "start_time": "2024-07-13T22:21:57.820Z"
   },
   {
    "duration": 0,
    "start_time": "2024-07-13T22:21:57.821Z"
   },
   {
    "duration": 0,
    "start_time": "2024-07-13T22:21:57.822Z"
   },
   {
    "duration": 0,
    "start_time": "2024-07-13T22:21:57.823Z"
   },
   {
    "duration": 0,
    "start_time": "2024-07-13T22:21:57.884Z"
   },
   {
    "duration": 0,
    "start_time": "2024-07-13T22:21:57.885Z"
   },
   {
    "duration": 0,
    "start_time": "2024-07-13T22:21:57.887Z"
   },
   {
    "duration": 0,
    "start_time": "2024-07-13T22:21:57.888Z"
   },
   {
    "duration": 0,
    "start_time": "2024-07-13T22:21:57.889Z"
   },
   {
    "duration": 0,
    "start_time": "2024-07-13T22:21:57.892Z"
   },
   {
    "duration": 0,
    "start_time": "2024-07-13T22:21:57.893Z"
   },
   {
    "duration": 0,
    "start_time": "2024-07-13T22:21:57.894Z"
   },
   {
    "duration": 0,
    "start_time": "2024-07-13T22:21:57.896Z"
   },
   {
    "duration": 0,
    "start_time": "2024-07-13T22:21:57.897Z"
   },
   {
    "duration": 0,
    "start_time": "2024-07-13T22:21:57.897Z"
   },
   {
    "duration": 0,
    "start_time": "2024-07-13T22:21:57.898Z"
   },
   {
    "duration": 0,
    "start_time": "2024-07-13T22:21:57.900Z"
   },
   {
    "duration": 0,
    "start_time": "2024-07-13T22:21:57.902Z"
   },
   {
    "duration": 8803,
    "start_time": "2024-07-13T22:22:11.952Z"
   },
   {
    "duration": 1982,
    "start_time": "2024-07-13T22:22:20.757Z"
   },
   {
    "duration": 3,
    "start_time": "2024-07-13T22:22:22.741Z"
   },
   {
    "duration": 10,
    "start_time": "2024-07-13T22:22:22.746Z"
   },
   {
    "duration": 266,
    "start_time": "2024-07-13T22:22:22.758Z"
   },
   {
    "duration": 35,
    "start_time": "2024-07-13T22:22:23.026Z"
   },
   {
    "duration": 100,
    "start_time": "2024-07-13T22:22:23.063Z"
   },
   {
    "duration": 47,
    "start_time": "2024-07-13T22:22:23.165Z"
   },
   {
    "duration": 26,
    "start_time": "2024-07-13T22:22:23.214Z"
   },
   {
    "duration": 67,
    "start_time": "2024-07-13T22:22:23.243Z"
   },
   {
    "duration": 54,
    "start_time": "2024-07-13T22:22:23.312Z"
   },
   {
    "duration": 50,
    "start_time": "2024-07-13T22:22:23.368Z"
   },
   {
    "duration": 5,
    "start_time": "2024-07-13T22:22:23.419Z"
   },
   {
    "duration": 55,
    "start_time": "2024-07-13T22:22:23.425Z"
   },
   {
    "duration": 33,
    "start_time": "2024-07-13T22:22:23.482Z"
   },
   {
    "duration": 25,
    "start_time": "2024-07-13T22:22:23.517Z"
   },
   {
    "duration": 100,
    "start_time": "2024-07-13T22:22:23.544Z"
   },
   {
    "duration": 27,
    "start_time": "2024-07-13T22:22:23.646Z"
   },
   {
    "duration": 30,
    "start_time": "2024-07-13T22:22:23.675Z"
   },
   {
    "duration": 28,
    "start_time": "2024-07-13T22:22:23.707Z"
   },
   {
    "duration": 36,
    "start_time": "2024-07-13T22:22:23.737Z"
   },
   {
    "duration": 130,
    "start_time": "2024-07-13T22:22:23.774Z"
   },
   {
    "duration": 68,
    "start_time": "2024-07-13T22:22:23.905Z"
   },
   {
    "duration": 220,
    "start_time": "2024-07-13T22:22:23.974Z"
   },
   {
    "duration": 204,
    "start_time": "2024-07-13T22:22:24.196Z"
   },
   {
    "duration": 3,
    "start_time": "2024-07-13T22:22:24.402Z"
   },
   {
    "duration": 33,
    "start_time": "2024-07-13T22:22:24.408Z"
   },
   {
    "duration": 186,
    "start_time": "2024-07-13T22:22:24.446Z"
   },
   {
    "duration": 5,
    "start_time": "2024-07-13T22:22:24.634Z"
   },
   {
    "duration": 10,
    "start_time": "2024-07-13T22:22:24.641Z"
   },
   {
    "duration": 20,
    "start_time": "2024-07-13T22:22:24.652Z"
   },
   {
    "duration": 30,
    "start_time": "2024-07-13T22:22:24.674Z"
   },
   {
    "duration": 9,
    "start_time": "2024-07-13T22:22:24.707Z"
   },
   {
    "duration": 25,
    "start_time": "2024-07-13T22:22:24.718Z"
   },
   {
    "duration": 202,
    "start_time": "2024-07-13T22:22:24.745Z"
   },
   {
    "duration": 9,
    "start_time": "2024-07-13T22:22:24.949Z"
   },
   {
    "duration": 40,
    "start_time": "2024-07-13T22:22:24.959Z"
   },
   {
    "duration": 4,
    "start_time": "2024-07-13T22:22:25.001Z"
   },
   {
    "duration": 291,
    "start_time": "2024-07-13T22:22:25.007Z"
   },
   {
    "duration": 9,
    "start_time": "2024-07-13T22:22:25.300Z"
   },
   {
    "duration": 28,
    "start_time": "2024-07-13T22:22:25.311Z"
   },
   {
    "duration": 15,
    "start_time": "2024-07-13T22:22:25.340Z"
   },
   {
    "duration": 31,
    "start_time": "2024-07-13T22:22:25.357Z"
   },
   {
    "duration": 36,
    "start_time": "2024-07-13T22:22:25.391Z"
   },
   {
    "duration": 9,
    "start_time": "2024-07-13T22:22:25.429Z"
   },
   {
    "duration": 24,
    "start_time": "2024-07-13T22:22:25.440Z"
   },
   {
    "duration": 12,
    "start_time": "2024-07-13T22:22:25.466Z"
   },
   {
    "duration": 59,
    "start_time": "2024-07-13T22:22:25.479Z"
   },
   {
    "duration": 22,
    "start_time": "2024-07-13T22:22:25.540Z"
   },
   {
    "duration": 31,
    "start_time": "2024-07-13T22:22:25.564Z"
   },
   {
    "duration": 36,
    "start_time": "2024-07-13T22:22:25.597Z"
   },
   {
    "duration": 10814,
    "start_time": "2024-07-13T22:22:25.634Z"
   },
   {
    "duration": 42,
    "start_time": "2024-07-13T22:22:36.449Z"
   },
   {
    "duration": 13,
    "start_time": "2024-07-13T22:22:36.493Z"
   },
   {
    "duration": 10,
    "start_time": "2024-07-13T22:22:36.508Z"
   },
   {
    "duration": 6,
    "start_time": "2024-07-13T22:22:36.520Z"
   },
   {
    "duration": 20,
    "start_time": "2024-07-13T22:22:36.527Z"
   },
   {
    "duration": 953,
    "start_time": "2024-07-13T22:22:36.549Z"
   },
   {
    "duration": 299,
    "start_time": "2024-07-13T22:22:37.506Z"
   },
   {
    "duration": 645476,
    "start_time": "2024-07-13T22:22:37.806Z"
   },
   {
    "duration": 119142,
    "start_time": "2024-07-13T22:33:23.284Z"
   },
   {
    "duration": 4669,
    "start_time": "2024-07-13T22:35:22.427Z"
   },
   {
    "duration": 5,
    "start_time": "2024-07-13T22:35:27.098Z"
   },
   {
    "duration": 22,
    "start_time": "2024-07-13T22:35:27.104Z"
   },
   {
    "duration": 9,
    "start_time": "2024-07-13T22:35:27.128Z"
   },
   {
    "duration": 4,
    "start_time": "2024-07-13T22:35:27.138Z"
   },
   {
    "duration": 160,
    "start_time": "2024-07-13T23:24:08.735Z"
   },
   {
    "duration": 13,
    "start_time": "2024-07-13T23:24:15.893Z"
   },
   {
    "duration": 11,
    "start_time": "2024-07-13T23:24:44.301Z"
   },
   {
    "duration": 16,
    "start_time": "2024-07-13T23:49:19.264Z"
   },
   {
    "duration": 5,
    "start_time": "2024-07-13T23:49:33.233Z"
   },
   {
    "duration": 12,
    "start_time": "2024-07-13T23:51:03.078Z"
   },
   {
    "duration": 570,
    "start_time": "2024-07-13T23:52:07.110Z"
   },
   {
    "duration": 504,
    "start_time": "2024-07-13T23:52:20.990Z"
   },
   {
    "duration": 541,
    "start_time": "2024-07-13T23:52:27.719Z"
   },
   {
    "duration": 662,
    "start_time": "2024-07-13T23:52:36.150Z"
   },
   {
    "duration": 14248,
    "start_time": "2024-07-15T11:11:13.342Z"
   },
   {
    "duration": 1887,
    "start_time": "2024-07-15T11:11:27.592Z"
   },
   {
    "duration": 3,
    "start_time": "2024-07-15T11:11:29.481Z"
   },
   {
    "duration": 42,
    "start_time": "2024-07-15T11:11:29.486Z"
   },
   {
    "duration": 570,
    "start_time": "2024-07-15T11:11:35.504Z"
   },
   {
    "duration": 34,
    "start_time": "2024-07-15T11:11:40.805Z"
   },
   {
    "duration": 56,
    "start_time": "2024-07-15T11:11:44.387Z"
   },
   {
    "duration": 33,
    "start_time": "2024-07-15T11:11:46.586Z"
   },
   {
    "duration": 21,
    "start_time": "2024-07-15T11:11:48.561Z"
   },
   {
    "duration": 24,
    "start_time": "2024-07-15T11:11:50.019Z"
   },
   {
    "duration": 49,
    "start_time": "2024-07-15T11:11:52.128Z"
   },
   {
    "duration": 24,
    "start_time": "2024-07-15T11:11:54.046Z"
   },
   {
    "duration": 5,
    "start_time": "2024-07-15T11:12:04.933Z"
   },
   {
    "duration": 5,
    "start_time": "2024-07-15T11:12:05.191Z"
   },
   {
    "duration": 4,
    "start_time": "2024-07-15T11:12:05.458Z"
   },
   {
    "duration": 5,
    "start_time": "2024-07-15T11:12:05.716Z"
   },
   {
    "duration": 4,
    "start_time": "2024-07-15T11:12:05.972Z"
   },
   {
    "duration": 6,
    "start_time": "2024-07-15T11:12:06.259Z"
   },
   {
    "duration": 5,
    "start_time": "2024-07-15T11:12:11.177Z"
   },
   {
    "duration": 32,
    "start_time": "2024-07-15T11:12:12.409Z"
   },
   {
    "duration": 19,
    "start_time": "2024-07-15T11:12:12.817Z"
   },
   {
    "duration": 25,
    "start_time": "2024-07-15T11:12:13.145Z"
   },
   {
    "duration": 22,
    "start_time": "2024-07-15T11:12:13.615Z"
   },
   {
    "duration": 160,
    "start_time": "2024-07-15T11:12:14.815Z"
   },
   {
    "duration": 154,
    "start_time": "2024-07-15T11:12:18.245Z"
   },
   {
    "duration": 3,
    "start_time": "2024-07-15T11:12:21.418Z"
   },
   {
    "duration": 11,
    "start_time": "2024-07-15T11:12:21.811Z"
   },
   {
    "duration": 8424,
    "start_time": "2024-07-15T11:15:22.152Z"
   },
   {
    "duration": 5,
    "start_time": "2024-07-15T11:15:30.579Z"
   },
   {
    "duration": 82,
    "start_time": "2024-07-15T11:15:30.585Z"
   },
   {
    "duration": 32,
    "start_time": "2024-07-15T11:15:30.669Z"
   },
   {
    "duration": 256,
    "start_time": "2024-07-15T11:15:30.703Z"
   },
   {
    "duration": 31,
    "start_time": "2024-07-15T11:15:30.961Z"
   },
   {
    "duration": 75,
    "start_time": "2024-07-15T11:15:30.993Z"
   },
   {
    "duration": 28,
    "start_time": "2024-07-15T11:15:31.069Z"
   },
   {
    "duration": 82,
    "start_time": "2024-07-15T11:15:31.112Z"
   },
   {
    "duration": 116,
    "start_time": "2024-07-15T11:15:31.195Z"
   },
   {
    "duration": 74,
    "start_time": "2024-07-15T11:15:31.312Z"
   },
   {
    "duration": 28,
    "start_time": "2024-07-15T11:15:31.387Z"
   },
   {
    "duration": 22,
    "start_time": "2024-07-15T11:15:31.416Z"
   },
   {
    "duration": 193,
    "start_time": "2024-07-15T11:15:31.441Z"
   },
   {
    "duration": 63,
    "start_time": "2024-07-15T11:15:31.636Z"
   },
   {
    "duration": 18,
    "start_time": "2024-07-15T11:15:31.700Z"
   },
   {
    "duration": 10,
    "start_time": "2024-07-15T11:15:31.719Z"
   },
   {
    "duration": 14,
    "start_time": "2024-07-15T11:15:31.730Z"
   },
   {
    "duration": 43,
    "start_time": "2024-07-15T11:15:31.746Z"
   },
   {
    "duration": 39,
    "start_time": "2024-07-15T11:15:31.790Z"
   },
   {
    "duration": 28,
    "start_time": "2024-07-15T11:15:31.830Z"
   },
   {
    "duration": 35,
    "start_time": "2024-07-15T11:15:31.860Z"
   },
   {
    "duration": 25,
    "start_time": "2024-07-15T11:15:31.897Z"
   },
   {
    "duration": 303,
    "start_time": "2024-07-15T11:15:31.924Z"
   },
   {
    "duration": 157,
    "start_time": "2024-07-15T11:15:32.229Z"
   },
   {
    "duration": 3,
    "start_time": "2024-07-15T11:15:32.387Z"
   },
   {
    "duration": 23,
    "start_time": "2024-07-15T11:15:32.391Z"
   },
   {
    "duration": 148,
    "start_time": "2024-07-15T11:15:32.415Z"
   },
   {
    "duration": 5,
    "start_time": "2024-07-15T11:15:32.565Z"
   },
   {
    "duration": 5,
    "start_time": "2024-07-15T11:15:32.571Z"
   },
   {
    "duration": 3,
    "start_time": "2024-07-15T11:15:32.578Z"
   },
   {
    "duration": 8,
    "start_time": "2024-07-15T11:15:32.582Z"
   },
   {
    "duration": 23,
    "start_time": "2024-07-15T11:15:32.591Z"
   },
   {
    "duration": 8,
    "start_time": "2024-07-15T11:15:32.616Z"
   },
   {
    "duration": 143,
    "start_time": "2024-07-15T11:15:32.626Z"
   },
   {
    "duration": 7,
    "start_time": "2024-07-15T11:15:32.770Z"
   },
   {
    "duration": 14,
    "start_time": "2024-07-15T11:15:32.778Z"
   },
   {
    "duration": 20,
    "start_time": "2024-07-15T11:15:32.793Z"
   },
   {
    "duration": 137,
    "start_time": "2024-07-15T11:15:32.815Z"
   },
   {
    "duration": 8,
    "start_time": "2024-07-15T11:15:32.953Z"
   },
   {
    "duration": 11,
    "start_time": "2024-07-15T11:15:32.964Z"
   },
   {
    "duration": 13,
    "start_time": "2024-07-15T11:15:32.976Z"
   },
   {
    "duration": 26,
    "start_time": "2024-07-15T11:15:32.991Z"
   },
   {
    "duration": 6,
    "start_time": "2024-07-15T11:15:53.361Z"
   },
   {
    "duration": 9,
    "start_time": "2024-07-15T11:16:01.757Z"
   },
   {
    "duration": 6,
    "start_time": "2024-07-15T11:16:09.800Z"
   },
   {
    "duration": 4,
    "start_time": "2024-07-15T11:16:13.057Z"
   },
   {
    "duration": 4,
    "start_time": "2024-07-15T11:18:48.332Z"
   },
   {
    "duration": 5,
    "start_time": "2024-07-15T11:18:51.375Z"
   },
   {
    "duration": 3,
    "start_time": "2024-07-15T11:19:33.600Z"
   },
   {
    "duration": 4,
    "start_time": "2024-07-15T11:19:37.367Z"
   },
   {
    "duration": 8431,
    "start_time": "2024-07-15T11:20:27.928Z"
   },
   {
    "duration": 5,
    "start_time": "2024-07-15T11:20:36.361Z"
   },
   {
    "duration": 27,
    "start_time": "2024-07-15T11:20:36.368Z"
   },
   {
    "duration": 6,
    "start_time": "2024-07-15T11:20:36.397Z"
   },
   {
    "duration": 218,
    "start_time": "2024-07-15T11:20:36.405Z"
   },
   {
    "duration": 29,
    "start_time": "2024-07-15T11:20:36.624Z"
   },
   {
    "duration": 68,
    "start_time": "2024-07-15T11:20:36.654Z"
   },
   {
    "duration": 26,
    "start_time": "2024-07-15T11:20:36.724Z"
   },
   {
    "duration": 21,
    "start_time": "2024-07-15T11:20:36.752Z"
   },
   {
    "duration": 53,
    "start_time": "2024-07-15T11:20:36.775Z"
   },
   {
    "duration": 41,
    "start_time": "2024-07-15T11:20:36.830Z"
   },
   {
    "duration": 41,
    "start_time": "2024-07-15T11:20:36.873Z"
   },
   {
    "duration": 4,
    "start_time": "2024-07-15T11:20:36.915Z"
   },
   {
    "duration": 7,
    "start_time": "2024-07-15T11:20:36.920Z"
   },
   {
    "duration": 8,
    "start_time": "2024-07-15T11:20:36.928Z"
   },
   {
    "duration": 7,
    "start_time": "2024-07-15T11:20:36.937Z"
   },
   {
    "duration": 12,
    "start_time": "2024-07-15T11:20:36.945Z"
   },
   {
    "duration": 7,
    "start_time": "2024-07-15T11:20:36.958Z"
   },
   {
    "duration": 8,
    "start_time": "2024-07-15T11:20:36.967Z"
   },
   {
    "duration": 36,
    "start_time": "2024-07-15T11:20:36.977Z"
   },
   {
    "duration": 26,
    "start_time": "2024-07-15T11:20:37.014Z"
   },
   {
    "duration": 26,
    "start_time": "2024-07-15T11:20:37.042Z"
   },
   {
    "duration": 18,
    "start_time": "2024-07-15T11:20:37.069Z"
   },
   {
    "duration": 173,
    "start_time": "2024-07-15T11:20:37.112Z"
   },
   {
    "duration": 177,
    "start_time": "2024-07-15T11:20:37.286Z"
   },
   {
    "duration": 3,
    "start_time": "2024-07-15T11:20:37.464Z"
   },
   {
    "duration": 97,
    "start_time": "2024-07-15T11:20:37.469Z"
   },
   {
    "duration": 137,
    "start_time": "2024-07-15T11:20:37.570Z"
   },
   {
    "duration": 5,
    "start_time": "2024-07-15T11:20:37.709Z"
   },
   {
    "duration": 11,
    "start_time": "2024-07-15T11:20:37.715Z"
   },
   {
    "duration": 4,
    "start_time": "2024-07-15T11:20:37.727Z"
   },
   {
    "duration": 8,
    "start_time": "2024-07-15T11:20:37.732Z"
   },
   {
    "duration": 7,
    "start_time": "2024-07-15T11:20:37.742Z"
   },
   {
    "duration": 12,
    "start_time": "2024-07-15T11:20:37.750Z"
   },
   {
    "duration": 144,
    "start_time": "2024-07-15T11:20:37.763Z"
   },
   {
    "duration": 10,
    "start_time": "2024-07-15T11:20:37.908Z"
   },
   {
    "duration": 76,
    "start_time": "2024-07-15T11:20:37.919Z"
   },
   {
    "duration": 8,
    "start_time": "2024-07-15T11:20:37.996Z"
   },
   {
    "duration": 133,
    "start_time": "2024-07-15T11:20:38.005Z"
   },
   {
    "duration": 8,
    "start_time": "2024-07-15T11:20:38.139Z"
   },
   {
    "duration": 10,
    "start_time": "2024-07-15T11:20:38.148Z"
   },
   {
    "duration": 12,
    "start_time": "2024-07-15T11:20:38.159Z"
   },
   {
    "duration": 7,
    "start_time": "2024-07-15T11:20:38.172Z"
   },
   {
    "duration": 34,
    "start_time": "2024-07-15T11:20:38.180Z"
   },
   {
    "duration": 23,
    "start_time": "2024-07-15T11:20:38.216Z"
   },
   {
    "duration": 5,
    "start_time": "2024-07-15T11:20:38.241Z"
   },
   {
    "duration": 19,
    "start_time": "2024-07-15T11:20:38.247Z"
   },
   {
    "duration": 13,
    "start_time": "2024-07-15T11:20:38.267Z"
   },
   {
    "duration": 58,
    "start_time": "2024-07-15T11:20:38.281Z"
   },
   {
    "duration": 20,
    "start_time": "2024-07-15T11:20:38.340Z"
   },
   {
    "duration": 17,
    "start_time": "2024-07-15T11:20:38.361Z"
   },
   {
    "duration": 51,
    "start_time": "2024-07-15T11:20:38.380Z"
   },
   {
    "duration": 31,
    "start_time": "2024-07-15T11:20:38.433Z"
   },
   {
    "duration": 24,
    "start_time": "2024-07-15T11:21:01.196Z"
   },
   {
    "duration": 8705,
    "start_time": "2024-07-15T11:21:41.321Z"
   },
   {
    "duration": 6,
    "start_time": "2024-07-15T11:21:50.029Z"
   },
   {
    "duration": 54,
    "start_time": "2024-07-15T11:21:50.036Z"
   },
   {
    "duration": 32,
    "start_time": "2024-07-15T11:21:50.092Z"
   },
   {
    "duration": 225,
    "start_time": "2024-07-15T11:21:50.126Z"
   },
   {
    "duration": 30,
    "start_time": "2024-07-15T11:21:50.352Z"
   },
   {
    "duration": 60,
    "start_time": "2024-07-15T11:21:50.384Z"
   },
   {
    "duration": 26,
    "start_time": "2024-07-15T11:21:50.446Z"
   },
   {
    "duration": 47,
    "start_time": "2024-07-15T11:21:50.474Z"
   },
   {
    "duration": 25,
    "start_time": "2024-07-15T11:21:50.525Z"
   },
   {
    "duration": 74,
    "start_time": "2024-07-15T11:21:50.551Z"
   },
   {
    "duration": 24,
    "start_time": "2024-07-15T11:21:50.627Z"
   },
   {
    "duration": 4,
    "start_time": "2024-07-15T11:21:50.652Z"
   },
   {
    "duration": 5,
    "start_time": "2024-07-15T11:21:50.657Z"
   },
   {
    "duration": 38,
    "start_time": "2024-07-15T11:21:50.664Z"
   },
   {
    "duration": 19,
    "start_time": "2024-07-15T11:21:50.704Z"
   },
   {
    "duration": 32,
    "start_time": "2024-07-15T11:21:50.725Z"
   },
   {
    "duration": 23,
    "start_time": "2024-07-15T11:21:50.759Z"
   },
   {
    "duration": 16,
    "start_time": "2024-07-15T11:21:50.783Z"
   },
   {
    "duration": 31,
    "start_time": "2024-07-15T11:21:50.800Z"
   },
   {
    "duration": 34,
    "start_time": "2024-07-15T11:21:50.832Z"
   },
   {
    "duration": 18,
    "start_time": "2024-07-15T11:21:50.867Z"
   },
   {
    "duration": 16,
    "start_time": "2024-07-15T11:21:50.887Z"
   },
   {
    "duration": 177,
    "start_time": "2024-07-15T11:21:50.904Z"
   },
   {
    "duration": 269,
    "start_time": "2024-07-15T11:21:51.082Z"
   },
   {
    "duration": 2,
    "start_time": "2024-07-15T11:21:51.353Z"
   },
   {
    "duration": 15,
    "start_time": "2024-07-15T11:21:51.357Z"
   },
   {
    "duration": 159,
    "start_time": "2024-07-15T11:21:51.376Z"
   },
   {
    "duration": 4,
    "start_time": "2024-07-15T11:21:51.537Z"
   },
   {
    "duration": 47,
    "start_time": "2024-07-15T11:21:51.542Z"
   },
   {
    "duration": 17,
    "start_time": "2024-07-15T11:21:51.590Z"
   },
   {
    "duration": 12,
    "start_time": "2024-07-15T11:21:51.608Z"
   },
   {
    "duration": 19,
    "start_time": "2024-07-15T11:21:51.621Z"
   },
   {
    "duration": 13,
    "start_time": "2024-07-15T11:21:51.641Z"
   },
   {
    "duration": 141,
    "start_time": "2024-07-15T11:21:51.656Z"
   },
   {
    "duration": 9,
    "start_time": "2024-07-15T11:21:51.799Z"
   },
   {
    "duration": 17,
    "start_time": "2024-07-15T11:21:51.818Z"
   },
   {
    "duration": 9,
    "start_time": "2024-07-15T11:21:51.836Z"
   },
   {
    "duration": 146,
    "start_time": "2024-07-15T11:21:51.846Z"
   },
   {
    "duration": 8,
    "start_time": "2024-07-15T11:21:51.994Z"
   },
   {
    "duration": 31,
    "start_time": "2024-07-15T11:21:52.011Z"
   },
   {
    "duration": 13,
    "start_time": "2024-07-15T11:21:52.043Z"
   },
   {
    "duration": 7,
    "start_time": "2024-07-15T11:21:52.057Z"
   },
   {
    "duration": 4,
    "start_time": "2024-07-15T11:21:52.065Z"
   },
   {
    "duration": 13,
    "start_time": "2024-07-15T11:21:52.070Z"
   },
   {
    "duration": 4,
    "start_time": "2024-07-15T11:21:52.085Z"
   },
   {
    "duration": 43,
    "start_time": "2024-07-15T11:21:52.090Z"
   },
   {
    "duration": 10,
    "start_time": "2024-07-15T11:21:52.134Z"
   },
   {
    "duration": 42,
    "start_time": "2024-07-15T11:21:52.146Z"
   },
   {
    "duration": 32,
    "start_time": "2024-07-15T11:21:52.189Z"
   },
   {
    "duration": 17,
    "start_time": "2024-07-15T11:21:52.223Z"
   },
   {
    "duration": 40,
    "start_time": "2024-07-15T11:21:52.242Z"
   },
   {
    "duration": 35,
    "start_time": "2024-07-15T11:21:52.283Z"
   },
   {
    "duration": 8458,
    "start_time": "2024-07-15T11:22:45.672Z"
   },
   {
    "duration": 13874,
    "start_time": "2024-07-15T16:38:59.418Z"
   },
   {
    "duration": 2026,
    "start_time": "2024-07-15T16:39:13.294Z"
   },
   {
    "duration": 3,
    "start_time": "2024-07-15T16:39:15.322Z"
   },
   {
    "duration": 39,
    "start_time": "2024-07-15T16:39:15.327Z"
   },
   {
    "duration": 608,
    "start_time": "2024-07-15T16:39:15.369Z"
   },
   {
    "duration": 36,
    "start_time": "2024-07-15T16:39:15.978Z"
   },
   {
    "duration": 77,
    "start_time": "2024-07-15T16:39:16.015Z"
   },
   {
    "duration": 43,
    "start_time": "2024-07-15T16:39:16.094Z"
   },
   {
    "duration": 34,
    "start_time": "2024-07-15T16:39:16.139Z"
   },
   {
    "duration": 26,
    "start_time": "2024-07-15T16:39:16.175Z"
   },
   {
    "duration": 83,
    "start_time": "2024-07-15T16:39:16.203Z"
   },
   {
    "duration": 51,
    "start_time": "2024-07-15T16:39:16.287Z"
   },
   {
    "duration": 7,
    "start_time": "2024-07-15T16:39:16.340Z"
   },
   {
    "duration": 7,
    "start_time": "2024-07-15T16:39:16.351Z"
   },
   {
    "duration": 6,
    "start_time": "2024-07-15T16:39:16.359Z"
   },
   {
    "duration": 4,
    "start_time": "2024-07-15T16:39:16.366Z"
   },
   {
    "duration": 5,
    "start_time": "2024-07-15T16:39:16.372Z"
   },
   {
    "duration": 12,
    "start_time": "2024-07-15T16:39:16.378Z"
   },
   {
    "duration": 8,
    "start_time": "2024-07-15T16:39:16.392Z"
   },
   {
    "duration": 62,
    "start_time": "2024-07-15T16:39:16.401Z"
   },
   {
    "duration": 22,
    "start_time": "2024-07-15T16:39:16.464Z"
   },
   {
    "duration": 19,
    "start_time": "2024-07-15T16:39:16.487Z"
   },
   {
    "duration": 42,
    "start_time": "2024-07-15T16:39:16.508Z"
   },
   {
    "duration": 218,
    "start_time": "2024-07-15T16:39:16.551Z"
   },
   {
    "duration": 208,
    "start_time": "2024-07-15T16:39:16.771Z"
   },
   {
    "duration": 3,
    "start_time": "2024-07-15T16:39:16.981Z"
   },
   {
    "duration": 18,
    "start_time": "2024-07-15T16:39:16.985Z"
   },
   {
    "duration": 209,
    "start_time": "2024-07-15T16:39:17.004Z"
   },
   {
    "duration": 6,
    "start_time": "2024-07-15T16:39:17.215Z"
   },
   {
    "duration": 17,
    "start_time": "2024-07-15T16:39:17.223Z"
   },
   {
    "duration": 5,
    "start_time": "2024-07-15T16:39:17.242Z"
   },
   {
    "duration": 27,
    "start_time": "2024-07-15T16:39:17.249Z"
   },
   {
    "duration": 12,
    "start_time": "2024-07-15T16:39:17.278Z"
   },
   {
    "duration": 10,
    "start_time": "2024-07-15T16:39:17.292Z"
   },
   {
    "duration": 295,
    "start_time": "2024-07-15T16:39:17.304Z"
   },
   {
    "duration": 9,
    "start_time": "2024-07-15T16:39:17.601Z"
   },
   {
    "duration": 36,
    "start_time": "2024-07-15T16:39:17.612Z"
   },
   {
    "duration": 17,
    "start_time": "2024-07-15T16:39:17.651Z"
   },
   {
    "duration": 240,
    "start_time": "2024-07-15T16:39:17.670Z"
   },
   {
    "duration": 9,
    "start_time": "2024-07-15T16:39:17.912Z"
   },
   {
    "duration": 81,
    "start_time": "2024-07-15T16:39:17.925Z"
   },
   {
    "duration": 198,
    "start_time": "2024-07-15T16:39:18.008Z"
   },
   {
    "duration": 0,
    "start_time": "2024-07-15T16:39:18.207Z"
   },
   {
    "duration": 20,
    "start_time": "2024-07-15T16:41:23.826Z"
   },
   {
    "duration": 8,
    "start_time": "2024-07-15T16:43:52.987Z"
   },
   {
    "duration": 15,
    "start_time": "2024-07-15T16:44:06.378Z"
   },
   {
    "duration": 128,
    "start_time": "2024-07-15T16:44:41.441Z"
   },
   {
    "duration": 8260,
    "start_time": "2024-07-15T16:45:14.084Z"
   },
   {
    "duration": 1783,
    "start_time": "2024-07-15T16:45:22.346Z"
   },
   {
    "duration": 3,
    "start_time": "2024-07-15T16:45:24.130Z"
   },
   {
    "duration": 21,
    "start_time": "2024-07-15T16:45:24.134Z"
   },
   {
    "duration": 222,
    "start_time": "2024-07-15T16:45:24.157Z"
   },
   {
    "duration": 34,
    "start_time": "2024-07-15T16:45:24.381Z"
   },
   {
    "duration": 111,
    "start_time": "2024-07-15T16:45:24.416Z"
   },
   {
    "duration": 39,
    "start_time": "2024-07-15T16:45:24.529Z"
   },
   {
    "duration": 24,
    "start_time": "2024-07-15T16:45:24.570Z"
   },
   {
    "duration": 59,
    "start_time": "2024-07-15T16:45:24.595Z"
   },
   {
    "duration": 48,
    "start_time": "2024-07-15T16:45:24.656Z"
   },
   {
    "duration": 54,
    "start_time": "2024-07-15T16:45:24.705Z"
   },
   {
    "duration": 4,
    "start_time": "2024-07-15T16:45:24.760Z"
   },
   {
    "duration": 4,
    "start_time": "2024-07-15T16:45:24.766Z"
   },
   {
    "duration": 7,
    "start_time": "2024-07-15T16:45:24.771Z"
   },
   {
    "duration": 4,
    "start_time": "2024-07-15T16:45:24.779Z"
   },
   {
    "duration": 6,
    "start_time": "2024-07-15T16:45:24.784Z"
   },
   {
    "duration": 8,
    "start_time": "2024-07-15T16:45:24.792Z"
   },
   {
    "duration": 5,
    "start_time": "2024-07-15T16:45:24.837Z"
   },
   {
    "duration": 29,
    "start_time": "2024-07-15T16:45:24.844Z"
   },
   {
    "duration": 21,
    "start_time": "2024-07-15T16:45:24.875Z"
   },
   {
    "duration": 58,
    "start_time": "2024-07-15T16:45:24.898Z"
   },
   {
    "duration": 18,
    "start_time": "2024-07-15T16:45:24.958Z"
   },
   {
    "duration": 206,
    "start_time": "2024-07-15T16:45:24.977Z"
   },
   {
    "duration": 199,
    "start_time": "2024-07-15T16:45:25.185Z"
   },
   {
    "duration": 3,
    "start_time": "2024-07-15T16:45:25.385Z"
   },
   {
    "duration": 22,
    "start_time": "2024-07-15T16:45:25.389Z"
   },
   {
    "duration": 192,
    "start_time": "2024-07-15T16:45:25.412Z"
   },
   {
    "duration": 6,
    "start_time": "2024-07-15T16:45:25.605Z"
   },
   {
    "duration": 17,
    "start_time": "2024-07-15T16:45:25.612Z"
   },
   {
    "duration": 4,
    "start_time": "2024-07-15T16:45:25.630Z"
   },
   {
    "duration": 14,
    "start_time": "2024-07-15T16:45:25.640Z"
   },
   {
    "duration": 8,
    "start_time": "2024-07-15T16:45:25.656Z"
   },
   {
    "duration": 17,
    "start_time": "2024-07-15T16:45:25.666Z"
   },
   {
    "duration": 168,
    "start_time": "2024-07-15T16:45:25.684Z"
   },
   {
    "duration": 9,
    "start_time": "2024-07-15T16:45:25.855Z"
   },
   {
    "duration": 14,
    "start_time": "2024-07-15T16:45:25.866Z"
   },
   {
    "duration": 2,
    "start_time": "2024-07-15T16:45:25.882Z"
   },
   {
    "duration": 267,
    "start_time": "2024-07-15T16:45:25.885Z"
   },
   {
    "duration": 8,
    "start_time": "2024-07-15T16:45:26.154Z"
   },
   {
    "duration": 12,
    "start_time": "2024-07-15T16:45:26.165Z"
   },
   {
    "duration": 11,
    "start_time": "2024-07-15T16:45:26.178Z"
   },
   {
    "duration": 236,
    "start_time": "2024-07-15T16:45:26.190Z"
   },
   {
    "duration": 13,
    "start_time": "2024-07-15T16:46:34.506Z"
   },
   {
    "duration": 9,
    "start_time": "2024-07-15T16:46:45.882Z"
   },
   {
    "duration": 11,
    "start_time": "2024-07-15T16:47:01.841Z"
   },
   {
    "duration": 21,
    "start_time": "2024-07-15T16:50:19.089Z"
   },
   {
    "duration": 28,
    "start_time": "2024-07-15T16:50:35.227Z"
   },
   {
    "duration": 7896,
    "start_time": "2024-07-15T16:50:46.395Z"
   },
   {
    "duration": 1757,
    "start_time": "2024-07-15T16:50:54.294Z"
   },
   {
    "duration": 3,
    "start_time": "2024-07-15T16:50:56.052Z"
   },
   {
    "duration": 6,
    "start_time": "2024-07-15T16:50:56.056Z"
   },
   {
    "duration": 218,
    "start_time": "2024-07-15T16:50:56.064Z"
   },
   {
    "duration": 37,
    "start_time": "2024-07-15T16:50:56.283Z"
   },
   {
    "duration": 69,
    "start_time": "2024-07-15T16:50:56.322Z"
   },
   {
    "duration": 48,
    "start_time": "2024-07-15T16:50:56.392Z"
   },
   {
    "duration": 35,
    "start_time": "2024-07-15T16:50:56.442Z"
   },
   {
    "duration": 64,
    "start_time": "2024-07-15T16:50:56.479Z"
   },
   {
    "duration": 92,
    "start_time": "2024-07-15T16:50:56.545Z"
   },
   {
    "duration": 27,
    "start_time": "2024-07-15T16:50:56.639Z"
   },
   {
    "duration": 9,
    "start_time": "2024-07-15T16:50:56.668Z"
   },
   {
    "duration": 9,
    "start_time": "2024-07-15T16:50:56.680Z"
   },
   {
    "duration": 29,
    "start_time": "2024-07-15T16:50:56.691Z"
   },
   {
    "duration": 15,
    "start_time": "2024-07-15T16:50:56.722Z"
   },
   {
    "duration": 34,
    "start_time": "2024-07-15T16:50:56.740Z"
   },
   {
    "duration": 23,
    "start_time": "2024-07-15T16:50:56.776Z"
   },
   {
    "duration": 16,
    "start_time": "2024-07-15T16:50:56.801Z"
   },
   {
    "duration": 40,
    "start_time": "2024-07-15T16:50:56.819Z"
   },
   {
    "duration": 25,
    "start_time": "2024-07-15T16:50:56.861Z"
   },
   {
    "duration": 51,
    "start_time": "2024-07-15T16:50:56.888Z"
   },
   {
    "duration": 34,
    "start_time": "2024-07-15T16:50:56.941Z"
   },
   {
    "duration": 195,
    "start_time": "2024-07-15T16:50:56.977Z"
   },
   {
    "duration": 185,
    "start_time": "2024-07-15T16:50:57.174Z"
   },
   {
    "duration": 2,
    "start_time": "2024-07-15T16:50:57.361Z"
   },
   {
    "duration": 15,
    "start_time": "2024-07-15T16:50:57.365Z"
   },
   {
    "duration": 184,
    "start_time": "2024-07-15T16:50:57.381Z"
   },
   {
    "duration": 5,
    "start_time": "2024-07-15T16:50:57.566Z"
   },
   {
    "duration": 22,
    "start_time": "2024-07-15T16:50:57.573Z"
   },
   {
    "duration": 4,
    "start_time": "2024-07-15T16:50:57.597Z"
   },
   {
    "duration": 15,
    "start_time": "2024-07-15T16:50:57.603Z"
   },
   {
    "duration": 19,
    "start_time": "2024-07-15T16:50:57.620Z"
   },
   {
    "duration": 14,
    "start_time": "2024-07-15T16:50:57.640Z"
   },
   {
    "duration": 212,
    "start_time": "2024-07-15T16:50:57.656Z"
   },
   {
    "duration": 10,
    "start_time": "2024-07-15T16:50:57.870Z"
   },
   {
    "duration": 15,
    "start_time": "2024-07-15T16:50:57.882Z"
   },
   {
    "duration": 3,
    "start_time": "2024-07-15T16:50:57.899Z"
   },
   {
    "duration": 288,
    "start_time": "2024-07-15T16:50:57.903Z"
   },
   {
    "duration": 9,
    "start_time": "2024-07-15T16:50:58.192Z"
   },
   {
    "duration": 33,
    "start_time": "2024-07-15T16:50:58.205Z"
   },
   {
    "duration": 10,
    "start_time": "2024-07-15T16:50:58.240Z"
   },
   {
    "duration": 134,
    "start_time": "2024-07-15T16:53:40.354Z"
   },
   {
    "duration": 14,
    "start_time": "2024-07-15T16:53:45.547Z"
   },
   {
    "duration": 7814,
    "start_time": "2024-07-15T17:06:08.923Z"
   },
   {
    "duration": 1828,
    "start_time": "2024-07-15T17:06:16.740Z"
   },
   {
    "duration": 2,
    "start_time": "2024-07-15T17:06:18.570Z"
   },
   {
    "duration": 16,
    "start_time": "2024-07-15T17:06:18.574Z"
   },
   {
    "duration": 218,
    "start_time": "2024-07-15T17:06:18.592Z"
   },
   {
    "duration": 32,
    "start_time": "2024-07-15T17:06:18.811Z"
   },
   {
    "duration": 67,
    "start_time": "2024-07-15T17:06:18.845Z"
   },
   {
    "duration": 50,
    "start_time": "2024-07-15T17:06:18.913Z"
   },
   {
    "duration": 24,
    "start_time": "2024-07-15T17:06:18.965Z"
   },
   {
    "duration": 55,
    "start_time": "2024-07-15T17:06:18.990Z"
   },
   {
    "duration": 46,
    "start_time": "2024-07-15T17:06:19.047Z"
   },
   {
    "duration": 61,
    "start_time": "2024-07-15T17:06:19.095Z"
   },
   {
    "duration": 6,
    "start_time": "2024-07-15T17:06:19.158Z"
   },
   {
    "duration": 9,
    "start_time": "2024-07-15T17:06:19.167Z"
   },
   {
    "duration": 12,
    "start_time": "2024-07-15T17:06:19.177Z"
   },
   {
    "duration": 13,
    "start_time": "2024-07-15T17:06:19.190Z"
   },
   {
    "duration": 19,
    "start_time": "2024-07-15T17:06:19.205Z"
   },
   {
    "duration": 15,
    "start_time": "2024-07-15T17:06:19.226Z"
   },
   {
    "duration": 11,
    "start_time": "2024-07-15T17:06:19.242Z"
   },
   {
    "duration": 25,
    "start_time": "2024-07-15T17:06:19.254Z"
   },
   {
    "duration": 23,
    "start_time": "2024-07-15T17:06:19.281Z"
   },
   {
    "duration": 42,
    "start_time": "2024-07-15T17:06:19.306Z"
   },
   {
    "duration": 22,
    "start_time": "2024-07-15T17:06:19.350Z"
   },
   {
    "duration": 233,
    "start_time": "2024-07-15T17:06:19.374Z"
   },
   {
    "duration": 209,
    "start_time": "2024-07-15T17:06:19.609Z"
   },
   {
    "duration": 4,
    "start_time": "2024-07-15T17:06:19.819Z"
   },
   {
    "duration": 62,
    "start_time": "2024-07-15T17:06:19.824Z"
   },
   {
    "duration": 155,
    "start_time": "2024-07-15T17:06:19.888Z"
   },
   {
    "duration": 6,
    "start_time": "2024-07-15T17:06:20.044Z"
   },
   {
    "duration": 29,
    "start_time": "2024-07-15T17:06:20.051Z"
   },
   {
    "duration": 5,
    "start_time": "2024-07-15T17:06:20.082Z"
   },
   {
    "duration": 9,
    "start_time": "2024-07-15T17:06:20.089Z"
   },
   {
    "duration": 12,
    "start_time": "2024-07-15T17:06:20.100Z"
   },
   {
    "duration": 11,
    "start_time": "2024-07-15T17:06:20.114Z"
   },
   {
    "duration": 170,
    "start_time": "2024-07-15T17:06:20.126Z"
   },
   {
    "duration": 8,
    "start_time": "2024-07-15T17:06:20.298Z"
   },
   {
    "duration": 13,
    "start_time": "2024-07-15T17:06:20.308Z"
   },
   {
    "duration": 2,
    "start_time": "2024-07-15T17:06:20.339Z"
   },
   {
    "duration": 256,
    "start_time": "2024-07-15T17:06:20.343Z"
   },
   {
    "duration": 10,
    "start_time": "2024-07-15T17:06:20.601Z"
   },
   {
    "duration": 27,
    "start_time": "2024-07-15T17:06:20.614Z"
   },
   {
    "duration": 12,
    "start_time": "2024-07-15T17:06:20.643Z"
   },
   {
    "duration": 1109,
    "start_time": "2024-07-15T17:08:03.165Z"
   },
   {
    "duration": 13,
    "start_time": "2024-07-15T17:09:22.757Z"
   },
   {
    "duration": 959,
    "start_time": "2024-07-15T17:11:41.470Z"
   },
   {
    "duration": 1621,
    "start_time": "2024-07-15T17:11:49.155Z"
   },
   {
    "duration": 13,
    "start_time": "2024-07-15T17:12:01.732Z"
   },
   {
    "duration": 973,
    "start_time": "2024-07-15T17:12:04.547Z"
   },
   {
    "duration": 947,
    "start_time": "2024-07-15T17:13:18.795Z"
   },
   {
    "duration": 906,
    "start_time": "2024-07-15T17:13:49.460Z"
   },
   {
    "duration": 8294,
    "start_time": "2024-07-15T17:14:14.165Z"
   },
   {
    "duration": 1771,
    "start_time": "2024-07-15T17:14:22.462Z"
   },
   {
    "duration": 3,
    "start_time": "2024-07-15T17:14:24.235Z"
   },
   {
    "duration": 7,
    "start_time": "2024-07-15T17:14:24.239Z"
   },
   {
    "duration": 218,
    "start_time": "2024-07-15T17:14:24.247Z"
   },
   {
    "duration": 33,
    "start_time": "2024-07-15T17:14:24.466Z"
   },
   {
    "duration": 74,
    "start_time": "2024-07-15T17:14:24.501Z"
   },
   {
    "duration": 30,
    "start_time": "2024-07-15T17:14:24.576Z"
   },
   {
    "duration": 45,
    "start_time": "2024-07-15T17:14:24.607Z"
   },
   {
    "duration": 27,
    "start_time": "2024-07-15T17:14:24.655Z"
   },
   {
    "duration": 77,
    "start_time": "2024-07-15T17:14:24.684Z"
   },
   {
    "duration": 26,
    "start_time": "2024-07-15T17:14:24.762Z"
   },
   {
    "duration": 16,
    "start_time": "2024-07-15T17:14:24.790Z"
   },
   {
    "duration": 8,
    "start_time": "2024-07-15T17:14:24.808Z"
   },
   {
    "duration": 7,
    "start_time": "2024-07-15T17:14:24.817Z"
   },
   {
    "duration": 15,
    "start_time": "2024-07-15T17:14:24.825Z"
   },
   {
    "duration": 24,
    "start_time": "2024-07-15T17:14:24.842Z"
   },
   {
    "duration": 11,
    "start_time": "2024-07-15T17:14:24.868Z"
   },
   {
    "duration": 7,
    "start_time": "2024-07-15T17:14:24.881Z"
   },
   {
    "duration": 26,
    "start_time": "2024-07-15T17:14:24.889Z"
   },
   {
    "duration": 29,
    "start_time": "2024-07-15T17:14:24.917Z"
   },
   {
    "duration": 20,
    "start_time": "2024-07-15T17:14:24.947Z"
   },
   {
    "duration": 16,
    "start_time": "2024-07-15T17:14:24.968Z"
   },
   {
    "duration": 214,
    "start_time": "2024-07-15T17:14:24.986Z"
   },
   {
    "duration": 181,
    "start_time": "2024-07-15T17:14:25.201Z"
   },
   {
    "duration": 4,
    "start_time": "2024-07-15T17:14:25.384Z"
   },
   {
    "duration": 19,
    "start_time": "2024-07-15T17:14:25.389Z"
   },
   {
    "duration": 244,
    "start_time": "2024-07-15T17:14:25.412Z"
   },
   {
    "duration": 7,
    "start_time": "2024-07-15T17:14:25.657Z"
   },
   {
    "duration": 25,
    "start_time": "2024-07-15T17:14:25.665Z"
   },
   {
    "duration": 9,
    "start_time": "2024-07-15T17:14:25.692Z"
   },
   {
    "duration": 14,
    "start_time": "2024-07-15T17:14:25.703Z"
   },
   {
    "duration": 8,
    "start_time": "2024-07-15T17:14:25.718Z"
   },
   {
    "duration": 10,
    "start_time": "2024-07-15T17:14:25.728Z"
   },
   {
    "duration": 167,
    "start_time": "2024-07-15T17:14:25.740Z"
   },
   {
    "duration": 8,
    "start_time": "2024-07-15T17:14:25.909Z"
   },
   {
    "duration": 25,
    "start_time": "2024-07-15T17:14:25.918Z"
   },
   {
    "duration": 4,
    "start_time": "2024-07-15T17:14:25.945Z"
   },
   {
    "duration": 253,
    "start_time": "2024-07-15T17:14:25.951Z"
   },
   {
    "duration": 9,
    "start_time": "2024-07-15T17:14:26.206Z"
   },
   {
    "duration": 23,
    "start_time": "2024-07-15T17:14:26.216Z"
   },
   {
    "duration": 12,
    "start_time": "2024-07-15T17:14:26.240Z"
   },
   {
    "duration": 8,
    "start_time": "2024-07-15T17:14:26.254Z"
   },
   {
    "duration": 1148,
    "start_time": "2024-07-15T17:32:06.585Z"
   },
   {
    "duration": 5,
    "start_time": "2024-07-15T17:36:22.022Z"
   },
   {
    "duration": 13,
    "start_time": "2024-07-15T17:37:18.846Z"
   },
   {
    "duration": 9,
    "start_time": "2024-07-15T17:37:25.668Z"
   },
   {
    "duration": 5,
    "start_time": "2024-07-15T17:37:27.645Z"
   },
   {
    "duration": 4,
    "start_time": "2024-07-15T17:39:00.125Z"
   },
   {
    "duration": 1020,
    "start_time": "2024-07-15T17:39:06.415Z"
   },
   {
    "duration": 5,
    "start_time": "2024-07-15T17:39:26.726Z"
   },
   {
    "duration": 4,
    "start_time": "2024-07-15T17:40:21.369Z"
   },
   {
    "duration": 4,
    "start_time": "2024-07-15T17:43:00.254Z"
   },
   {
    "duration": 14,
    "start_time": "2024-07-15T17:43:17.934Z"
   },
   {
    "duration": 5,
    "start_time": "2024-07-15T17:43:23.464Z"
   },
   {
    "duration": 5,
    "start_time": "2024-07-15T17:50:12.230Z"
   },
   {
    "duration": 694,
    "start_time": "2024-07-15T17:52:11.918Z"
   },
   {
    "duration": 6,
    "start_time": "2024-07-15T17:52:18.535Z"
   },
   {
    "duration": 7684,
    "start_time": "2024-07-15T17:54:57.468Z"
   },
   {
    "duration": 1955,
    "start_time": "2024-07-15T17:55:05.154Z"
   },
   {
    "duration": 3,
    "start_time": "2024-07-15T17:55:07.111Z"
   },
   {
    "duration": 26,
    "start_time": "2024-07-15T17:55:07.115Z"
   },
   {
    "duration": 231,
    "start_time": "2024-07-15T17:55:07.143Z"
   },
   {
    "duration": 32,
    "start_time": "2024-07-15T17:55:07.376Z"
   },
   {
    "duration": 67,
    "start_time": "2024-07-15T17:55:07.410Z"
   },
   {
    "duration": 32,
    "start_time": "2024-07-15T17:55:07.478Z"
   },
   {
    "duration": 49,
    "start_time": "2024-07-15T17:55:07.512Z"
   },
   {
    "duration": 29,
    "start_time": "2024-07-15T17:55:07.565Z"
   },
   {
    "duration": 75,
    "start_time": "2024-07-15T17:55:07.596Z"
   },
   {
    "duration": 26,
    "start_time": "2024-07-15T17:55:07.673Z"
   },
   {
    "duration": 4,
    "start_time": "2024-07-15T17:55:07.701Z"
   },
   {
    "duration": 5,
    "start_time": "2024-07-15T17:55:07.707Z"
   },
   {
    "duration": 10,
    "start_time": "2024-07-15T17:55:07.738Z"
   },
   {
    "duration": 9,
    "start_time": "2024-07-15T17:55:07.749Z"
   },
   {
    "duration": 97,
    "start_time": "2024-07-15T17:55:07.760Z"
   },
   {
    "duration": 26,
    "start_time": "2024-07-15T17:55:07.859Z"
   },
   {
    "duration": 22,
    "start_time": "2024-07-15T17:55:07.887Z"
   },
   {
    "duration": 39,
    "start_time": "2024-07-15T17:55:07.910Z"
   },
   {
    "duration": 31,
    "start_time": "2024-07-15T17:55:07.951Z"
   },
   {
    "duration": 72,
    "start_time": "2024-07-15T17:55:07.984Z"
   },
   {
    "duration": 26,
    "start_time": "2024-07-15T17:55:08.058Z"
   },
   {
    "duration": 209,
    "start_time": "2024-07-15T17:55:08.086Z"
   },
   {
    "duration": 173,
    "start_time": "2024-07-15T17:55:08.297Z"
   },
   {
    "duration": 2,
    "start_time": "2024-07-15T17:55:08.472Z"
   },
   {
    "duration": 17,
    "start_time": "2024-07-15T17:55:08.476Z"
   },
   {
    "duration": 173,
    "start_time": "2024-07-15T17:55:08.497Z"
   },
   {
    "duration": 5,
    "start_time": "2024-07-15T17:55:08.672Z"
   },
   {
    "duration": 6,
    "start_time": "2024-07-15T17:55:08.679Z"
   },
   {
    "duration": 4,
    "start_time": "2024-07-15T17:55:08.686Z"
   },
   {
    "duration": 14,
    "start_time": "2024-07-15T17:55:08.691Z"
   },
   {
    "duration": 10,
    "start_time": "2024-07-15T17:55:08.706Z"
   },
   {
    "duration": 29,
    "start_time": "2024-07-15T17:55:08.717Z"
   },
   {
    "duration": 152,
    "start_time": "2024-07-15T17:55:08.748Z"
   },
   {
    "duration": 8,
    "start_time": "2024-07-15T17:55:08.902Z"
   },
   {
    "duration": 26,
    "start_time": "2024-07-15T17:55:08.911Z"
   },
   {
    "duration": 10,
    "start_time": "2024-07-15T17:55:08.939Z"
   },
   {
    "duration": 232,
    "start_time": "2024-07-15T17:55:08.951Z"
   },
   {
    "duration": 8,
    "start_time": "2024-07-15T17:55:09.185Z"
   },
   {
    "duration": 12,
    "start_time": "2024-07-15T17:55:09.195Z"
   },
   {
    "duration": 34,
    "start_time": "2024-07-15T17:55:09.208Z"
   },
   {
    "duration": 136,
    "start_time": "2024-07-15T17:55:31.516Z"
   },
   {
    "duration": 12,
    "start_time": "2024-07-15T17:56:13.792Z"
   },
   {
    "duration": 13,
    "start_time": "2024-07-15T17:56:18.854Z"
   },
   {
    "duration": 20,
    "start_time": "2024-07-15T17:56:26.503Z"
   },
   {
    "duration": 4,
    "start_time": "2024-07-15T17:56:29.640Z"
   },
   {
    "duration": 774,
    "start_time": "2024-07-15T17:56:33.647Z"
   },
   {
    "duration": 4,
    "start_time": "2024-07-15T17:59:20.377Z"
   },
   {
    "duration": 7747,
    "start_time": "2024-07-15T18:08:59.816Z"
   },
   {
    "duration": 1733,
    "start_time": "2024-07-15T18:09:07.565Z"
   },
   {
    "duration": 2,
    "start_time": "2024-07-15T18:09:09.300Z"
   },
   {
    "duration": 7,
    "start_time": "2024-07-15T18:09:09.304Z"
   },
   {
    "duration": 225,
    "start_time": "2024-07-15T18:09:09.313Z"
   },
   {
    "duration": 44,
    "start_time": "2024-07-15T18:09:09.540Z"
   },
   {
    "duration": 92,
    "start_time": "2024-07-15T18:09:09.586Z"
   },
   {
    "duration": 30,
    "start_time": "2024-07-15T18:09:09.680Z"
   },
   {
    "duration": 45,
    "start_time": "2024-07-15T18:09:09.711Z"
   },
   {
    "duration": 26,
    "start_time": "2024-07-15T18:09:09.758Z"
   },
   {
    "duration": 92,
    "start_time": "2024-07-15T18:09:09.786Z"
   },
   {
    "duration": 27,
    "start_time": "2024-07-15T18:09:09.879Z"
   },
   {
    "duration": 4,
    "start_time": "2024-07-15T18:09:09.907Z"
   },
   {
    "duration": 28,
    "start_time": "2024-07-15T18:09:09.912Z"
   },
   {
    "duration": 10,
    "start_time": "2024-07-15T18:09:09.941Z"
   },
   {
    "duration": 4,
    "start_time": "2024-07-15T18:09:09.953Z"
   },
   {
    "duration": 27,
    "start_time": "2024-07-15T18:09:09.958Z"
   },
   {
    "duration": 35,
    "start_time": "2024-07-15T18:09:09.987Z"
   },
   {
    "duration": 114,
    "start_time": "2024-07-15T18:09:10.024Z"
   },
   {
    "duration": 27,
    "start_time": "2024-07-15T18:09:10.140Z"
   },
   {
    "duration": 22,
    "start_time": "2024-07-15T18:09:10.169Z"
   },
   {
    "duration": 20,
    "start_time": "2024-07-15T18:09:10.193Z"
   },
   {
    "duration": 40,
    "start_time": "2024-07-15T18:09:10.215Z"
   },
   {
    "duration": 248,
    "start_time": "2024-07-15T18:09:10.256Z"
   },
   {
    "duration": 171,
    "start_time": "2024-07-15T18:09:10.506Z"
   },
   {
    "duration": 2,
    "start_time": "2024-07-15T18:09:10.678Z"
   },
   {
    "duration": 21,
    "start_time": "2024-07-15T18:09:10.682Z"
   },
   {
    "duration": 166,
    "start_time": "2024-07-15T18:09:10.706Z"
   },
   {
    "duration": 6,
    "start_time": "2024-07-15T18:09:10.874Z"
   },
   {
    "duration": 28,
    "start_time": "2024-07-15T18:09:10.882Z"
   },
   {
    "duration": 6,
    "start_time": "2024-07-15T18:09:10.912Z"
   },
   {
    "duration": 10,
    "start_time": "2024-07-15T18:09:10.919Z"
   },
   {
    "duration": 8,
    "start_time": "2024-07-15T18:09:10.930Z"
   },
   {
    "duration": 30,
    "start_time": "2024-07-15T18:09:10.939Z"
   },
   {
    "duration": 156,
    "start_time": "2024-07-15T18:09:10.971Z"
   },
   {
    "duration": 13,
    "start_time": "2024-07-15T18:09:11.129Z"
   },
   {
    "duration": 17,
    "start_time": "2024-07-15T18:09:11.144Z"
   },
   {
    "duration": 9,
    "start_time": "2024-07-15T18:09:11.162Z"
   },
   {
    "duration": 273,
    "start_time": "2024-07-15T18:09:11.172Z"
   },
   {
    "duration": 11,
    "start_time": "2024-07-15T18:09:11.447Z"
   },
   {
    "duration": 12,
    "start_time": "2024-07-15T18:09:11.459Z"
   },
   {
    "duration": 12,
    "start_time": "2024-07-15T18:09:11.473Z"
   },
   {
    "duration": 5,
    "start_time": "2024-07-15T18:09:11.486Z"
   },
   {
    "duration": 8,
    "start_time": "2024-07-15T18:09:11.492Z"
   },
   {
    "duration": 5768,
    "start_time": "2024-07-15T18:09:11.502Z"
   },
   {
    "duration": 10,
    "start_time": "2024-07-15T18:09:17.271Z"
   },
   {
    "duration": 4928,
    "start_time": "2024-07-15T18:10:29.642Z"
   },
   {
    "duration": 7603,
    "start_time": "2024-07-15T18:10:41.178Z"
   },
   {
    "duration": 1712,
    "start_time": "2024-07-15T18:10:48.783Z"
   },
   {
    "duration": 3,
    "start_time": "2024-07-15T18:10:50.496Z"
   },
   {
    "duration": 8,
    "start_time": "2024-07-15T18:10:50.500Z"
   },
   {
    "duration": 218,
    "start_time": "2024-07-15T18:10:50.511Z"
   },
   {
    "duration": 34,
    "start_time": "2024-07-15T18:10:50.730Z"
   },
   {
    "duration": 100,
    "start_time": "2024-07-15T18:10:50.766Z"
   },
   {
    "duration": 34,
    "start_time": "2024-07-15T18:10:50.868Z"
   },
   {
    "duration": 48,
    "start_time": "2024-07-15T18:10:50.904Z"
   },
   {
    "duration": 24,
    "start_time": "2024-07-15T18:10:50.954Z"
   },
   {
    "duration": 76,
    "start_time": "2024-07-15T18:10:50.980Z"
   },
   {
    "duration": 25,
    "start_time": "2024-07-15T18:10:51.057Z"
   },
   {
    "duration": 4,
    "start_time": "2024-07-15T18:10:51.084Z"
   },
   {
    "duration": 28,
    "start_time": "2024-07-15T18:10:51.091Z"
   },
   {
    "duration": 23,
    "start_time": "2024-07-15T18:10:51.120Z"
   },
   {
    "duration": 8,
    "start_time": "2024-07-15T18:10:51.145Z"
   },
   {
    "duration": 43,
    "start_time": "2024-07-15T18:10:51.155Z"
   },
   {
    "duration": 38,
    "start_time": "2024-07-15T18:10:51.200Z"
   },
   {
    "duration": 30,
    "start_time": "2024-07-15T18:10:51.240Z"
   },
   {
    "duration": 49,
    "start_time": "2024-07-15T18:10:51.272Z"
   },
   {
    "duration": 21,
    "start_time": "2024-07-15T18:10:51.322Z"
   },
   {
    "duration": 22,
    "start_time": "2024-07-15T18:10:51.345Z"
   },
   {
    "duration": 16,
    "start_time": "2024-07-15T18:10:51.369Z"
   },
   {
    "duration": 202,
    "start_time": "2024-07-15T18:10:51.387Z"
   },
   {
    "duration": 173,
    "start_time": "2024-07-15T18:10:51.590Z"
   },
   {
    "duration": 3,
    "start_time": "2024-07-15T18:10:51.764Z"
   },
   {
    "duration": 23,
    "start_time": "2024-07-15T18:10:51.768Z"
   },
   {
    "duration": 159,
    "start_time": "2024-07-15T18:10:51.792Z"
   },
   {
    "duration": 6,
    "start_time": "2024-07-15T18:10:51.953Z"
   },
   {
    "duration": 37,
    "start_time": "2024-07-15T18:10:51.961Z"
   },
   {
    "duration": 121,
    "start_time": "2024-07-15T18:10:52.000Z"
   },
   {
    "duration": 13,
    "start_time": "2024-07-15T18:10:52.123Z"
   },
   {
    "duration": 23,
    "start_time": "2024-07-15T18:10:52.137Z"
   },
   {
    "duration": 35,
    "start_time": "2024-07-15T18:10:52.162Z"
   },
   {
    "duration": 159,
    "start_time": "2024-07-15T18:10:52.199Z"
   },
   {
    "duration": 8,
    "start_time": "2024-07-15T18:10:52.360Z"
   },
   {
    "duration": 25,
    "start_time": "2024-07-15T18:10:52.370Z"
   },
   {
    "duration": 36,
    "start_time": "2024-07-15T18:10:52.396Z"
   },
   {
    "duration": 260,
    "start_time": "2024-07-15T18:10:52.433Z"
   },
   {
    "duration": 8,
    "start_time": "2024-07-15T18:10:52.695Z"
   },
   {
    "duration": 25,
    "start_time": "2024-07-15T18:10:52.707Z"
   },
   {
    "duration": 24,
    "start_time": "2024-07-15T18:10:52.734Z"
   },
   {
    "duration": 11,
    "start_time": "2024-07-15T18:10:52.759Z"
   },
   {
    "duration": 23,
    "start_time": "2024-07-15T18:10:52.771Z"
   },
   {
    "duration": 5278,
    "start_time": "2024-07-15T18:10:52.795Z"
   },
   {
    "duration": 14,
    "start_time": "2024-07-15T18:11:06.167Z"
   },
   {
    "duration": 12,
    "start_time": "2024-07-15T18:12:08.264Z"
   },
   {
    "duration": 11,
    "start_time": "2024-07-15T18:12:32.617Z"
   },
   {
    "duration": 11,
    "start_time": "2024-07-15T18:12:44.576Z"
   },
   {
    "duration": 7881,
    "start_time": "2024-07-15T18:15:12.212Z"
   },
   {
    "duration": 1759,
    "start_time": "2024-07-15T18:15:20.096Z"
   },
   {
    "duration": 5,
    "start_time": "2024-07-15T18:15:21.856Z"
   },
   {
    "duration": 8,
    "start_time": "2024-07-15T18:15:21.863Z"
   },
   {
    "duration": 251,
    "start_time": "2024-07-15T18:15:21.873Z"
   },
   {
    "duration": 42,
    "start_time": "2024-07-15T18:15:22.126Z"
   },
   {
    "duration": 101,
    "start_time": "2024-07-15T18:15:22.170Z"
   },
   {
    "duration": 37,
    "start_time": "2024-07-15T18:15:22.273Z"
   },
   {
    "duration": 46,
    "start_time": "2024-07-15T18:15:22.313Z"
   },
   {
    "duration": 34,
    "start_time": "2024-07-15T18:15:22.361Z"
   },
   {
    "duration": 80,
    "start_time": "2024-07-15T18:15:22.397Z"
   },
   {
    "duration": 25,
    "start_time": "2024-07-15T18:15:22.479Z"
   },
   {
    "duration": 32,
    "start_time": "2024-07-15T18:15:22.506Z"
   },
   {
    "duration": 4,
    "start_time": "2024-07-15T18:15:22.541Z"
   },
   {
    "duration": 5,
    "start_time": "2024-07-15T18:15:22.547Z"
   },
   {
    "duration": 5,
    "start_time": "2024-07-15T18:15:22.554Z"
   },
   {
    "duration": 6,
    "start_time": "2024-07-15T18:15:22.560Z"
   },
   {
    "duration": 6,
    "start_time": "2024-07-15T18:15:22.568Z"
   },
   {
    "duration": 6,
    "start_time": "2024-07-15T18:15:22.575Z"
   },
   {
    "duration": 74,
    "start_time": "2024-07-15T18:15:22.583Z"
   },
   {
    "duration": 33,
    "start_time": "2024-07-15T18:15:22.659Z"
   },
   {
    "duration": 47,
    "start_time": "2024-07-15T18:15:22.694Z"
   },
   {
    "duration": 26,
    "start_time": "2024-07-15T18:15:22.743Z"
   },
   {
    "duration": 200,
    "start_time": "2024-07-15T18:15:22.771Z"
   },
   {
    "duration": 174,
    "start_time": "2024-07-15T18:15:22.973Z"
   },
   {
    "duration": 3,
    "start_time": "2024-07-15T18:15:23.148Z"
   },
   {
    "duration": 12,
    "start_time": "2024-07-15T18:15:23.153Z"
   },
   {
    "duration": 203,
    "start_time": "2024-07-15T18:15:23.167Z"
   },
   {
    "duration": 6,
    "start_time": "2024-07-15T18:15:23.371Z"
   },
   {
    "duration": 5,
    "start_time": "2024-07-15T18:15:23.379Z"
   },
   {
    "duration": 4,
    "start_time": "2024-07-15T18:15:23.386Z"
   },
   {
    "duration": 14,
    "start_time": "2024-07-15T18:15:23.392Z"
   },
   {
    "duration": 32,
    "start_time": "2024-07-15T18:15:23.407Z"
   },
   {
    "duration": 10,
    "start_time": "2024-07-15T18:15:23.440Z"
   },
   {
    "duration": 237,
    "start_time": "2024-07-15T18:15:23.452Z"
   },
   {
    "duration": 10,
    "start_time": "2024-07-15T18:15:23.691Z"
   },
   {
    "duration": 20,
    "start_time": "2024-07-15T18:15:23.702Z"
   },
   {
    "duration": 14,
    "start_time": "2024-07-15T18:15:23.724Z"
   },
   {
    "duration": 251,
    "start_time": "2024-07-15T18:15:23.740Z"
   },
   {
    "duration": 9,
    "start_time": "2024-07-15T18:15:23.992Z"
   },
   {
    "duration": 33,
    "start_time": "2024-07-15T18:15:24.005Z"
   },
   {
    "duration": 10,
    "start_time": "2024-07-15T18:15:24.040Z"
   },
   {
    "duration": 87,
    "start_time": "2024-07-15T18:15:24.051Z"
   },
   {
    "duration": 4,
    "start_time": "2024-07-15T18:15:24.139Z"
   },
   {
    "duration": 4060,
    "start_time": "2024-07-15T18:15:24.144Z"
   },
   {
    "duration": 13,
    "start_time": "2024-07-15T18:15:28.206Z"
   },
   {
    "duration": 7687,
    "start_time": "2024-07-15T18:28:46.386Z"
   },
   {
    "duration": 1746,
    "start_time": "2024-07-15T18:28:54.075Z"
   },
   {
    "duration": 3,
    "start_time": "2024-07-15T18:28:55.823Z"
   },
   {
    "duration": 11,
    "start_time": "2024-07-15T18:28:55.828Z"
   },
   {
    "duration": 224,
    "start_time": "2024-07-15T18:28:55.840Z"
   },
   {
    "duration": 35,
    "start_time": "2024-07-15T18:28:56.066Z"
   },
   {
    "duration": 98,
    "start_time": "2024-07-15T18:28:56.103Z"
   },
   {
    "duration": 53,
    "start_time": "2024-07-15T18:28:56.202Z"
   },
   {
    "duration": 60,
    "start_time": "2024-07-15T18:28:56.256Z"
   },
   {
    "duration": 70,
    "start_time": "2024-07-15T18:28:56.318Z"
   },
   {
    "duration": 57,
    "start_time": "2024-07-15T18:28:56.390Z"
   },
   {
    "duration": 32,
    "start_time": "2024-07-15T18:28:56.448Z"
   },
   {
    "duration": 4,
    "start_time": "2024-07-15T18:28:56.481Z"
   },
   {
    "duration": 5,
    "start_time": "2024-07-15T18:28:56.487Z"
   },
   {
    "duration": 5,
    "start_time": "2024-07-15T18:28:56.494Z"
   },
   {
    "duration": 4,
    "start_time": "2024-07-15T18:28:56.501Z"
   },
   {
    "duration": 35,
    "start_time": "2024-07-15T18:28:56.506Z"
   },
   {
    "duration": 29,
    "start_time": "2024-07-15T18:28:56.543Z"
   },
   {
    "duration": 7,
    "start_time": "2024-07-15T18:28:56.574Z"
   },
   {
    "duration": 24,
    "start_time": "2024-07-15T18:28:56.582Z"
   },
   {
    "duration": 22,
    "start_time": "2024-07-15T18:28:56.608Z"
   },
   {
    "duration": 19,
    "start_time": "2024-07-15T18:28:56.637Z"
   },
   {
    "duration": 17,
    "start_time": "2024-07-15T18:28:56.657Z"
   },
   {
    "duration": 194,
    "start_time": "2024-07-15T18:28:56.675Z"
   },
   {
    "duration": 180,
    "start_time": "2024-07-15T18:28:56.871Z"
   },
   {
    "duration": 3,
    "start_time": "2024-07-15T18:28:57.052Z"
   },
   {
    "duration": 17,
    "start_time": "2024-07-15T18:28:57.056Z"
   },
   {
    "duration": 163,
    "start_time": "2024-07-15T18:28:57.076Z"
   },
   {
    "duration": 7,
    "start_time": "2024-07-15T18:28:57.240Z"
   },
   {
    "duration": 36,
    "start_time": "2024-07-15T18:28:57.248Z"
   },
   {
    "duration": 4,
    "start_time": "2024-07-15T18:28:57.286Z"
   },
   {
    "duration": 13,
    "start_time": "2024-07-15T18:28:57.292Z"
   },
   {
    "duration": 10,
    "start_time": "2024-07-15T18:28:57.307Z"
   },
   {
    "duration": 17,
    "start_time": "2024-07-15T18:28:57.319Z"
   },
   {
    "duration": 162,
    "start_time": "2024-07-15T18:28:57.338Z"
   },
   {
    "duration": 8,
    "start_time": "2024-07-15T18:28:57.501Z"
   },
   {
    "duration": 28,
    "start_time": "2024-07-15T18:28:57.511Z"
   },
   {
    "duration": 3,
    "start_time": "2024-07-15T18:28:57.540Z"
   },
   {
    "duration": 272,
    "start_time": "2024-07-15T18:28:57.544Z"
   },
   {
    "duration": 9,
    "start_time": "2024-07-15T18:28:57.817Z"
   },
   {
    "duration": 12,
    "start_time": "2024-07-15T18:28:57.838Z"
   },
   {
    "duration": 10,
    "start_time": "2024-07-15T18:28:57.852Z"
   },
   {
    "duration": 2396,
    "start_time": "2024-07-15T18:28:57.864Z"
   },
   {
    "duration": 10,
    "start_time": "2024-07-15T18:29:00.261Z"
   },
   {
    "duration": 149,
    "start_time": "2024-07-15T18:32:28.908Z"
   },
   {
    "duration": 1121,
    "start_time": "2024-07-15T18:33:49.559Z"
   },
   {
    "duration": 7756,
    "start_time": "2024-07-15T18:35:31.344Z"
   },
   {
    "duration": 1724,
    "start_time": "2024-07-15T18:35:39.103Z"
   },
   {
    "duration": 3,
    "start_time": "2024-07-15T18:35:40.829Z"
   },
   {
    "duration": 9,
    "start_time": "2024-07-15T18:35:40.833Z"
   },
   {
    "duration": 215,
    "start_time": "2024-07-15T18:35:40.844Z"
   },
   {
    "duration": 33,
    "start_time": "2024-07-15T18:35:41.061Z"
   },
   {
    "duration": 74,
    "start_time": "2024-07-15T18:35:41.095Z"
   },
   {
    "duration": 30,
    "start_time": "2024-07-15T18:35:41.171Z"
   },
   {
    "duration": 44,
    "start_time": "2024-07-15T18:35:41.202Z"
   },
   {
    "duration": 26,
    "start_time": "2024-07-15T18:35:41.247Z"
   },
   {
    "duration": 77,
    "start_time": "2024-07-15T18:35:41.275Z"
   },
   {
    "duration": 27,
    "start_time": "2024-07-15T18:35:41.353Z"
   },
   {
    "duration": 31,
    "start_time": "2024-07-15T18:35:41.381Z"
   },
   {
    "duration": 18,
    "start_time": "2024-07-15T18:35:41.415Z"
   },
   {
    "duration": 7,
    "start_time": "2024-07-15T18:35:41.434Z"
   },
   {
    "duration": 4,
    "start_time": "2024-07-15T18:35:41.443Z"
   },
   {
    "duration": 5,
    "start_time": "2024-07-15T18:35:41.449Z"
   },
   {
    "duration": 31,
    "start_time": "2024-07-15T18:35:41.456Z"
   },
   {
    "duration": 13,
    "start_time": "2024-07-15T18:35:41.489Z"
   },
   {
    "duration": 39,
    "start_time": "2024-07-15T18:35:41.504Z"
   },
   {
    "duration": 24,
    "start_time": "2024-07-15T18:35:41.544Z"
   },
   {
    "duration": 19,
    "start_time": "2024-07-15T18:35:41.570Z"
   },
   {
    "duration": 50,
    "start_time": "2024-07-15T18:35:41.590Z"
   },
   {
    "duration": 205,
    "start_time": "2024-07-15T18:35:41.642Z"
   },
   {
    "duration": 172,
    "start_time": "2024-07-15T18:35:41.849Z"
   },
   {
    "duration": 3,
    "start_time": "2024-07-15T18:35:42.023Z"
   },
   {
    "duration": 20,
    "start_time": "2024-07-15T18:35:42.027Z"
   },
   {
    "duration": 165,
    "start_time": "2024-07-15T18:35:42.049Z"
   },
   {
    "duration": 6,
    "start_time": "2024-07-15T18:35:42.215Z"
   },
   {
    "duration": 37,
    "start_time": "2024-07-15T18:35:42.222Z"
   },
   {
    "duration": 5,
    "start_time": "2024-07-15T18:35:42.261Z"
   },
   {
    "duration": 15,
    "start_time": "2024-07-15T18:35:42.267Z"
   },
   {
    "duration": 10,
    "start_time": "2024-07-15T18:35:42.284Z"
   },
   {
    "duration": 12,
    "start_time": "2024-07-15T18:35:42.296Z"
   },
   {
    "duration": 151,
    "start_time": "2024-07-15T18:35:42.309Z"
   },
   {
    "duration": 8,
    "start_time": "2024-07-15T18:35:42.462Z"
   },
   {
    "duration": 20,
    "start_time": "2024-07-15T18:35:42.472Z"
   },
   {
    "duration": 7,
    "start_time": "2024-07-15T18:35:42.494Z"
   },
   {
    "duration": 244,
    "start_time": "2024-07-15T18:35:42.503Z"
   },
   {
    "duration": 9,
    "start_time": "2024-07-15T18:35:42.749Z"
   },
   {
    "duration": 12,
    "start_time": "2024-07-15T18:35:42.761Z"
   },
   {
    "duration": 23,
    "start_time": "2024-07-15T18:35:42.774Z"
   },
   {
    "duration": 2496,
    "start_time": "2024-07-15T18:35:42.798Z"
   },
   {
    "duration": 10,
    "start_time": "2024-07-15T18:35:45.295Z"
   },
   {
    "duration": 169,
    "start_time": "2024-07-15T18:35:45.306Z"
   },
   {
    "duration": 7911,
    "start_time": "2024-07-15T18:37:24.111Z"
   },
   {
    "duration": 1780,
    "start_time": "2024-07-15T18:37:32.024Z"
   },
   {
    "duration": 3,
    "start_time": "2024-07-15T18:37:33.806Z"
   },
   {
    "duration": 5,
    "start_time": "2024-07-15T18:37:33.811Z"
   },
   {
    "duration": 218,
    "start_time": "2024-07-15T18:37:33.817Z"
   },
   {
    "duration": 39,
    "start_time": "2024-07-15T18:37:34.036Z"
   },
   {
    "duration": 94,
    "start_time": "2024-07-15T18:37:34.076Z"
   },
   {
    "duration": 29,
    "start_time": "2024-07-15T18:37:34.171Z"
   },
   {
    "duration": 112,
    "start_time": "2024-07-15T18:37:34.201Z"
   },
   {
    "duration": 35,
    "start_time": "2024-07-15T18:37:34.315Z"
   },
   {
    "duration": 49,
    "start_time": "2024-07-15T18:37:34.352Z"
   },
   {
    "duration": 65,
    "start_time": "2024-07-15T18:37:34.403Z"
   },
   {
    "duration": 4,
    "start_time": "2024-07-15T18:37:34.469Z"
   },
   {
    "duration": 17,
    "start_time": "2024-07-15T18:37:34.474Z"
   },
   {
    "duration": 4,
    "start_time": "2024-07-15T18:37:34.493Z"
   },
   {
    "duration": 3,
    "start_time": "2024-07-15T18:37:34.499Z"
   },
   {
    "duration": 5,
    "start_time": "2024-07-15T18:37:34.504Z"
   },
   {
    "duration": 6,
    "start_time": "2024-07-15T18:37:34.510Z"
   },
   {
    "duration": 5,
    "start_time": "2024-07-15T18:37:34.518Z"
   },
   {
    "duration": 47,
    "start_time": "2024-07-15T18:37:34.524Z"
   },
   {
    "duration": 22,
    "start_time": "2024-07-15T18:37:34.573Z"
   },
   {
    "duration": 19,
    "start_time": "2024-07-15T18:37:34.597Z"
   },
   {
    "duration": 43,
    "start_time": "2024-07-15T18:37:34.618Z"
   },
   {
    "duration": 208,
    "start_time": "2024-07-15T18:37:34.663Z"
   },
   {
    "duration": 195,
    "start_time": "2024-07-15T18:37:34.873Z"
   },
   {
    "duration": 3,
    "start_time": "2024-07-15T18:37:35.069Z"
   },
   {
    "duration": 47,
    "start_time": "2024-07-15T18:37:35.073Z"
   },
   {
    "duration": 226,
    "start_time": "2024-07-15T18:37:35.123Z"
   },
   {
    "duration": 7,
    "start_time": "2024-07-15T18:37:35.352Z"
   },
   {
    "duration": 51,
    "start_time": "2024-07-15T18:37:35.360Z"
   },
   {
    "duration": 5,
    "start_time": "2024-07-15T18:37:35.413Z"
   },
   {
    "duration": 12,
    "start_time": "2024-07-15T18:37:35.419Z"
   },
   {
    "duration": 18,
    "start_time": "2024-07-15T18:37:35.432Z"
   },
   {
    "duration": 10,
    "start_time": "2024-07-15T18:37:35.452Z"
   },
   {
    "duration": 157,
    "start_time": "2024-07-15T18:37:35.464Z"
   },
   {
    "duration": 16,
    "start_time": "2024-07-15T18:37:35.623Z"
   },
   {
    "duration": 16,
    "start_time": "2024-07-15T18:37:35.641Z"
   },
   {
    "duration": 2,
    "start_time": "2024-07-15T18:37:35.659Z"
   },
   {
    "duration": 257,
    "start_time": "2024-07-15T18:37:35.663Z"
   },
   {
    "duration": 20,
    "start_time": "2024-07-15T18:37:35.922Z"
   },
   {
    "duration": 15,
    "start_time": "2024-07-15T18:37:35.944Z"
   },
   {
    "duration": 9,
    "start_time": "2024-07-15T18:37:35.960Z"
   },
   {
    "duration": 2551,
    "start_time": "2024-07-15T18:37:35.970Z"
   },
   {
    "duration": 14,
    "start_time": "2024-07-15T18:37:38.523Z"
   },
   {
    "duration": 15,
    "start_time": "2024-07-15T18:37:38.539Z"
   },
   {
    "duration": 10,
    "start_time": "2024-07-15T18:38:04.243Z"
   },
   {
    "duration": 16,
    "start_time": "2024-07-15T18:49:17.994Z"
   },
   {
    "duration": 10,
    "start_time": "2024-07-15T18:49:37.070Z"
   },
   {
    "duration": 4,
    "start_time": "2024-07-15T18:49:39.317Z"
   },
   {
    "duration": 21,
    "start_time": "2024-07-15T18:50:11.430Z"
   },
   {
    "duration": 7,
    "start_time": "2024-07-15T18:50:13.414Z"
   },
   {
    "duration": 76,
    "start_time": "2024-07-15T18:56:10.118Z"
   },
   {
    "duration": 7683,
    "start_time": "2024-07-15T18:56:29.690Z"
   },
   {
    "duration": 1752,
    "start_time": "2024-07-15T18:56:37.375Z"
   },
   {
    "duration": 8,
    "start_time": "2024-07-15T18:56:39.129Z"
   },
   {
    "duration": 6,
    "start_time": "2024-07-15T18:56:39.139Z"
   },
   {
    "duration": 219,
    "start_time": "2024-07-15T18:56:39.147Z"
   },
   {
    "duration": 34,
    "start_time": "2024-07-15T18:56:39.368Z"
   },
   {
    "duration": 85,
    "start_time": "2024-07-15T18:56:39.404Z"
   },
   {
    "duration": 47,
    "start_time": "2024-07-15T18:56:39.499Z"
   },
   {
    "duration": 32,
    "start_time": "2024-07-15T18:56:39.548Z"
   },
   {
    "duration": 57,
    "start_time": "2024-07-15T18:56:39.583Z"
   },
   {
    "duration": 56,
    "start_time": "2024-07-15T18:56:39.642Z"
   },
   {
    "duration": 61,
    "start_time": "2024-07-15T18:56:39.700Z"
   },
   {
    "duration": 5,
    "start_time": "2024-07-15T18:56:39.763Z"
   },
   {
    "duration": 5,
    "start_time": "2024-07-15T18:56:39.770Z"
   },
   {
    "duration": 5,
    "start_time": "2024-07-15T18:56:39.777Z"
   },
   {
    "duration": 4,
    "start_time": "2024-07-15T18:56:39.784Z"
   },
   {
    "duration": 6,
    "start_time": "2024-07-15T18:56:39.790Z"
   },
   {
    "duration": 6,
    "start_time": "2024-07-15T18:56:39.798Z"
   },
   {
    "duration": 4,
    "start_time": "2024-07-15T18:56:39.837Z"
   },
   {
    "duration": 34,
    "start_time": "2024-07-15T18:56:39.842Z"
   },
   {
    "duration": 35,
    "start_time": "2024-07-15T18:56:39.878Z"
   },
   {
    "duration": 27,
    "start_time": "2024-07-15T18:56:39.915Z"
   },
   {
    "duration": 18,
    "start_time": "2024-07-15T18:56:39.944Z"
   },
   {
    "duration": 232,
    "start_time": "2024-07-15T18:56:39.964Z"
   },
   {
    "duration": 195,
    "start_time": "2024-07-15T18:56:40.197Z"
   },
   {
    "duration": 3,
    "start_time": "2024-07-15T18:56:40.393Z"
   },
   {
    "duration": 62,
    "start_time": "2024-07-15T18:56:40.398Z"
   },
   {
    "duration": 154,
    "start_time": "2024-07-15T18:56:40.464Z"
   },
   {
    "duration": 6,
    "start_time": "2024-07-15T18:56:40.620Z"
   },
   {
    "duration": 5,
    "start_time": "2024-07-15T18:56:40.636Z"
   },
   {
    "duration": 3,
    "start_time": "2024-07-15T18:56:40.643Z"
   },
   {
    "duration": 11,
    "start_time": "2024-07-15T18:56:40.647Z"
   },
   {
    "duration": 8,
    "start_time": "2024-07-15T18:56:40.660Z"
   },
   {
    "duration": 74,
    "start_time": "2024-07-15T18:56:40.669Z"
   },
   {
    "duration": 170,
    "start_time": "2024-07-15T18:56:40.744Z"
   },
   {
    "duration": 8,
    "start_time": "2024-07-15T18:56:40.916Z"
   },
   {
    "duration": 23,
    "start_time": "2024-07-15T18:56:40.925Z"
   },
   {
    "duration": 2,
    "start_time": "2024-07-15T18:56:40.950Z"
   },
   {
    "duration": 235,
    "start_time": "2024-07-15T18:56:40.953Z"
   },
   {
    "duration": 8,
    "start_time": "2024-07-15T18:56:41.190Z"
   },
   {
    "duration": 12,
    "start_time": "2024-07-15T18:56:41.199Z"
   },
   {
    "duration": 29,
    "start_time": "2024-07-15T18:56:41.212Z"
   },
   {
    "duration": 2385,
    "start_time": "2024-07-15T18:56:41.242Z"
   },
   {
    "duration": 9,
    "start_time": "2024-07-15T18:56:43.629Z"
   },
   {
    "duration": 19,
    "start_time": "2024-07-15T18:56:43.640Z"
   },
   {
    "duration": 25,
    "start_time": "2024-07-15T18:56:43.660Z"
   },
   {
    "duration": 18,
    "start_time": "2024-07-15T18:56:43.687Z"
   },
   {
    "duration": 16,
    "start_time": "2024-07-15T18:56:43.707Z"
   },
   {
    "duration": 28,
    "start_time": "2024-07-15T18:56:43.725Z"
   },
   {
    "duration": 8,
    "start_time": "2024-07-15T18:56:43.755Z"
   },
   {
    "duration": 31,
    "start_time": "2024-07-15T18:56:43.764Z"
   },
   {
    "duration": 11,
    "start_time": "2024-07-15T18:56:43.797Z"
   },
   {
    "duration": 54,
    "start_time": "2024-07-15T18:56:43.809Z"
   },
   {
    "duration": 21,
    "start_time": "2024-07-15T18:56:43.864Z"
   },
   {
    "duration": 16,
    "start_time": "2024-07-15T18:56:43.886Z"
   },
   {
    "duration": 51,
    "start_time": "2024-07-15T18:56:43.903Z"
   },
   {
    "duration": 3,
    "start_time": "2024-07-15T18:56:43.955Z"
   },
   {
    "duration": 88,
    "start_time": "2024-07-15T18:56:43.959Z"
   },
   {
    "duration": 9892,
    "start_time": "2024-07-15T18:56:44.048Z"
   },
   {
    "duration": 41,
    "start_time": "2024-07-15T19:13:02.738Z"
   },
   {
    "duration": 42,
    "start_time": "2024-07-15T19:13:18.936Z"
   },
   {
    "duration": 43,
    "start_time": "2024-07-15T19:13:53.864Z"
   },
   {
    "duration": 7678,
    "start_time": "2024-07-15T19:15:26.216Z"
   },
   {
    "duration": 1687,
    "start_time": "2024-07-15T19:15:33.897Z"
   },
   {
    "duration": 3,
    "start_time": "2024-07-15T19:15:35.586Z"
   },
   {
    "duration": 10,
    "start_time": "2024-07-15T19:15:35.592Z"
   },
   {
    "duration": 229,
    "start_time": "2024-07-15T19:15:35.604Z"
   },
   {
    "duration": 36,
    "start_time": "2024-07-15T19:15:35.835Z"
   },
   {
    "duration": 86,
    "start_time": "2024-07-15T19:15:35.873Z"
   },
   {
    "duration": 35,
    "start_time": "2024-07-15T19:15:35.961Z"
   },
   {
    "duration": 52,
    "start_time": "2024-07-15T19:15:35.998Z"
   },
   {
    "duration": 27,
    "start_time": "2024-07-15T19:15:36.052Z"
   },
   {
    "duration": 78,
    "start_time": "2024-07-15T19:15:36.081Z"
   },
   {
    "duration": 28,
    "start_time": "2024-07-15T19:15:36.160Z"
   },
   {
    "duration": 5,
    "start_time": "2024-07-15T19:15:36.189Z"
   },
   {
    "duration": 7,
    "start_time": "2024-07-15T19:15:36.195Z"
   },
   {
    "duration": 34,
    "start_time": "2024-07-15T19:15:36.204Z"
   },
   {
    "duration": 5,
    "start_time": "2024-07-15T19:15:36.241Z"
   },
   {
    "duration": 6,
    "start_time": "2024-07-15T19:15:36.248Z"
   },
   {
    "duration": 10,
    "start_time": "2024-07-15T19:15:36.256Z"
   },
   {
    "duration": 9,
    "start_time": "2024-07-15T19:15:36.269Z"
   },
   {
    "duration": 36,
    "start_time": "2024-07-15T19:15:36.279Z"
   },
   {
    "duration": 39,
    "start_time": "2024-07-15T19:15:36.316Z"
   },
   {
    "duration": 30,
    "start_time": "2024-07-15T19:15:36.357Z"
   },
   {
    "duration": 68,
    "start_time": "2024-07-15T19:15:36.389Z"
   },
   {
    "duration": 200,
    "start_time": "2024-07-15T19:15:36.460Z"
   },
   {
    "duration": 169,
    "start_time": "2024-07-15T19:15:36.661Z"
   },
   {
    "duration": 7,
    "start_time": "2024-07-15T19:15:36.831Z"
   },
   {
    "duration": 23,
    "start_time": "2024-07-15T19:15:36.839Z"
   },
   {
    "duration": 171,
    "start_time": "2024-07-15T19:15:36.865Z"
   },
   {
    "duration": 6,
    "start_time": "2024-07-15T19:15:37.037Z"
   },
   {
    "duration": 11,
    "start_time": "2024-07-15T19:15:37.044Z"
   },
   {
    "duration": 23,
    "start_time": "2024-07-15T19:15:37.057Z"
   },
   {
    "duration": 11,
    "start_time": "2024-07-15T19:15:37.082Z"
   },
   {
    "duration": 9,
    "start_time": "2024-07-15T19:15:37.094Z"
   },
   {
    "duration": 10,
    "start_time": "2024-07-15T19:15:37.104Z"
   },
   {
    "duration": 154,
    "start_time": "2024-07-15T19:15:37.116Z"
   },
   {
    "duration": 9,
    "start_time": "2024-07-15T19:15:37.271Z"
   },
   {
    "duration": 21,
    "start_time": "2024-07-15T19:15:37.281Z"
   },
   {
    "duration": 2,
    "start_time": "2024-07-15T19:15:37.304Z"
   },
   {
    "duration": 270,
    "start_time": "2024-07-15T19:15:37.308Z"
   },
   {
    "duration": 12,
    "start_time": "2024-07-15T19:15:37.579Z"
   },
   {
    "duration": 16,
    "start_time": "2024-07-15T19:15:37.593Z"
   },
   {
    "duration": 33,
    "start_time": "2024-07-15T19:15:37.611Z"
   },
   {
    "duration": 2424,
    "start_time": "2024-07-15T19:15:37.646Z"
   },
   {
    "duration": 11,
    "start_time": "2024-07-15T19:15:40.072Z"
   },
   {
    "duration": 18,
    "start_time": "2024-07-15T19:15:40.085Z"
   },
   {
    "duration": 8,
    "start_time": "2024-07-15T19:15:40.105Z"
   },
   {
    "duration": 24,
    "start_time": "2024-07-15T19:15:40.115Z"
   },
   {
    "duration": 6,
    "start_time": "2024-07-15T19:15:40.141Z"
   },
   {
    "duration": 18,
    "start_time": "2024-07-15T19:15:40.149Z"
   },
   {
    "duration": 5,
    "start_time": "2024-07-15T19:15:40.169Z"
   },
   {
    "duration": 32,
    "start_time": "2024-07-15T19:15:40.175Z"
   },
   {
    "duration": 36,
    "start_time": "2024-07-15T19:15:40.209Z"
   },
   {
    "duration": 45,
    "start_time": "2024-07-15T19:15:40.247Z"
   },
   {
    "duration": 20,
    "start_time": "2024-07-15T19:15:40.294Z"
   },
   {
    "duration": 29,
    "start_time": "2024-07-15T19:15:40.316Z"
   },
   {
    "duration": 35,
    "start_time": "2024-07-15T19:15:40.347Z"
   },
   {
    "duration": 2,
    "start_time": "2024-07-15T19:15:40.383Z"
   },
   {
    "duration": 206,
    "start_time": "2024-07-15T19:15:40.387Z"
   },
   {
    "duration": 7764,
    "start_time": "2024-07-15T19:20:42.005Z"
   },
   {
    "duration": 1730,
    "start_time": "2024-07-15T19:20:49.771Z"
   },
   {
    "duration": 3,
    "start_time": "2024-07-15T19:20:51.503Z"
   },
   {
    "duration": 15,
    "start_time": "2024-07-15T19:20:51.508Z"
   },
   {
    "duration": 242,
    "start_time": "2024-07-15T19:20:51.524Z"
   },
   {
    "duration": 40,
    "start_time": "2024-07-15T19:20:51.768Z"
   },
   {
    "duration": 82,
    "start_time": "2024-07-15T19:20:51.810Z"
   },
   {
    "duration": 52,
    "start_time": "2024-07-15T19:20:51.893Z"
   },
   {
    "duration": 25,
    "start_time": "2024-07-15T19:20:51.946Z"
   },
   {
    "duration": 25,
    "start_time": "2024-07-15T19:20:51.974Z"
   },
   {
    "duration": 83,
    "start_time": "2024-07-15T19:20:52.001Z"
   },
   {
    "duration": 23,
    "start_time": "2024-07-15T19:20:52.086Z"
   },
   {
    "duration": 28,
    "start_time": "2024-07-15T19:20:52.111Z"
   },
   {
    "duration": 6,
    "start_time": "2024-07-15T19:20:52.141Z"
   },
   {
    "duration": 10,
    "start_time": "2024-07-15T19:20:52.149Z"
   },
   {
    "duration": 5,
    "start_time": "2024-07-15T19:20:52.160Z"
   },
   {
    "duration": 8,
    "start_time": "2024-07-15T19:20:52.166Z"
   },
   {
    "duration": 13,
    "start_time": "2024-07-15T19:20:52.176Z"
   },
   {
    "duration": 9,
    "start_time": "2024-07-15T19:20:52.190Z"
   },
   {
    "duration": 42,
    "start_time": "2024-07-15T19:20:52.200Z"
   },
   {
    "duration": 26,
    "start_time": "2024-07-15T19:20:52.243Z"
   },
   {
    "duration": 19,
    "start_time": "2024-07-15T19:20:52.271Z"
   },
   {
    "duration": 16,
    "start_time": "2024-07-15T19:20:52.292Z"
   },
   {
    "duration": 176,
    "start_time": "2024-07-15T19:20:52.337Z"
   },
   {
    "duration": 175,
    "start_time": "2024-07-15T19:20:52.514Z"
   },
   {
    "duration": 3,
    "start_time": "2024-07-15T19:20:52.690Z"
   },
   {
    "duration": 16,
    "start_time": "2024-07-15T19:20:52.695Z"
   },
   {
    "duration": 160,
    "start_time": "2024-07-15T19:20:52.714Z"
   },
   {
    "duration": 5,
    "start_time": "2024-07-15T19:20:52.876Z"
   },
   {
    "duration": 19,
    "start_time": "2024-07-15T19:20:52.882Z"
   },
   {
    "duration": 4,
    "start_time": "2024-07-15T19:20:52.902Z"
   },
   {
    "duration": 9,
    "start_time": "2024-07-15T19:20:52.908Z"
   },
   {
    "duration": 7,
    "start_time": "2024-07-15T19:20:52.919Z"
   },
   {
    "duration": 15,
    "start_time": "2024-07-15T19:20:52.928Z"
   },
   {
    "duration": 155,
    "start_time": "2024-07-15T19:20:52.945Z"
   },
   {
    "duration": 7,
    "start_time": "2024-07-15T19:20:53.101Z"
   },
   {
    "duration": 13,
    "start_time": "2024-07-15T19:20:53.110Z"
   },
   {
    "duration": 2,
    "start_time": "2024-07-15T19:20:53.138Z"
   },
   {
    "duration": 252,
    "start_time": "2024-07-15T19:20:53.141Z"
   },
   {
    "duration": 8,
    "start_time": "2024-07-15T19:20:53.394Z"
   },
   {
    "duration": 12,
    "start_time": "2024-07-15T19:20:53.403Z"
   },
   {
    "duration": 26,
    "start_time": "2024-07-15T19:20:53.416Z"
   },
   {
    "duration": 2375,
    "start_time": "2024-07-15T19:20:53.444Z"
   },
   {
    "duration": 9,
    "start_time": "2024-07-15T19:20:55.820Z"
   },
   {
    "duration": 26,
    "start_time": "2024-07-15T19:20:55.831Z"
   },
   {
    "duration": 12,
    "start_time": "2024-07-15T19:20:55.858Z"
   },
   {
    "duration": 32,
    "start_time": "2024-07-15T19:20:55.871Z"
   },
   {
    "duration": 4,
    "start_time": "2024-07-15T19:20:55.904Z"
   },
   {
    "duration": 14,
    "start_time": "2024-07-15T19:20:55.910Z"
   },
   {
    "duration": 5,
    "start_time": "2024-07-15T19:20:55.926Z"
   },
   {
    "duration": 22,
    "start_time": "2024-07-15T19:20:55.932Z"
   },
   {
    "duration": 12,
    "start_time": "2024-07-15T19:20:55.956Z"
   },
   {
    "duration": 44,
    "start_time": "2024-07-15T19:20:55.969Z"
   },
   {
    "duration": 36,
    "start_time": "2024-07-15T19:20:56.015Z"
   },
   {
    "duration": 16,
    "start_time": "2024-07-15T19:20:56.053Z"
   },
   {
    "duration": 33,
    "start_time": "2024-07-15T19:20:56.071Z"
   },
   {
    "duration": 3,
    "start_time": "2024-07-15T19:20:56.105Z"
   },
   {
    "duration": 18,
    "start_time": "2024-07-15T19:20:56.109Z"
   },
   {
    "duration": 147,
    "start_time": "2024-07-15T19:20:56.137Z"
   },
   {
    "duration": 24,
    "start_time": "2024-07-15T19:21:16.635Z"
   },
   {
    "duration": 14,
    "start_time": "2024-07-15T19:21:22.424Z"
   },
   {
    "duration": 7674,
    "start_time": "2024-07-15T19:22:12.855Z"
   },
   {
    "duration": 1752,
    "start_time": "2024-07-15T19:22:20.531Z"
   },
   {
    "duration": 3,
    "start_time": "2024-07-15T19:22:22.284Z"
   },
   {
    "duration": 11,
    "start_time": "2024-07-15T19:22:22.288Z"
   },
   {
    "duration": 234,
    "start_time": "2024-07-15T19:22:22.300Z"
   },
   {
    "duration": 36,
    "start_time": "2024-07-15T19:22:22.535Z"
   },
   {
    "duration": 85,
    "start_time": "2024-07-15T19:22:22.573Z"
   },
   {
    "duration": 29,
    "start_time": "2024-07-15T19:22:22.659Z"
   },
   {
    "duration": 47,
    "start_time": "2024-07-15T19:22:22.690Z"
   },
   {
    "duration": 25,
    "start_time": "2024-07-15T19:22:22.739Z"
   },
   {
    "duration": 60,
    "start_time": "2024-07-15T19:22:22.766Z"
   },
   {
    "duration": 26,
    "start_time": "2024-07-15T19:22:22.837Z"
   },
   {
    "duration": 4,
    "start_time": "2024-07-15T19:22:22.865Z"
   },
   {
    "duration": 36,
    "start_time": "2024-07-15T19:22:22.871Z"
   },
   {
    "duration": 27,
    "start_time": "2024-07-15T19:22:22.908Z"
   },
   {
    "duration": 6,
    "start_time": "2024-07-15T19:22:22.937Z"
   },
   {
    "duration": 12,
    "start_time": "2024-07-15T19:22:22.945Z"
   },
   {
    "duration": 7,
    "start_time": "2024-07-15T19:22:22.959Z"
   },
   {
    "duration": 49,
    "start_time": "2024-07-15T19:22:22.967Z"
   },
   {
    "duration": 27,
    "start_time": "2024-07-15T19:22:23.018Z"
   },
   {
    "duration": 22,
    "start_time": "2024-07-15T19:22:23.047Z"
   },
   {
    "duration": 34,
    "start_time": "2024-07-15T19:22:23.071Z"
   },
   {
    "duration": 18,
    "start_time": "2024-07-15T19:22:23.107Z"
   },
   {
    "duration": 200,
    "start_time": "2024-07-15T19:22:23.137Z"
   },
   {
    "duration": 187,
    "start_time": "2024-07-15T19:22:23.339Z"
   },
   {
    "duration": 2,
    "start_time": "2024-07-15T19:22:23.528Z"
   },
   {
    "duration": 12,
    "start_time": "2024-07-15T19:22:23.537Z"
   },
   {
    "duration": 161,
    "start_time": "2024-07-15T19:22:23.550Z"
   },
   {
    "duration": 5,
    "start_time": "2024-07-15T19:22:23.713Z"
   },
   {
    "duration": 35,
    "start_time": "2024-07-15T19:22:23.719Z"
   },
   {
    "duration": 7,
    "start_time": "2024-07-15T19:22:23.756Z"
   },
   {
    "duration": 11,
    "start_time": "2024-07-15T19:22:23.765Z"
   },
   {
    "duration": 8,
    "start_time": "2024-07-15T19:22:23.777Z"
   },
   {
    "duration": 14,
    "start_time": "2024-07-15T19:22:23.787Z"
   },
   {
    "duration": 140,
    "start_time": "2024-07-15T19:22:23.802Z"
   },
   {
    "duration": 7,
    "start_time": "2024-07-15T19:22:23.943Z"
   },
   {
    "duration": 28,
    "start_time": "2024-07-15T19:22:23.951Z"
   },
   {
    "duration": 45,
    "start_time": "2024-07-15T19:22:23.981Z"
   },
   {
    "duration": 251,
    "start_time": "2024-07-15T19:22:24.028Z"
   },
   {
    "duration": 10,
    "start_time": "2024-07-15T19:22:24.281Z"
   },
   {
    "duration": 13,
    "start_time": "2024-07-15T19:22:24.295Z"
   },
   {
    "duration": 34,
    "start_time": "2024-07-15T19:22:24.310Z"
   },
   {
    "duration": 2432,
    "start_time": "2024-07-15T19:22:24.346Z"
   },
   {
    "duration": 10,
    "start_time": "2024-07-15T19:22:26.780Z"
   },
   {
    "duration": 17,
    "start_time": "2024-07-15T19:22:26.791Z"
   },
   {
    "duration": 15,
    "start_time": "2024-07-15T19:22:26.809Z"
   },
   {
    "duration": 22,
    "start_time": "2024-07-15T19:22:26.826Z"
   },
   {
    "duration": 19,
    "start_time": "2024-07-15T19:22:26.849Z"
   },
   {
    "duration": 19,
    "start_time": "2024-07-15T19:22:26.870Z"
   },
   {
    "duration": 6,
    "start_time": "2024-07-15T19:22:26.891Z"
   },
   {
    "duration": 21,
    "start_time": "2024-07-15T19:22:26.899Z"
   },
   {
    "duration": 25,
    "start_time": "2024-07-15T19:22:26.922Z"
   },
   {
    "duration": 47,
    "start_time": "2024-07-15T19:22:26.948Z"
   },
   {
    "duration": 43,
    "start_time": "2024-07-15T19:22:26.997Z"
   },
   {
    "duration": 14,
    "start_time": "2024-07-15T19:22:27.042Z"
   },
   {
    "duration": 35,
    "start_time": "2024-07-15T19:22:27.058Z"
   },
   {
    "duration": 2,
    "start_time": "2024-07-15T19:22:27.095Z"
   },
   {
    "duration": 6,
    "start_time": "2024-07-15T19:22:27.099Z"
   },
   {
    "duration": 66,
    "start_time": "2024-07-15T19:22:27.107Z"
   },
   {
    "duration": 1202,
    "start_time": "2024-07-15T19:28:32.448Z"
   },
   {
    "duration": 17,
    "start_time": "2024-07-15T19:29:47.940Z"
   },
   {
    "duration": 15,
    "start_time": "2024-07-15T19:35:32.738Z"
   },
   {
    "duration": 4,
    "start_time": "2024-07-15T19:35:48.298Z"
   },
   {
    "duration": 22,
    "start_time": "2024-07-15T19:35:59.354Z"
   },
   {
    "duration": 1461,
    "start_time": "2024-07-15T19:36:07.018Z"
   },
   {
    "duration": 82,
    "start_time": "2024-07-15T19:37:40.883Z"
   },
   {
    "duration": 7942,
    "start_time": "2024-07-15T19:37:59.421Z"
   },
   {
    "duration": 1779,
    "start_time": "2024-07-15T19:38:07.366Z"
   },
   {
    "duration": 4,
    "start_time": "2024-07-15T19:38:09.148Z"
   },
   {
    "duration": 16,
    "start_time": "2024-07-15T19:38:09.154Z"
   },
   {
    "duration": 220,
    "start_time": "2024-07-15T19:38:09.172Z"
   },
   {
    "duration": 33,
    "start_time": "2024-07-15T19:38:09.394Z"
   },
   {
    "duration": 74,
    "start_time": "2024-07-15T19:38:09.428Z"
   },
   {
    "duration": 52,
    "start_time": "2024-07-15T19:38:09.503Z"
   },
   {
    "duration": 25,
    "start_time": "2024-07-15T19:38:09.556Z"
   },
   {
    "duration": 26,
    "start_time": "2024-07-15T19:38:09.583Z"
   },
   {
    "duration": 79,
    "start_time": "2024-07-15T19:38:09.610Z"
   },
   {
    "duration": 51,
    "start_time": "2024-07-15T19:38:09.691Z"
   },
   {
    "duration": 7,
    "start_time": "2024-07-15T19:38:09.745Z"
   },
   {
    "duration": 4,
    "start_time": "2024-07-15T19:38:09.754Z"
   },
   {
    "duration": 7,
    "start_time": "2024-07-15T19:38:09.760Z"
   },
   {
    "duration": 6,
    "start_time": "2024-07-15T19:38:09.769Z"
   },
   {
    "duration": 6,
    "start_time": "2024-07-15T19:38:09.776Z"
   },
   {
    "duration": 6,
    "start_time": "2024-07-15T19:38:09.784Z"
   },
   {
    "duration": 8,
    "start_time": "2024-07-15T19:38:09.791Z"
   },
   {
    "duration": 48,
    "start_time": "2024-07-15T19:38:09.800Z"
   },
   {
    "duration": 22,
    "start_time": "2024-07-15T19:38:09.850Z"
   },
   {
    "duration": 19,
    "start_time": "2024-07-15T19:38:09.874Z"
   },
   {
    "duration": 53,
    "start_time": "2024-07-15T19:38:09.895Z"
   },
   {
    "duration": 236,
    "start_time": "2024-07-15T19:38:09.950Z"
   },
   {
    "duration": 193,
    "start_time": "2024-07-15T19:38:10.188Z"
   },
   {
    "duration": 3,
    "start_time": "2024-07-15T19:38:10.382Z"
   },
   {
    "duration": 19,
    "start_time": "2024-07-15T19:38:10.387Z"
   },
   {
    "duration": 194,
    "start_time": "2024-07-15T19:38:10.410Z"
   },
   {
    "duration": 6,
    "start_time": "2024-07-15T19:38:10.605Z"
   },
   {
    "duration": 5,
    "start_time": "2024-07-15T19:38:10.613Z"
   },
   {
    "duration": 20,
    "start_time": "2024-07-15T19:38:10.619Z"
   },
   {
    "duration": 14,
    "start_time": "2024-07-15T19:38:10.641Z"
   },
   {
    "duration": 20,
    "start_time": "2024-07-15T19:38:10.657Z"
   },
   {
    "duration": 11,
    "start_time": "2024-07-15T19:38:10.679Z"
   },
   {
    "duration": 160,
    "start_time": "2024-07-15T19:38:10.692Z"
   },
   {
    "duration": 8,
    "start_time": "2024-07-15T19:38:10.854Z"
   },
   {
    "duration": 14,
    "start_time": "2024-07-15T19:38:10.863Z"
   },
   {
    "duration": 6,
    "start_time": "2024-07-15T19:38:10.878Z"
   },
   {
    "duration": 265,
    "start_time": "2024-07-15T19:38:10.885Z"
   },
   {
    "duration": 9,
    "start_time": "2024-07-15T19:38:11.152Z"
   },
   {
    "duration": 24,
    "start_time": "2024-07-15T19:38:11.162Z"
   },
   {
    "duration": 13,
    "start_time": "2024-07-15T19:38:11.188Z"
   },
   {
    "duration": 2579,
    "start_time": "2024-07-15T19:38:11.202Z"
   },
   {
    "duration": 10,
    "start_time": "2024-07-15T19:38:13.783Z"
   },
   {
    "duration": 17,
    "start_time": "2024-07-15T19:38:13.795Z"
   },
   {
    "duration": 27,
    "start_time": "2024-07-15T19:38:13.813Z"
   },
   {
    "duration": 23,
    "start_time": "2024-07-15T19:38:13.842Z"
   },
   {
    "duration": 38,
    "start_time": "2024-07-15T19:38:13.866Z"
   },
   {
    "duration": 28,
    "start_time": "2024-07-15T19:38:13.906Z"
   },
   {
    "duration": 19,
    "start_time": "2024-07-15T19:38:13.936Z"
   },
   {
    "duration": 42,
    "start_time": "2024-07-15T19:38:13.957Z"
   },
   {
    "duration": 18,
    "start_time": "2024-07-15T19:38:14.001Z"
   },
   {
    "duration": 58,
    "start_time": "2024-07-15T19:38:14.021Z"
   },
   {
    "duration": 25,
    "start_time": "2024-07-15T19:38:14.080Z"
   },
   {
    "duration": 27,
    "start_time": "2024-07-15T19:38:14.106Z"
   },
   {
    "duration": 56,
    "start_time": "2024-07-15T19:38:14.134Z"
   },
   {
    "duration": 2,
    "start_time": "2024-07-15T19:38:14.191Z"
   },
   {
    "duration": 28,
    "start_time": "2024-07-15T19:38:14.194Z"
   },
   {
    "duration": 60,
    "start_time": "2024-07-15T19:38:14.223Z"
   },
   {
    "duration": 4,
    "start_time": "2024-07-15T19:38:14.285Z"
   },
   {
    "duration": 1485,
    "start_time": "2024-07-15T19:38:14.290Z"
   },
   {
    "duration": 11,
    "start_time": "2024-07-15T19:38:15.776Z"
   },
   {
    "duration": 151,
    "start_time": "2024-07-15T19:38:15.788Z"
   },
   {
    "duration": 0,
    "start_time": "2024-07-15T19:38:15.941Z"
   },
   {
    "duration": 0,
    "start_time": "2024-07-15T19:38:15.943Z"
   },
   {
    "duration": 0,
    "start_time": "2024-07-15T19:38:15.944Z"
   },
   {
    "duration": 0,
    "start_time": "2024-07-15T19:38:15.945Z"
   },
   {
    "duration": 1,
    "start_time": "2024-07-15T19:38:15.946Z"
   },
   {
    "duration": 0,
    "start_time": "2024-07-15T19:38:15.948Z"
   },
   {
    "duration": 0,
    "start_time": "2024-07-15T19:38:15.950Z"
   },
   {
    "duration": 0,
    "start_time": "2024-07-15T19:38:15.951Z"
   },
   {
    "duration": 0,
    "start_time": "2024-07-15T19:38:15.953Z"
   },
   {
    "duration": 0,
    "start_time": "2024-07-15T19:38:15.954Z"
   },
   {
    "duration": 0,
    "start_time": "2024-07-15T19:38:15.956Z"
   },
   {
    "duration": 0,
    "start_time": "2024-07-15T19:38:15.957Z"
   },
   {
    "duration": 8883,
    "start_time": "2024-07-15T19:57:00.299Z"
   },
   {
    "duration": 1906,
    "start_time": "2024-07-15T19:57:09.184Z"
   },
   {
    "duration": 3,
    "start_time": "2024-07-15T19:57:11.091Z"
   },
   {
    "duration": 21,
    "start_time": "2024-07-15T19:57:11.095Z"
   },
   {
    "duration": 233,
    "start_time": "2024-07-15T19:57:11.118Z"
   },
   {
    "duration": 43,
    "start_time": "2024-07-15T19:57:11.352Z"
   },
   {
    "duration": 97,
    "start_time": "2024-07-15T19:57:11.397Z"
   },
   {
    "duration": 48,
    "start_time": "2024-07-15T19:57:11.495Z"
   },
   {
    "duration": 34,
    "start_time": "2024-07-15T19:57:11.545Z"
   },
   {
    "duration": 28,
    "start_time": "2024-07-15T19:57:11.581Z"
   },
   {
    "duration": 80,
    "start_time": "2024-07-15T19:57:11.637Z"
   },
   {
    "duration": 25,
    "start_time": "2024-07-15T19:57:11.719Z"
   },
   {
    "duration": 11,
    "start_time": "2024-07-15T19:57:11.746Z"
   },
   {
    "duration": 24,
    "start_time": "2024-07-15T19:57:11.759Z"
   },
   {
    "duration": 41,
    "start_time": "2024-07-15T19:57:11.785Z"
   },
   {
    "duration": 25,
    "start_time": "2024-07-15T19:57:11.828Z"
   },
   {
    "duration": 31,
    "start_time": "2024-07-15T19:57:11.854Z"
   },
   {
    "duration": 28,
    "start_time": "2024-07-15T19:57:11.886Z"
   },
   {
    "duration": 34,
    "start_time": "2024-07-15T19:57:11.916Z"
   },
   {
    "duration": 39,
    "start_time": "2024-07-15T19:57:11.952Z"
   },
   {
    "duration": 25,
    "start_time": "2024-07-15T19:57:11.992Z"
   },
   {
    "duration": 30,
    "start_time": "2024-07-15T19:57:12.019Z"
   },
   {
    "duration": 22,
    "start_time": "2024-07-15T19:57:12.052Z"
   },
   {
    "duration": 200,
    "start_time": "2024-07-15T19:57:12.076Z"
   },
   {
    "duration": 192,
    "start_time": "2024-07-15T19:57:12.277Z"
   },
   {
    "duration": 2,
    "start_time": "2024-07-15T19:57:12.470Z"
   },
   {
    "duration": 33,
    "start_time": "2024-07-15T19:57:12.474Z"
   },
   {
    "duration": 201,
    "start_time": "2024-07-15T19:57:12.509Z"
   },
   {
    "duration": 6,
    "start_time": "2024-07-15T19:57:12.711Z"
   },
   {
    "duration": 34,
    "start_time": "2024-07-15T19:57:12.718Z"
   },
   {
    "duration": 14,
    "start_time": "2024-07-15T19:57:12.755Z"
   },
   {
    "duration": 28,
    "start_time": "2024-07-15T19:57:12.770Z"
   },
   {
    "duration": 7,
    "start_time": "2024-07-15T19:57:12.800Z"
   },
   {
    "duration": 42,
    "start_time": "2024-07-15T19:57:12.809Z"
   },
   {
    "duration": 171,
    "start_time": "2024-07-15T19:57:12.853Z"
   },
   {
    "duration": 18,
    "start_time": "2024-07-15T19:57:13.026Z"
   },
   {
    "duration": 20,
    "start_time": "2024-07-15T19:57:13.047Z"
   },
   {
    "duration": 14,
    "start_time": "2024-07-15T19:57:13.069Z"
   },
   {
    "duration": 300,
    "start_time": "2024-07-15T19:57:13.085Z"
   },
   {
    "duration": 8,
    "start_time": "2024-07-15T19:57:13.387Z"
   },
   {
    "duration": 34,
    "start_time": "2024-07-15T19:57:13.399Z"
   },
   {
    "duration": 22,
    "start_time": "2024-07-15T19:57:13.435Z"
   },
   {
    "duration": 2515,
    "start_time": "2024-07-15T19:57:13.459Z"
   },
   {
    "duration": 10,
    "start_time": "2024-07-15T19:57:15.975Z"
   },
   {
    "duration": 31,
    "start_time": "2024-07-15T19:57:15.986Z"
   },
   {
    "duration": 51,
    "start_time": "2024-07-15T19:57:16.019Z"
   },
   {
    "duration": 23,
    "start_time": "2024-07-15T19:57:16.072Z"
   },
   {
    "duration": 28,
    "start_time": "2024-07-15T19:57:16.097Z"
   },
   {
    "duration": 46,
    "start_time": "2024-07-15T19:57:16.126Z"
   },
   {
    "duration": 13,
    "start_time": "2024-07-15T19:57:16.173Z"
   },
   {
    "duration": 51,
    "start_time": "2024-07-15T19:57:16.187Z"
   },
   {
    "duration": 19,
    "start_time": "2024-07-15T19:57:16.240Z"
   },
   {
    "duration": 56,
    "start_time": "2024-07-15T19:57:16.264Z"
   },
   {
    "duration": 38,
    "start_time": "2024-07-15T19:57:16.322Z"
   },
   {
    "duration": 46,
    "start_time": "2024-07-15T19:57:16.362Z"
   },
   {
    "duration": 56,
    "start_time": "2024-07-15T19:57:16.410Z"
   },
   {
    "duration": 2,
    "start_time": "2024-07-15T19:57:16.468Z"
   },
   {
    "duration": 12,
    "start_time": "2024-07-15T19:57:16.472Z"
   },
   {
    "duration": 53,
    "start_time": "2024-07-15T19:57:16.486Z"
   },
   {
    "duration": 17,
    "start_time": "2024-07-15T19:57:16.541Z"
   },
   {
    "duration": 1747,
    "start_time": "2024-07-15T19:57:16.560Z"
   },
   {
    "duration": 12,
    "start_time": "2024-07-15T19:57:18.309Z"
   },
   {
    "duration": 13,
    "start_time": "2024-07-15T19:57:18.323Z"
   },
   {
    "duration": 6,
    "start_time": "2024-07-15T19:57:18.337Z"
   },
   {
    "duration": 12,
    "start_time": "2024-07-15T19:57:18.345Z"
   },
   {
    "duration": 22,
    "start_time": "2024-07-15T19:57:18.358Z"
   },
   {
    "duration": 213,
    "start_time": "2024-07-15T19:57:18.382Z"
   },
   {
    "duration": 1015942,
    "start_time": "2024-07-15T19:57:18.596Z"
   },
   {
    "duration": 68063,
    "start_time": "2024-07-15T20:14:14.540Z"
   },
   {
    "duration": 2567,
    "start_time": "2024-07-15T20:15:22.604Z"
   },
   {
    "duration": 5,
    "start_time": "2024-07-15T20:15:25.172Z"
   },
   {
    "duration": 9,
    "start_time": "2024-07-15T20:15:25.178Z"
   },
   {
    "duration": 6,
    "start_time": "2024-07-15T20:15:25.189Z"
   },
   {
    "duration": 17,
    "start_time": "2024-07-15T20:15:25.196Z"
   },
   {
    "duration": 240,
    "start_time": "2024-07-15T20:15:25.215Z"
   },
   {
    "duration": 8189,
    "start_time": "2024-07-15T20:21:57.496Z"
   },
   {
    "duration": 1794,
    "start_time": "2024-07-15T20:22:05.687Z"
   },
   {
    "duration": 7,
    "start_time": "2024-07-15T20:22:07.483Z"
   },
   {
    "duration": 8,
    "start_time": "2024-07-15T20:22:07.492Z"
   },
   {
    "duration": 244,
    "start_time": "2024-07-15T20:22:07.503Z"
   },
   {
    "duration": 38,
    "start_time": "2024-07-15T20:22:07.749Z"
   },
   {
    "duration": 95,
    "start_time": "2024-07-15T20:22:07.788Z"
   },
   {
    "duration": 31,
    "start_time": "2024-07-15T20:22:07.885Z"
   },
   {
    "duration": 47,
    "start_time": "2024-07-15T20:22:07.917Z"
   },
   {
    "duration": 67,
    "start_time": "2024-07-15T20:22:07.966Z"
   },
   {
    "duration": 73,
    "start_time": "2024-07-15T20:22:08.035Z"
   },
   {
    "duration": 41,
    "start_time": "2024-07-15T20:22:08.110Z"
   },
   {
    "duration": 4,
    "start_time": "2024-07-15T20:22:08.153Z"
   },
   {
    "duration": 8,
    "start_time": "2024-07-15T20:22:08.160Z"
   },
   {
    "duration": 16,
    "start_time": "2024-07-15T20:22:08.169Z"
   },
   {
    "duration": 14,
    "start_time": "2024-07-15T20:22:08.187Z"
   },
   {
    "duration": 20,
    "start_time": "2024-07-15T20:22:08.202Z"
   },
   {
    "duration": 19,
    "start_time": "2024-07-15T20:22:08.224Z"
   },
   {
    "duration": 10,
    "start_time": "2024-07-15T20:22:08.245Z"
   },
   {
    "duration": 29,
    "start_time": "2024-07-15T20:22:08.257Z"
   },
   {
    "duration": 22,
    "start_time": "2024-07-15T20:22:08.287Z"
   },
   {
    "duration": 44,
    "start_time": "2024-07-15T20:22:08.311Z"
   },
   {
    "duration": 18,
    "start_time": "2024-07-15T20:22:08.356Z"
   },
   {
    "duration": 202,
    "start_time": "2024-07-15T20:22:08.375Z"
   },
   {
    "duration": 185,
    "start_time": "2024-07-15T20:22:08.578Z"
   },
   {
    "duration": 3,
    "start_time": "2024-07-15T20:22:08.765Z"
   },
   {
    "duration": 18,
    "start_time": "2024-07-15T20:22:08.769Z"
   },
   {
    "duration": 175,
    "start_time": "2024-07-15T20:22:08.789Z"
   },
   {
    "duration": 6,
    "start_time": "2024-07-15T20:22:08.965Z"
   },
   {
    "duration": 11,
    "start_time": "2024-07-15T20:22:08.972Z"
   },
   {
    "duration": 20,
    "start_time": "2024-07-15T20:22:08.984Z"
   },
   {
    "duration": 12,
    "start_time": "2024-07-15T20:22:09.006Z"
   },
   {
    "duration": 15,
    "start_time": "2024-07-15T20:22:09.019Z"
   },
   {
    "duration": 40,
    "start_time": "2024-07-15T20:22:09.035Z"
   },
   {
    "duration": 152,
    "start_time": "2024-07-15T20:22:09.077Z"
   },
   {
    "duration": 13,
    "start_time": "2024-07-15T20:22:09.230Z"
   },
   {
    "duration": 26,
    "start_time": "2024-07-15T20:22:09.245Z"
   },
   {
    "duration": 9,
    "start_time": "2024-07-15T20:22:09.273Z"
   },
   {
    "duration": 260,
    "start_time": "2024-07-15T20:22:09.284Z"
   },
   {
    "duration": 13,
    "start_time": "2024-07-15T20:22:09.546Z"
   },
   {
    "duration": 13,
    "start_time": "2024-07-15T20:22:09.563Z"
   },
   {
    "duration": 10,
    "start_time": "2024-07-15T20:22:09.577Z"
   },
   {
    "duration": 3519,
    "start_time": "2024-07-15T20:22:09.589Z"
   },
   {
    "duration": 9,
    "start_time": "2024-07-15T20:22:13.110Z"
   },
   {
    "duration": 19,
    "start_time": "2024-07-15T20:22:13.121Z"
   },
   {
    "duration": 13,
    "start_time": "2024-07-15T20:22:13.142Z"
   },
   {
    "duration": 14,
    "start_time": "2024-07-15T20:22:13.156Z"
   },
   {
    "duration": 7,
    "start_time": "2024-07-15T20:22:13.171Z"
   },
   {
    "duration": 17,
    "start_time": "2024-07-15T20:22:13.179Z"
   },
   {
    "duration": 5,
    "start_time": "2024-07-15T20:22:13.197Z"
   },
   {
    "duration": 56,
    "start_time": "2024-07-15T20:22:13.203Z"
   },
   {
    "duration": 12,
    "start_time": "2024-07-15T20:22:13.261Z"
   },
   {
    "duration": 45,
    "start_time": "2024-07-15T20:22:13.274Z"
   },
   {
    "duration": 28,
    "start_time": "2024-07-15T20:22:13.336Z"
   },
   {
    "duration": 13,
    "start_time": "2024-07-15T20:22:13.366Z"
   },
   {
    "duration": 35,
    "start_time": "2024-07-15T20:22:13.380Z"
   },
   {
    "duration": 25,
    "start_time": "2024-07-15T20:22:13.417Z"
   },
   {
    "duration": 9,
    "start_time": "2024-07-15T20:22:13.443Z"
   },
   {
    "duration": 46,
    "start_time": "2024-07-15T20:22:13.454Z"
   },
   {
    "duration": 11529,
    "start_time": "2024-07-15T20:22:13.502Z"
   },
   {
    "duration": 52,
    "start_time": "2024-07-15T20:24:04.527Z"
   },
   {
    "duration": 7571,
    "start_time": "2024-07-15T20:32:50.231Z"
   },
   {
    "duration": 6,
    "start_time": "2024-07-15T20:32:57.804Z"
   },
   {
    "duration": 8,
    "start_time": "2024-07-15T20:32:57.811Z"
   },
   {
    "duration": 8,
    "start_time": "2024-07-15T20:32:57.820Z"
   },
   {
    "duration": 231,
    "start_time": "2024-07-15T20:32:57.830Z"
   },
   {
    "duration": 33,
    "start_time": "2024-07-15T20:32:58.062Z"
   },
   {
    "duration": 87,
    "start_time": "2024-07-15T20:32:58.096Z"
   },
   {
    "duration": 37,
    "start_time": "2024-07-15T20:32:58.184Z"
   },
   {
    "duration": 24,
    "start_time": "2024-07-15T20:32:58.237Z"
   },
   {
    "duration": 32,
    "start_time": "2024-07-15T20:32:58.263Z"
   },
   {
    "duration": 76,
    "start_time": "2024-07-15T20:32:58.296Z"
   },
   {
    "duration": 28,
    "start_time": "2024-07-15T20:32:58.373Z"
   },
   {
    "duration": 5,
    "start_time": "2024-07-15T20:32:58.402Z"
   },
   {
    "duration": 29,
    "start_time": "2024-07-15T20:32:58.410Z"
   },
   {
    "duration": 7,
    "start_time": "2024-07-15T20:32:58.441Z"
   },
   {
    "duration": 5,
    "start_time": "2024-07-15T20:32:58.449Z"
   },
   {
    "duration": 13,
    "start_time": "2024-07-15T20:32:58.455Z"
   },
   {
    "duration": 7,
    "start_time": "2024-07-15T20:32:58.470Z"
   },
   {
    "duration": 16,
    "start_time": "2024-07-15T20:32:58.478Z"
   },
   {
    "duration": 41,
    "start_time": "2024-07-15T20:32:58.496Z"
   },
   {
    "duration": 23,
    "start_time": "2024-07-15T20:32:58.538Z"
   },
   {
    "duration": 23,
    "start_time": "2024-07-15T20:32:58.563Z"
   },
   {
    "duration": 17,
    "start_time": "2024-07-15T20:32:58.587Z"
   },
   {
    "duration": 194,
    "start_time": "2024-07-15T20:32:58.605Z"
   },
   {
    "duration": 178,
    "start_time": "2024-07-15T20:32:58.801Z"
   },
   {
    "duration": 3,
    "start_time": "2024-07-15T20:32:58.981Z"
   },
   {
    "duration": 12,
    "start_time": "2024-07-15T20:32:58.986Z"
   },
   {
    "duration": 171,
    "start_time": "2024-07-15T20:32:58.999Z"
   },
   {
    "duration": 4,
    "start_time": "2024-07-15T20:32:59.172Z"
   },
   {
    "duration": 10,
    "start_time": "2024-07-15T20:32:59.177Z"
   },
   {
    "duration": 10,
    "start_time": "2024-07-15T20:32:59.189Z"
   },
   {
    "duration": 10,
    "start_time": "2024-07-15T20:32:59.200Z"
   },
   {
    "duration": 8,
    "start_time": "2024-07-15T20:32:59.211Z"
   },
   {
    "duration": 23,
    "start_time": "2024-07-15T20:32:59.220Z"
   },
   {
    "duration": 157,
    "start_time": "2024-07-15T20:32:59.244Z"
   },
   {
    "duration": 8,
    "start_time": "2024-07-15T20:32:59.403Z"
   },
   {
    "duration": 30,
    "start_time": "2024-07-15T20:32:59.413Z"
   },
   {
    "duration": 3,
    "start_time": "2024-07-15T20:32:59.445Z"
   },
   {
    "duration": 158,
    "start_time": "2024-07-15T20:32:59.450Z"
   },
   {
    "duration": 8,
    "start_time": "2024-07-15T20:32:59.610Z"
   },
   {
    "duration": 25,
    "start_time": "2024-07-15T20:32:59.622Z"
   },
   {
    "duration": 10,
    "start_time": "2024-07-15T20:32:59.648Z"
   },
   {
    "duration": 2537,
    "start_time": "2024-07-15T20:32:59.660Z"
   },
   {
    "duration": 9,
    "start_time": "2024-07-15T20:33:02.199Z"
   },
   {
    "duration": 39,
    "start_time": "2024-07-15T20:33:02.209Z"
   },
   {
    "duration": 12,
    "start_time": "2024-07-15T20:33:02.249Z"
   },
   {
    "duration": 83,
    "start_time": "2024-07-15T20:33:02.262Z"
   },
   {
    "duration": 57,
    "start_time": "2024-07-15T20:33:02.346Z"
   },
   {
    "duration": 48,
    "start_time": "2024-07-15T20:33:02.404Z"
   },
   {
    "duration": 7,
    "start_time": "2024-07-15T20:33:02.454Z"
   },
   {
    "duration": 50,
    "start_time": "2024-07-15T20:33:02.462Z"
   },
   {
    "duration": 14,
    "start_time": "2024-07-15T20:33:02.513Z"
   },
   {
    "duration": 45,
    "start_time": "2024-07-15T20:33:02.529Z"
   },
   {
    "duration": 21,
    "start_time": "2024-07-15T20:33:02.576Z"
   },
   {
    "duration": 14,
    "start_time": "2024-07-15T20:33:02.599Z"
   },
   {
    "duration": 55,
    "start_time": "2024-07-15T20:33:02.614Z"
   },
   {
    "duration": 2,
    "start_time": "2024-07-15T20:33:02.670Z"
   },
   {
    "duration": 42,
    "start_time": "2024-07-15T20:33:02.673Z"
   },
   {
    "duration": 118,
    "start_time": "2024-07-15T20:33:02.716Z"
   },
   {
    "duration": 14,
    "start_time": "2024-07-15T20:33:02.836Z"
   },
   {
    "duration": 13,
    "start_time": "2024-07-15T20:33:51.656Z"
   },
   {
    "duration": 14,
    "start_time": "2024-07-15T20:38:09.130Z"
   },
   {
    "duration": 22,
    "start_time": "2024-07-15T20:48:37.666Z"
   },
   {
    "duration": 14,
    "start_time": "2024-07-15T20:48:42.025Z"
   },
   {
    "duration": 7681,
    "start_time": "2024-07-15T23:04:48.707Z"
   },
   {
    "duration": 1710,
    "start_time": "2024-07-15T23:04:56.390Z"
   },
   {
    "duration": 3,
    "start_time": "2024-07-15T23:04:58.102Z"
   },
   {
    "duration": 10,
    "start_time": "2024-07-15T23:04:58.106Z"
   },
   {
    "duration": 224,
    "start_time": "2024-07-15T23:04:58.118Z"
   },
   {
    "duration": 36,
    "start_time": "2024-07-15T23:04:58.344Z"
   },
   {
    "duration": 94,
    "start_time": "2024-07-15T23:04:58.382Z"
   },
   {
    "duration": 32,
    "start_time": "2024-07-15T23:04:58.477Z"
   },
   {
    "duration": 49,
    "start_time": "2024-07-15T23:04:58.511Z"
   },
   {
    "duration": 28,
    "start_time": "2024-07-15T23:04:58.561Z"
   },
   {
    "duration": 77,
    "start_time": "2024-07-15T23:04:58.590Z"
   },
   {
    "duration": 26,
    "start_time": "2024-07-15T23:04:58.669Z"
   },
   {
    "duration": 4,
    "start_time": "2024-07-15T23:04:58.696Z"
   },
   {
    "duration": 34,
    "start_time": "2024-07-15T23:04:58.703Z"
   },
   {
    "duration": 3,
    "start_time": "2024-07-15T23:04:58.739Z"
   },
   {
    "duration": 5,
    "start_time": "2024-07-15T23:04:58.744Z"
   },
   {
    "duration": 5,
    "start_time": "2024-07-15T23:04:58.751Z"
   },
   {
    "duration": 10,
    "start_time": "2024-07-15T23:04:58.757Z"
   },
   {
    "duration": 24,
    "start_time": "2024-07-15T23:04:58.768Z"
   },
   {
    "duration": 25,
    "start_time": "2024-07-15T23:04:58.793Z"
   },
   {
    "duration": 24,
    "start_time": "2024-07-15T23:04:58.819Z"
   },
   {
    "duration": 18,
    "start_time": "2024-07-15T23:04:58.845Z"
   },
   {
    "duration": 16,
    "start_time": "2024-07-15T23:04:58.864Z"
   },
   {
    "duration": 209,
    "start_time": "2024-07-15T23:04:58.882Z"
   },
   {
    "duration": 179,
    "start_time": "2024-07-15T23:04:59.093Z"
   },
   {
    "duration": 3,
    "start_time": "2024-07-15T23:04:59.273Z"
   },
   {
    "duration": 14,
    "start_time": "2024-07-15T23:04:59.277Z"
   },
   {
    "duration": 191,
    "start_time": "2024-07-15T23:04:59.293Z"
   },
   {
    "duration": 8,
    "start_time": "2024-07-15T23:04:59.486Z"
   },
   {
    "duration": 14,
    "start_time": "2024-07-15T23:04:59.496Z"
   },
   {
    "duration": 4,
    "start_time": "2024-07-15T23:04:59.512Z"
   },
   {
    "duration": 26,
    "start_time": "2024-07-15T23:04:59.518Z"
   },
   {
    "duration": 8,
    "start_time": "2024-07-15T23:04:59.545Z"
   },
   {
    "duration": 15,
    "start_time": "2024-07-15T23:04:59.554Z"
   },
   {
    "duration": 152,
    "start_time": "2024-07-15T23:04:59.570Z"
   },
   {
    "duration": 14,
    "start_time": "2024-07-15T23:04:59.724Z"
   },
   {
    "duration": 13,
    "start_time": "2024-07-15T23:04:59.740Z"
   },
   {
    "duration": 3,
    "start_time": "2024-07-15T23:04:59.754Z"
   },
   {
    "duration": 242,
    "start_time": "2024-07-15T23:04:59.758Z"
   },
   {
    "duration": 9,
    "start_time": "2024-07-15T23:05:00.001Z"
   },
   {
    "duration": 27,
    "start_time": "2024-07-15T23:05:00.014Z"
   },
   {
    "duration": 29,
    "start_time": "2024-07-15T23:05:00.042Z"
   },
   {
    "duration": 2454,
    "start_time": "2024-07-15T23:05:00.072Z"
   },
   {
    "duration": 21,
    "start_time": "2024-07-15T23:05:02.528Z"
   },
   {
    "duration": 50,
    "start_time": "2024-07-15T23:05:02.550Z"
   },
   {
    "duration": 41,
    "start_time": "2024-07-15T23:05:02.601Z"
   },
   {
    "duration": 44,
    "start_time": "2024-07-15T23:05:02.643Z"
   },
   {
    "duration": 34,
    "start_time": "2024-07-15T23:05:02.689Z"
   },
   {
    "duration": 72,
    "start_time": "2024-07-15T23:05:02.724Z"
   },
   {
    "duration": 78,
    "start_time": "2024-07-15T23:05:02.798Z"
   },
   {
    "duration": 78,
    "start_time": "2024-07-15T23:05:02.877Z"
   },
   {
    "duration": 11,
    "start_time": "2024-07-15T23:05:02.957Z"
   },
   {
    "duration": 66,
    "start_time": "2024-07-15T23:05:02.970Z"
   },
   {
    "duration": 22,
    "start_time": "2024-07-15T23:05:03.038Z"
   },
   {
    "duration": 30,
    "start_time": "2024-07-15T23:05:03.062Z"
   },
   {
    "duration": 44,
    "start_time": "2024-07-15T23:05:03.094Z"
   },
   {
    "duration": 2,
    "start_time": "2024-07-15T23:05:03.139Z"
   },
   {
    "duration": 71,
    "start_time": "2024-07-15T23:05:03.143Z"
   },
   {
    "duration": 136,
    "start_time": "2024-07-15T23:05:03.215Z"
   },
   {
    "duration": 15,
    "start_time": "2024-07-15T23:05:03.352Z"
   },
   {
    "duration": 23,
    "start_time": "2024-07-15T23:05:03.368Z"
   },
   {
    "duration": 94,
    "start_time": "2024-07-15T23:05:03.393Z"
   },
   {
    "duration": 15,
    "start_time": "2024-07-15T23:05:03.488Z"
   },
   {
    "duration": 7,
    "start_time": "2024-07-15T23:05:03.505Z"
   },
   {
    "duration": 10,
    "start_time": "2024-07-15T23:05:03.513Z"
   },
   {
    "duration": 426,
    "start_time": "2024-07-15T23:05:03.524Z"
   },
   {
    "duration": 307,
    "start_time": "2024-07-15T23:05:03.952Z"
   },
   {
    "duration": 3168990,
    "start_time": "2024-07-15T23:05:04.261Z"
   },
   {
    "duration": 104885,
    "start_time": "2024-07-15T23:57:53.253Z"
   },
   {
    "duration": 4095,
    "start_time": "2024-07-15T23:59:38.140Z"
   },
   {
    "duration": 5,
    "start_time": "2024-07-15T23:59:42.236Z"
   },
   {
    "duration": 6,
    "start_time": "2024-07-15T23:59:42.243Z"
   },
   {
    "duration": 8,
    "start_time": "2024-07-15T23:59:42.251Z"
   },
   {
    "duration": 9,
    "start_time": "2024-07-15T23:59:42.260Z"
   },
   {
    "duration": 442,
    "start_time": "2024-07-15T23:59:42.270Z"
   },
   {
    "duration": 15,
    "start_time": "2024-07-16T00:07:19.877Z"
   },
   {
    "duration": 7,
    "start_time": "2024-07-16T00:07:26.367Z"
   },
   {
    "duration": 7730,
    "start_time": "2024-07-16T00:07:30.748Z"
   },
   {
    "duration": 6,
    "start_time": "2024-07-16T00:07:38.480Z"
   },
   {
    "duration": 30,
    "start_time": "2024-07-16T00:07:38.487Z"
   },
   {
    "duration": 15,
    "start_time": "2024-07-16T00:07:38.518Z"
   },
   {
    "duration": 247,
    "start_time": "2024-07-16T00:07:38.535Z"
   },
   {
    "duration": 36,
    "start_time": "2024-07-16T00:07:38.783Z"
   },
   {
    "duration": 68,
    "start_time": "2024-07-16T00:07:38.820Z"
   },
   {
    "duration": 50,
    "start_time": "2024-07-16T00:07:38.889Z"
   },
   {
    "duration": 24,
    "start_time": "2024-07-16T00:07:38.940Z"
   },
   {
    "duration": 26,
    "start_time": "2024-07-16T00:07:38.966Z"
   },
   {
    "duration": 80,
    "start_time": "2024-07-16T00:07:38.993Z"
   },
   {
    "duration": 25,
    "start_time": "2024-07-16T00:07:39.075Z"
   },
   {
    "duration": 9,
    "start_time": "2024-07-16T00:07:39.102Z"
   },
   {
    "duration": 25,
    "start_time": "2024-07-16T00:07:39.113Z"
   },
   {
    "duration": 15,
    "start_time": "2024-07-16T00:07:39.139Z"
   },
   {
    "duration": 6,
    "start_time": "2024-07-16T00:07:39.156Z"
   },
   {
    "duration": 24,
    "start_time": "2024-07-16T00:07:39.164Z"
   },
   {
    "duration": 42,
    "start_time": "2024-07-16T00:07:39.189Z"
   },
   {
    "duration": 23,
    "start_time": "2024-07-16T00:07:39.232Z"
   },
   {
    "duration": 25,
    "start_time": "2024-07-16T00:07:39.257Z"
   },
   {
    "duration": 26,
    "start_time": "2024-07-16T00:07:39.283Z"
   },
   {
    "duration": 18,
    "start_time": "2024-07-16T00:07:39.311Z"
   },
   {
    "duration": 24,
    "start_time": "2024-07-16T00:07:39.330Z"
   },
   {
    "duration": 189,
    "start_time": "2024-07-16T00:07:39.355Z"
   },
   {
    "duration": 166,
    "start_time": "2024-07-16T00:07:39.546Z"
   },
   {
    "duration": 9,
    "start_time": "2024-07-16T00:07:39.714Z"
   },
   {
    "duration": 9,
    "start_time": "2024-07-16T00:07:53.768Z"
   },
   {
    "duration": 12,
    "start_time": "2024-07-16T00:07:56.919Z"
   },
   {
    "duration": 9,
    "start_time": "2024-07-16T00:08:04.125Z"
   },
   {
    "duration": 11122,
    "start_time": "2024-07-17T09:03:55.029Z"
   },
   {
    "duration": 1971,
    "start_time": "2024-07-17T09:04:06.153Z"
   },
   {
    "duration": 3,
    "start_time": "2024-07-17T09:04:08.126Z"
   },
   {
    "duration": 19,
    "start_time": "2024-07-17T09:04:08.130Z"
   },
   {
    "duration": 228,
    "start_time": "2024-07-17T09:04:08.151Z"
   },
   {
    "duration": 37,
    "start_time": "2024-07-17T09:04:08.381Z"
   },
   {
    "duration": 71,
    "start_time": "2024-07-17T09:04:08.419Z"
   },
   {
    "duration": 49,
    "start_time": "2024-07-17T09:04:08.492Z"
   },
   {
    "duration": 29,
    "start_time": "2024-07-17T09:04:08.543Z"
   },
   {
    "duration": 26,
    "start_time": "2024-07-17T09:04:08.574Z"
   },
   {
    "duration": 75,
    "start_time": "2024-07-17T09:04:08.601Z"
   },
   {
    "duration": 25,
    "start_time": "2024-07-17T09:04:08.678Z"
   },
   {
    "duration": 4,
    "start_time": "2024-07-17T09:04:08.705Z"
   },
   {
    "duration": 28,
    "start_time": "2024-07-17T09:04:08.712Z"
   },
   {
    "duration": 8,
    "start_time": "2024-07-17T09:04:08.741Z"
   },
   {
    "duration": 21,
    "start_time": "2024-07-17T09:04:08.750Z"
   },
   {
    "duration": 16,
    "start_time": "2024-07-17T09:04:08.773Z"
   },
   {
    "duration": 9,
    "start_time": "2024-07-17T09:04:08.791Z"
   },
   {
    "duration": 23,
    "start_time": "2024-07-17T09:04:08.802Z"
   },
   {
    "duration": 26,
    "start_time": "2024-07-17T09:04:08.827Z"
   },
   {
    "duration": 29,
    "start_time": "2024-07-17T09:04:08.855Z"
   },
   {
    "duration": 25,
    "start_time": "2024-07-17T09:04:08.886Z"
   },
   {
    "duration": 40,
    "start_time": "2024-07-17T09:04:08.913Z"
   },
   {
    "duration": 195,
    "start_time": "2024-07-17T09:04:08.954Z"
   },
   {
    "duration": 177,
    "start_time": "2024-07-17T09:04:09.151Z"
   },
   {
    "duration": 15,
    "start_time": "2024-07-17T09:04:09.330Z"
   },
   {
    "duration": 30,
    "start_time": "2024-07-17T09:04:09.346Z"
   },
   {
    "duration": 47,
    "start_time": "2024-07-17T09:04:09.377Z"
   },
   {
    "duration": 188,
    "start_time": "2024-07-17T09:04:09.425Z"
   },
   {
    "duration": 4,
    "start_time": "2024-07-17T09:04:09.615Z"
   },
   {
    "duration": 27,
    "start_time": "2024-07-17T09:04:09.621Z"
   },
   {
    "duration": 12,
    "start_time": "2024-07-17T09:04:09.650Z"
   },
   {
    "duration": 29,
    "start_time": "2024-07-17T09:04:09.664Z"
   },
   {
    "duration": 31,
    "start_time": "2024-07-17T09:04:09.695Z"
   },
   {
    "duration": 14,
    "start_time": "2024-07-17T09:04:09.728Z"
   },
   {
    "duration": 166,
    "start_time": "2024-07-17T09:04:09.744Z"
   },
   {
    "duration": 8,
    "start_time": "2024-07-17T09:04:09.911Z"
   },
   {
    "duration": 25,
    "start_time": "2024-07-17T09:04:09.920Z"
   },
   {
    "duration": 12,
    "start_time": "2024-07-17T09:04:09.947Z"
   },
   {
    "duration": 253,
    "start_time": "2024-07-17T09:04:09.960Z"
   },
   {
    "duration": 20,
    "start_time": "2024-07-17T09:04:10.218Z"
   },
   {
    "duration": 77,
    "start_time": "2024-07-17T09:04:10.239Z"
   },
   {
    "duration": 11,
    "start_time": "2024-07-17T09:04:10.318Z"
   },
   {
    "duration": 2453,
    "start_time": "2024-07-17T09:04:10.330Z"
   },
   {
    "duration": 10,
    "start_time": "2024-07-17T09:04:12.784Z"
   },
   {
    "duration": 46,
    "start_time": "2024-07-17T09:04:12.795Z"
   },
   {
    "duration": 28,
    "start_time": "2024-07-17T09:04:12.843Z"
   },
   {
    "duration": 32,
    "start_time": "2024-07-17T09:04:12.873Z"
   },
   {
    "duration": 17,
    "start_time": "2024-07-17T09:04:12.906Z"
   },
   {
    "duration": 41,
    "start_time": "2024-07-17T09:04:12.924Z"
   },
   {
    "duration": 7757,
    "start_time": "2024-07-17T09:04:44.507Z"
   },
   {
    "duration": 8,
    "start_time": "2024-07-17T09:04:52.266Z"
   },
   {
    "duration": 44,
    "start_time": "2024-07-17T09:04:52.275Z"
   },
   {
    "duration": 50,
    "start_time": "2024-07-17T09:04:52.321Z"
   },
   {
    "duration": 254,
    "start_time": "2024-07-17T09:04:52.373Z"
   },
   {
    "duration": 33,
    "start_time": "2024-07-17T09:04:52.628Z"
   },
   {
    "duration": 80,
    "start_time": "2024-07-17T09:04:52.662Z"
   },
   {
    "duration": 32,
    "start_time": "2024-07-17T09:04:52.744Z"
   },
   {
    "duration": 25,
    "start_time": "2024-07-17T09:04:52.777Z"
   },
   {
    "duration": 58,
    "start_time": "2024-07-17T09:04:52.804Z"
   },
   {
    "duration": 52,
    "start_time": "2024-07-17T09:04:52.863Z"
   },
   {
    "duration": 47,
    "start_time": "2024-07-17T09:04:52.917Z"
   },
   {
    "duration": 5,
    "start_time": "2024-07-17T09:04:52.965Z"
   },
   {
    "duration": 32,
    "start_time": "2024-07-17T09:04:52.971Z"
   },
   {
    "duration": 34,
    "start_time": "2024-07-17T09:04:53.005Z"
   },
   {
    "duration": 12,
    "start_time": "2024-07-17T09:04:53.040Z"
   },
   {
    "duration": 25,
    "start_time": "2024-07-17T09:04:53.054Z"
   },
   {
    "duration": 102,
    "start_time": "2024-07-17T09:04:53.080Z"
   },
   {
    "duration": 41,
    "start_time": "2024-07-17T09:04:53.184Z"
   },
   {
    "duration": 48,
    "start_time": "2024-07-17T09:04:53.227Z"
   },
   {
    "duration": 22,
    "start_time": "2024-07-17T09:04:53.277Z"
   },
   {
    "duration": 31,
    "start_time": "2024-07-17T09:04:53.300Z"
   },
   {
    "duration": 28,
    "start_time": "2024-07-17T09:04:53.332Z"
   },
   {
    "duration": 198,
    "start_time": "2024-07-17T09:04:53.362Z"
   },
   {
    "duration": 183,
    "start_time": "2024-07-17T09:04:53.561Z"
   },
   {
    "duration": 10,
    "start_time": "2024-07-17T09:04:53.746Z"
   },
   {
    "duration": 25,
    "start_time": "2024-07-17T09:04:53.757Z"
   },
   {
    "duration": 38,
    "start_time": "2024-07-17T09:04:53.786Z"
   },
   {
    "duration": 183,
    "start_time": "2024-07-17T09:04:53.825Z"
   },
   {
    "duration": 5,
    "start_time": "2024-07-17T09:04:54.009Z"
   },
   {
    "duration": 80,
    "start_time": "2024-07-17T09:04:54.015Z"
   },
   {
    "duration": 23,
    "start_time": "2024-07-17T09:04:54.097Z"
   },
   {
    "duration": 40,
    "start_time": "2024-07-17T09:04:54.122Z"
   },
   {
    "duration": 16,
    "start_time": "2024-07-17T09:04:54.164Z"
   },
   {
    "duration": 27,
    "start_time": "2024-07-17T09:04:54.181Z"
   },
   {
    "duration": 228,
    "start_time": "2024-07-17T09:04:54.209Z"
   },
   {
    "duration": 7,
    "start_time": "2024-07-17T09:04:54.439Z"
   },
   {
    "duration": 44,
    "start_time": "2024-07-17T09:04:54.447Z"
   },
   {
    "duration": 51,
    "start_time": "2024-07-17T09:04:54.493Z"
   },
   {
    "duration": 171,
    "start_time": "2024-07-17T09:04:54.546Z"
   },
   {
    "duration": 19,
    "start_time": "2024-07-17T09:04:54.719Z"
   },
   {
    "duration": 12,
    "start_time": "2024-07-17T09:04:54.739Z"
   },
   {
    "duration": 20,
    "start_time": "2024-07-17T09:04:54.753Z"
   },
   {
    "duration": 2468,
    "start_time": "2024-07-17T09:04:54.774Z"
   },
   {
    "duration": 11,
    "start_time": "2024-07-17T09:04:57.244Z"
   },
   {
    "duration": 26,
    "start_time": "2024-07-17T09:04:57.256Z"
   },
   {
    "duration": 19,
    "start_time": "2024-07-17T09:04:57.283Z"
   },
   {
    "duration": 41,
    "start_time": "2024-07-17T09:04:57.304Z"
   },
   {
    "duration": 29,
    "start_time": "2024-07-17T09:04:57.346Z"
   },
   {
    "duration": 45,
    "start_time": "2024-07-17T09:04:57.377Z"
   },
   {
    "duration": 44,
    "start_time": "2024-07-17T09:04:57.423Z"
   },
   {
    "duration": 9,
    "start_time": "2024-07-17T09:04:57.469Z"
   },
   {
    "duration": 69,
    "start_time": "2024-07-17T09:04:57.479Z"
   },
   {
    "duration": 18,
    "start_time": "2024-07-17T09:04:57.549Z"
   },
   {
    "duration": 45,
    "start_time": "2024-07-17T09:04:57.569Z"
   },
   {
    "duration": 29,
    "start_time": "2024-07-17T09:04:57.615Z"
   },
   {
    "duration": 15,
    "start_time": "2024-07-17T09:04:57.645Z"
   },
   {
    "duration": 51,
    "start_time": "2024-07-17T09:04:57.661Z"
   },
   {
    "duration": 18,
    "start_time": "2024-07-17T09:04:57.714Z"
   },
   {
    "duration": 12859,
    "start_time": "2024-07-17T11:50:46.615Z"
   },
   {
    "duration": 1920,
    "start_time": "2024-07-17T11:50:59.477Z"
   },
   {
    "duration": 2,
    "start_time": "2024-07-17T11:51:01.399Z"
   },
   {
    "duration": 91,
    "start_time": "2024-07-17T11:51:01.403Z"
   },
   {
    "duration": 723,
    "start_time": "2024-07-17T11:51:01.496Z"
   },
   {
    "duration": 34,
    "start_time": "2024-07-17T11:51:02.220Z"
   },
   {
    "duration": 66,
    "start_time": "2024-07-17T11:51:02.255Z"
   },
   {
    "duration": 30,
    "start_time": "2024-07-17T11:51:02.338Z"
   },
   {
    "duration": 37,
    "start_time": "2024-07-17T11:51:02.370Z"
   },
   {
    "duration": 61,
    "start_time": "2024-07-17T11:51:02.409Z"
   },
   {
    "duration": 106,
    "start_time": "2024-07-17T11:51:02.471Z"
   },
   {
    "duration": 26,
    "start_time": "2024-07-17T11:51:02.579Z"
   },
   {
    "duration": 19,
    "start_time": "2024-07-17T11:51:02.607Z"
   },
   {
    "duration": 20,
    "start_time": "2024-07-17T11:51:02.628Z"
   },
   {
    "duration": 68,
    "start_time": "2024-07-17T11:51:02.650Z"
   },
   {
    "duration": 55,
    "start_time": "2024-07-17T11:51:02.719Z"
   },
   {
    "duration": 153,
    "start_time": "2024-07-17T11:51:02.775Z"
   },
   {
    "duration": 39,
    "start_time": "2024-07-17T11:51:02.930Z"
   },
   {
    "duration": 53,
    "start_time": "2024-07-17T11:51:02.971Z"
   },
   {
    "duration": 58,
    "start_time": "2024-07-17T11:51:03.025Z"
   },
   {
    "duration": 47,
    "start_time": "2024-07-17T11:51:03.085Z"
   },
   {
    "duration": 21,
    "start_time": "2024-07-17T11:51:03.133Z"
   },
   {
    "duration": 49,
    "start_time": "2024-07-17T11:51:03.155Z"
   },
   {
    "duration": 191,
    "start_time": "2024-07-17T11:51:03.205Z"
   },
   {
    "duration": 181,
    "start_time": "2024-07-17T11:51:03.398Z"
   },
   {
    "duration": 10,
    "start_time": "2024-07-17T11:51:03.581Z"
   },
   {
    "duration": 23,
    "start_time": "2024-07-17T11:51:03.593Z"
   },
   {
    "duration": 58,
    "start_time": "2024-07-17T11:51:03.619Z"
   },
   {
    "duration": 0,
    "start_time": "2024-07-17T11:51:03.678Z"
   },
   {
    "duration": 11,
    "start_time": "2024-07-17T11:51:59.508Z"
   },
   {
    "duration": 6,
    "start_time": "2024-07-17T12:02:18.798Z"
   },
   {
    "duration": 1367,
    "start_time": "2024-07-17T12:02:27.425Z"
   },
   {
    "duration": 5,
    "start_time": "2024-07-17T12:02:31.426Z"
   },
   {
    "duration": 7840,
    "start_time": "2024-07-17T12:02:52.987Z"
   },
   {
    "duration": 1878,
    "start_time": "2024-07-17T12:03:00.829Z"
   },
   {
    "duration": 3,
    "start_time": "2024-07-17T12:03:02.709Z"
   },
   {
    "duration": 145,
    "start_time": "2024-07-17T12:03:02.714Z"
   },
   {
    "duration": 584,
    "start_time": "2024-07-17T12:03:02.861Z"
   },
   {
    "duration": 39,
    "start_time": "2024-07-17T12:03:03.447Z"
   },
   {
    "duration": 115,
    "start_time": "2024-07-17T12:03:03.488Z"
   },
   {
    "duration": 51,
    "start_time": "2024-07-17T12:03:03.605Z"
   },
   {
    "duration": 24,
    "start_time": "2024-07-17T12:03:03.658Z"
   },
   {
    "duration": 26,
    "start_time": "2024-07-17T12:03:03.684Z"
   },
   {
    "duration": 48,
    "start_time": "2024-07-17T12:03:03.738Z"
   },
   {
    "duration": 25,
    "start_time": "2024-07-17T12:03:03.788Z"
   },
   {
    "duration": 24,
    "start_time": "2024-07-17T12:03:03.814Z"
   },
   {
    "duration": 13,
    "start_time": "2024-07-17T12:03:03.840Z"
   },
   {
    "duration": 18,
    "start_time": "2024-07-17T12:03:03.854Z"
   },
   {
    "duration": 4,
    "start_time": "2024-07-17T12:03:03.874Z"
   },
   {
    "duration": 12,
    "start_time": "2024-07-17T12:03:03.879Z"
   },
   {
    "duration": 8,
    "start_time": "2024-07-17T12:03:03.892Z"
   },
   {
    "duration": 19,
    "start_time": "2024-07-17T12:03:03.902Z"
   },
   {
    "duration": 28,
    "start_time": "2024-07-17T12:03:03.923Z"
   },
   {
    "duration": 21,
    "start_time": "2024-07-17T12:03:03.952Z"
   },
   {
    "duration": 19,
    "start_time": "2024-07-17T12:03:03.975Z"
   },
   {
    "duration": 18,
    "start_time": "2024-07-17T12:03:03.995Z"
   },
   {
    "duration": 180,
    "start_time": "2024-07-17T12:03:04.037Z"
   },
   {
    "duration": 177,
    "start_time": "2024-07-17T12:03:04.219Z"
   },
   {
    "duration": 10,
    "start_time": "2024-07-17T12:03:04.398Z"
   },
   {
    "duration": 5,
    "start_time": "2024-07-17T12:03:04.410Z"
   },
   {
    "duration": 3,
    "start_time": "2024-07-17T12:03:04.437Z"
   },
   {
    "duration": 18,
    "start_time": "2024-07-17T12:03:04.442Z"
   },
   {
    "duration": 11,
    "start_time": "2024-07-17T12:03:04.462Z"
   },
   {
    "duration": 7558,
    "start_time": "2024-07-17T12:08:03.862Z"
   },
   {
    "duration": 1687,
    "start_time": "2024-07-17T12:08:11.423Z"
   },
   {
    "duration": 3,
    "start_time": "2024-07-17T12:08:13.112Z"
   },
   {
    "duration": 7,
    "start_time": "2024-07-17T12:08:13.116Z"
   },
   {
    "duration": 214,
    "start_time": "2024-07-17T12:08:13.125Z"
   },
   {
    "duration": 39,
    "start_time": "2024-07-17T12:08:13.340Z"
   },
   {
    "duration": 98,
    "start_time": "2024-07-17T12:08:13.381Z"
   },
   {
    "duration": 33,
    "start_time": "2024-07-17T12:08:13.480Z"
   },
   {
    "duration": 46,
    "start_time": "2024-07-17T12:08:13.514Z"
   },
   {
    "duration": 27,
    "start_time": "2024-07-17T12:08:13.562Z"
   },
   {
    "duration": 81,
    "start_time": "2024-07-17T12:08:13.590Z"
   },
   {
    "duration": 25,
    "start_time": "2024-07-17T12:08:13.673Z"
   },
   {
    "duration": 4,
    "start_time": "2024-07-17T12:08:13.699Z"
   },
   {
    "duration": 9,
    "start_time": "2024-07-17T12:08:13.706Z"
   },
   {
    "duration": 21,
    "start_time": "2024-07-17T12:08:13.716Z"
   },
   {
    "duration": 4,
    "start_time": "2024-07-17T12:08:13.739Z"
   },
   {
    "duration": 12,
    "start_time": "2024-07-17T12:08:13.744Z"
   },
   {
    "duration": 9,
    "start_time": "2024-07-17T12:08:13.757Z"
   },
   {
    "duration": 15,
    "start_time": "2024-07-17T12:08:13.767Z"
   },
   {
    "duration": 28,
    "start_time": "2024-07-17T12:08:13.783Z"
   },
   {
    "duration": 26,
    "start_time": "2024-07-17T12:08:13.812Z"
   },
   {
    "duration": 32,
    "start_time": "2024-07-17T12:08:13.840Z"
   },
   {
    "duration": 17,
    "start_time": "2024-07-17T12:08:13.874Z"
   },
   {
    "duration": 191,
    "start_time": "2024-07-17T12:08:13.892Z"
   },
   {
    "duration": 172,
    "start_time": "2024-07-17T12:08:14.084Z"
   },
   {
    "duration": 10,
    "start_time": "2024-07-17T12:08:14.258Z"
   },
   {
    "duration": 5,
    "start_time": "2024-07-17T12:08:14.270Z"
   },
   {
    "duration": 34,
    "start_time": "2024-07-17T12:08:14.276Z"
   },
   {
    "duration": 20,
    "start_time": "2024-07-17T12:08:14.312Z"
   },
   {
    "duration": 162,
    "start_time": "2024-07-17T12:08:14.333Z"
   },
   {
    "duration": 5,
    "start_time": "2024-07-17T12:08:14.497Z"
   },
   {
    "duration": 9,
    "start_time": "2024-07-17T12:08:14.503Z"
   },
   {
    "duration": 6,
    "start_time": "2024-07-17T12:08:14.513Z"
   },
   {
    "duration": 22,
    "start_time": "2024-07-17T12:08:14.521Z"
   },
   {
    "duration": 14,
    "start_time": "2024-07-17T12:08:14.544Z"
   },
   {
    "duration": 14,
    "start_time": "2024-07-17T12:08:14.559Z"
   },
   {
    "duration": 153,
    "start_time": "2024-07-17T12:08:14.575Z"
   },
   {
    "duration": 12,
    "start_time": "2024-07-17T12:08:14.730Z"
   },
   {
    "duration": 29,
    "start_time": "2024-07-17T12:08:14.743Z"
   },
   {
    "duration": 11,
    "start_time": "2024-07-17T12:08:14.774Z"
   },
   {
    "duration": 263,
    "start_time": "2024-07-17T12:08:14.790Z"
   },
   {
    "duration": 9,
    "start_time": "2024-07-17T12:08:15.055Z"
   },
   {
    "duration": 56,
    "start_time": "2024-07-17T12:08:15.065Z"
   },
   {
    "duration": 54,
    "start_time": "2024-07-17T12:08:15.123Z"
   },
   {
    "duration": 2425,
    "start_time": "2024-07-17T12:08:15.178Z"
   },
   {
    "duration": 12,
    "start_time": "2024-07-17T12:08:17.604Z"
   },
   {
    "duration": 28,
    "start_time": "2024-07-17T12:08:17.618Z"
   },
   {
    "duration": 10,
    "start_time": "2024-07-17T12:08:17.647Z"
   },
   {
    "duration": 13,
    "start_time": "2024-07-17T12:08:17.658Z"
   },
   {
    "duration": 15,
    "start_time": "2024-07-17T12:08:17.672Z"
   },
   {
    "duration": 24,
    "start_time": "2024-07-17T12:08:17.689Z"
   },
   {
    "duration": 13,
    "start_time": "2024-07-17T12:08:17.715Z"
   },
   {
    "duration": 17,
    "start_time": "2024-07-17T12:08:17.729Z"
   },
   {
    "duration": 5,
    "start_time": "2024-07-17T12:08:17.748Z"
   },
   {
    "duration": 20,
    "start_time": "2024-07-17T12:08:17.754Z"
   },
   {
    "duration": 13,
    "start_time": "2024-07-17T12:08:17.776Z"
   },
   {
    "duration": 71,
    "start_time": "2024-07-17T12:08:17.793Z"
   },
   {
    "duration": 22,
    "start_time": "2024-07-17T12:08:17.866Z"
   },
   {
    "duration": 15,
    "start_time": "2024-07-17T12:08:17.890Z"
   },
   {
    "duration": 66,
    "start_time": "2024-07-17T12:08:17.906Z"
   },
   {
    "duration": 2,
    "start_time": "2024-07-17T12:08:17.974Z"
   },
   {
    "duration": 12,
    "start_time": "2024-07-17T12:08:17.977Z"
   },
   {
    "duration": 81,
    "start_time": "2024-07-17T12:08:17.990Z"
   },
   {
    "duration": 17,
    "start_time": "2024-07-17T12:08:18.072Z"
   },
   {
    "duration": 4,
    "start_time": "2024-07-17T12:08:18.091Z"
   },
   {
    "duration": 14,
    "start_time": "2024-07-17T12:08:18.097Z"
   },
   {
    "duration": 10,
    "start_time": "2024-07-17T12:08:18.113Z"
   },
   {
    "duration": 16,
    "start_time": "2024-07-17T12:08:18.125Z"
   },
   {
    "duration": 16,
    "start_time": "2024-07-17T12:08:18.142Z"
   },
   {
    "duration": 480,
    "start_time": "2024-07-17T12:08:18.161Z"
   },
   {
    "duration": 269,
    "start_time": "2024-07-17T12:08:18.643Z"
   },
   {
    "duration": 128132,
    "start_time": "2024-07-17T12:08:18.913Z"
   },
   {
    "duration": 101145,
    "start_time": "2024-07-17T12:10:27.046Z"
   },
   {
    "duration": 3888,
    "start_time": "2024-07-17T12:12:08.193Z"
   },
   {
    "duration": 5,
    "start_time": "2024-07-17T12:12:12.083Z"
   },
   {
    "duration": 23,
    "start_time": "2024-07-17T12:12:12.089Z"
   },
   {
    "duration": 16,
    "start_time": "2024-07-17T12:12:12.114Z"
   },
   {
    "duration": 5,
    "start_time": "2024-07-17T12:12:12.131Z"
   },
   {
    "duration": 411,
    "start_time": "2024-07-17T12:12:12.137Z"
   },
   {
    "duration": 7599,
    "start_time": "2024-07-17T20:32:03.592Z"
   },
   {
    "duration": 1641,
    "start_time": "2024-07-17T20:32:11.194Z"
   },
   {
    "duration": 3,
    "start_time": "2024-07-17T20:32:12.837Z"
   },
   {
    "duration": 22,
    "start_time": "2024-07-17T20:32:12.842Z"
   },
   {
    "duration": 227,
    "start_time": "2024-07-17T20:32:12.865Z"
   },
   {
    "duration": 34,
    "start_time": "2024-07-17T20:32:13.094Z"
   },
   {
    "duration": 77,
    "start_time": "2024-07-17T20:32:13.130Z"
   },
   {
    "duration": 40,
    "start_time": "2024-07-17T20:32:13.209Z"
   },
   {
    "duration": 23,
    "start_time": "2024-07-17T20:32:13.250Z"
   },
   {
    "duration": 24,
    "start_time": "2024-07-17T20:32:13.275Z"
   },
   {
    "duration": 77,
    "start_time": "2024-07-17T20:32:13.300Z"
   },
   {
    "duration": 25,
    "start_time": "2024-07-17T20:32:13.378Z"
   },
   {
    "duration": 4,
    "start_time": "2024-07-17T20:32:13.404Z"
   },
   {
    "duration": 32,
    "start_time": "2024-07-17T20:32:13.409Z"
   },
   {
    "duration": 5,
    "start_time": "2024-07-17T20:32:13.443Z"
   },
   {
    "duration": 28,
    "start_time": "2024-07-17T20:32:13.450Z"
   },
   {
    "duration": 7,
    "start_time": "2024-07-17T20:32:13.480Z"
   },
   {
    "duration": 6,
    "start_time": "2024-07-17T20:32:13.489Z"
   },
   {
    "duration": 6,
    "start_time": "2024-07-17T20:32:13.496Z"
   },
   {
    "duration": 31,
    "start_time": "2024-07-17T20:32:13.504Z"
   },
   {
    "duration": 22,
    "start_time": "2024-07-17T20:32:13.537Z"
   },
   {
    "duration": 26,
    "start_time": "2024-07-17T20:32:13.561Z"
   },
   {
    "duration": 17,
    "start_time": "2024-07-17T20:32:13.589Z"
   },
   {
    "duration": 194,
    "start_time": "2024-07-17T20:32:13.608Z"
   },
   {
    "duration": 172,
    "start_time": "2024-07-17T20:32:13.804Z"
   },
   {
    "duration": 10,
    "start_time": "2024-07-17T20:32:13.978Z"
   },
   {
    "duration": 25,
    "start_time": "2024-07-17T20:32:13.990Z"
   },
   {
    "duration": 11,
    "start_time": "2024-07-17T20:32:14.020Z"
   },
   {
    "duration": 33,
    "start_time": "2024-07-17T20:32:14.033Z"
   },
   {
    "duration": 152,
    "start_time": "2024-07-17T20:32:14.067Z"
   },
   {
    "duration": 5,
    "start_time": "2024-07-17T20:32:14.220Z"
   },
   {
    "duration": 14,
    "start_time": "2024-07-17T20:32:14.226Z"
   },
   {
    "duration": 4,
    "start_time": "2024-07-17T20:32:14.241Z"
   },
   {
    "duration": 10,
    "start_time": "2024-07-17T20:32:14.246Z"
   },
   {
    "duration": 8,
    "start_time": "2024-07-17T20:32:14.257Z"
   },
   {
    "duration": 11,
    "start_time": "2024-07-17T20:32:14.266Z"
   },
   {
    "duration": 162,
    "start_time": "2024-07-17T20:32:14.279Z"
   },
   {
    "duration": 6,
    "start_time": "2024-07-17T20:32:14.443Z"
   },
   {
    "duration": 17,
    "start_time": "2024-07-17T20:32:14.451Z"
   },
   {
    "duration": 21,
    "start_time": "2024-07-17T20:32:14.469Z"
   },
   {
    "duration": 235,
    "start_time": "2024-07-17T20:32:14.491Z"
   },
   {
    "duration": 14,
    "start_time": "2024-07-17T20:32:14.727Z"
   },
   {
    "duration": 66,
    "start_time": "2024-07-17T20:32:14.743Z"
   },
   {
    "duration": 23,
    "start_time": "2024-07-17T20:32:14.811Z"
   },
   {
    "duration": 2397,
    "start_time": "2024-07-17T20:32:14.835Z"
   },
   {
    "duration": 12,
    "start_time": "2024-07-17T20:32:17.233Z"
   },
   {
    "duration": 13,
    "start_time": "2024-07-17T20:32:17.247Z"
   },
   {
    "duration": 8,
    "start_time": "2024-07-17T20:32:17.261Z"
   },
   {
    "duration": 10,
    "start_time": "2024-07-17T20:32:17.270Z"
   },
   {
    "duration": 4,
    "start_time": "2024-07-17T20:32:17.281Z"
   },
   {
    "duration": 12,
    "start_time": "2024-07-17T20:32:17.286Z"
   },
   {
    "duration": 38,
    "start_time": "2024-07-17T20:32:17.300Z"
   },
   {
    "duration": 17,
    "start_time": "2024-07-17T20:32:17.339Z"
   },
   {
    "duration": 4,
    "start_time": "2024-07-17T20:32:17.358Z"
   },
   {
    "duration": 19,
    "start_time": "2024-07-17T20:32:17.364Z"
   },
   {
    "duration": 11,
    "start_time": "2024-07-17T20:32:17.385Z"
   },
   {
    "duration": 71,
    "start_time": "2024-07-17T20:32:17.397Z"
   },
   {
    "duration": 22,
    "start_time": "2024-07-17T20:32:17.470Z"
   },
   {
    "duration": 13,
    "start_time": "2024-07-17T20:32:17.493Z"
   },
   {
    "duration": 53,
    "start_time": "2024-07-17T20:32:17.508Z"
   },
   {
    "duration": 2,
    "start_time": "2024-07-17T20:32:17.563Z"
   },
   {
    "duration": 10,
    "start_time": "2024-07-17T20:32:17.567Z"
   },
   {
    "duration": 61,
    "start_time": "2024-07-17T20:32:17.578Z"
   },
   {
    "duration": 16,
    "start_time": "2024-07-17T20:32:17.640Z"
   },
   {
    "duration": 6,
    "start_time": "2024-07-17T20:32:17.657Z"
   },
   {
    "duration": 13,
    "start_time": "2024-07-17T20:32:17.665Z"
   },
   {
    "duration": 7,
    "start_time": "2024-07-17T20:32:17.679Z"
   },
   {
    "duration": 5,
    "start_time": "2024-07-17T20:32:17.688Z"
   },
   {
    "duration": 9,
    "start_time": "2024-07-17T20:32:17.694Z"
   },
   {
    "duration": 447,
    "start_time": "2024-07-17T20:32:17.704Z"
   },
   {
    "duration": 200,
    "start_time": "2024-07-17T20:32:18.239Z"
   },
   {
    "duration": 118315,
    "start_time": "2024-07-17T20:32:18.440Z"
   },
   {
    "duration": 99428,
    "start_time": "2024-07-17T20:34:16.837Z"
   },
   {
    "duration": 2885,
    "start_time": "2024-07-17T20:35:56.267Z"
   },
   {
    "duration": 88,
    "start_time": "2024-07-17T20:35:59.153Z"
   },
   {
    "duration": 5,
    "start_time": "2024-07-17T20:35:59.242Z"
   },
   {
    "duration": 42,
    "start_time": "2024-07-17T20:35:59.248Z"
   },
   {
    "duration": 5,
    "start_time": "2024-07-17T20:35:59.291Z"
   },
   {
    "duration": 415,
    "start_time": "2024-07-17T20:35:59.297Z"
   },
   {
    "duration": 7555,
    "start_time": "2024-07-17T20:45:59.818Z"
   },
   {
    "duration": 1630,
    "start_time": "2024-07-17T20:46:07.375Z"
   },
   {
    "duration": 3,
    "start_time": "2024-07-17T20:46:09.006Z"
   },
   {
    "duration": 14,
    "start_time": "2024-07-17T20:46:09.010Z"
   },
   {
    "duration": 216,
    "start_time": "2024-07-17T20:46:09.025Z"
   },
   {
    "duration": 32,
    "start_time": "2024-07-17T20:46:09.243Z"
   },
   {
    "duration": 79,
    "start_time": "2024-07-17T20:46:09.277Z"
   },
   {
    "duration": 30,
    "start_time": "2024-07-17T20:46:09.358Z"
   },
   {
    "duration": 70,
    "start_time": "2024-07-17T20:46:09.389Z"
   },
   {
    "duration": 33,
    "start_time": "2024-07-17T20:46:09.462Z"
   },
   {
    "duration": 72,
    "start_time": "2024-07-17T20:46:09.496Z"
   },
   {
    "duration": 27,
    "start_time": "2024-07-17T20:46:09.569Z"
   },
   {
    "duration": 4,
    "start_time": "2024-07-17T20:46:09.597Z"
   },
   {
    "duration": 34,
    "start_time": "2024-07-17T20:46:09.603Z"
   },
   {
    "duration": 10,
    "start_time": "2024-07-17T20:46:09.639Z"
   },
   {
    "duration": 3,
    "start_time": "2024-07-17T20:46:09.651Z"
   },
   {
    "duration": 7,
    "start_time": "2024-07-17T20:46:09.655Z"
   },
   {
    "duration": 7,
    "start_time": "2024-07-17T20:46:09.663Z"
   },
   {
    "duration": 8,
    "start_time": "2024-07-17T20:46:09.672Z"
   },
   {
    "duration": 28,
    "start_time": "2024-07-17T20:46:09.682Z"
   },
   {
    "duration": 70,
    "start_time": "2024-07-17T20:46:09.711Z"
   },
   {
    "duration": 19,
    "start_time": "2024-07-17T20:46:09.783Z"
   },
   {
    "duration": 26,
    "start_time": "2024-07-17T20:46:09.803Z"
   },
   {
    "duration": 189,
    "start_time": "2024-07-17T20:46:09.831Z"
   },
   {
    "duration": 173,
    "start_time": "2024-07-17T20:46:10.021Z"
   },
   {
    "duration": 10,
    "start_time": "2024-07-17T20:46:10.195Z"
   },
   {
    "duration": 5,
    "start_time": "2024-07-17T20:46:10.206Z"
   },
   {
    "duration": 8,
    "start_time": "2024-07-17T20:46:10.215Z"
   },
   {
    "duration": 12,
    "start_time": "2024-07-17T20:46:10.237Z"
   },
   {
    "duration": 146,
    "start_time": "2024-07-17T20:46:10.250Z"
   },
   {
    "duration": 4,
    "start_time": "2024-07-17T20:46:10.398Z"
   },
   {
    "duration": 16,
    "start_time": "2024-07-17T20:46:10.404Z"
   },
   {
    "duration": 4,
    "start_time": "2024-07-17T20:46:10.421Z"
   },
   {
    "duration": 14,
    "start_time": "2024-07-17T20:46:10.426Z"
   },
   {
    "duration": 10,
    "start_time": "2024-07-17T20:46:10.442Z"
   },
   {
    "duration": 16,
    "start_time": "2024-07-17T20:46:10.453Z"
   },
   {
    "duration": 145,
    "start_time": "2024-07-17T20:46:10.471Z"
   },
   {
    "duration": 7,
    "start_time": "2024-07-17T20:46:10.617Z"
   },
   {
    "duration": 22,
    "start_time": "2024-07-17T20:46:10.625Z"
   },
   {
    "duration": 10,
    "start_time": "2024-07-17T20:46:10.649Z"
   },
   {
    "duration": 226,
    "start_time": "2024-07-17T20:46:10.660Z"
   },
   {
    "duration": 8,
    "start_time": "2024-07-17T20:46:10.888Z"
   },
   {
    "duration": 12,
    "start_time": "2024-07-17T20:46:10.898Z"
   },
   {
    "duration": 26,
    "start_time": "2024-07-17T20:46:10.912Z"
   },
   {
    "duration": 2294,
    "start_time": "2024-07-17T20:46:10.939Z"
   },
   {
    "duration": 9,
    "start_time": "2024-07-17T20:46:13.237Z"
   },
   {
    "duration": 14,
    "start_time": "2024-07-17T20:46:13.247Z"
   },
   {
    "duration": 9,
    "start_time": "2024-07-17T20:46:13.262Z"
   },
   {
    "duration": 10,
    "start_time": "2024-07-17T20:46:13.272Z"
   },
   {
    "duration": 19,
    "start_time": "2024-07-17T20:46:13.283Z"
   },
   {
    "duration": 12,
    "start_time": "2024-07-17T20:46:13.303Z"
   },
   {
    "duration": 5,
    "start_time": "2024-07-17T20:46:13.317Z"
   },
   {
    "duration": 15,
    "start_time": "2024-07-17T20:46:13.336Z"
   },
   {
    "duration": 4,
    "start_time": "2024-07-17T20:46:13.353Z"
   },
   {
    "duration": 22,
    "start_time": "2024-07-17T20:46:13.358Z"
   },
   {
    "duration": 10,
    "start_time": "2024-07-17T20:46:13.382Z"
   },
   {
    "duration": 74,
    "start_time": "2024-07-17T20:46:13.394Z"
   },
   {
    "duration": 20,
    "start_time": "2024-07-17T20:46:13.470Z"
   },
   {
    "duration": 12,
    "start_time": "2024-07-17T20:46:13.492Z"
   },
   {
    "duration": 48,
    "start_time": "2024-07-17T20:46:13.505Z"
   },
   {
    "duration": 2,
    "start_time": "2024-07-17T20:46:13.556Z"
   },
   {
    "duration": 5,
    "start_time": "2024-07-17T20:46:13.560Z"
   },
   {
    "duration": 68,
    "start_time": "2024-07-17T20:46:13.567Z"
   },
   {
    "duration": 15,
    "start_time": "2024-07-17T20:46:13.637Z"
   },
   {
    "duration": 4,
    "start_time": "2024-07-17T20:46:13.654Z"
   },
   {
    "duration": 20,
    "start_time": "2024-07-17T20:46:13.660Z"
   },
   {
    "duration": 8,
    "start_time": "2024-07-17T20:46:13.682Z"
   },
   {
    "duration": 10,
    "start_time": "2024-07-17T20:46:13.692Z"
   },
   {
    "duration": 15,
    "start_time": "2024-07-17T20:46:13.703Z"
   },
   {
    "duration": 519,
    "start_time": "2024-07-17T20:46:13.720Z"
   },
   {
    "duration": 217,
    "start_time": "2024-07-17T20:46:14.241Z"
   },
   {
    "duration": 124779,
    "start_time": "2024-07-17T20:46:14.460Z"
   },
   {
    "duration": 97811,
    "start_time": "2024-07-17T20:48:19.241Z"
   },
   {
    "duration": 3297,
    "start_time": "2024-07-17T20:49:57.053Z"
   },
   {
    "duration": 89,
    "start_time": "2024-07-17T20:50:00.352Z"
   },
   {
    "duration": 53,
    "start_time": "2024-07-17T20:50:00.442Z"
   },
   {
    "duration": 25,
    "start_time": "2024-07-17T20:50:00.497Z"
   },
   {
    "duration": 33,
    "start_time": "2024-07-17T20:50:00.523Z"
   },
   {
    "duration": 487,
    "start_time": "2024-07-17T20:50:00.558Z"
   },
   {
    "duration": 12934,
    "start_time": "2024-07-18T14:29:10.638Z"
   },
   {
    "duration": 795,
    "start_time": "2024-07-18T14:29:23.575Z"
   },
   {
    "duration": 0,
    "start_time": "2024-07-18T14:29:24.373Z"
   },
   {
    "duration": 0,
    "start_time": "2024-07-18T14:29:24.374Z"
   },
   {
    "duration": 0,
    "start_time": "2024-07-18T14:29:24.375Z"
   },
   {
    "duration": 0,
    "start_time": "2024-07-18T14:29:24.376Z"
   },
   {
    "duration": 0,
    "start_time": "2024-07-18T14:29:24.377Z"
   },
   {
    "duration": 0,
    "start_time": "2024-07-18T14:29:24.382Z"
   },
   {
    "duration": 0,
    "start_time": "2024-07-18T14:29:24.383Z"
   },
   {
    "duration": 0,
    "start_time": "2024-07-18T14:29:24.384Z"
   },
   {
    "duration": 0,
    "start_time": "2024-07-18T14:29:24.385Z"
   },
   {
    "duration": 0,
    "start_time": "2024-07-18T14:29:24.386Z"
   },
   {
    "duration": 0,
    "start_time": "2024-07-18T14:29:24.387Z"
   },
   {
    "duration": 0,
    "start_time": "2024-07-18T14:29:24.388Z"
   },
   {
    "duration": 0,
    "start_time": "2024-07-18T14:29:24.389Z"
   },
   {
    "duration": 0,
    "start_time": "2024-07-18T14:29:24.390Z"
   },
   {
    "duration": 0,
    "start_time": "2024-07-18T14:29:24.391Z"
   },
   {
    "duration": 0,
    "start_time": "2024-07-18T14:29:24.392Z"
   },
   {
    "duration": 0,
    "start_time": "2024-07-18T14:29:24.393Z"
   },
   {
    "duration": 0,
    "start_time": "2024-07-18T14:29:24.394Z"
   },
   {
    "duration": 0,
    "start_time": "2024-07-18T14:29:24.395Z"
   },
   {
    "duration": 0,
    "start_time": "2024-07-18T14:29:24.396Z"
   },
   {
    "duration": 0,
    "start_time": "2024-07-18T14:29:24.397Z"
   },
   {
    "duration": 0,
    "start_time": "2024-07-18T14:29:24.398Z"
   },
   {
    "duration": 0,
    "start_time": "2024-07-18T14:29:24.399Z"
   },
   {
    "duration": 0,
    "start_time": "2024-07-18T14:29:24.400Z"
   },
   {
    "duration": 0,
    "start_time": "2024-07-18T14:29:24.401Z"
   },
   {
    "duration": 0,
    "start_time": "2024-07-18T14:29:24.402Z"
   },
   {
    "duration": 1,
    "start_time": "2024-07-18T14:29:24.403Z"
   },
   {
    "duration": 0,
    "start_time": "2024-07-18T14:29:24.405Z"
   },
   {
    "duration": 0,
    "start_time": "2024-07-18T14:29:24.406Z"
   },
   {
    "duration": 0,
    "start_time": "2024-07-18T14:29:24.407Z"
   },
   {
    "duration": 0,
    "start_time": "2024-07-18T14:29:24.410Z"
   },
   {
    "duration": 0,
    "start_time": "2024-07-18T14:29:24.411Z"
   },
   {
    "duration": 0,
    "start_time": "2024-07-18T14:29:24.412Z"
   },
   {
    "duration": 0,
    "start_time": "2024-07-18T14:29:24.413Z"
   },
   {
    "duration": 0,
    "start_time": "2024-07-18T14:29:24.414Z"
   },
   {
    "duration": 0,
    "start_time": "2024-07-18T14:29:24.415Z"
   },
   {
    "duration": 0,
    "start_time": "2024-07-18T14:29:24.416Z"
   },
   {
    "duration": 0,
    "start_time": "2024-07-18T14:29:24.417Z"
   },
   {
    "duration": 0,
    "start_time": "2024-07-18T14:29:24.418Z"
   },
   {
    "duration": 0,
    "start_time": "2024-07-18T14:29:24.482Z"
   },
   {
    "duration": 1,
    "start_time": "2024-07-18T14:29:24.483Z"
   },
   {
    "duration": 0,
    "start_time": "2024-07-18T14:29:24.484Z"
   },
   {
    "duration": 0,
    "start_time": "2024-07-18T14:29:24.486Z"
   },
   {
    "duration": 0,
    "start_time": "2024-07-18T14:29:24.487Z"
   },
   {
    "duration": 0,
    "start_time": "2024-07-18T14:29:24.489Z"
   },
   {
    "duration": 0,
    "start_time": "2024-07-18T14:29:24.490Z"
   },
   {
    "duration": 0,
    "start_time": "2024-07-18T14:29:24.491Z"
   },
   {
    "duration": 0,
    "start_time": "2024-07-18T14:29:24.492Z"
   },
   {
    "duration": 0,
    "start_time": "2024-07-18T14:29:24.493Z"
   },
   {
    "duration": 0,
    "start_time": "2024-07-18T14:29:24.494Z"
   },
   {
    "duration": 0,
    "start_time": "2024-07-18T14:29:24.495Z"
   },
   {
    "duration": 23941,
    "start_time": "2024-07-18T14:30:18.706Z"
   },
   {
    "duration": 18,
    "start_time": "2024-07-18T14:30:42.649Z"
   },
   {
    "duration": 26224,
    "start_time": "2024-07-18T14:31:19.113Z"
   },
   {
    "duration": 17,
    "start_time": "2024-07-18T14:31:47.957Z"
   },
   {
    "duration": 24563,
    "start_time": "2024-07-18T14:31:59.300Z"
   },
   {
    "duration": 19,
    "start_time": "2024-07-18T14:32:31.634Z"
   },
   {
    "duration": 11,
    "start_time": "2024-07-18T14:32:33.177Z"
   },
   {
    "duration": 14645,
    "start_time": "2024-07-18T14:32:41.808Z"
   },
   {
    "duration": 737,
    "start_time": "2024-07-18T14:32:58.829Z"
   },
   {
    "duration": 20992,
    "start_time": "2024-07-18T14:33:23.915Z"
   },
   {
    "duration": 16865,
    "start_time": "2024-07-18T14:34:32.632Z"
   },
   {
    "duration": 23466,
    "start_time": "2024-07-18T14:35:13.276Z"
   },
   {
    "duration": 25,
    "start_time": "2024-07-18T14:35:39.760Z"
   },
   {
    "duration": 6705,
    "start_time": "2024-07-18T14:35:56.435Z"
   },
   {
    "duration": 12940,
    "start_time": "2024-07-18T14:36:30.591Z"
   },
   {
    "duration": 6669,
    "start_time": "2024-07-18T14:36:54.232Z"
   },
   {
    "duration": 2338,
    "start_time": "2024-07-18T14:37:27.627Z"
   },
   {
    "duration": 6041,
    "start_time": "2024-07-18T14:38:00.076Z"
   },
   {
    "duration": 9,
    "start_time": "2024-07-18T14:38:06.120Z"
   },
   {
    "duration": 5956,
    "start_time": "2024-07-18T14:38:19.050Z"
   },
   {
    "duration": 5,
    "start_time": "2024-07-18T14:38:25.009Z"
   },
   {
    "duration": 6,
    "start_time": "2024-07-18T14:38:25.015Z"
   },
   {
    "duration": 4,
    "start_time": "2024-07-18T14:38:25.022Z"
   },
   {
    "duration": 626,
    "start_time": "2024-07-18T14:38:25.028Z"
   },
   {
    "duration": 51,
    "start_time": "2024-07-18T14:38:25.656Z"
   },
   {
    "duration": 87,
    "start_time": "2024-07-18T14:38:25.709Z"
   },
   {
    "duration": 61,
    "start_time": "2024-07-18T14:38:25.798Z"
   },
   {
    "duration": 23,
    "start_time": "2024-07-18T14:38:25.881Z"
   },
   {
    "duration": 45,
    "start_time": "2024-07-18T14:38:25.906Z"
   },
   {
    "duration": 60,
    "start_time": "2024-07-18T14:38:25.953Z"
   },
   {
    "duration": 83,
    "start_time": "2024-07-18T14:38:26.015Z"
   },
   {
    "duration": 4,
    "start_time": "2024-07-18T14:38:26.100Z"
   },
   {
    "duration": 4,
    "start_time": "2024-07-18T14:38:26.107Z"
   },
   {
    "duration": 11,
    "start_time": "2024-07-18T14:38:26.113Z"
   },
   {
    "duration": 4,
    "start_time": "2024-07-18T14:38:26.126Z"
   },
   {
    "duration": 6,
    "start_time": "2024-07-18T14:38:26.132Z"
   },
   {
    "duration": 8,
    "start_time": "2024-07-18T14:38:26.139Z"
   },
   {
    "duration": 6,
    "start_time": "2024-07-18T14:38:26.149Z"
   },
   {
    "duration": 24,
    "start_time": "2024-07-18T14:38:26.182Z"
   },
   {
    "duration": 42,
    "start_time": "2024-07-18T14:38:26.208Z"
   },
   {
    "duration": 23,
    "start_time": "2024-07-18T14:38:26.252Z"
   },
   {
    "duration": 16,
    "start_time": "2024-07-18T14:38:26.276Z"
   },
   {
    "duration": 416,
    "start_time": "2024-07-18T14:38:26.293Z"
   },
   {
    "duration": 324,
    "start_time": "2024-07-18T14:38:26.711Z"
   },
   {
    "duration": 10,
    "start_time": "2024-07-18T14:38:27.037Z"
   },
   {
    "duration": 8,
    "start_time": "2024-07-18T14:38:27.049Z"
   },
   {
    "duration": 25,
    "start_time": "2024-07-18T14:38:27.058Z"
   },
   {
    "duration": 15,
    "start_time": "2024-07-18T14:38:27.085Z"
   },
   {
    "duration": 303,
    "start_time": "2024-07-18T14:38:27.102Z"
   },
   {
    "duration": 5,
    "start_time": "2024-07-18T14:38:27.406Z"
   },
   {
    "duration": 22,
    "start_time": "2024-07-18T14:38:27.413Z"
   },
   {
    "duration": 4,
    "start_time": "2024-07-18T14:38:27.437Z"
   },
   {
    "duration": 10,
    "start_time": "2024-07-18T14:38:27.442Z"
   },
   {
    "duration": 8,
    "start_time": "2024-07-18T14:38:27.453Z"
   },
   {
    "duration": 32,
    "start_time": "2024-07-18T14:38:27.462Z"
   },
   {
    "duration": 299,
    "start_time": "2024-07-18T14:38:27.496Z"
   },
   {
    "duration": 8,
    "start_time": "2024-07-18T14:38:27.797Z"
   },
   {
    "duration": 17,
    "start_time": "2024-07-18T14:38:27.806Z"
   },
   {
    "duration": 3,
    "start_time": "2024-07-18T14:38:27.825Z"
   },
   {
    "duration": 370,
    "start_time": "2024-07-18T14:38:27.832Z"
   },
   {
    "duration": 9,
    "start_time": "2024-07-18T14:38:28.204Z"
   },
   {
    "duration": 40,
    "start_time": "2024-07-18T14:38:28.214Z"
   },
   {
    "duration": 11,
    "start_time": "2024-07-18T14:38:28.256Z"
   },
   {
    "duration": 2179,
    "start_time": "2024-07-18T14:38:28.268Z"
   },
   {
    "duration": 9,
    "start_time": "2024-07-18T14:38:30.449Z"
   },
   {
    "duration": 117,
    "start_time": "2024-07-18T14:38:30.460Z"
   },
   {
    "duration": 42,
    "start_time": "2024-07-18T14:38:30.579Z"
   },
   {
    "duration": 50,
    "start_time": "2024-07-18T14:38:30.623Z"
   },
   {
    "duration": 60,
    "start_time": "2024-07-18T14:38:30.675Z"
   },
   {
    "duration": 49,
    "start_time": "2024-07-18T14:38:30.737Z"
   },
   {
    "duration": 30,
    "start_time": "2024-07-18T14:38:30.788Z"
   },
   {
    "duration": 50,
    "start_time": "2024-07-18T14:38:30.820Z"
   },
   {
    "duration": 5825,
    "start_time": "2024-07-18T14:40:27.621Z"
   },
   {
    "duration": 8,
    "start_time": "2024-07-18T14:40:33.449Z"
   },
   {
    "duration": 16,
    "start_time": "2024-07-18T14:40:33.458Z"
   },
   {
    "duration": 7,
    "start_time": "2024-07-18T14:40:33.476Z"
   },
   {
    "duration": 247,
    "start_time": "2024-07-18T14:40:33.484Z"
   },
   {
    "duration": 45,
    "start_time": "2024-07-18T14:40:33.733Z"
   },
   {
    "duration": 87,
    "start_time": "2024-07-18T14:40:33.780Z"
   },
   {
    "duration": 86,
    "start_time": "2024-07-18T14:40:33.869Z"
   },
   {
    "duration": 51,
    "start_time": "2024-07-18T14:40:33.959Z"
   },
   {
    "duration": 29,
    "start_time": "2024-07-18T14:40:34.015Z"
   },
   {
    "duration": 68,
    "start_time": "2024-07-18T14:40:34.046Z"
   },
   {
    "duration": 69,
    "start_time": "2024-07-18T14:40:34.116Z"
   },
   {
    "duration": 5,
    "start_time": "2024-07-18T14:40:34.187Z"
   },
   {
    "duration": 67,
    "start_time": "2024-07-18T14:40:34.193Z"
   },
   {
    "duration": 8,
    "start_time": "2024-07-18T14:40:34.262Z"
   },
   {
    "duration": 4,
    "start_time": "2024-07-18T14:40:34.272Z"
   },
   {
    "duration": 7,
    "start_time": "2024-07-18T14:40:34.278Z"
   },
   {
    "duration": 8,
    "start_time": "2024-07-18T14:40:34.286Z"
   },
   {
    "duration": 9,
    "start_time": "2024-07-18T14:40:34.296Z"
   },
   {
    "duration": 25,
    "start_time": "2024-07-18T14:40:34.306Z"
   },
   {
    "duration": 19,
    "start_time": "2024-07-18T14:40:34.332Z"
   },
   {
    "duration": 45,
    "start_time": "2024-07-18T14:40:34.352Z"
   },
   {
    "duration": 16,
    "start_time": "2024-07-18T14:40:34.398Z"
   },
   {
    "duration": 551,
    "start_time": "2024-07-18T14:40:34.416Z"
   },
   {
    "duration": 360,
    "start_time": "2024-07-18T14:40:34.969Z"
   },
   {
    "duration": 9,
    "start_time": "2024-07-18T14:40:35.330Z"
   },
   {
    "duration": 24,
    "start_time": "2024-07-18T14:40:35.341Z"
   },
   {
    "duration": 3,
    "start_time": "2024-07-18T14:40:35.369Z"
   },
   {
    "duration": 21,
    "start_time": "2024-07-18T14:40:35.373Z"
   },
   {
    "duration": 340,
    "start_time": "2024-07-18T14:40:35.395Z"
   },
   {
    "duration": 5,
    "start_time": "2024-07-18T14:40:35.737Z"
   },
   {
    "duration": 15,
    "start_time": "2024-07-18T14:40:35.743Z"
   },
   {
    "duration": 6,
    "start_time": "2024-07-18T14:40:35.759Z"
   },
   {
    "duration": 21,
    "start_time": "2024-07-18T14:40:35.766Z"
   },
   {
    "duration": 9,
    "start_time": "2024-07-18T14:40:35.789Z"
   },
   {
    "duration": 19,
    "start_time": "2024-07-18T14:40:35.799Z"
   },
   {
    "duration": 309,
    "start_time": "2024-07-18T14:40:35.820Z"
   },
   {
    "duration": 8,
    "start_time": "2024-07-18T14:40:36.130Z"
   },
   {
    "duration": 14,
    "start_time": "2024-07-18T14:40:36.139Z"
   },
   {
    "duration": 3,
    "start_time": "2024-07-18T14:40:36.154Z"
   },
   {
    "duration": 315,
    "start_time": "2024-07-18T14:40:36.181Z"
   },
   {
    "duration": 10,
    "start_time": "2024-07-18T14:40:36.498Z"
   },
   {
    "duration": 69,
    "start_time": "2024-07-18T14:40:36.509Z"
   },
   {
    "duration": 10,
    "start_time": "2024-07-18T14:40:36.580Z"
   },
   {
    "duration": 2241,
    "start_time": "2024-07-18T14:40:36.592Z"
   },
   {
    "duration": 7,
    "start_time": "2024-07-18T14:40:38.835Z"
   },
   {
    "duration": 15,
    "start_time": "2024-07-18T14:40:38.844Z"
   },
   {
    "duration": 25,
    "start_time": "2024-07-18T14:40:38.861Z"
   },
   {
    "duration": 21,
    "start_time": "2024-07-18T14:40:38.889Z"
   },
   {
    "duration": 5,
    "start_time": "2024-07-18T14:40:38.912Z"
   },
   {
    "duration": 13,
    "start_time": "2024-07-18T14:40:38.918Z"
   },
   {
    "duration": 5,
    "start_time": "2024-07-18T14:40:38.932Z"
   },
   {
    "duration": 21,
    "start_time": "2024-07-18T14:40:38.939Z"
   },
   {
    "duration": 21,
    "start_time": "2024-07-18T14:40:38.962Z"
   },
   {
    "duration": 16,
    "start_time": "2024-07-18T14:40:38.986Z"
   },
   {
    "duration": 14,
    "start_time": "2024-07-18T14:40:39.004Z"
   },
   {
    "duration": 75,
    "start_time": "2024-07-18T14:40:39.020Z"
   },
   {
    "duration": 19,
    "start_time": "2024-07-18T14:40:39.097Z"
   },
   {
    "duration": 19,
    "start_time": "2024-07-18T14:40:39.118Z"
   },
   {
    "duration": 63,
    "start_time": "2024-07-18T14:40:39.139Z"
   },
   {
    "duration": 3,
    "start_time": "2024-07-18T14:40:39.207Z"
   },
   {
    "duration": 14,
    "start_time": "2024-07-18T14:40:39.212Z"
   },
   {
    "duration": 65,
    "start_time": "2024-07-18T14:40:39.228Z"
   },
   {
    "duration": 18,
    "start_time": "2024-07-18T14:40:39.295Z"
   },
   {
    "duration": 8,
    "start_time": "2024-07-18T14:40:39.315Z"
   },
   {
    "duration": 40,
    "start_time": "2024-07-18T14:40:39.324Z"
   },
   {
    "duration": 16,
    "start_time": "2024-07-18T14:40:39.366Z"
   },
   {
    "duration": 13,
    "start_time": "2024-07-18T14:40:39.384Z"
   },
   {
    "duration": 8,
    "start_time": "2024-07-18T14:40:39.399Z"
   },
   {
    "duration": 4090,
    "start_time": "2024-07-18T14:40:39.409Z"
   },
   {
    "duration": 11,
    "start_time": "2024-07-18T14:40:43.582Z"
   },
   {
    "duration": 4,
    "start_time": "2024-07-18T14:40:43.594Z"
   },
   {
    "duration": 85,
    "start_time": "2024-07-18T14:40:43.600Z"
   },
   {
    "duration": 20,
    "start_time": "2024-07-18T14:40:43.687Z"
   }
  ],
  "kernelspec": {
   "display_name": "Python 3 (ipykernel)",
   "language": "python",
   "name": "python3"
  },
  "language_info": {
   "codemirror_mode": {
    "name": "ipython",
    "version": 3
   },
   "file_extension": ".py",
   "mimetype": "text/x-python",
   "name": "python",
   "nbconvert_exporter": "python",
   "pygments_lexer": "ipython3",
   "version": "3.9.12"
  },
  "toc": {
   "base_numbering": 1,
   "nav_menu": {},
   "number_sections": true,
   "sideBar": true,
   "skip_h1_title": true,
   "title_cell": "Table of Contents",
   "title_sidebar": "Contents",
   "toc_cell": false,
   "toc_position": {
    "height": "calc(100% - 180px)",
    "left": "10px",
    "top": "150px",
    "width": "384px"
   },
   "toc_section_display": true,
   "toc_window_display": true
  }
 },
 "nbformat": 4,
 "nbformat_minor": 5
}
